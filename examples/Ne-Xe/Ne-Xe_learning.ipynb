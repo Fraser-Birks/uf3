{
 "cells": [
  {
   "cell_type": "code",
   "execution_count": 1,
   "outputs": [],
   "source": [
    "import os\n",
    "from concurrent.futures import ProcessPoolExecutor\n",
    "import numpy as np\n",
    "import matplotlib.pyplot as plt\n",
    "import uf3\n",
    "from uf3.data.io import DataCoordinator\n",
    "from uf3.data.composition import ChemicalSystem\n",
    "from uf3.representation.bspline import BSplineConfig\n",
    "from uf3.representation.process import BasisProcessor2B\n",
    "from uf3.regression.least_squares import WeightedLinearModel\n",
    "from uf3.representation import distances\n",
    "from uf3.util import plotting\n",
    "from uf3.forcefield import calculator\n",
    "from uf3.forcefield import lammps\n",
    "\n",
    "\n",
    "pkg_directory = os.path.dirname(os.path.dirname(uf3.__file__))\n",
    "example_directory = os.path.join(pkg_directory, \"examples\", \"Ne-Xe\")\n",
    "dataset_directory = os.path.join(pkg_directory, \"examples\", \"Ne-Xe\", \"dataset\")"
   ],
   "metadata": {
    "collapsed": false,
    "pycharm": {
     "name": "#%%\n"
    }
   }
  },
  {
   "cell_type": "markdown",
   "source": [
    "# User Parameters"
   ],
   "metadata": {
    "collapsed": false,
    "pycharm": {
     "name": "#%% md\n"
    }
   }
  },
  {
   "cell_type": "code",
   "execution_count": 2,
   "outputs": [],
   "source": [
    "n_jobs = 8                              # Maximum number of parallel processes\n",
    "\n",
    "element_list = ['Ne', 'Xe']\n",
    "degree = 2                              # two-body interactions\n",
    "\n",
    "r_min_map = {('Ne', 'Ne'): 1.5,\n",
    "             ('Ne', 'Xe'): 1.5,\n",
    "             ('Xe', 'Xe'): 1.5,}        # minimum distance cutoff (angstroms)\n",
    "r_max_map = {('Ne', 'Ne'): 6.0,\n",
    "             ('Ne', 'Xe'): 8.0,\n",
    "             ('Xe', 'Xe'): 10.0,}        # maximum distance cutoff (angstroms)\n",
    "resolution_map = {('Ne', 'Ne'): 25,\n",
    "                  ('Ne', 'Xe'): 25,\n",
    "                  ('Xe', 'Xe'): 25}     # number of knot intervals\n",
    "\n",
    "lammps_aliases = {1: 'Ne',\n",
    "                  2: 'Xe'}              # aliases for LAMMPS atom types\n",
    "\n",
    "regularization_params = dict(ridge_1b=1e-4,  # L2 (Ridge) regularization\n",
    "                             ridge_2b=1e-6,\n",
    "                             ridge_3b=1e-5,\n",
    "                             curve_2b=1e-5,  # Curvature regularization\n",
    "                             curve_3b=1e-4)\n",
    "# may be optimized through cross-validation and grid/random search."
   ],
   "metadata": {
    "collapsed": false,
    "pycharm": {
     "name": "#%%\n"
    }
   }
  },
  {
   "cell_type": "markdown",
   "source": [
    "# Initialize data coordinator and chemical system"
   ],
   "metadata": {
    "collapsed": false,
    "pycharm": {
     "name": "#%% md\n"
    }
   }
  },
  {
   "cell_type": "code",
   "execution_count": 3,
   "outputs": [],
   "source": [
    "\n",
    "data_coordinator = DataCoordinator()\n",
    "\n",
    "chemical_system = ChemicalSystem(element_list=element_list,\n",
    "                                 degree=degree)\n",
    "\n"
   ],
   "metadata": {
    "collapsed": false,
    "pycharm": {
     "name": "#%%\n"
    }
   }
  },
  {
   "cell_type": "markdown",
   "source": [
    "# Load data from LAMMPS run directory"
   ],
   "metadata": {
    "collapsed": false,
    "pycharm": {
     "name": "#%% md\n"
    }
   }
  },
  {
   "cell_type": "code",
   "execution_count": 4,
   "outputs": [
    {
     "name": "stdout",
     "output_type": "stream",
     "text": [
      "Number of energies: 401\n",
      "Number of forces: 76992\n"
     ]
    }
   ],
   "source": [
    "data_coordinator.dataframe_from_lammps_run(dataset_directory,\n",
    "                                           lammps_aliases,\n",
    "                                           prefix='lmp',\n",
    "                                           log_fname=\"log.lammps\",\n",
    "                                           dump_fname=\"dump.lammpstrj\")\n",
    "df_data = data_coordinator.consolidate()\n",
    "print(\"Number of energies:\", len(df_data))\n",
    "print(\"Number of forces:\", int(np.sum(df_data[\"size\"]) * 3))\n"
   ],
   "metadata": {
    "collapsed": false,
    "pycharm": {
     "name": "#%%\n"
    }
   }
  },
  {
   "cell_type": "code",
   "execution_count": 5,
   "outputs": [
    {
     "data": {
      "text/plain": "       Step       Temp        Press    TotEng    energy  \\\nlmp_0     0   0.100000     0.300731 -4.425584 -4.426398   \nlmp_1  1000   5.624945   -73.317322 -4.412308 -4.458114   \nlmp_2  2000  10.808590  -428.025400 -4.639121 -4.727139   \nlmp_3  3000  14.861731 -1202.434200 -4.878347 -4.999372   \nlmp_4  4000  20.299581 -1269.661700 -4.843280 -5.008587   \n\n                                                geometry  size  \\\nlmp_0  (Atom('Ne', [15.123913088599998, 15.1239130885...  64.0   \nlmp_1  (Atom('Ne', [15.165314343599999, 15.1792692817...  64.0   \nlmp_2  (Atom('Ne', [0.9063913729, 1.3488837163999998,...  64.0   \nlmp_3  (Atom('Ne', [1.3474466084, 1.2753605426, 14.56...  64.0   \nlmp_4  (Atom('Ne', [1.7462606202000002, 1.4321776581,...  64.0   \n\n                                                      fx  \\\nlmp_0  [0.0, -0.0, -0.0, 0.0, 0.0, -0.0, -0.0, 0.0, 0...   \nlmp_1  [0.00020442650000000002, 0.0016639457, 0.00192...   \nlmp_2  [0.0015836835999999998, -0.0023350728, 0.00265...   \nlmp_3  [-0.004552505300000001, 0.0010418925, -0.00689...   \nlmp_4  [-0.0036245833000000003, 0.0027762812, 0.00332...   \n\n                                                      fy  \\\nlmp_0  [0.0, -0.0, 0.0, -0.0, 0.0, -0.0, 0.0, -0.0, 0...   \nlmp_1  [0.0056729229, 0.0009264524000000001, 0.002516...   \nlmp_2  [-3.38791e-05, 0.002999284, -0.0060387845, 0.0...   \nlmp_3  [0.004840957700000001, -0.0004996062000000001,...   \nlmp_4  [0.0002289233, 0.0005190723000000001, 0.009913...   \n\n                                                      fz  \nlmp_0  [-0.0, -0.0, 0.0, 0.0, -0.0, -0.0, 0.0, 0.0, -...  \nlmp_1  [-0.0015951115, -0.0019227623, -0.0035339883, ...  \nlmp_2  [-0.0036139710999999997, -0.0023498482, 0.0036...  \nlmp_3  [0.0098480452, 0.0022208212, 5.97758e-05, -0.0...  \nlmp_4  [0.0008959326, 0.000723354, 0.0071951805, -0.0...  ",
      "text/html": "<div>\n<style scoped>\n    .dataframe tbody tr th:only-of-type {\n        vertical-align: middle;\n    }\n\n    .dataframe tbody tr th {\n        vertical-align: top;\n    }\n\n    .dataframe thead th {\n        text-align: right;\n    }\n</style>\n<table border=\"1\" class=\"dataframe\">\n  <thead>\n    <tr style=\"text-align: right;\">\n      <th></th>\n      <th>Step</th>\n      <th>Temp</th>\n      <th>Press</th>\n      <th>TotEng</th>\n      <th>energy</th>\n      <th>geometry</th>\n      <th>size</th>\n      <th>fx</th>\n      <th>fy</th>\n      <th>fz</th>\n    </tr>\n  </thead>\n  <tbody>\n    <tr>\n      <th>lmp_0</th>\n      <td>0</td>\n      <td>0.100000</td>\n      <td>0.300731</td>\n      <td>-4.425584</td>\n      <td>-4.426398</td>\n      <td>(Atom('Ne', [15.123913088599998, 15.1239130885...</td>\n      <td>64.0</td>\n      <td>[0.0, -0.0, -0.0, 0.0, 0.0, -0.0, -0.0, 0.0, 0...</td>\n      <td>[0.0, -0.0, 0.0, -0.0, 0.0, -0.0, 0.0, -0.0, 0...</td>\n      <td>[-0.0, -0.0, 0.0, 0.0, -0.0, -0.0, 0.0, 0.0, -...</td>\n    </tr>\n    <tr>\n      <th>lmp_1</th>\n      <td>1000</td>\n      <td>5.624945</td>\n      <td>-73.317322</td>\n      <td>-4.412308</td>\n      <td>-4.458114</td>\n      <td>(Atom('Ne', [15.165314343599999, 15.1792692817...</td>\n      <td>64.0</td>\n      <td>[0.00020442650000000002, 0.0016639457, 0.00192...</td>\n      <td>[0.0056729229, 0.0009264524000000001, 0.002516...</td>\n      <td>[-0.0015951115, -0.0019227623, -0.0035339883, ...</td>\n    </tr>\n    <tr>\n      <th>lmp_2</th>\n      <td>2000</td>\n      <td>10.808590</td>\n      <td>-428.025400</td>\n      <td>-4.639121</td>\n      <td>-4.727139</td>\n      <td>(Atom('Ne', [0.9063913729, 1.3488837163999998,...</td>\n      <td>64.0</td>\n      <td>[0.0015836835999999998, -0.0023350728, 0.00265...</td>\n      <td>[-3.38791e-05, 0.002999284, -0.0060387845, 0.0...</td>\n      <td>[-0.0036139710999999997, -0.0023498482, 0.0036...</td>\n    </tr>\n    <tr>\n      <th>lmp_3</th>\n      <td>3000</td>\n      <td>14.861731</td>\n      <td>-1202.434200</td>\n      <td>-4.878347</td>\n      <td>-4.999372</td>\n      <td>(Atom('Ne', [1.3474466084, 1.2753605426, 14.56...</td>\n      <td>64.0</td>\n      <td>[-0.004552505300000001, 0.0010418925, -0.00689...</td>\n      <td>[0.004840957700000001, -0.0004996062000000001,...</td>\n      <td>[0.0098480452, 0.0022208212, 5.97758e-05, -0.0...</td>\n    </tr>\n    <tr>\n      <th>lmp_4</th>\n      <td>4000</td>\n      <td>20.299581</td>\n      <td>-1269.661700</td>\n      <td>-4.843280</td>\n      <td>-5.008587</td>\n      <td>(Atom('Ne', [1.7462606202000002, 1.4321776581,...</td>\n      <td>64.0</td>\n      <td>[-0.0036245833000000003, 0.0027762812, 0.00332...</td>\n      <td>[0.0002289233, 0.0005190723000000001, 0.009913...</td>\n      <td>[0.0008959326, 0.000723354, 0.0071951805, -0.0...</td>\n    </tr>\n  </tbody>\n</table>\n</div>"
     },
     "execution_count": 5,
     "metadata": {},
     "output_type": "execute_result"
    }
   ],
   "source": [
    "df_data.head()\n"
   ],
   "metadata": {
    "collapsed": false,
    "pycharm": {
     "name": "#%%\n"
    }
   }
  },
  {
   "cell_type": "markdown",
   "source": [
    "# Visualize partial radial distribution functions\n",
    "### This can be a sanity check for specified interaction-specific cutoffs."
   ],
   "metadata": {
    "collapsed": false,
    "pycharm": {
     "name": "#%% md\n"
    }
   }
  },
  {
   "cell_type": "code",
   "execution_count": 6,
   "outputs": [
    {
     "name": "stdout",
     "output_type": "stream",
     "text": [
      "('Ne', 'Ne') Lower bound: 2.160 angstroms\n",
      "('Ne', 'Ne') Peaks (min width 0.5 angstroms): [2.82 5.46]\n",
      "('Ne', 'Xe') Lower bound: 2.640 angstroms\n",
      "('Ne', 'Xe') Peaks (min width 0.5 angstroms): [ 3.66  7.98 10.74]\n",
      "('Xe', 'Xe') Lower bound: 3.360 angstroms\n",
      "('Xe', 'Xe') Peaks (min width 0.5 angstroms): [ 4.26  7.14 11.1 ]\n"
     ]
    }
   ],
   "source": [
    "atoms_key = data_coordinator.atoms_key\n",
    "histograms = distances.summarize_distances(df_data[atoms_key],\n",
    "                                           chemical_system)"
   ],
   "metadata": {
    "collapsed": false,
    "pycharm": {
     "name": "#%%\n"
    }
   }
  },
  {
   "cell_type": "code",
   "execution_count": 7,
   "outputs": [
    {
     "data": {
      "text/plain": "<Figure size 432x144 with 3 Axes>",
      "image/png": "[encoded data removed]"
     },
     "metadata": {
      "needs_background": "light"
     },
     "output_type": "display_data"
    }
   ],
   "source": [
    "bar_width = histograms[1][1] - histograms[1][0]\n",
    "pairs = chemical_system.interactions_map[2]\n",
    "fig, ax = plt.subplots(1, len(pairs), figsize=(len(pairs)*2, 2))\n",
    "for i, pair in enumerate(pairs):\n",
    "    ax[i].bar(histograms[1][:-1],\n",
    "              histograms[0][pair],\n",
    "              width=bar_width)\n",
    "    ax[i].set_title(pair)\n",
    "    ax[i].plot([0, 10], [1, 1], linestyle='--', color='k')\n",
    "    ax[i].set_xlim(0, 10)\n",
    "    ax[i].set_ylim(0, 4)\n",
    "fig.tight_layout()"
   ],
   "metadata": {
    "collapsed": false,
    "pycharm": {
     "name": "#%%\n"
    }
   }
  },
  {
   "cell_type": "markdown",
   "source": [
    "# Initialize representation, regularizer, and model\n"
   ],
   "metadata": {
    "collapsed": false,
    "pycharm": {
     "name": "#%% md\n"
    }
   }
  },
  {
   "cell_type": "code",
   "execution_count": 8,
   "outputs": [],
   "source": [
    "bspline_config = BSplineConfig(chemical_system,\n",
    "                               r_min_map=r_min_map,\n",
    "                               r_max_map=r_max_map,\n",
    "                               resolution_map=resolution_map)\n",
    "\n",
    "representation = BasisProcessor2B(chemical_system,\n",
    "                                  bspline_config)\n",
    "\n",
    "regularizer = bspline_config.get_regularization_matrix(\n",
    "    **regularization_params)\n",
    "fixed = bspline_config.get_fixed_tuples(values=0,\n",
    "                                        one_body=True,\n",
    "                                        upper_bounds=True,\n",
    "                                        lower_bounds=False)\n",
    "\n",
    "model = WeightedLinearModel(regularizer=regularizer,\n",
    "                            fixed_tuples=fixed)\n",
    "\n",
    "client = ProcessPoolExecutor(max_workers=n_jobs)"
   ],
   "metadata": {
    "collapsed": false,
    "pycharm": {
     "name": "#%%\n"
    }
   }
  },
  {
   "cell_type": "markdown",
   "source": [
    "# Compute energy and force features using B-spline basis"
   ],
   "metadata": {
    "collapsed": false,
    "pycharm": {
     "name": "#%% md\n"
    }
   }
  },
  {
   "cell_type": "code",
   "execution_count": 9,
   "outputs": [
    {
     "name": "stderr",
     "output_type": "stream",
     "text": [
      "100%|██████████| 40/40 [00:22<00:00,  1.74it/s]\n"
     ]
    }
   ],
   "source": [
    "n_batches = 5  # added granularity for more progress bar updates (optional).\n",
    "df_features = representation.evaluate_parallel(df_data,\n",
    "                                               data_coordinator,\n",
    "                                               client,\n",
    "                                               n_jobs=n_jobs * n_batches)"
   ],
   "metadata": {
    "collapsed": false,
    "pycharm": {
     "name": "#%%\n"
    }
   }
  },
  {
   "cell_type": "code",
   "execution_count": 10,
   "outputs": [
    {
     "data": {
      "text/plain": "                     y  n_Ne  n_Xe  ij_0  ij_1  ij_2  ij_3  ij_4  ij_5  ij_6  \\\nlmp_0 energy -4.426398  32.0  32.0   0.0   0.0   0.0   0.0   0.0   0.0   0.0   \n      fx_0    0.000000   0.0   0.0  -0.0  -0.0  -0.0  -0.0  -0.0  -0.0  -0.0   \n      fx_1   -0.000000   0.0   0.0  -0.0  -0.0  -0.0  -0.0  -0.0  -0.0  -0.0   \n      fx_2   -0.000000   0.0   0.0  -0.0  -0.0  -0.0  -0.0  -0.0  -0.0  -0.0   \n      fx_3    0.000000   0.0   0.0  -0.0  -0.0  -0.0  -0.0  -0.0  -0.0  -0.0   \n\n              ...     ij_74       ij_75       ij_76      ij_77  ij_78  ij_79  \\\nlmp_0 energy  ...  0.141598  166.650163  505.877481  95.330757    0.0    0.0   \n      fx_0    ... -0.000000   -0.000000   -0.000000  -0.000000   -0.0   -0.0   \n      fx_1    ... -0.000000   -0.000000   -0.000000  -0.000000   -0.0   -0.0   \n      fx_2    ... -0.000000   -0.000000   -0.000000  -0.000000   -0.0   -0.0   \n      fx_3    ... -0.000000   -0.000000   -0.000000  -0.000000   -0.0   -0.0   \n\n              ij_80  ij_81  ij_82  ij_83  \nlmp_0 energy    0.0    0.0    0.0    0.0  \n      fx_0     -0.0   -0.0   -0.0   -0.0  \n      fx_1     -0.0   -0.0   -0.0   -0.0  \n      fx_2     -0.0   -0.0   -0.0   -0.0  \n      fx_3     -0.0   -0.0   -0.0   -0.0  \n\n[5 rows x 87 columns]",
      "text/html": "<div>\n<style scoped>\n    .dataframe tbody tr th:only-of-type {\n        vertical-align: middle;\n    }\n\n    .dataframe tbody tr th {\n        vertical-align: top;\n    }\n\n    .dataframe thead th {\n        text-align: right;\n    }\n</style>\n<table border=\"1\" class=\"dataframe\">\n  <thead>\n    <tr style=\"text-align: right;\">\n      <th></th>\n      <th></th>\n      <th>y</th>\n      <th>n_Ne</th>\n      <th>n_Xe</th>\n      <th>ij_0</th>\n      <th>ij_1</th>\n      <th>ij_2</th>\n      <th>ij_3</th>\n      <th>ij_4</th>\n      <th>ij_5</th>\n      <th>ij_6</th>\n      <th>...</th>\n      <th>ij_74</th>\n      <th>ij_75</th>\n      <th>ij_76</th>\n      <th>ij_77</th>\n      <th>ij_78</th>\n      <th>ij_79</th>\n      <th>ij_80</th>\n      <th>ij_81</th>\n      <th>ij_82</th>\n      <th>ij_83</th>\n    </tr>\n  </thead>\n  <tbody>\n    <tr>\n      <th rowspan=\"5\" valign=\"top\">lmp_0</th>\n      <th>energy</th>\n      <td>-4.426398</td>\n      <td>32.0</td>\n      <td>32.0</td>\n      <td>0.0</td>\n      <td>0.0</td>\n      <td>0.0</td>\n      <td>0.0</td>\n      <td>0.0</td>\n      <td>0.0</td>\n      <td>0.0</td>\n      <td>...</td>\n      <td>0.141598</td>\n      <td>166.650163</td>\n      <td>505.877481</td>\n      <td>95.330757</td>\n      <td>0.0</td>\n      <td>0.0</td>\n      <td>0.0</td>\n      <td>0.0</td>\n      <td>0.0</td>\n      <td>0.0</td>\n    </tr>\n    <tr>\n      <th>fx_0</th>\n      <td>0.000000</td>\n      <td>0.0</td>\n      <td>0.0</td>\n      <td>-0.0</td>\n      <td>-0.0</td>\n      <td>-0.0</td>\n      <td>-0.0</td>\n      <td>-0.0</td>\n      <td>-0.0</td>\n      <td>-0.0</td>\n      <td>...</td>\n      <td>-0.000000</td>\n      <td>-0.000000</td>\n      <td>-0.000000</td>\n      <td>-0.000000</td>\n      <td>-0.0</td>\n      <td>-0.0</td>\n      <td>-0.0</td>\n      <td>-0.0</td>\n      <td>-0.0</td>\n      <td>-0.0</td>\n    </tr>\n    <tr>\n      <th>fx_1</th>\n      <td>-0.000000</td>\n      <td>0.0</td>\n      <td>0.0</td>\n      <td>-0.0</td>\n      <td>-0.0</td>\n      <td>-0.0</td>\n      <td>-0.0</td>\n      <td>-0.0</td>\n      <td>-0.0</td>\n      <td>-0.0</td>\n      <td>...</td>\n      <td>-0.000000</td>\n      <td>-0.000000</td>\n      <td>-0.000000</td>\n      <td>-0.000000</td>\n      <td>-0.0</td>\n      <td>-0.0</td>\n      <td>-0.0</td>\n      <td>-0.0</td>\n      <td>-0.0</td>\n      <td>-0.0</td>\n    </tr>\n    <tr>\n      <th>fx_2</th>\n      <td>-0.000000</td>\n      <td>0.0</td>\n      <td>0.0</td>\n      <td>-0.0</td>\n      <td>-0.0</td>\n      <td>-0.0</td>\n      <td>-0.0</td>\n      <td>-0.0</td>\n      <td>-0.0</td>\n      <td>-0.0</td>\n      <td>...</td>\n      <td>-0.000000</td>\n      <td>-0.000000</td>\n      <td>-0.000000</td>\n      <td>-0.000000</td>\n      <td>-0.0</td>\n      <td>-0.0</td>\n      <td>-0.0</td>\n      <td>-0.0</td>\n      <td>-0.0</td>\n      <td>-0.0</td>\n    </tr>\n    <tr>\n      <th>fx_3</th>\n      <td>0.000000</td>\n      <td>0.0</td>\n      <td>0.0</td>\n      <td>-0.0</td>\n      <td>-0.0</td>\n      <td>-0.0</td>\n      <td>-0.0</td>\n      <td>-0.0</td>\n      <td>-0.0</td>\n      <td>-0.0</td>\n      <td>...</td>\n      <td>-0.000000</td>\n      <td>-0.000000</td>\n      <td>-0.000000</td>\n      <td>-0.000000</td>\n      <td>-0.0</td>\n      <td>-0.0</td>\n      <td>-0.0</td>\n      <td>-0.0</td>\n      <td>-0.0</td>\n      <td>-0.0</td>\n    </tr>\n  </tbody>\n</table>\n<p>5 rows × 87 columns</p>\n</div>"
     },
     "execution_count": 10,
     "metadata": {},
     "output_type": "execute_result"
    }
   ],
   "source": [
    "df_features.head()"
   ],
   "metadata": {
    "collapsed": false,
    "pycharm": {
     "name": "#%%\n"
    }
   }
  },
  {
   "cell_type": "markdown",
   "source": [
    "# Fit with 25% of the data\n",
    "### Weighing energies and forces equally with kappa = 0.5"
   ],
   "metadata": {
    "collapsed": false,
    "pycharm": {
     "name": "#%% md\n"
    }
   }
  },
  {
   "cell_type": "code",
   "execution_count": 11,
   "outputs": [],
   "source": [
    "frac_train = 0.25\n",
    "kappa = 0.5  # energy-force weighting parameter between 0 and 1.\n",
    "\n",
    "n_samples_per_config = 1 + 64 * 3\n",
    "n_train = n_samples_per_config * int(frac_train * len(df_data))\n",
    "df_train = df_features.iloc[:n_train]\n",
    "x, y, w = representation.get_training_tuples(df_train,\n",
    "                                             kappa,\n",
    "                                             data_coordinator)"
   ],
   "metadata": {
    "collapsed": false,
    "pycharm": {
     "name": "#%%\n"
    }
   }
  },
  {
   "cell_type": "code",
   "execution_count": 12,
   "outputs": [],
   "source": [
    "model.fit(x, y, weights=w)"
   ],
   "metadata": {
    "collapsed": false,
    "pycharm": {
     "name": "#%%\n"
    }
   }
  },
  {
   "cell_type": "markdown",
   "source": [
    "# Evaluate Energy and Forces with model"
   ],
   "metadata": {
    "collapsed": false,
    "pycharm": {
     "name": "#%% md\n"
    }
   }
  },
  {
   "cell_type": "code",
   "execution_count": 13,
   "outputs": [],
   "source": [
    "# Evaluate energy\n",
    "df_test = df_features.iloc[n_train:]\n",
    "x_test, y_test, w_cond = representation.get_training_tuples(df_test,\n",
    "                                                            0,\n",
    "                                                            data_coordinator)\n",
    "# slice entries corresponding to energies per atom\n",
    "x_e = x_test[w_cond == 0] / 64\n",
    "y_e = y_test[w_cond == 0] / 64\n",
    "# slice entries corresponding to forces\n",
    "x_f = x_test[w_cond > 0]\n",
    "y_f = y_test[w_cond > 0]\n",
    "# predict with solution\n",
    "p_e = model.predict(x_e)  # energy per atom\n",
    "p_f = model.predict(x_f)"
   ],
   "metadata": {
    "collapsed": false,
    "pycharm": {
     "name": "#%%\n"
    }
   }
  },
  {
   "cell_type": "markdown",
   "source": [
    "# Compute root-mean-square error"
   ],
   "metadata": {
    "collapsed": false,
    "pycharm": {
     "name": "#%% md\n"
    }
   }
  },
  {
   "cell_type": "code",
   "execution_count": 14,
   "outputs": [
    {
     "name": "stdout",
     "output_type": "stream",
     "text": [
      "Energy RMSE: 0.00010086145937759797 eV/atom\n",
      "Forces RMSE: 0.015295088904605333 eV/angstrom\n"
     ]
    }
   ],
   "source": [
    "rmse_e = np.sqrt(np.mean(np.subtract(y_e, p_e)**2))\n",
    "rmse_f = np.sqrt(np.mean(np.subtract(y_f, p_f)**2))\n",
    "print(\"Energy RMSE:\", rmse_e, \"eV/atom\")\n",
    "print(\"Forces RMSE:\", rmse_f, \"eV/angstrom\")"
   ],
   "metadata": {
    "collapsed": false,
    "pycharm": {
     "name": "#%%\n"
    }
   }
  },
  {
   "cell_type": "markdown",
   "source": [
    "# Arrange solution into pair-interaction potentials"
   ],
   "metadata": {
    "collapsed": false
   }
  },
  {
   "cell_type": "code",
   "execution_count": 15,
   "outputs": [],
   "source": [
    "split_indices = np.cumsum(bspline_config.partition_sizes)[:-1]\n",
    "solutions_list = np.array_split(model.coefficients,\n",
    "                                split_indices)\n",
    "solutions = {element: value for element, value\n",
    "             in zip(chemical_system.element_list, solutions_list[0])}\n",
    "for i, pair in enumerate(chemical_system.interactions_map[2]):\n",
    "    solutions[pair] = solutions_list[i + 1]"
   ],
   "metadata": {
    "collapsed": false,
    "pycharm": {
     "name": "#%%\n"
    }
   }
  },
  {
   "cell_type": "code",
   "execution_count": 16,
   "outputs": [
    {
     "name": "stdout",
     "output_type": "stream",
     "text": [
      "Ne: 0.000000\n",
      "Xe: 0.000000\n",
      "('Ne', 'Ne'): vector (28,)\n",
      "('Ne', 'Xe'): vector (28,)\n",
      "('Xe', 'Xe'): vector (28,)\n"
     ]
    }
   ],
   "source": [
    "for key, value in solutions.items():\n",
    "    if isinstance(value, (float, np.floating)):\n",
    "        print(\"{0}: {1:.6f}\".format(key, value))\n",
    "    else:\n",
    "        print(\"{}: vector\".format(key), value.shape)"
   ],
   "metadata": {
    "collapsed": false,
    "pycharm": {
     "name": "#%%\n"
    }
   }
  },
  {
   "cell_type": "markdown",
   "source": [
    "# Compute true Lennard-Jones potentials for reference"
   ],
   "metadata": {
    "collapsed": false,
    "pycharm": {
     "name": "#%% md\n"
    }
   }
  },
  {
   "cell_type": "code",
   "execution_count": 17,
   "outputs": [],
   "source": [
    "plot_reference = False  # set to True to compute and plot.\n",
    "\n",
    "\n",
    "def get_lennard_jones(r_range, epsilon, sigma):\n",
    "    return 4 * epsilon * ((sigma/r_range)**12 - (sigma/r_range)**6)\n",
    "\n",
    "if plot_reference:\n",
    "    r_plot = np.linspace(2, 12, 1000)\n",
    "    yaa = get_lennard_jones(r_plot, 0.003705453303, 2.73) / 2\n",
    "    yab = get_lennard_jones(r_plot, 0.006323399148, 3.472) / 2\n",
    "    ybb = get_lennard_jones(r_plot, 0.02206037315, 3.92) / 2"
   ],
   "metadata": {
    "collapsed": false,
    "pycharm": {
     "name": "#%%\n"
    }
   }
  },
  {
   "cell_type": "markdown",
   "source": [
    "# Plot results\n"
   ],
   "metadata": {
    "collapsed": false,
    "pycharm": {
     "name": "#%% md\n"
    }
   }
  },
  {
   "cell_type": "code",
   "execution_count": 18,
   "outputs": [
    {
     "name": "stderr",
     "output_type": "stream",
     "text": [
      "<ipython-input-18-14a82e986bd1>:46: UserWarning: Matplotlib is currently using module://ipykernel.pylab.backend_inline, which is a non-GUI backend, so cannot show the figure.\n",
      "  fig.show()\n"
     ]
    },
    {
     "data": {
      "text/plain": "<Figure size 1196.8x640 with 5 Axes>",
      "image/png": "[encoded data removed]"
     },
     "metadata": {},
     "output_type": "display_data"
    }
   ],
   "source": [
    "y_min = -0.015\n",
    "y_max = 0.03\n",
    "ENERGY_UNITS = \"eV/atom\"\n",
    "FORCE_UNITS = \"eV/$\\mathrm{\\AA}$\"\n",
    "\n",
    "fig = plt.figure(figsize=(7.48, 4), dpi=160, facecolor='white')\n",
    "gs = fig.add_gridspec(ncols=3, nrows=2,\n",
    "                      width_ratios=[1, 1, 1],\n",
    "                      height_ratios=[0.5, 1])\n",
    "\n",
    "for i, pair in enumerate(chemical_system.interactions_map[2]):\n",
    "    ax = fig.add_subplot(gs[0, i])\n",
    "    r_min = r_min_map[pair]\n",
    "    r_max = r_max_map[pair]\n",
    "    knot_sequence = representation.knots_map[pair]\n",
    "    coefficients = solutions[pair]\n",
    "    plotting.visualize_splines(coefficients,\n",
    "                               knot_sequence,\n",
    "                               ax=ax,\n",
    "                               s_min=y_min,\n",
    "                               s_max=y_max,\n",
    "                               linewidth=1)\n",
    "    ax.set_ylabel('B-Spline Value')\n",
    "    ax.set_xlabel('$\\mathrm{r_{ij}~~(\\AA)}$')\n",
    "    ax.set_title(pair)\n",
    "ax2 = fig.add_subplot(gs[1, 0])\n",
    "plotting.density_scatter(y_e, p_e, ax=ax2, units=ENERGY_UNITS, text_size=6, label_size=10)\n",
    "ax2.set_xlabel('Reference ({})'.format(ENERGY_UNITS))\n",
    "ax2.set_ylabel('Prediction ({})'.format(ENERGY_UNITS))\n",
    "\n",
    "ax3 = fig.add_subplot(gs[1, 1])\n",
    "plotting.density_scatter(y_f, p_f, ax=ax3, units=FORCE_UNITS,\n",
    "                         text_size=6, label_size=10)\n",
    "ax3.set_xlabel('Reference ({})'.format(FORCE_UNITS))\n",
    "ax3.set_ylabel('Prediction ({})'.format(FORCE_UNITS))\n",
    "\n",
    "ax2.set_title('Energy Predictions')\n",
    "ax3.set_title('Force Predictions')\n",
    "fig.subplots_adjust(left=0.1, right=0.99,\n",
    "                    bottom=0.15, top=0.94,\n",
    "                    wspace=0.6, hspace=0.6)\n",
    "if plot_reference:\n",
    "    fig.get_axes()[0].plot(r_plot, yaa, color='red', linewidth=2, linestyle=':')\n",
    "    fig.get_axes()[1].plot(r_plot, yab, color='red', linewidth=2, linestyle=':')\n",
    "    fig.get_axes()[2].plot(r_plot, ybb, color='red', linewidth=2, linestyle=':')\n",
    "fig.show()"
   ],
   "metadata": {
    "collapsed": false,
    "pycharm": {
     "name": "#%%\n"
    }
   }
  },
  {
   "cell_type": "markdown",
   "source": [
    "# Export tabulated potentials"
   ],
   "metadata": {
    "collapsed": false,
    "pycharm": {
     "name": "#%% md\n"
    }
   }
  },
  {
   "cell_type": "code",
   "execution_count": 19,
   "outputs": [
    {
     "name": "stdout",
     "output_type": "stream",
     "text": [
      "# DATE: 01/13/2021  UNITS: metal  CONTRIBUTOR: \n",
      "# Ultra-Fast Force Field for Ne-Ne\n",
      "\n",
      "UF_Ne-Ne\n",
      "N 26 RSQ 1.5000000000 6.0000000000\n",
      "\n",
      "1 1.5000000000 50.0700676313 116.3336358083\n",
      "2 1.8973665961 7.2346108479 64.6872131853\n",
      "3 2.2248595461 0.0605753609 0.3696730016\n",
      "4 2.5099800796 0.0080748883 0.0665899078\n",
      "5 2.7658633372 -0.0005425870 0.0123213629\n",
      "6 3.0000000000 -0.0018528915 0.0011129013\n",
      "7 3.2171415884 -0.0017723660 -0.0012592510\n",
      "8 3.4205262753 -0.0014790554 -0.0015334362\n",
      "9 3.6124783736 -0.0011931818 -0.0014013173\n",
      "10 3.7947331922 -0.0009628437 -0.0011139982\n",
      "11 3.9686269666 -0.0007879323 -0.0009442802\n",
      "12 4.1352146256 -0.0006413006 -0.0007664296\n",
      "13 4.2953463190 -0.0005290146 -0.0007279185\n",
      "14 4.4497190923 -0.0004152806 -0.0006400398\n",
      "15 4.5989129150 -0.0003435417 -0.0003579165\n",
      "16 4.7434164903 -0.0002968768 -0.0003368995\n",
      "17 4.8836461788 -0.0002596762 -0.0000609927\n",
      "18 5.0199601592 -0.0002596783 -0.0002055242\n",
      "19 5.1526692112 -0.0001969209 -0.0005480346\n",
      "20 5.2820450585 -0.0001438263 -0.0002492516\n",
      "21 5.4083269132 -0.0001258548 -0.0001086508\n",
      "22 5.5317266744 -0.0001082383 -0.0001722660\n",
      "23 5.6524331044 -0.0000829595 -0.0002593791\n",
      "24 5.7706152185 -0.0000522744 -0.0001987288\n",
      "25 5.8864250611 -0.0000319662 -0.0002482559\n",
      "26 6.0000000000 0.0000000000 -0.0001819504\n",
      "\n",
      "\n",
      "# DATE: 01/13/2021  UNITS: metal  CONTRIBUTOR: \n",
      "# Ultra-Fast Force Field for Ne-Xe\n",
      "\n",
      "UF_Ne-Xe\n",
      "N 26 RSQ 1.5000000000 8.0000000000\n",
      "\n",
      "1 1.5000000000 1.8063005890 1.0091990262\n",
      "2 2.1725560982 0.9346154080 1.5677149052\n",
      "3 2.6814175356 0.2108281489 0.9376781298\n",
      "4 3.1080540536 0.0232726070 0.1343626699\n",
      "5 3.4828149535 -0.0004022745 0.0195624081\n",
      "6 3.8209946349 -0.0033325343 0.0013370346\n",
      "7 4.1315856520 -0.0030242909 -0.0022000374\n",
      "8 4.4204072211 -0.0023895729 -0.0021130554\n",
      "9 4.6914816423 -0.0018616308 -0.0017731107\n",
      "10 4.9477267507 -0.0014492977 -0.0014546435\n",
      "11 5.1913389410 -0.0011310515 -0.0011476653\n",
      "12 5.4240206489 -0.0008951755 -0.0009073836\n",
      "13 5.6471231614 -0.0007061723 -0.0008022177\n",
      "14 5.8617403559 -0.0005501925 -0.0006044376\n",
      "15 6.0687725283 -0.0004469944 -0.0004497865\n",
      "16 6.2689712075 -0.0003583200 -0.0004208894\n",
      "17 6.4629714528 -0.0002830005 -0.0003590322\n",
      "18 6.6513156593 -0.0002243847 -0.0002406124\n",
      "19 6.8344714499 -0.0001890827 -0.0001878248\n",
      "20 7.0128453569 -0.0001500650 -0.0002435338\n",
      "21 7.1867934435 -0.0001114540 -0.0001606307\n",
      "22 7.3566296631 -0.0000886820 -0.0001797044\n",
      "23 7.5226325179 -0.0000537031 -0.0001575957\n",
      "24 7.6850504227 -0.0000376303 -0.0001159670\n",
      "25 7.8441060676 -0.0000208741 0.0000066234\n",
      "26 8.0000000000 0.0000000000 -0.0006240277\n",
      "\n",
      "\n",
      "# DATE: 01/13/2021  UNITS: metal  CONTRIBUTOR: \n",
      "# Ultra-Fast Force Field for Xe-Xe\n",
      "\n",
      "UF_Xe-Xe\n",
      "N 26 RSQ 1.5000000000 10.0000000000\n",
      "\n",
      "1 1.5000000000 4.0076631695 1.5773285284\n",
      "2 2.4819347292 1.9643694071 2.5575034156\n",
      "3 3.1733263305 0.3771872747 1.4552714128\n",
      "4 3.7389838192 0.0191472712 0.1491725416\n",
      "5 4.2296571965 -0.0105024223 0.0089483851\n",
      "6 4.6690470120 -0.0104032908 -0.0058485167\n",
      "7 5.0705029336 -0.0076949849 -0.0066486495\n",
      "8 5.4424259297 -0.0055568807 -0.0049614686\n",
      "9 5.7905094767 -0.0040338783 -0.0038347510\n",
      "10 6.1188234163 -0.0029279989 -0.0029026604\n",
      "11 6.4303965663 -0.0021476642 -0.0021494725\n",
      "12 6.7275552766 -0.0015941819 -0.0015862622\n",
      "13 7.0121323433 -0.0012074814 -0.0011585530\n",
      "14 7.2856022400 -0.0009260776 -0.0009363825\n",
      "15 7.5491721400 -0.0006984763 -0.0007715345\n",
      "16 7.8038452061 -0.0005298950 -0.0005501824\n",
      "17 8.0504658250 -0.0004179245 -0.0003720464\n",
      "18 8.2897527104 -0.0003419248 -0.0002745012\n",
      "19 8.5223236268 -0.0002889226 -0.0001655754\n",
      "20 8.7487141912 -0.0002456994 -0.0003175829\n",
      "21 8.9693923986 -0.0001598916 -0.0003091245\n",
      "22 9.1847700026 -0.0001204586 -0.0001561516\n",
      "23 9.3952115463 -0.0000873664 -0.0000889399\n",
      "24 9.6010416102 -0.0000794474 -0.0000722458\n",
      "25 9.8025506885 -0.0000480201 -0.0002078536\n",
      "26 10.0000000000 0.0000000000 -0.0002942299\n"
     ]
    }
   ],
   "source": [
    "table_list = []\n",
    "pair_list = chemical_system.interactions_map[2]\n",
    "for pair in pair_list:\n",
    "    text = lammps.export_tabulated_potential(representation.knots_map[pair],\n",
    "                                             solutions[pair],\n",
    "                                             pair,\n",
    "                                             filename=None)\n",
    "    table_list.append(text)\n",
    "combined_text = \"\\n\\n\\n\".join(table_list)\n",
    "print(combined_text)\n",
    "fname = os.path.join(example_directory, \"table_test\", \"Ne_Xe.table\")\n",
    "with open(fname, \"w\") as f:\n",
    "    f.write(combined_text)"
   ],
   "metadata": {
    "collapsed": false,
    "pycharm": {
     "name": "#%%\n"
    }
   }
  },
  {
   "cell_type": "markdown",
   "source": [
    "# Compute energy, forces, stress with Calculator"
   ],
   "metadata": {
    "collapsed": false,
    "pycharm": {
     "name": "#%% md\n"
    }
   }
  },
  {
   "cell_type": "code",
   "execution_count": 20,
   "outputs": [
    {
     "name": "stdout",
     "output_type": "stream",
     "text": [
      "Energy: -2.390755409114989\n",
      "Stresses (numerical): [-0.00430227 -0.00441708 -0.00367688 -0.00019268  0.00035119 -0.0003808 ]\n",
      "Forces:\n",
      " [[ 4.47503983e-02 -7.69235230e-02 -2.93211220e-02]\n",
      " [ 1.66255425e-02  4.33561431e-02  2.83920410e-02]\n",
      " [ 1.18085791e-02 -3.44451984e-02  1.39903146e-02]\n",
      " [ 2.46556592e-01 -3.42055925e-01 -7.27573977e-02]\n",
      " [-1.39636942e-01 -3.50034409e-02 -5.83080650e-02]\n",
      " [ 1.34279402e-02  7.45354830e-02  4.71506761e-02]\n",
      " [-2.30271003e-01 -7.19630285e-02 -4.69160573e-02]\n",
      " [ 4.40699105e-02 -5.14893945e-02  3.24616890e-02]\n",
      " [ 8.80018683e-02  6.19972668e-03  6.71689434e-03]\n",
      " [ 8.04132631e-03  2.37415556e-02 -1.98599811e-02]\n",
      " [ 1.69511165e-01 -3.72680346e-01  3.13427189e-01]\n",
      " [-2.34602975e-01  1.13445139e-01 -1.02739084e-01]\n",
      " [ 1.16306048e-02  2.61116829e-03 -5.17419868e-03]\n",
      " [ 2.67713340e-01  2.86089523e-01 -1.95544343e-01]\n",
      " [ 3.02553619e-02  1.99830502e-02 -1.18953421e-02]\n",
      " [-4.65700864e-03 -7.20401020e-03  1.26382212e-02]\n",
      " [ 3.28778986e-04 -4.26490839e-01 -4.96321784e-01]\n",
      " [-9.31322365e-02 -9.92548531e-02  4.52849483e-02]\n",
      " [-1.22685209e-01  1.19015364e-01 -1.11876647e-02]\n",
      " [-1.38268637e-01  2.08551368e-01 -1.73540675e-01]\n",
      " [-5.95679812e-02 -1.41198285e-02 -1.82854113e-02]\n",
      " [-5.13299686e-02  5.64911649e-02 -9.58568679e-03]\n",
      " [-6.02625887e-02  4.97771561e-01  5.20216685e-01]\n",
      " [ 5.60254592e-02  8.14863655e-02 -2.25400103e-02]\n",
      " [ 1.79727102e-01 -4.06342172e-01 -2.40588412e-01]\n",
      " [-2.42118710e-02 -3.17791051e-01 -1.15981569e-02]\n",
      " [ 1.56718582e-01 -2.46006715e-02 -9.27048517e-02]\n",
      " [-8.02787506e-02  3.54770020e-02  2.80876759e-02]\n",
      " [-7.53603232e-02 -1.08970396e-01 -2.73357653e-01]\n",
      " [-2.42689422e-01  2.03209733e-01  1.36089321e-01]\n",
      " [ 2.03350884e-01 -1.30127110e-01  1.86360344e-02]\n",
      " [-5.36088920e-02  6.85731355e-02 -9.29077974e-02]\n",
      " [-7.26287649e-02  2.36446291e-01 -3.41277926e-02]\n",
      " [ 5.06837898e-01 -9.11864644e-02  2.33246288e-01]\n",
      " [ 7.23715278e-02 -1.63557645e-01  9.82457323e-02]\n",
      " [-6.37768158e-02  2.88186384e-02 -3.28966647e-02]\n",
      " [-1.09929344e-01 -1.15457050e-01 -9.79452184e-02]\n",
      " [ 1.40983364e-01 -5.48585607e-02  9.62108347e-02]\n",
      " [ 5.96411400e-02 -3.35139217e-02 -2.45772945e-02]\n",
      " [ 1.74257432e-01  9.31928336e-02 -2.34211156e-01]\n",
      " [ 8.44725751e-02 -3.90628555e-02 -1.84021693e-01]\n",
      " [ 4.08547689e-01 -1.38383380e-02 -1.21570047e-01]\n",
      " [-2.03263992e-02 -9.85265020e-02 -1.60914686e-02]\n",
      " [ 9.82361785e-02 -9.56638287e-02 -5.27855975e-02]\n",
      " [-1.18497525e-02  1.41126811e-01  3.46473492e-02]\n",
      " [-1.16648253e-01  1.83773801e-01 -2.63382113e-02]\n",
      " [-3.14152186e-01  3.00127272e-01  4.72803510e-01]\n",
      " [-3.21894385e-02  2.79079647e-04 -5.06911351e-02]\n",
      " [ 3.95495086e-01 -3.20893022e-02  6.30276228e-02]\n",
      " [-1.89939770e-01 -4.10218839e-02 -4.43381888e-03]\n",
      " [-9.87375795e-04 -1.91485383e-02  7.06300756e-02]\n",
      " [ 1.28195668e-01  2.39025583e-01 -1.06383599e-01]\n",
      " [-1.10670554e-01  2.28789543e-01  8.46233161e-02]\n",
      " [-1.82036217e-02  1.01336233e-01 -8.70868357e-03]\n",
      " [ 4.28225052e-02 -1.30936741e-01 -9.45735518e-02]\n",
      " [-9.80789007e-02 -1.26270685e-01 -3.72481738e-01]\n",
      " [-3.02235769e-01 -2.81829231e-01  4.80967587e-01]\n",
      " [-5.69802646e-01 -3.38574474e-02  4.05192201e-01]\n",
      " [ 9.82371007e-03  5.82837957e-02 -3.86840642e-02]\n",
      " [-3.96106730e-01  4.13465782e-01 -1.50182350e-01]\n",
      " [ 2.16461909e-01 -1.12979247e-01  1.74898118e-01]\n",
      " [ 8.31580701e-02  2.70550599e-01  1.17043622e-01]\n",
      " [-1.24600602e-01 -7.43464870e-02 -3.84721407e-02]\n",
      " [ 1.92842542e-01 -5.81472280e-02  1.39681971e-01]]\n"
     ]
    }
   ],
   "source": [
    "calc = calculator.UFCalculator(bspline_config, model)\n",
    "\n",
    "geom = df_data.iloc[100]['geometry'].copy()\n",
    "geom.set_calculator(calc)\n",
    "\n",
    "print(\"Energy:\", geom.get_potential_energy())\n",
    "print(\"Stresses (numerical):\", geom.get_stress())\n",
    "print(\"Forces:\\n\", geom.get_forces())\n"
   ],
   "metadata": {
    "collapsed": false,
    "pycharm": {
     "name": "#%%\n"
    }
   }
  },
  {
   "cell_type": "code",
   "execution_count": 20,
   "outputs": [],
   "source": [],
   "metadata": {
    "collapsed": false,
    "pycharm": {
     "name": "#%%\n"
    }
   }
  }
 ],
 "metadata": {
  "kernelspec": {
   "display_name": "Python 3",
   "language": "python",
   "name": "python3"
  },
  "language_info": {
   "codemirror_mode": {
    "name": "ipython",
    "version": 2
   },
   "file_extension": ".py",
   "mimetype": "text/x-python",
   "name": "python",
   "nbconvert_exporter": "python",
   "pygments_lexer": "ipython2",
   "version": "2.7.6"
  }
 },
 "nbformat": 4,
 "nbformat_minor": 0
}