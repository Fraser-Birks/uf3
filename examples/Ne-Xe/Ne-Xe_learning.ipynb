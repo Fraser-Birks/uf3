{
 "cells": [
  {
   "cell_type": "code",
   "execution_count": 1,
   "outputs": [],
   "source": [
    "import os\n",
    "from concurrent.futures import ProcessPoolExecutor\n",
    "\n",
    "import numpy as np\n",
    "import matplotlib.pyplot as plt\n",
    "\n",
    "import uf3\n",
    "from uf3.data.io import DataCoordinator\n",
    "from uf3.data.composition import ChemicalSystem\n",
    "from uf3.representation.process import BasisProcessor2B\n",
    "from uf3.regression.regularize import Regularizer\n",
    "from uf3.regression.least_squares import WeightedLinearModel\n",
    "\n",
    "from uf3.representation import distances\n",
    "from uf3.util import plotting\n",
    "from uf3.forcefield import lammps\n",
    "\n",
    "\n",
    "pkg_directory = os.path.dirname(os.path.dirname(uf3.__file__))\n",
    "example_directory = os.path.join(pkg_directory, \"examples\", \"Ne-Xe\")\n",
    "dataset_directory = os.path.join(pkg_directory, \"examples\", \"Ne-Xe\", \"dataset\")"
   ],
   "metadata": {
    "collapsed": false,
    "pycharm": {
     "name": "#%%\n"
    }
   }
  },
  {
   "cell_type": "markdown",
   "source": [
    "# User Parameters"
   ],
   "metadata": {
    "collapsed": false,
    "pycharm": {
     "name": "#%% md\n"
    }
   }
  },
  {
   "cell_type": "code",
   "execution_count": 2,
   "outputs": [],
   "source": [
    "n_jobs = 8                              # Maximum number of parallel processes\n",
    "\n",
    "element_list = ['Ne', 'Xe']\n",
    "degree = 2                              # two-body interactions\n",
    "\n",
    "r_min_map = {('Ne', 'Ne'): 1.5,\n",
    "             ('Ne', 'Xe'): 1.5,\n",
    "             ('Xe', 'Xe'): 1.5,}        # minimum distance cutoff (angstroms)\n",
    "r_max_map = {('Ne', 'Ne'): 6.0,\n",
    "             ('Ne', 'Xe'): 8.0,\n",
    "             ('Xe', 'Xe'): 8.0,}        # maximum distance cutoff (angstroms)\n",
    "resolution_map = {('Ne', 'Ne'): 25,\n",
    "                  ('Ne', 'Xe'): 25,\n",
    "                  ('Xe', 'Xe'): 25}     # number of knot intervals\n",
    "\n",
    "lammps_aliases = {1: 'Ne',\n",
    "                  2: 'Xe'}              # aliases for LAMMPS atom types\n",
    "\n",
    "lambda1 = 1e-5                          # L2 (Ridge) regularization strength\n",
    "lambda2 = 1e-4                          # Curvature regularization strength"
   ],
   "metadata": {
    "collapsed": false,
    "pycharm": {
     "name": "#%%\n"
    }
   }
  },
  {
   "cell_type": "markdown",
   "source": [
    "# Initialize data coordinator and chemical system"
   ],
   "metadata": {
    "collapsed": false,
    "pycharm": {
     "name": "#%% md\n"
    }
   }
  },
  {
   "cell_type": "code",
   "execution_count": 3,
   "outputs": [],
   "source": [
    "\n",
    "data_coordinator = DataCoordinator()\n",
    "\n",
    "chemical_system = ChemicalSystem(element_list=element_list,\n",
    "                                 degree=degree,\n",
    "                                 r_min_map=r_min_map,\n",
    "                                 r_max_map=r_max_map,\n",
    "                                 resolution_map=resolution_map)\n",
    "\n"
   ],
   "metadata": {
    "collapsed": false,
    "pycharm": {
     "name": "#%%\n"
    }
   }
  },
  {
   "cell_type": "markdown",
   "source": [
    "# Load data from LAMMPS run directory"
   ],
   "metadata": {
    "collapsed": false,
    "pycharm": {
     "name": "#%% md\n"
    }
   }
  },
  {
   "cell_type": "code",
   "execution_count": 4,
   "outputs": [
    {
     "name": "stdout",
     "output_type": "stream",
     "text": [
      "Number of energies: 401\n",
      "Number of forces: 76992\n"
     ]
    }
   ],
   "source": [
    "data_coordinator.dataframe_from_lammps_run(dataset_directory,\n",
    "                                           lammps_aliases,\n",
    "                                           prefix='lmp',\n",
    "                                           log_fname=\"log.lammps\",\n",
    "                                           dump_fname=\"dump.lammpstrj\")\n",
    "df_data = data_coordinator.consolidate()\n",
    "print(\"Number of energies:\", len(df_data))\n",
    "print(\"Number of forces:\", int(np.sum(df_data[\"size\"]) * 3))\n"
   ],
   "metadata": {
    "collapsed": false,
    "pycharm": {
     "name": "#%%\n"
    }
   }
  },
  {
   "cell_type": "code",
   "execution_count": 5,
   "outputs": [
    {
     "data": {
      "text/plain": "       Step       Temp        Press    TotEng    energy  \\\nlmp_0     0   0.100000     0.300731 -4.425584 -4.426398   \nlmp_1  1000   5.624945   -73.317322 -4.412308 -4.458114   \nlmp_2  2000  10.808590  -428.025400 -4.639121 -4.727139   \nlmp_3  3000  14.861731 -1202.434200 -4.878347 -4.999372   \nlmp_4  4000  20.299581 -1269.661700 -4.843280 -5.008587   \n\n                                                geometry  size  \\\nlmp_0  (Atom('Ne', [15.123913088599998, 15.1239130885...  64.0   \nlmp_1  (Atom('Ne', [15.165314343599999, 15.1792692817...  64.0   \nlmp_2  (Atom('Ne', [0.9063913729, 1.3488837163999998,...  64.0   \nlmp_3  (Atom('Ne', [1.3474466084, 1.2753605426, 14.56...  64.0   \nlmp_4  (Atom('Ne', [1.7462606202000002, 1.4321776581,...  64.0   \n\n                                                      fx  \\\nlmp_0  [0.0, -0.0, -0.0, 0.0, 0.0, -0.0, -0.0, 0.0, 0...   \nlmp_1  [0.00020442650000000002, 0.0016639457, 0.00192...   \nlmp_2  [0.0015836835999999998, -0.0023350728, 0.00265...   \nlmp_3  [-0.004552505300000001, 0.0010418925, -0.00689...   \nlmp_4  [-0.0036245833000000003, 0.0027762812, 0.00332...   \n\n                                                      fy  \\\nlmp_0  [0.0, -0.0, 0.0, -0.0, 0.0, -0.0, 0.0, -0.0, 0...   \nlmp_1  [0.0056729229, 0.0009264524000000001, 0.002516...   \nlmp_2  [-3.38791e-05, 0.002999284, -0.0060387845, 0.0...   \nlmp_3  [0.004840957700000001, -0.0004996062000000001,...   \nlmp_4  [0.0002289233, 0.0005190723000000001, 0.009913...   \n\n                                                      fz  \nlmp_0  [-0.0, -0.0, 0.0, 0.0, -0.0, -0.0, 0.0, 0.0, -...  \nlmp_1  [-0.0015951115, -0.0019227623, -0.0035339883, ...  \nlmp_2  [-0.0036139710999999997, -0.0023498482, 0.0036...  \nlmp_3  [0.0098480452, 0.0022208212, 5.97758e-05, -0.0...  \nlmp_4  [0.0008959326, 0.000723354, 0.0071951805, -0.0...  ",
      "text/html": "<div>\n<style scoped>\n    .dataframe tbody tr th:only-of-type {\n        vertical-align: middle;\n    }\n\n    .dataframe tbody tr th {\n        vertical-align: top;\n    }\n\n    .dataframe thead th {\n        text-align: right;\n    }\n</style>\n<table border=\"1\" class=\"dataframe\">\n  <thead>\n    <tr style=\"text-align: right;\">\n      <th></th>\n      <th>Step</th>\n      <th>Temp</th>\n      <th>Press</th>\n      <th>TotEng</th>\n      <th>energy</th>\n      <th>geometry</th>\n      <th>size</th>\n      <th>fx</th>\n      <th>fy</th>\n      <th>fz</th>\n    </tr>\n  </thead>\n  <tbody>\n    <tr>\n      <th>lmp_0</th>\n      <td>0</td>\n      <td>0.100000</td>\n      <td>0.300731</td>\n      <td>-4.425584</td>\n      <td>-4.426398</td>\n      <td>(Atom('Ne', [15.123913088599998, 15.1239130885...</td>\n      <td>64.0</td>\n      <td>[0.0, -0.0, -0.0, 0.0, 0.0, -0.0, -0.0, 0.0, 0...</td>\n      <td>[0.0, -0.0, 0.0, -0.0, 0.0, -0.0, 0.0, -0.0, 0...</td>\n      <td>[-0.0, -0.0, 0.0, 0.0, -0.0, -0.0, 0.0, 0.0, -...</td>\n    </tr>\n    <tr>\n      <th>lmp_1</th>\n      <td>1000</td>\n      <td>5.624945</td>\n      <td>-73.317322</td>\n      <td>-4.412308</td>\n      <td>-4.458114</td>\n      <td>(Atom('Ne', [15.165314343599999, 15.1792692817...</td>\n      <td>64.0</td>\n      <td>[0.00020442650000000002, 0.0016639457, 0.00192...</td>\n      <td>[0.0056729229, 0.0009264524000000001, 0.002516...</td>\n      <td>[-0.0015951115, -0.0019227623, -0.0035339883, ...</td>\n    </tr>\n    <tr>\n      <th>lmp_2</th>\n      <td>2000</td>\n      <td>10.808590</td>\n      <td>-428.025400</td>\n      <td>-4.639121</td>\n      <td>-4.727139</td>\n      <td>(Atom('Ne', [0.9063913729, 1.3488837163999998,...</td>\n      <td>64.0</td>\n      <td>[0.0015836835999999998, -0.0023350728, 0.00265...</td>\n      <td>[-3.38791e-05, 0.002999284, -0.0060387845, 0.0...</td>\n      <td>[-0.0036139710999999997, -0.0023498482, 0.0036...</td>\n    </tr>\n    <tr>\n      <th>lmp_3</th>\n      <td>3000</td>\n      <td>14.861731</td>\n      <td>-1202.434200</td>\n      <td>-4.878347</td>\n      <td>-4.999372</td>\n      <td>(Atom('Ne', [1.3474466084, 1.2753605426, 14.56...</td>\n      <td>64.0</td>\n      <td>[-0.004552505300000001, 0.0010418925, -0.00689...</td>\n      <td>[0.004840957700000001, -0.0004996062000000001,...</td>\n      <td>[0.0098480452, 0.0022208212, 5.97758e-05, -0.0...</td>\n    </tr>\n    <tr>\n      <th>lmp_4</th>\n      <td>4000</td>\n      <td>20.299581</td>\n      <td>-1269.661700</td>\n      <td>-4.843280</td>\n      <td>-5.008587</td>\n      <td>(Atom('Ne', [1.7462606202000002, 1.4321776581,...</td>\n      <td>64.0</td>\n      <td>[-0.0036245833000000003, 0.0027762812, 0.00332...</td>\n      <td>[0.0002289233, 0.0005190723000000001, 0.009913...</td>\n      <td>[0.0008959326, 0.000723354, 0.0071951805, -0.0...</td>\n    </tr>\n  </tbody>\n</table>\n</div>"
     },
     "execution_count": 5,
     "metadata": {},
     "output_type": "execute_result"
    }
   ],
   "source": [
    "df_data.head()\n"
   ],
   "metadata": {
    "collapsed": false,
    "pycharm": {
     "name": "#%%\n"
    }
   }
  },
  {
   "cell_type": "markdown",
   "source": [
    "# Visualize partial radial distribution functions\n",
    "### This can be a sanity check for specified interaction-specific cutoffs."
   ],
   "metadata": {
    "collapsed": false,
    "pycharm": {
     "name": "#%% md\n"
    }
   }
  },
  {
   "cell_type": "code",
   "execution_count": 6,
   "outputs": [
    {
     "name": "stdout",
     "output_type": "stream",
     "text": [
      "('Ne', 'Ne') Lower bound: 2.160 angstroms\n",
      "('Ne', 'Ne') Peaks (min width 0.5 angstroms): [2.82 5.46]\n",
      "('Ne', 'Xe') Lower bound: 2.640 angstroms\n",
      "('Ne', 'Xe') Peaks (min width 0.5 angstroms): [ 3.66  7.98 10.74]\n",
      "('Xe', 'Xe') Lower bound: 3.360 angstroms\n",
      "('Xe', 'Xe') Peaks (min width 0.5 angstroms): [ 4.26  7.14 11.1 ]\n"
     ]
    }
   ],
   "source": [
    "atoms_key = data_coordinator.atoms_key\n",
    "histograms = distances.summarize_distances(df_data[atoms_key],\n",
    "                                           chemical_system)"
   ],
   "metadata": {
    "collapsed": false,
    "pycharm": {
     "name": "#%%\n"
    }
   }
  },
  {
   "cell_type": "code",
   "execution_count": 7,
   "outputs": [
    {
     "data": {
      "text/plain": "<Figure size 432x144 with 3 Axes>",
      "image/png": "[encoded data removed]"
     },
     "metadata": {
      "needs_background": "light"
     },
     "output_type": "display_data"
    }
   ],
   "source": [
    "bar_width = histograms[1][1] - histograms[1][0]\n",
    "pairs = chemical_system.interactions_map[2]\n",
    "fig, ax = plt.subplots(1, len(pairs), figsize=(len(pairs)*2, 2))\n",
    "for i, pair in enumerate(pairs):\n",
    "    ax[i].bar(histograms[1][:-1],\n",
    "              histograms[0][pair],\n",
    "              width=bar_width)\n",
    "    ax[i].set_title(pair)\n",
    "    ax[i].plot([0, 10], [1, 1], linestyle='--', color='k')\n",
    "    ax[i].set_xlim(0, 10)\n",
    "    ax[i].set_ylim(0, 4)\n",
    "fig.tight_layout()"
   ],
   "metadata": {
    "collapsed": false,
    "pycharm": {
     "name": "#%%\n"
    }
   }
  },
  {
   "cell_type": "markdown",
   "source": [
    "# Initialize representation, regularizer, and model\n"
   ],
   "metadata": {
    "collapsed": false,
    "pycharm": {
     "name": "#%% md\n"
    }
   }
  },
  {
   "cell_type": "code",
   "execution_count": 8,
   "outputs": [],
   "source": [
    "representation = BasisProcessor2B(chemical_system)\n",
    "\n",
    "regularizer_sizes = representation.get_regularizer_sizes()\n",
    "regularizer = Regularizer(regularizer_sizes=regularizer_sizes,\n",
    "                          ridge=lambda1,\n",
    "                          curvature=lambda2,\n",
    "                          onebody=lambda1 * 1000)\n",
    "\n",
    "fixed = regularizer.get_fixed(value=0,\n",
    "                              onebody=True,\n",
    "                              upper_bounds=True,\n",
    "                              lower_bounds=False)\n",
    "model = WeightedLinearModel(regularizer=regularizer,\n",
    "                            fixed=fixed)\n",
    "\n",
    "client = ProcessPoolExecutor(max_workers=n_jobs)"
   ],
   "metadata": {
    "collapsed": false,
    "pycharm": {
     "name": "#%%\n"
    }
   }
  },
  {
   "cell_type": "markdown",
   "source": [
    "# Compute energy and force features using B-spline basis"
   ],
   "metadata": {
    "collapsed": false,
    "pycharm": {
     "name": "#%% md\n"
    }
   }
  },
  {
   "cell_type": "code",
   "execution_count": null,
   "outputs": [
    {
     "name": "stderr",
     "output_type": "stream",
     "text": [
      " 22%|██▎       | 9/40 [00:06<00:27,  1.11it/s]"
     ]
    }
   ],
   "source": [
    "n_batches = 5  # added granularity for more progress bar updates (optional).\n",
    "df_features = representation.evaluate_parallel(df_data,\n",
    "                                               data_coordinator,\n",
    "                                               client,\n",
    "                                               n_jobs=n_jobs * n_batches)"
   ],
   "metadata": {
    "collapsed": false,
    "pycharm": {
     "name": "#%%\n",
     "is_executing": true
    }
   }
  },
  {
   "cell_type": "code",
   "execution_count": null,
   "outputs": [],
   "source": [
    "df_features.head()"
   ],
   "metadata": {
    "collapsed": false,
    "pycharm": {
     "name": "#%%\n",
     "is_executing": true
    }
   }
  },
  {
   "cell_type": "markdown",
   "source": [
    "# Fit with 25% of the data\n",
    "### Weighing energies and forces equally with kappa = 0.5"
   ],
   "metadata": {
    "collapsed": false,
    "pycharm": {
     "name": "#%% md\n"
    }
   }
  },
  {
   "cell_type": "code",
   "execution_count": null,
   "outputs": [],
   "source": [
    "frac_train = 0.25\n",
    "kappa = 0.5  # energy-force weighting parameter between 0 and 1.\n",
    "\n",
    "n_samples_per_config = 1 + 64 * 3\n",
    "n_train = n_samples_per_config * int(frac_train * len(df_data))\n",
    "df_train = df_features.iloc[:n_train]\n",
    "x, y, w = representation.get_training_tuples(df_train,\n",
    "                                             kappa,\n",
    "                                             data_coordinator)"
   ],
   "metadata": {
    "collapsed": false,
    "pycharm": {
     "name": "#%%\n",
     "is_executing": true
    }
   }
  },
  {
   "cell_type": "code",
   "execution_count": null,
   "outputs": [],
   "source": [
    "model.fit(x, y, weights=w)"
   ],
   "metadata": {
    "collapsed": false,
    "pycharm": {
     "name": "#%%\n",
     "is_executing": true
    }
   }
  },
  {
   "cell_type": "markdown",
   "source": [
    "# Evaluate Energy and Forces with model"
   ],
   "metadata": {
    "collapsed": false,
    "pycharm": {
     "name": "#%% md\n"
    }
   }
  },
  {
   "cell_type": "code",
   "execution_count": null,
   "outputs": [],
   "source": [
    "# Evaluate energy\n",
    "df_test = df_features.iloc[n_train:]\n",
    "x_test, y_test, w_cond = representation.get_training_tuples(df_test,\n",
    "                                                            0,\n",
    "                                                            data_coordinator)\n",
    "# slice entries corresponding to energies per atom\n",
    "x_e = x_test[w_cond == 0] / 64\n",
    "y_e = y_test[w_cond == 0] / 64\n",
    "# slice entries corresponding to forces\n",
    "x_f = x_test[w_cond > 0]\n",
    "y_f = y_test[w_cond > 0]\n",
    "# predict with solution\n",
    "p_e = model.predict(x_e)  # energy per atom\n",
    "p_f = model.predict(x_f)"
   ],
   "metadata": {
    "collapsed": false,
    "pycharm": {
     "name": "#%%\n",
     "is_executing": true
    }
   }
  },
  {
   "cell_type": "markdown",
   "source": [
    "# Compute root-mean-square error"
   ],
   "metadata": {
    "collapsed": false,
    "pycharm": {
     "name": "#%% md\n"
    }
   }
  },
  {
   "cell_type": "code",
   "execution_count": null,
   "outputs": [],
   "source": [
    "rmse_e = np.sqrt(np.mean(np.subtract(y_e, p_e)**2))\n",
    "rmse_f = np.sqrt(np.mean(np.subtract(y_f, p_f)**2))\n",
    "print(\"Energy RMSE:\", rmse_e, \"eV/atom\")\n",
    "print(\"Forces RMSE:\", rmse_f, \"eV/angstrom\")"
   ],
   "metadata": {
    "collapsed": false,
    "pycharm": {
     "name": "#%%\n",
     "is_executing": true
    }
   }
  },
  {
   "cell_type": "markdown",
   "source": [
    "# Arrange solution into pair-interaction potentials"
   ],
   "metadata": {
    "collapsed": false
   }
  },
  {
   "cell_type": "code",
   "execution_count": null,
   "outputs": [],
   "source": [
    "solutions_list = np.array_split(model.coefficients,\n",
    "                                np.cumsum(regularizer_sizes)[:-1])\n",
    "solutions = {element: value for element, value\n",
    "             in zip(chemical_system.element_list, solutions_list[-1])}\n",
    "for i, pair in enumerate(chemical_system.interactions_map[2]):\n",
    "    solutions[pair] = solutions_list[i]"
   ],
   "metadata": {
    "collapsed": false,
    "pycharm": {
     "name": "#%%\n",
     "is_executing": true
    }
   }
  },
  {
   "cell_type": "code",
   "execution_count": null,
   "outputs": [],
   "source": [
    "for key, value in solutions.items():\n",
    "    if isinstance(value, (float, np.floating)):\n",
    "        print(\"{0}: {1:.6f}\".format(key, value))\n",
    "    else:\n",
    "        print(\"{}: vector\".format(key), value.shape)"
   ],
   "metadata": {
    "collapsed": false,
    "pycharm": {
     "name": "#%%\n",
     "is_executing": true
    }
   }
  },
  {
   "cell_type": "markdown",
   "source": [
    "# Compute true Lennard-Jones potentials for reference"
   ],
   "metadata": {
    "collapsed": false,
    "pycharm": {
     "name": "#%% md\n"
    }
   }
  },
  {
   "cell_type": "code",
   "execution_count": null,
   "outputs": [],
   "source": [
    "plot_reference = False  # set to True to compute and plot.\n",
    "\n",
    "\n",
    "def get_lennard_jones(r_range, epsilon, sigma):\n",
    "    return 4 * epsilon * ((sigma/r_range)**12 - (sigma/r_range)**6)\n",
    "\n",
    "if plot_reference:\n",
    "    r_plot = np.linspace(2, 12, 1000)\n",
    "    yaa = get_lennard_jones(r_plot, 0.003705453303, 2.73) / 2\n",
    "    yab = get_lennard_jones(r_plot, 0.006323399148, 3.472) / 2\n",
    "    ybb = get_lennard_jones(r_plot, 0.02206037315, 3.92) / 2"
   ],
   "metadata": {
    "collapsed": false,
    "pycharm": {
     "name": "#%%\n",
     "is_executing": true
    }
   }
  },
  {
   "cell_type": "markdown",
   "source": [
    "# Plot results\n"
   ],
   "metadata": {
    "collapsed": false,
    "pycharm": {
     "name": "#%% md\n"
    }
   }
  },
  {
   "cell_type": "code",
   "execution_count": null,
   "outputs": [],
   "source": [
    "y_min = -0.015\n",
    "y_max = 0.03\n",
    "ENERGY_UNITS = \"eV/atom\"\n",
    "FORCE_UNITS = \"eV/$\\mathrm{\\AA}$\"\n",
    "\n",
    "fig = plt.figure(figsize=(7.48, 4), dpi=160, facecolor='white')\n",
    "gs = fig.add_gridspec(ncols=3, nrows=2,\n",
    "                      width_ratios=[1, 1, 1],\n",
    "                      height_ratios=[0.5, 1])\n",
    "\n",
    "for i, pair in enumerate(chemical_system.interactions_map[2]):\n",
    "    ax = fig.add_subplot(gs[0, i])\n",
    "    r_min = r_min_map[pair]\n",
    "    r_max = r_max_map[pair]\n",
    "    knot_sequence = representation.knots_map[pair]\n",
    "    coefficients = solutions[pair]\n",
    "    plotting.visualize_splines(coefficients,\n",
    "                               knot_sequence,\n",
    "                               ax=ax,\n",
    "                               s_min=y_min,\n",
    "                               s_max=y_max,\n",
    "                               linewidth=1)\n",
    "    ax.set_ylabel('B-Spline Value')\n",
    "    ax.set_xlabel('$\\mathrm{r_{ij}~~(\\AA)}$')\n",
    "    ax.set_title(pair)\n",
    "ax2 = fig.add_subplot(gs[1, 0])\n",
    "plotting.density_scatter(y_e, p_e, ax=ax2, units=ENERGY_UNITS, text_size=6, label_size=10)\n",
    "ax2.set_xlabel('Reference ({})'.format(ENERGY_UNITS))\n",
    "ax2.set_ylabel('Prediction ({})'.format(ENERGY_UNITS))\n",
    "\n",
    "ax3 = fig.add_subplot(gs[1, 1])\n",
    "plotting.density_scatter(y_f, p_f, ax=ax3, units=FORCE_UNITS,\n",
    "                         text_size=6, label_size=10)\n",
    "ax3.set_xlabel('Reference ({})'.format(FORCE_UNITS))\n",
    "ax3.set_ylabel('Prediction ({})'.format(FORCE_UNITS))\n",
    "\n",
    "ax2.set_title('Energy Predictions')\n",
    "ax3.set_title('Force Predictions')\n",
    "fig.subplots_adjust(left=0.1, right=0.99,\n",
    "                    bottom=0.15, top=0.94,\n",
    "                    wspace=0.6, hspace=0.6)\n",
    "if plot_reference:\n",
    "    fig.get_axes()[0].plot(r_plot, yaa, color='red', linewidth=2, linestyle=':')\n",
    "    fig.get_axes()[1].plot(r_plot, yab, color='red', linewidth=2, linestyle=':')\n",
    "    fig.get_axes()[2].plot(r_plot, ybb, color='red', linewidth=2, linestyle=':')\n",
    "fig.show()"
   ],
   "metadata": {
    "collapsed": false,
    "pycharm": {
     "name": "#%%\n",
     "is_executing": true
    }
   }
  },
  {
   "cell_type": "markdown",
   "source": [
    "# Export tabulated potentials"
   ],
   "metadata": {
    "collapsed": false,
    "pycharm": {
     "name": "#%% md\n"
    }
   }
  },
  {
   "cell_type": "code",
   "execution_count": null,
   "outputs": [],
   "source": [
    "table_list = []\n",
    "pair_list = chemical_system.interactions_map[2]\n",
    "for pair in pair_list:\n",
    "    text = lammps.export_tabulated_potential(representation.knots_map[pair],\n",
    "                                             solutions[pair],\n",
    "                                             pair,\n",
    "                                             filename=None)\n",
    "    table_list.append(text)\n",
    "combined_text = \"\\n\\n\\n\".join(table_list)\n",
    "print(combined_text)\n",
    "fname = os.path.join(example_directory, \"table_test\", \"Ne_Xe.table\")\n",
    "with open(fname, \"w\") as f:\n",
    "    f.write(combined_text)"
   ],
   "metadata": {
    "collapsed": false,
    "pycharm": {
     "name": "#%%\n",
     "is_executing": true
    }
   }
  }
 ],
 "metadata": {
  "kernelspec": {
   "display_name": "Python 3",
   "language": "python",
   "name": "python3"
  },
  "language_info": {
   "codemirror_mode": {
    "name": "ipython",
    "version": 2
   },
   "file_extension": ".py",
   "mimetype": "text/x-python",
   "name": "python",
   "nbconvert_exporter": "python",
   "pygments_lexer": "ipython2",
   "version": "2.7.6"
  }
 },
 "nbformat": 4,
 "nbformat_minor": 0
}