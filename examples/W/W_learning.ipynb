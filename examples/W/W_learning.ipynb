{
 "cells": [
  {
   "cell_type": "code",
   "execution_count": 1,
   "outputs": [],
   "source": [
    "import os\n",
    "from concurrent.futures import ProcessPoolExecutor\n",
    "\n",
    "import numpy as np\n",
    "import matplotlib.pyplot as plt\n",
    "\n",
    "import uf3\n",
    "from uf3.data.io import DataCoordinator\n",
    "from uf3.data.composition import ChemicalSystem\n",
    "from uf3.representation.bspline import BSplineConfig\n",
    "from uf3.representation.process import BasisProcessor\n",
    "from uf3.regression.least_squares import WeightedLinearModel\n",
    "\n",
    "from uf3.representation import distances\n",
    "from uf3.util import plotting\n",
    "from uf3.forcefield import calculator\n",
    "from uf3.forcefield import lammps\n",
    "\n",
    "\n",
    "pkg_directory = os.path.dirname(os.path.dirname(uf3.__file__))\n",
    "example_directory = os.path.join(pkg_directory, \"examples\", \"W\")\n",
    "filename = os.path.join(example_directory, \"w-14.xyz\")\n",
    "\n",
    "with open(os.path.join(example_directory, \"training_idx.txt\"), \"r\") as f:\n",
    "    training_indices = [int(idx) for idx in f.read().splitlines()]"
   ],
   "metadata": {
    "collapsed": false,
    "pycharm": {
     "name": "#%%\n"
    }
   }
  },
  {
   "cell_type": "markdown",
   "source": [
    "# User Parameters"
   ],
   "metadata": {
    "collapsed": false,
    "pycharm": {
     "name": "#%% md\n"
    }
   }
  },
  {
   "cell_type": "code",
   "execution_count": 2,
   "outputs": [],
   "source": [
    "n_jobs = 8                              # Maximum number of parallel processes\n",
    "\n",
    "element_list = [\"W\"]\n",
    "degree = 2                              # two-body interactions\n",
    "\n",
    "r_min_map = {('W', 'W'): 1.5,}        # minimum distance cutoff (angstroms)\n",
    "r_max_map = {('W', 'W'): 5.5,}        # maximum distance cutoff (angstroms)\n",
    "resolution_map = {('W', 'W'): 25}     # number of knot intervals\n",
    "\n",
    "regularization_params = dict(ridge_1b=1e-4,  # L2 (Ridge) regularization\n",
    "                             ridge_2b=1e-6,\n",
    "                             ridge_3b=1e-5,\n",
    "                             curve_2b=1e-5,  # Curvature regularization\n",
    "                             curve_3b=1e-4)\n",
    "# may be optimized through cross-validation and grid/random search."
   ],
   "metadata": {
    "collapsed": false,
    "pycharm": {
     "name": "#%%\n"
    }
   }
  },
  {
   "cell_type": "markdown",
   "source": [
    "# Initialize data coordinator and chemical system"
   ],
   "metadata": {
    "collapsed": false,
    "pycharm": {
     "name": "#%% md\n"
    }
   }
  },
  {
   "cell_type": "code",
   "execution_count": 3,
   "outputs": [],
   "source": [
    "\n",
    "data_coordinator = DataCoordinator()\n",
    "\n",
    "chemical_system = ChemicalSystem(element_list=element_list,\n",
    "                                 degree=degree)\n",
    "\n"
   ],
   "metadata": {
    "collapsed": false,
    "pycharm": {
     "name": "#%%\n"
    }
   }
  },
  {
   "cell_type": "markdown",
   "source": [
    "# Load data from LAMMPS run directory"
   ],
   "metadata": {
    "collapsed": false,
    "pycharm": {
     "name": "#%% md\n"
    }
   }
  },
  {
   "cell_type": "code",
   "execution_count": 4,
   "outputs": [
    {
     "name": "stdout",
     "output_type": "stream",
     "text": [
      "Number of energies: 9693\n",
      "Number of forces: 475578\n"
     ]
    }
   ],
   "source": [
    "data_coordinator.dataframe_from_trajectory(filename,\n",
    "                                           prefix='dft')\n",
    "\n",
    "df_data = data_coordinator.consolidate()\n",
    "print(\"Number of energies:\", len(df_data))\n",
    "print(\"Number of forces:\", int(np.sum(df_data[\"size\"]) * 3))"
   ],
   "metadata": {
    "collapsed": false,
    "pycharm": {
     "name": "#%%\n"
    }
   }
  },
  {
   "cell_type": "code",
   "execution_count": 5,
   "outputs": [
    {
     "data": {
      "text/plain": "                                    geometry   energy     fx     fy     fz  \\\ndft_0  (Atom('W', [0.0, 0.0, 0.0], index=0)) -11.1948  [0.0]  [0.0]  [0.0]   \ndft_1  (Atom('W', [0.0, 0.0, 0.0], index=0))  -11.127  [0.0]  [0.0]  [0.0]   \ndft_2  (Atom('W', [0.0, 0.0, 0.0], index=0)) -11.1333  [0.0]  [0.0]  [0.0]   \ndft_3  (Atom('W', [0.0, 0.0, 0.0], index=0)) -11.1396  [0.0]  [0.0]  [0.0]   \ndft_4  (Atom('W', [0.0, 0.0, 0.0], index=0))  -11.142  [0.0]  [0.0]  [0.0]   \n\n       size  \ndft_0   1.0  \ndft_1   1.0  \ndft_2   1.0  \ndft_3   1.0  \ndft_4   1.0  ",
      "text/html": "<div>\n<style scoped>\n    .dataframe tbody tr th:only-of-type {\n        vertical-align: middle;\n    }\n\n    .dataframe tbody tr th {\n        vertical-align: top;\n    }\n\n    .dataframe thead th {\n        text-align: right;\n    }\n</style>\n<table border=\"1\" class=\"dataframe\">\n  <thead>\n    <tr style=\"text-align: right;\">\n      <th></th>\n      <th>geometry</th>\n      <th>energy</th>\n      <th>fx</th>\n      <th>fy</th>\n      <th>fz</th>\n      <th>size</th>\n    </tr>\n  </thead>\n  <tbody>\n    <tr>\n      <th>dft_0</th>\n      <td>(Atom('W', [0.0, 0.0, 0.0], index=0))</td>\n      <td>-11.1948</td>\n      <td>[0.0]</td>\n      <td>[0.0]</td>\n      <td>[0.0]</td>\n      <td>1.0</td>\n    </tr>\n    <tr>\n      <th>dft_1</th>\n      <td>(Atom('W', [0.0, 0.0, 0.0], index=0))</td>\n      <td>-11.127</td>\n      <td>[0.0]</td>\n      <td>[0.0]</td>\n      <td>[0.0]</td>\n      <td>1.0</td>\n    </tr>\n    <tr>\n      <th>dft_2</th>\n      <td>(Atom('W', [0.0, 0.0, 0.0], index=0))</td>\n      <td>-11.1333</td>\n      <td>[0.0]</td>\n      <td>[0.0]</td>\n      <td>[0.0]</td>\n      <td>1.0</td>\n    </tr>\n    <tr>\n      <th>dft_3</th>\n      <td>(Atom('W', [0.0, 0.0, 0.0], index=0))</td>\n      <td>-11.1396</td>\n      <td>[0.0]</td>\n      <td>[0.0]</td>\n      <td>[0.0]</td>\n      <td>1.0</td>\n    </tr>\n    <tr>\n      <th>dft_4</th>\n      <td>(Atom('W', [0.0, 0.0, 0.0], index=0))</td>\n      <td>-11.142</td>\n      <td>[0.0]</td>\n      <td>[0.0]</td>\n      <td>[0.0]</td>\n      <td>1.0</td>\n    </tr>\n  </tbody>\n</table>\n</div>"
     },
     "execution_count": 5,
     "metadata": {},
     "output_type": "execute_result"
    }
   ],
   "source": [
    "df_data.head()\n"
   ],
   "metadata": {
    "collapsed": false,
    "pycharm": {
     "name": "#%%\n"
    }
   }
  },
  {
   "cell_type": "markdown",
   "source": [
    "# Visualize partial radial distribution functions\n",
    "### This can be a sanity check for specified interaction-specific cutoffs."
   ],
   "metadata": {
    "collapsed": false,
    "pycharm": {
     "name": "#%% md\n"
    }
   }
  },
  {
   "cell_type": "code",
   "execution_count": 6,
   "outputs": [
    {
     "name": "stdout",
     "output_type": "stream",
     "text": [
      "('W', 'W') Lower bound: 1.920 angstroms\n",
      "('W', 'W') Peaks (min width 0.2 angstroms): [5.22 6.9  9.42]\n"
     ]
    }
   ],
   "source": [
    "atoms_key = data_coordinator.atoms_key\n",
    "histogram_slice = np.random.choice(np.arange(len(df_data)),\n",
    "                                   min(1000, len(df_data)),\n",
    "                                   replace=False)\n",
    "df_slice = df_data[atoms_key].iloc[histogram_slice]\n",
    "histograms = distances.summarize_distances(df_slice,\n",
    "                                           chemical_system,\n",
    "                                           min_peak_width=0.2)"
   ],
   "metadata": {
    "collapsed": false,
    "pycharm": {
     "name": "#%%\n"
    }
   }
  },
  {
   "cell_type": "code",
   "execution_count": 7,
   "outputs": [
    {
     "data": {
      "text/plain": "<Figure size 144x144 with 1 Axes>",
      "image/png": "[encoded data removed]"
     },
     "metadata": {
      "needs_background": "light"
     },
     "output_type": "display_data"
    }
   ],
   "source": [
    "bar_width = histograms[1][1] - histograms[1][0]\n",
    "pairs = chemical_system.interactions_map[2]\n",
    "fig, ax = plt.subplots(1, len(pairs), figsize=(len(pairs)*2, 2))\n",
    "if not isinstance(ax, (list, np.ndarray)):\n",
    "    ax = [ax]\n",
    "for i, pair in enumerate(pairs):\n",
    "    ax[i].bar(histograms[1][:-1],\n",
    "              histograms[0][pair],\n",
    "              width=bar_width)\n",
    "    ax[i].set_title(pair)\n",
    "    ax[i].plot([0, 10], [1, 1], linestyle='--', color='k')\n",
    "    ax[i].set_xlim(0, 10)\n",
    "    ax[i].set_ylim(0, 4)\n",
    "fig.tight_layout()\n"
   ],
   "metadata": {
    "collapsed": false,
    "pycharm": {
     "name": "#%%\n"
    }
   }
  },
  {
   "cell_type": "markdown",
   "source": [
    "# Initialize representation, regularizer, and model\n"
   ],
   "metadata": {
    "collapsed": false,
    "pycharm": {
     "name": "#%% md\n"
    }
   }
  },
  {
   "cell_type": "code",
   "execution_count": 8,
   "outputs": [],
   "source": [
    "bspline_config = BSplineConfig(chemical_system,\n",
    "                               r_min_map=r_min_map,\n",
    "                               r_max_map=r_max_map,\n",
    "                               resolution_map=resolution_map)\n",
    "\n",
    "representation = BasisProcessor(chemical_system,\n",
    "                                bspline_config)\n",
    "\n",
    "regularizer = bspline_config.get_regularization_matrix(\n",
    "    **regularization_params)\n",
    "fixed = bspline_config.get_fixed_tuples(values=0,\n",
    "                                        one_body=False,\n",
    "                                        upper_bounds=True,\n",
    "                                        lower_bounds=False)\n",
    "\n",
    "model = WeightedLinearModel(regularizer=regularizer,\n",
    "                            fixed_tuples=fixed)\n",
    "\n",
    "client = ProcessPoolExecutor(max_workers=n_jobs)"
   ],
   "metadata": {
    "collapsed": false,
    "pycharm": {
     "name": "#%%\n"
    }
   }
  },
  {
   "cell_type": "markdown",
   "source": [
    "# Compute energy and force features using B-spline basis"
   ],
   "metadata": {
    "collapsed": false,
    "pycharm": {
     "name": "#%% md\n"
    }
   }
  },
  {
   "cell_type": "code",
   "execution_count": 9,
   "outputs": [
    {
     "name": "stderr",
     "output_type": "stream",
     "text": [
      "100%|██████████| 128/128 [03:57<00:00,  1.85s/it]\n"
     ]
    }
   ],
   "source": [
    "n_batches = 16  # added granularity for more progress bar updates (optional).\n",
    "df_features = representation.evaluate_parallel(df_data,\n",
    "                                               data_coordinator,\n",
    "                                               client,\n",
    "                                               n_jobs=n_jobs * n_batches)"
   ],
   "metadata": {
    "collapsed": false,
    "pycharm": {
     "name": "#%%\n"
    }
   }
  },
  {
   "cell_type": "code",
   "execution_count": 10,
   "outputs": [
    {
     "data": {
      "text/plain": "                        y  n_W  ij_0  ij_1  ij_2  ij_3      ij_4      ij_5  \\\ndft_9692 fz_130 -0.349308  0.0  -0.0  -0.0  -0.0  -0.0 -0.731638  0.254634   \n         fz_131  0.646192  0.0  -0.0  -0.0  -0.0  -0.0  1.338005 -1.887305   \n         fz_132 -1.066545  0.0  -0.0  -0.0  -0.0  -0.0 -0.967187  3.125920   \n         fz_133 -0.292102  0.0  -0.0  -0.0  -0.0  -0.0  0.036952 -0.725176   \n         fz_134  0.034134  0.0  -0.0  -0.0  -0.0  -0.0 -0.150155  0.699390   \n\n                     ij_6      ij_7  ...      ij_18     ij_19     ij_20  \\\ndft_9692 fz_130  2.235403 -1.658641  ...  -2.876218 -4.614733 -0.144898   \n         fz_131 -2.046937  7.370498  ...  12.229312  6.062230 -0.000000   \n         fz_132 -3.120550 -4.939810  ...  -0.800037 -5.154843 -8.518168   \n         fz_133  1.554497 -2.723459  ...  13.482874 -6.896420 -2.600800   \n         fz_134 -2.843854  3.818630  ...  -7.151680 -0.095159  2.358159   \n\n                     ij_21      ij_22      ij_23      ij_24      ij_25  \\\ndft_9692 fz_130  -7.735684  -8.188476  32.821889   3.515273 -20.063360   \n         fz_131   7.109473  18.085836 -20.974637 -35.492463  26.062205   \n         fz_132 -10.845399   7.725257  -3.355608  19.322530   9.590749   \n         fz_133  -9.357365  -7.500500  32.415906 -27.554759  10.292425   \n         fz_134  -8.780113   4.140042   9.197823  16.211898  -4.778954   \n\n                     ij_26      ij_27  \ndft_9692 fz_130 -17.206056  17.001312  \n         fz_131  -8.374839  13.584425  \n         fz_132   8.948012 -25.013561  \n         fz_133  50.156311 -48.320855  \n         fz_134  -4.877550 -10.847418  \n\n[5 rows x 30 columns]",
      "text/html": "<div>\n<style scoped>\n    .dataframe tbody tr th:only-of-type {\n        vertical-align: middle;\n    }\n\n    .dataframe tbody tr th {\n        vertical-align: top;\n    }\n\n    .dataframe thead th {\n        text-align: right;\n    }\n</style>\n<table border=\"1\" class=\"dataframe\">\n  <thead>\n    <tr style=\"text-align: right;\">\n      <th></th>\n      <th></th>\n      <th>y</th>\n      <th>n_W</th>\n      <th>ij_0</th>\n      <th>ij_1</th>\n      <th>ij_2</th>\n      <th>ij_3</th>\n      <th>ij_4</th>\n      <th>ij_5</th>\n      <th>ij_6</th>\n      <th>ij_7</th>\n      <th>...</th>\n      <th>ij_18</th>\n      <th>ij_19</th>\n      <th>ij_20</th>\n      <th>ij_21</th>\n      <th>ij_22</th>\n      <th>ij_23</th>\n      <th>ij_24</th>\n      <th>ij_25</th>\n      <th>ij_26</th>\n      <th>ij_27</th>\n    </tr>\n  </thead>\n  <tbody>\n    <tr>\n      <th rowspan=\"5\" valign=\"top\">dft_9692</th>\n      <th>fz_130</th>\n      <td>-0.349308</td>\n      <td>0.0</td>\n      <td>-0.0</td>\n      <td>-0.0</td>\n      <td>-0.0</td>\n      <td>-0.0</td>\n      <td>-0.731638</td>\n      <td>0.254634</td>\n      <td>2.235403</td>\n      <td>-1.658641</td>\n      <td>...</td>\n      <td>-2.876218</td>\n      <td>-4.614733</td>\n      <td>-0.144898</td>\n      <td>-7.735684</td>\n      <td>-8.188476</td>\n      <td>32.821889</td>\n      <td>3.515273</td>\n      <td>-20.063360</td>\n      <td>-17.206056</td>\n      <td>17.001312</td>\n    </tr>\n    <tr>\n      <th>fz_131</th>\n      <td>0.646192</td>\n      <td>0.0</td>\n      <td>-0.0</td>\n      <td>-0.0</td>\n      <td>-0.0</td>\n      <td>-0.0</td>\n      <td>1.338005</td>\n      <td>-1.887305</td>\n      <td>-2.046937</td>\n      <td>7.370498</td>\n      <td>...</td>\n      <td>12.229312</td>\n      <td>6.062230</td>\n      <td>-0.000000</td>\n      <td>7.109473</td>\n      <td>18.085836</td>\n      <td>-20.974637</td>\n      <td>-35.492463</td>\n      <td>26.062205</td>\n      <td>-8.374839</td>\n      <td>13.584425</td>\n    </tr>\n    <tr>\n      <th>fz_132</th>\n      <td>-1.066545</td>\n      <td>0.0</td>\n      <td>-0.0</td>\n      <td>-0.0</td>\n      <td>-0.0</td>\n      <td>-0.0</td>\n      <td>-0.967187</td>\n      <td>3.125920</td>\n      <td>-3.120550</td>\n      <td>-4.939810</td>\n      <td>...</td>\n      <td>-0.800037</td>\n      <td>-5.154843</td>\n      <td>-8.518168</td>\n      <td>-10.845399</td>\n      <td>7.725257</td>\n      <td>-3.355608</td>\n      <td>19.322530</td>\n      <td>9.590749</td>\n      <td>8.948012</td>\n      <td>-25.013561</td>\n    </tr>\n    <tr>\n      <th>fz_133</th>\n      <td>-0.292102</td>\n      <td>0.0</td>\n      <td>-0.0</td>\n      <td>-0.0</td>\n      <td>-0.0</td>\n      <td>-0.0</td>\n      <td>0.036952</td>\n      <td>-0.725176</td>\n      <td>1.554497</td>\n      <td>-2.723459</td>\n      <td>...</td>\n      <td>13.482874</td>\n      <td>-6.896420</td>\n      <td>-2.600800</td>\n      <td>-9.357365</td>\n      <td>-7.500500</td>\n      <td>32.415906</td>\n      <td>-27.554759</td>\n      <td>10.292425</td>\n      <td>50.156311</td>\n      <td>-48.320855</td>\n    </tr>\n    <tr>\n      <th>fz_134</th>\n      <td>0.034134</td>\n      <td>0.0</td>\n      <td>-0.0</td>\n      <td>-0.0</td>\n      <td>-0.0</td>\n      <td>-0.0</td>\n      <td>-0.150155</td>\n      <td>0.699390</td>\n      <td>-2.843854</td>\n      <td>3.818630</td>\n      <td>...</td>\n      <td>-7.151680</td>\n      <td>-0.095159</td>\n      <td>2.358159</td>\n      <td>-8.780113</td>\n      <td>4.140042</td>\n      <td>9.197823</td>\n      <td>16.211898</td>\n      <td>-4.778954</td>\n      <td>-4.877550</td>\n      <td>-10.847418</td>\n    </tr>\n  </tbody>\n</table>\n<p>5 rows × 30 columns</p>\n</div>"
     },
     "execution_count": 10,
     "metadata": {},
     "output_type": "execute_result"
    }
   ],
   "source": [
    "df_features.tail()"
   ],
   "metadata": {
    "collapsed": false,
    "pycharm": {
     "name": "#%%\n"
    }
   }
  },
  {
   "cell_type": "markdown",
   "source": [
    "# Fit with 20% of the data, using preset training set\n",
    "### Weighing energies and forces with kappa = 0.8"
   ],
   "metadata": {
    "collapsed": false,
    "pycharm": {
     "name": "#%% md\n"
    }
   }
  },
  {
   "cell_type": "code",
   "execution_count": 11,
   "outputs": [],
   "source": [
    "kappa = 0.8  # energy-force weighting parameter between 0 and 1.\n",
    "\n",
    "training_keys = np.take(df_data.index, training_indices)\n",
    "testing_indices = np.setdiff1d(np.arange(len(df_data), dtype=int), training_indices)\n",
    "testing_keys = np.take(df_data.index, testing_indices)\n",
    "\n",
    "df_train = df_features.loc[training_keys]\n",
    "df_test = df_features.loc[testing_keys]\n",
    "x, y, w = representation.get_training_tuples(df_train,\n",
    "                                             kappa,\n",
    "                                             data_coordinator)"
   ],
   "metadata": {
    "collapsed": false,
    "pycharm": {
     "name": "#%%\n"
    }
   }
  },
  {
   "cell_type": "code",
   "execution_count": 12,
   "outputs": [],
   "source": [
    "model.fit(x, y, weights=w)"
   ],
   "metadata": {
    "collapsed": false,
    "pycharm": {
     "name": "#%%\n"
    }
   }
  },
  {
   "cell_type": "markdown",
   "source": [
    "# Evaluate Energy and Forces with model"
   ],
   "metadata": {
    "collapsed": false,
    "pycharm": {
     "name": "#%% md\n"
    }
   }
  },
  {
   "cell_type": "code",
   "execution_count": 13,
   "outputs": [],
   "source": [
    "# Evaluate\n",
    "x_test, y_test, w_cond = representation.get_training_tuples(df_test,\n",
    "                                                            0,\n",
    "                                                            data_coordinator)\n",
    "# slice entries corresponding to energies per atom\n",
    "s_e = df_data.loc[testing_keys][data_coordinator.size_key]\n",
    "x_e = np.divide(x_test[w_cond == 0].T, s_e.values).T\n",
    "y_e = y_test[w_cond == 0] / s_e.values\n",
    "# slice entries corresponding to forces\n",
    "x_f = x_test[w_cond > 0]\n",
    "y_f = y_test[w_cond > 0]\n",
    "# predict with solution\n",
    "p_e = model.predict(x_e)  # energy per atom\n",
    "p_f = model.predict(x_f)"
   ],
   "metadata": {
    "collapsed": false,
    "pycharm": {
     "name": "#%%\n"
    }
   }
  },
  {
   "cell_type": "markdown",
   "source": [
    "# Compute root-mean-square error"
   ],
   "metadata": {
    "collapsed": false,
    "pycharm": {
     "name": "#%% md\n"
    }
   }
  },
  {
   "cell_type": "code",
   "execution_count": 14,
   "outputs": [
    {
     "name": "stdout",
     "output_type": "stream",
     "text": [
      "Energy RMSE: 0.027309775522095257 eV/atom\n",
      "Forces RMSE: 0.3047559604838533 eV/angstrom\n"
     ]
    }
   ],
   "source": [
    "rmse_e = np.sqrt(np.mean(np.subtract(y_e, p_e)**2))\n",
    "rmse_f = np.sqrt(np.mean(np.subtract(y_f, p_f)**2))\n",
    "print(\"Energy RMSE:\", rmse_e, \"eV/atom\")\n",
    "print(\"Forces RMSE:\", rmse_f, \"eV/angstrom\")"
   ],
   "metadata": {
    "collapsed": false,
    "pycharm": {
     "name": "#%%\n"
    }
   }
  },
  {
   "cell_type": "markdown",
   "source": [
    "# Arrange solution into pair-interaction potentials"
   ],
   "metadata": {
    "collapsed": false
   }
  },
  {
   "cell_type": "code",
   "execution_count": 15,
   "outputs": [],
   "source": [
    "split_indices = np.cumsum(bspline_config.partition_sizes)[:-1]\n",
    "solutions_list = np.array_split(model.coefficients,\n",
    "                                split_indices)\n",
    "solutions = {element: value for element, value\n",
    "             in zip(chemical_system.element_list, solutions_list[0])}\n",
    "for i, pair in enumerate(chemical_system.interactions_map[2]):\n",
    "    solutions[pair] = solutions_list[i + 1]"
   ],
   "metadata": {
    "collapsed": false,
    "pycharm": {
     "name": "#%%\n"
    }
   }
  },
  {
   "cell_type": "code",
   "execution_count": 16,
   "outputs": [
    {
     "name": "stdout",
     "output_type": "stream",
     "text": [
      "W: -7.715771\n",
      "('W', 'W'): vector (28,)\n"
     ]
    }
   ],
   "source": [
    "for key, value in solutions.items():\n",
    "    if isinstance(value, (float, np.floating)):\n",
    "        print(\"{0}: {1:.6f}\".format(key, value))\n",
    "    else:\n",
    "        print(\"{}: vector\".format(key), value.shape)"
   ],
   "metadata": {
    "collapsed": false,
    "pycharm": {
     "name": "#%%\n"
    }
   }
  },
  {
   "cell_type": "markdown",
   "source": [
    "# Plot results\n"
   ],
   "metadata": {
    "collapsed": false,
    "pycharm": {
     "name": "#%% md\n"
    }
   }
  },
  {
   "cell_type": "code",
   "execution_count": 17,
   "outputs": [
    {
     "name": "stderr",
     "output_type": "stream",
     "text": [
      "<ipython-input-17-ddf32d05ffd1>:42: UserWarning: Matplotlib is currently using module://ipykernel.pylab.backend_inline, which is a non-GUI backend, so cannot show the figure.\n",
      "  fig.show()\n"
     ]
    },
    {
     "data": {
      "text/plain": "<Figure size 1196.8x640 with 3 Axes>",
      "image/png": "[encoded data removed]"
     },
     "metadata": {},
     "output_type": "display_data"
    }
   ],
   "source": [
    "y_min = -1\n",
    "y_max = 2\n",
    "ENERGY_UNITS = \"eV/atom\"\n",
    "FORCE_UNITS = \"eV/$\\mathrm{\\AA}$\"\n",
    "\n",
    "fig = plt.figure(figsize=(7.48, 4), dpi=160, facecolor='white')\n",
    "gs = fig.add_gridspec(ncols=3, nrows=2,\n",
    "                      width_ratios=[1, 1, 1],\n",
    "                      height_ratios=[0.5, 1])\n",
    "\n",
    "for i, pair in enumerate(chemical_system.interactions_map[2]):\n",
    "    ax = fig.add_subplot(gs[0, i])\n",
    "    r_min = r_min_map[pair]\n",
    "    r_max = r_max_map[pair]\n",
    "    knot_sequence = representation.knots_map[pair]\n",
    "    coefficients = solutions[pair]\n",
    "    plotting.visualize_splines(coefficients,\n",
    "                               knot_sequence,\n",
    "                               ax=ax,\n",
    "                               s_min=y_min,\n",
    "                               s_max=y_max,\n",
    "                               linewidth=1)\n",
    "    ax.set_ylabel('B-Spline Value')\n",
    "    ax.set_xlabel('$\\mathrm{r_{ij}~~(\\AA)}$')\n",
    "    ax.set_title(pair)\n",
    "ax2 = fig.add_subplot(gs[1, 0])\n",
    "plotting.density_scatter(y_e, p_e, ax=ax2, units=ENERGY_UNITS, text_size=6, label_size=10)\n",
    "ax2.set_xlabel('Reference ({})'.format(ENERGY_UNITS))\n",
    "ax2.set_ylabel('Prediction ({})'.format(ENERGY_UNITS))\n",
    "\n",
    "ax3 = fig.add_subplot(gs[1, 1])\n",
    "plotting.density_scatter(y_f, p_f, ax=ax3, units=FORCE_UNITS,\n",
    "                         text_size=6, label_size=10)\n",
    "ax3.set_xlabel('Reference ({})'.format(FORCE_UNITS))\n",
    "ax3.set_ylabel('Prediction ({})'.format(FORCE_UNITS))\n",
    "\n",
    "ax2.set_title('Energy Predictions')\n",
    "ax3.set_title('Force Predictions')\n",
    "fig.subplots_adjust(left=0.1, right=0.99,\n",
    "                    bottom=0.15, top=0.94,\n",
    "                    wspace=0.6, hspace=0.6)\n",
    "fig.show()\n"
   ],
   "metadata": {
    "collapsed": false,
    "pycharm": {
     "name": "#%%\n"
    }
   }
  },
  {
   "cell_type": "markdown",
   "source": [
    "# Export tabulated potentials"
   ],
   "metadata": {
    "collapsed": false,
    "pycharm": {
     "name": "#%% md\n"
    }
   }
  },
  {
   "cell_type": "code",
   "execution_count": 27,
   "outputs": [
    {
     "name": "stdout",
     "output_type": "stream",
     "text": [
      "# DATE: 02/18/2021  UNITS: metal  CONTRIBUTOR: \n",
      "# Ultra-Fast Force Field for W-W\n",
      "\n",
      "UF_W-W\n",
      "N 1000\n",
      "\n",
      "1 1.500000 18.381131 34.838163    # c0=9.1905654129 c1=7.2410451950\n",
      "2 1.504004 18.241279 35.016988    # c2=2.8597148903\n",
      "3 1.508008 18.100723 35.189363    # c3=0.7265224561\n",
      "4 1.512012 17.959490 35.355288    # c4=0.0064132555\n",
      "5 1.516016 17.817606 35.514762    # c5=-0.2087785671\n",
      "6 1.520020 17.675097 35.667787    # c6=-0.2733898128\n",
      "7 1.524024 17.531987 35.814361    # c7=-0.2780834197\n",
      "8 1.528028 17.388303 35.954485    # c8=-0.2467649739\n",
      "9 1.532032 17.244072 36.088159    # c9=-0.1705556244\n",
      "10 1.536036 17.099318 36.215383    # c10=-0.0982268009\n",
      "11 1.540040 16.954067 36.336157    # c11=-0.0396019320\n",
      "12 1.544044 16.808346 36.450481    # c12=-0.0045970725\n",
      "13 1.548048 16.662180 36.558354    # c13=0.0057264502\n",
      "14 1.552052 16.515595 36.659778    # c14=0.0058788096\n",
      "15 1.556056 16.368617 36.754751    # c15=0.0005227658\n",
      "16 1.560060 16.221271 36.843274    # c16=-0.0019940797\n",
      "17 1.564064 16.073584 36.925347    # c17=-0.0004057499\n",
      "18 1.568068 15.925582 37.000970    # c18=0.0035095553\n",
      "19 1.572072 15.777289 37.070143    # c19=0.0086122189\n",
      "20 1.576076 15.628732 37.132865    # c20=0.0092212273\n",
      "21 1.580080 15.479937 37.189138    # c21=0.0051812234\n",
      "22 1.584084 15.330930 37.238960    # c22=0.0007475377\n",
      "23 1.588088 15.181736 37.282332    # c23=-0.0003442179\n",
      "24 1.592092 15.032381 37.319254    # c24=-0.0010257074\n",
      "25 1.596096 14.882892 37.349726    # c25=-0.0006881284\n",
      "26 1.600100 14.733293 37.373748    # c26=-0.0003192510\n",
      "27 1.604104 14.583611 37.391320    # c27=0.0000000000\n",
      "28 1.608108 14.433872 37.402441    #\n",
      "29 1.612112 14.284101 37.407112    #\n",
      "30 1.616116 14.134324 37.405334    #\n",
      "31 1.620120 13.984567 37.397105    #\n",
      "32 1.624124 13.834856 37.382426    #\n",
      "33 1.628128 13.685217 37.361296    #\n",
      "34 1.632132 13.535675 37.333717    #\n",
      "35 1.636136 13.386257 37.299687    #\n",
      "36 1.640140 13.236988 37.259208    #\n",
      "37 1.644144 13.087893 37.212278    #\n",
      "38 1.648148 12.939000 37.158898    #\n",
      "39 1.652152 12.790333 37.099068    #\n",
      "40 1.656156 12.641919 37.032788    #\n",
      "41 1.660160 12.493783 36.960058    #\n",
      "42 1.664164 12.345951 36.880877    #\n",
      "43 1.668168 12.198449 36.795247    #\n",
      "44 1.672172 12.051303 36.703166    #\n",
      "45 1.676176 11.904539 36.604635    #\n",
      "46 1.680180 11.758181 36.499654    #\n",
      "47 1.684184 11.612258 36.388223    #\n",
      "48 1.688188 11.466793 36.270342    #\n",
      "49 1.692192 11.321813 36.146010    #\n",
      "50 1.696196 11.177344 36.015229    #\n",
      "51 1.700200 11.033411 35.877997    #\n",
      "52 1.704204 10.890041 35.734315    #\n",
      "53 1.708208 10.747259 35.584183    #\n",
      "54 1.712212 10.605091 35.427601    #\n",
      "55 1.716216 10.463563 35.264569    #\n",
      "56 1.720220 10.322701 35.095086    #\n",
      "57 1.724224 10.182530 34.919154    #\n",
      "58 1.728228 10.043077 34.736771    #\n",
      "59 1.732232 9.904367 34.547938    #\n",
      "60 1.736236 9.766425 34.352655    #\n",
      "61 1.740240 9.629279 34.150922    #\n",
      "62 1.744244 9.492953 33.942739    #\n",
      "63 1.748248 9.357474 33.728106    #\n",
      "64 1.752252 9.222867 33.507022    #\n",
      "65 1.756256 9.089158 33.279488    #\n",
      "66 1.760260 8.956373 33.045505    #\n",
      "67 1.764264 8.824538 32.805071    #\n",
      "68 1.768268 8.693678 32.558187    #\n",
      "69 1.772272 8.563820 32.304852    #\n",
      "70 1.776276 8.434989 32.045068    #\n",
      "71 1.780280 8.307212 31.778834    #\n",
      "72 1.784284 8.180513 31.506149    #\n",
      "73 1.788288 8.054919 31.227014    #\n",
      "74 1.792292 7.930455 30.941429    #\n",
      "75 1.796296 7.807148 30.649394    #\n",
      "76 1.800300 7.685023 30.350909    #\n",
      "77 1.804304 7.564106 30.045974    #\n",
      "78 1.808308 7.444423 29.734589    #\n",
      "79 1.812312 7.326000 29.416753    #\n",
      "80 1.816316 7.208862 29.092467    #\n",
      "81 1.820320 7.093036 28.761731    #\n",
      "82 1.824324 6.978547 28.424545    #\n",
      "83 1.828328 6.865421 28.080909    #\n",
      "84 1.832332 6.753683 27.730823    #\n",
      "85 1.836336 6.643361 27.374388    #\n",
      "86 1.840340 6.534469 27.017594    #\n",
      "87 1.844344 6.426999 26.663953    #\n",
      "88 1.848348 6.320939 26.313463    #\n",
      "89 1.852352 6.216277 25.966126    #\n",
      "90 1.856356 6.112998 25.621941    #\n",
      "91 1.860360 6.011092 25.280909    #\n",
      "92 1.864364 5.910544 24.943028    #\n",
      "93 1.868368 5.811344 24.608300    #\n",
      "94 1.872372 5.713477 24.276723    #\n",
      "95 1.876376 5.616931 23.948299    #\n",
      "96 1.880380 5.521694 23.623027    #\n",
      "97 1.884384 5.427754 23.300908    #\n",
      "98 1.888388 5.335096 22.981940    #\n",
      "99 1.892392 5.243710 22.666125    #\n",
      "100 1.896396 5.153582 22.353462    #\n",
      "101 1.900400 5.064699 22.043950    #\n",
      "102 1.904404 4.977049 21.737592    #\n",
      "103 1.908408 4.890620 21.434385    #\n",
      "104 1.912412 4.805398 21.134330    #\n",
      "105 1.916416 4.721372 20.837428    #\n",
      "106 1.920420 4.638528 20.543678    #\n",
      "107 1.924424 4.556854 20.253080    #\n",
      "108 1.928428 4.476337 19.965634    #\n",
      "109 1.932432 4.396965 19.681340    #\n",
      "110 1.936436 4.318724 19.400199    #\n",
      "111 1.940440 4.241603 19.122209    #\n",
      "112 1.944444 4.165589 18.847372    #\n",
      "113 1.948448 4.090669 18.575687    #\n",
      "114 1.952452 4.016831 18.307154    #\n",
      "115 1.956456 3.944061 18.041773    #\n",
      "116 1.960460 3.872348 17.779545    #\n",
      "117 1.964464 3.801678 17.520469    #\n",
      "118 1.968468 3.732040 17.264544    #\n",
      "119 1.972472 3.663419 17.011772    #\n",
      "120 1.976476 3.595805 16.762152    #\n",
      "121 1.980480 3.529184 16.515685    #\n",
      "122 1.984484 3.463543 16.272369    #\n",
      "123 1.988488 3.398870 16.032206    #\n",
      "124 1.992492 3.335153 15.795195    #\n",
      "125 1.996496 3.272378 15.561336    #\n",
      "126 2.000501 3.210533 15.330629    #\n",
      "127 2.004505 3.149606 15.103074    #\n",
      "128 2.008509 3.089584 14.878672    #\n",
      "129 2.012513 3.030453 14.657421    #\n",
      "130 2.016517 2.972203 14.439323    #\n",
      "131 2.020521 2.914819 14.224377    #\n",
      "132 2.024525 2.858289 14.012583    #\n",
      "133 2.028529 2.802602 13.803942    #\n",
      "134 2.032533 2.747743 13.598452    #\n",
      "135 2.036537 2.693701 13.396115    #\n",
      "136 2.040541 2.640463 13.196930    #\n",
      "137 2.044545 2.588016 13.000897    #\n",
      "138 2.048549 2.536347 12.808016    #\n",
      "139 2.052553 2.485445 12.618287    #\n",
      "140 2.056557 2.435296 12.431711    #\n",
      "141 2.060561 2.385887 12.248287    #\n",
      "142 2.064565 2.337207 12.068014    #\n",
      "143 2.068569 2.289242 11.890894    #\n",
      "144 2.072573 2.241981 11.716927    #\n",
      "145 2.076577 2.195409 11.546111    #\n",
      "146 2.080581 2.149515 11.378448    #\n",
      "147 2.084585 2.104286 11.213936    #\n",
      "148 2.088589 2.059710 11.052577    #\n",
      "149 2.092593 2.015773 10.894370    #\n",
      "150 2.096597 1.972463 10.739315    #\n",
      "151 2.100601 1.929768 10.587413    #\n",
      "152 2.104605 1.887675 10.438662    #\n",
      "153 2.108609 1.846171 10.293064    #\n",
      "154 2.112613 1.805244 10.150618    #\n",
      "155 2.116617 1.764880 10.011324    #\n",
      "156 2.120621 1.725069 9.875010    #\n",
      "157 2.124625 1.685800 9.740191    #\n",
      "158 2.128629 1.647068 9.606523    #\n",
      "159 2.132633 1.608869 9.474006    #\n",
      "160 2.136637 1.571198 9.342640    #\n",
      "161 2.140641 1.534051 9.212425    #\n",
      "162 2.144645 1.497424 9.083361    #\n",
      "163 2.148649 1.461310 8.955448    #\n",
      "164 2.152653 1.425707 8.828686    #\n",
      "165 2.156657 1.390609 8.703076    #\n",
      "166 2.160661 1.356011 8.578616    #\n",
      "167 2.164665 1.321909 8.455307    #\n",
      "168 2.168669 1.288299 8.333149    #\n",
      "169 2.172673 1.255176 8.212142    #\n",
      "170 2.176677 1.222535 8.092287    #\n",
      "171 2.180681 1.190371 7.973582    #\n",
      "172 2.184685 1.158681 7.856029    #\n",
      "173 2.188689 1.127459 7.739626    #\n",
      "174 2.192693 1.096700 7.624374    #\n",
      "175 2.196697 1.066401 7.510274    #\n",
      "176 2.200701 1.036556 7.397324    #\n",
      "177 2.204705 1.007162 7.285526    #\n",
      "178 2.208709 0.978212 7.174879    #\n",
      "179 2.212713 0.949704 7.065382    #\n",
      "180 2.216717 0.921631 6.957037    #\n",
      "181 2.220721 0.893990 6.849843    #\n",
      "182 2.224725 0.866776 6.743799    #\n",
      "183 2.228729 0.839984 6.638907    #\n",
      "184 2.232733 0.813610 6.535166    #\n",
      "185 2.236737 0.787649 6.432576    #\n",
      "186 2.240741 0.762096 6.331137    #\n",
      "187 2.244745 0.736948 6.230849    #\n",
      "188 2.248749 0.712198 6.131712    #\n",
      "189 2.252753 0.687843 6.033725    #\n",
      "190 2.256757 0.663878 5.936890    #\n",
      "191 2.260761 0.640299 5.841207    #\n",
      "192 2.264765 0.617100 5.746674    #\n",
      "193 2.268769 0.594278 5.653292    #\n",
      "194 2.272773 0.571827 5.561061    #\n",
      "195 2.276777 0.549744 5.469981    #\n",
      "196 2.280781 0.528022 5.380052    #\n",
      "197 2.284785 0.506659 5.291275    #\n",
      "198 2.288789 0.485648 5.203648    #\n",
      "199 2.292793 0.464986 5.117172    #\n",
      "200 2.296797 0.444668 5.031848    #\n",
      "201 2.300801 0.424690 4.947674    #\n",
      "202 2.304805 0.405046 4.864651    #\n",
      "203 2.308809 0.385732 4.782780    #\n",
      "204 2.312813 0.366744 4.702059    #\n",
      "205 2.316817 0.348076 4.622490    #\n",
      "206 2.320821 0.329725 4.544071    #\n",
      "207 2.324825 0.311686 4.466804    #\n",
      "208 2.328829 0.293953 4.390688    #\n",
      "209 2.332833 0.276523 4.315722    #\n",
      "210 2.336837 0.259391 4.241908    #\n",
      "211 2.340841 0.242553 4.169245    #\n",
      "212 2.344845 0.226003 4.097733    #\n",
      "213 2.348849 0.209736 4.027371    #\n",
      "214 2.352853 0.193750 3.958161    #\n",
      "215 2.356857 0.178038 3.890102    #\n",
      "216 2.360861 0.162596 3.823194    #\n",
      "217 2.364865 0.147420 3.757437    #\n",
      "218 2.368869 0.132505 3.692829    #\n",
      "219 2.372873 0.117847 3.629124    #\n",
      "220 2.376877 0.103442 3.566140    #\n",
      "221 2.380881 0.089288 3.503875    #\n",
      "222 2.384885 0.075382 3.442332    #\n",
      "223 2.388889 0.061721 3.381509    #\n",
      "224 2.392893 0.048302 3.321406    #\n",
      "225 2.396897 0.035122 3.262024    #\n",
      "226 2.400901 0.022179 3.203362    #\n",
      "227 2.404905 0.009469 3.145421    #\n",
      "228 2.408909 -0.003011 3.088201    #\n",
      "229 2.412913 -0.015263 3.031701    #\n",
      "230 2.416917 -0.027290 2.975921    #\n",
      "231 2.420921 -0.039095 2.920862    #\n",
      "232 2.424925 -0.050681 2.866524    #\n",
      "233 2.428929 -0.062051 2.812906    #\n",
      "234 2.432933 -0.073208 2.760009    #\n",
      "235 2.436937 -0.084154 2.707832    #\n",
      "236 2.440941 -0.094893 2.656375    #\n",
      "237 2.444945 -0.105427 2.605639    #\n",
      "238 2.448949 -0.115760 2.555624    #\n",
      "239 2.452953 -0.125894 2.506329    #\n",
      "240 2.456957 -0.135832 2.457755    #\n",
      "241 2.460961 -0.145576 2.409901    #\n",
      "242 2.464965 -0.155131 2.362768    #\n",
      "243 2.468969 -0.164498 2.316355    #\n",
      "244 2.472973 -0.173681 2.270663    #\n",
      "245 2.476977 -0.182683 2.225691    #\n",
      "246 2.480981 -0.191506 2.181440    #\n",
      "247 2.484985 -0.200153 2.137909    #\n",
      "248 2.488989 -0.208627 2.095099    #\n",
      "249 2.492993 -0.216931 2.053009    #\n",
      "250 2.496997 -0.225068 2.011640    #\n",
      "251 2.501001 -0.233041 1.970992    #\n",
      "252 2.505005 -0.240853 1.931064    #\n",
      "253 2.509009 -0.248506 1.891856    #\n",
      "254 2.513013 -0.256004 1.853369    #\n",
      "255 2.517017 -0.263349 1.815602    #\n",
      "256 2.521021 -0.270544 1.778556    #\n",
      "257 2.525025 -0.277593 1.742231    #\n",
      "258 2.529029 -0.284497 1.706626    #\n",
      "259 2.533033 -0.291260 1.671741    #\n",
      "260 2.537037 -0.297885 1.637577    #\n",
      "261 2.541041 -0.304375 1.604134    #\n",
      "262 2.545045 -0.310732 1.571411    #\n",
      "263 2.549049 -0.316960 1.539409    #\n",
      "264 2.553053 -0.323061 1.508127    #\n",
      "265 2.557057 -0.329038 1.477565    #\n",
      "266 2.561061 -0.334894 1.447724    #\n",
      "267 2.565065 -0.340632 1.418604    #\n",
      "268 2.569069 -0.346255 1.390204    #\n",
      "269 2.573073 -0.351766 1.362525    #\n",
      "270 2.577077 -0.357167 1.335566    #\n",
      "271 2.581081 -0.362462 1.309328    #\n",
      "272 2.585085 -0.367654 1.283810    #\n",
      "273 2.589089 -0.372744 1.259013    #\n",
      "274 2.593093 -0.377737 1.234936    #\n",
      "275 2.597097 -0.382634 1.211455    #\n",
      "276 2.601101 -0.387438 1.188226    #\n",
      "277 2.605105 -0.392150 1.165232    #\n",
      "278 2.609109 -0.396770 1.142471    #\n",
      "279 2.613113 -0.401299 1.119943    #\n",
      "280 2.617117 -0.405739 1.097650    #\n",
      "281 2.621121 -0.410089 1.075590    #\n",
      "282 2.625125 -0.414352 1.053764    #\n",
      "283 2.629129 -0.418528 1.032171    #\n",
      "284 2.633133 -0.422618 1.010812    #\n",
      "285 2.637137 -0.426623 0.989687    #\n",
      "286 2.641141 -0.430544 0.968796    #\n",
      "287 2.645145 -0.434382 0.948138    #\n",
      "288 2.649149 -0.438137 0.927714    #\n",
      "289 2.653153 -0.441811 0.907524    #\n",
      "290 2.657157 -0.445405 0.887567    #\n",
      "291 2.661161 -0.448919 0.867844    #\n",
      "292 2.665165 -0.452355 0.848355    #\n",
      "293 2.669169 -0.455713 0.829099    #\n",
      "294 2.673173 -0.458995 0.810077    #\n",
      "295 2.677177 -0.462200 0.791289    #\n",
      "296 2.681181 -0.465331 0.772734    #\n",
      "297 2.685185 -0.468389 0.754413    #\n",
      "298 2.689189 -0.471373 0.736326    #\n",
      "299 2.693193 -0.474286 0.718473    #\n",
      "300 2.697197 -0.477127 0.700853    #\n",
      "301 2.701201 -0.479898 0.683467    #\n",
      "302 2.705205 -0.482601 0.666314    #\n",
      "303 2.709209 -0.485234 0.649396    #\n",
      "304 2.713213 -0.487801 0.632711    #\n",
      "305 2.717217 -0.490302 0.616259    #\n",
      "306 2.721221 -0.492737 0.600042    #\n",
      "307 2.725225 -0.495107 0.584058    #\n",
      "308 2.729229 -0.497414 0.568308    #\n",
      "309 2.733233 -0.499658 0.552791    #\n",
      "310 2.737237 -0.501841 0.537508    #\n",
      "311 2.741241 -0.503963 0.522459    #\n",
      "312 2.745245 -0.506025 0.507644    #\n",
      "313 2.749249 -0.508029 0.493062    #\n",
      "314 2.753253 -0.509974 0.478714    #\n",
      "315 2.757257 -0.511862 0.464599    #\n",
      "316 2.761261 -0.513695 0.450719    #\n",
      "317 2.765265 -0.515472 0.437072    #\n",
      "318 2.769269 -0.517195 0.423658    #\n",
      "319 2.773273 -0.518865 0.410479    #\n",
      "320 2.777277 -0.520483 0.397533    #\n",
      "321 2.781281 -0.522049 0.384820    #\n",
      "322 2.785285 -0.523565 0.372342    #\n",
      "323 2.789289 -0.525031 0.360097    #\n",
      "324 2.793293 -0.526449 0.348086    #\n",
      "325 2.797297 -0.527819 0.336308    #\n",
      "326 2.801301 -0.529142 0.324765    #\n",
      "327 2.805305 -0.530420 0.313388    #\n",
      "328 2.809309 -0.531652 0.302076    #\n",
      "329 2.813313 -0.532839 0.290826    #\n",
      "330 2.817317 -0.533981 0.279638    #\n",
      "331 2.821321 -0.535078 0.268513    #\n",
      "332 2.825325 -0.536131 0.257450    #\n",
      "333 2.829329 -0.537140 0.246450    #\n",
      "334 2.833333 -0.538105 0.235512    #\n",
      "335 2.837337 -0.539026 0.224637    #\n",
      "336 2.841341 -0.539904 0.213824    #\n",
      "337 2.845345 -0.540738 0.203074    #\n",
      "338 2.849349 -0.541530 0.192386    #\n",
      "339 2.853353 -0.542279 0.181760    #\n",
      "340 2.857357 -0.542986 0.171197    #\n",
      "341 2.861361 -0.543650 0.160697    #\n",
      "342 2.865365 -0.544273 0.150259    #\n",
      "343 2.869369 -0.544853 0.139883    #\n",
      "344 2.873373 -0.545393 0.129570    #\n",
      "345 2.877377 -0.545891 0.119320    #\n",
      "346 2.881381 -0.546348 0.109131    #\n",
      "347 2.885385 -0.546765 0.099006    #\n",
      "348 2.889389 -0.547141 0.088942    #\n",
      "349 2.893393 -0.547477 0.078942    #\n",
      "350 2.897397 -0.547774 0.069003    #\n",
      "351 2.901401 -0.548030 0.059127    #\n",
      "352 2.905405 -0.548247 0.049314    #\n",
      "353 2.909409 -0.548425 0.039563    #\n",
      "354 2.913413 -0.548564 0.029875    #\n",
      "355 2.917417 -0.548664 0.020249    #\n",
      "356 2.921421 -0.548726 0.010685    #\n",
      "357 2.925425 -0.548750 0.001184    #\n",
      "358 2.929429 -0.548736 -0.008255    #\n",
      "359 2.933433 -0.548684 -0.017631    #\n",
      "360 2.937437 -0.548595 -0.026944    #\n",
      "361 2.941441 -0.548468 -0.036196    #\n",
      "362 2.945445 -0.548305 -0.045384    #\n",
      "363 2.949449 -0.548105 -0.054511    #\n",
      "364 2.953453 -0.547869 -0.063574    #\n",
      "365 2.957457 -0.547596 -0.072576    #\n",
      "366 2.961461 -0.547287 -0.081515    #\n",
      "367 2.965465 -0.546943 -0.090391    #\n",
      "368 2.969469 -0.546564 -0.099205    #\n",
      "369 2.973473 -0.546149 -0.107956    #\n",
      "370 2.977477 -0.545699 -0.116645    #\n",
      "371 2.981481 -0.545215 -0.125272    #\n",
      "372 2.985485 -0.544696 -0.133836    #\n",
      "373 2.989489 -0.544143 -0.142338    #\n",
      "374 2.993493 -0.543556 -0.150777    #\n",
      "375 2.997497 -0.542936 -0.159182    #\n",
      "376 3.001502 -0.542282 -0.167664    #\n",
      "377 3.005506 -0.541593 -0.176231    #\n",
      "378 3.009510 -0.540870 -0.184884    #\n",
      "379 3.013514 -0.540112 -0.193623    #\n",
      "380 3.017518 -0.539320 -0.202448    #\n",
      "381 3.021522 -0.538491 -0.211358    #\n",
      "382 3.025526 -0.537627 -0.220355    #\n",
      "383 3.029530 -0.536726 -0.229438    #\n",
      "384 3.033534 -0.535789 -0.238607    #\n",
      "385 3.037538 -0.534816 -0.247861    #\n",
      "386 3.041542 -0.533804 -0.257202    #\n",
      "387 3.045546 -0.532756 -0.266628    #\n",
      "388 3.049550 -0.531669 -0.276140    #\n",
      "389 3.053554 -0.530544 -0.285739    #\n",
      "390 3.057558 -0.529381 -0.295423    #\n",
      "391 3.061562 -0.528178 -0.305193    #\n",
      "392 3.065566 -0.526937 -0.315049    #\n",
      "393 3.069570 -0.525655 -0.324991    #\n",
      "394 3.073574 -0.524334 -0.335019    #\n",
      "395 3.077578 -0.522972 -0.345133    #\n",
      "396 3.081582 -0.521570 -0.355333    #\n",
      "397 3.085586 -0.520127 -0.365619    #\n",
      "398 3.089590 -0.518642 -0.375991    #\n",
      "399 3.093594 -0.517116 -0.386449    #\n",
      "400 3.097598 -0.515547 -0.396992    #\n",
      "401 3.101602 -0.513937 -0.407622    #\n",
      "402 3.105606 -0.512283 -0.418337    #\n",
      "403 3.109610 -0.510586 -0.429139    #\n",
      "404 3.113614 -0.508846 -0.440026    #\n",
      "405 3.117618 -0.507063 -0.450999    #\n",
      "406 3.121622 -0.505235 -0.462059    #\n",
      "407 3.125626 -0.503362 -0.473204    #\n",
      "408 3.129630 -0.501445 -0.484435    #\n",
      "409 3.133634 -0.499483 -0.495752    #\n",
      "410 3.137638 -0.497475 -0.507155    #\n",
      "411 3.141642 -0.495421 -0.518644    #\n",
      "412 3.145646 -0.493322 -0.530219    #\n",
      "413 3.149650 -0.491175 -0.541880    #\n",
      "414 3.153654 -0.488982 -0.553627    #\n",
      "415 3.157658 -0.486742 -0.565459    #\n",
      "416 3.161662 -0.484454 -0.577378    #\n",
      "417 3.165666 -0.482118 -0.589382    #\n",
      "418 3.169670 -0.479734 -0.601473    #\n",
      "419 3.173674 -0.477301 -0.613649    #\n",
      "420 3.177678 -0.474820 -0.625895    #\n",
      "421 3.181682 -0.472289 -0.637945    #\n",
      "422 3.185686 -0.469711 -0.649707    #\n",
      "423 3.189690 -0.467087 -0.661182    #\n",
      "424 3.193694 -0.464417 -0.672370    #\n",
      "425 3.197698 -0.461703 -0.683271    #\n",
      "426 3.201702 -0.458946 -0.693884    #\n",
      "427 3.205706 -0.456147 -0.704211    #\n",
      "428 3.209710 -0.453307 -0.714249    #\n",
      "429 3.213714 -0.450427 -0.724001    #\n",
      "430 3.217718 -0.447509 -0.733465    #\n",
      "431 3.221722 -0.444554 -0.742643    #\n",
      "432 3.225726 -0.441563 -0.751532    #\n",
      "433 3.229730 -0.438536 -0.760135    #\n",
      "434 3.233734 -0.435476 -0.768450    #\n",
      "435 3.237738 -0.432383 -0.776478    #\n",
      "436 3.241742 -0.429258 -0.784219    #\n",
      "437 3.245746 -0.426103 -0.791673    #\n",
      "438 3.249750 -0.422919 -0.798839    #\n",
      "439 3.253754 -0.419706 -0.805718    #\n",
      "440 3.257758 -0.416467 -0.812310    #\n",
      "441 3.261762 -0.413202 -0.818614    #\n",
      "442 3.265766 -0.409912 -0.824632    #\n",
      "443 3.269770 -0.406599 -0.830362    #\n",
      "444 3.273774 -0.403263 -0.835804    #\n",
      "445 3.277778 -0.399906 -0.840960    #\n",
      "446 3.281782 -0.396529 -0.845828    #\n",
      "447 3.285786 -0.393133 -0.850409    #\n",
      "448 3.289790 -0.389719 -0.854703    #\n",
      "449 3.293794 -0.386289 -0.858709    #\n",
      "450 3.297798 -0.382843 -0.862428    #\n",
      "451 3.301802 -0.379383 -0.865860    #\n",
      "452 3.305806 -0.375909 -0.869005    #\n",
      "453 3.309810 -0.372424 -0.871862    #\n",
      "454 3.313814 -0.368928 -0.874432    #\n",
      "455 3.317818 -0.365422 -0.876715    #\n",
      "456 3.321822 -0.361908 -0.878710    #\n",
      "457 3.325826 -0.358386 -0.880419    #\n",
      "458 3.329830 -0.354858 -0.881840    #\n",
      "459 3.333834 -0.351324 -0.882974    #\n",
      "460 3.337838 -0.347787 -0.883820    #\n",
      "461 3.341842 -0.344247 -0.884379    #\n",
      "462 3.345846 -0.340705 -0.884651    #\n",
      "463 3.349850 -0.337163 -0.884655    #\n",
      "464 3.353854 -0.333621 -0.884544    #\n",
      "465 3.357858 -0.330080 -0.884351    #\n",
      "466 3.361862 -0.326539 -0.884077    #\n",
      "467 3.365866 -0.323000 -0.883721    #\n",
      "468 3.369870 -0.319463 -0.883284    #\n",
      "469 3.373874 -0.315927 -0.882765    #\n",
      "470 3.377878 -0.312394 -0.882165    #\n",
      "471 3.381882 -0.308863 -0.881484    #\n",
      "472 3.385886 -0.305335 -0.880721    #\n",
      "473 3.389890 -0.301810 -0.879876    #\n",
      "474 3.393894 -0.298289 -0.878950    #\n",
      "475 3.397898 -0.294772 -0.877943    #\n",
      "476 3.401902 -0.291258 -0.876854    #\n",
      "477 3.405906 -0.287750 -0.875684    #\n",
      "478 3.409910 -0.284246 -0.874433    #\n",
      "479 3.413914 -0.280747 -0.873100    #\n",
      "480 3.417918 -0.277254 -0.871685    #\n",
      "481 3.421922 -0.273767 -0.870189    #\n",
      "482 3.425926 -0.270286 -0.868612    #\n",
      "483 3.429930 -0.266811 -0.866953    #\n",
      "484 3.433934 -0.263343 -0.865213    #\n",
      "485 3.437938 -0.259883 -0.863391    #\n",
      "486 3.441942 -0.256430 -0.861488    #\n",
      "487 3.445946 -0.252984 -0.859503    #\n",
      "488 3.449950 -0.249547 -0.857437    #\n",
      "489 3.453954 -0.246118 -0.855290    #\n",
      "490 3.457958 -0.242698 -0.853061    #\n",
      "491 3.461962 -0.239287 -0.850751    #\n",
      "492 3.465966 -0.235885 -0.848359    #\n",
      "493 3.469970 -0.232493 -0.845885    #\n",
      "494 3.473974 -0.229111 -0.843331    #\n",
      "495 3.477978 -0.225740 -0.840695    #\n",
      "496 3.481982 -0.222379 -0.837977    #\n",
      "497 3.485986 -0.219029 -0.835178    #\n",
      "498 3.489990 -0.215691 -0.832298    #\n",
      "499 3.493994 -0.212364 -0.829336    #\n",
      "500 3.497998 -0.209050 -0.826292    #\n",
      "501 3.502002 -0.205748 -0.823168    #\n",
      "502 3.506006 -0.202458 -0.819961    #\n",
      "503 3.510010 -0.199181 -0.816674    #\n",
      "504 3.514014 -0.195918 -0.813300    #\n",
      "505 3.518018 -0.192669 -0.809823    #\n",
      "506 3.522022 -0.189433 -0.806242    #\n",
      "507 3.526026 -0.186212 -0.802557    #\n",
      "508 3.530030 -0.183007 -0.798768    #\n",
      "509 3.534034 -0.179816 -0.794875    #\n",
      "510 3.538038 -0.176641 -0.790878    #\n",
      "511 3.542042 -0.173483 -0.786776    #\n",
      "512 3.546046 -0.170341 -0.782570    #\n",
      "513 3.550050 -0.167216 -0.778260    #\n",
      "514 3.554054 -0.164109 -0.773847    #\n",
      "515 3.558058 -0.161019 -0.769328    #\n",
      "516 3.562062 -0.157948 -0.764706    #\n",
      "517 3.566066 -0.154896 -0.759980    #\n",
      "518 3.570070 -0.151862 -0.755149    #\n",
      "519 3.574074 -0.148849 -0.750215    #\n",
      "520 3.578078 -0.145855 -0.745176    #\n",
      "521 3.582082 -0.142881 -0.740033    #\n",
      "522 3.586086 -0.139929 -0.734786    #\n",
      "523 3.590090 -0.136997 -0.729435    #\n",
      "524 3.594094 -0.134087 -0.723979    #\n",
      "525 3.598098 -0.131200 -0.718420    #\n",
      "526 3.602102 -0.128335 -0.712756    #\n",
      "527 3.606106 -0.125492 -0.706988    #\n",
      "528 3.610110 -0.122673 -0.701116    #\n",
      "529 3.614114 -0.119878 -0.695140    #\n",
      "530 3.618118 -0.117107 -0.689060    #\n",
      "531 3.622122 -0.114360 -0.682876    #\n",
      "532 3.626126 -0.111638 -0.676587    #\n",
      "533 3.630130 -0.108942 -0.670195    #\n",
      "534 3.634134 -0.106271 -0.663698    #\n",
      "535 3.638138 -0.103627 -0.657097    #\n",
      "536 3.642142 -0.101010 -0.650392    #\n",
      "537 3.646146 -0.098419 -0.643583    #\n",
      "538 3.650150 -0.095856 -0.636669    #\n",
      "539 3.654154 -0.093321 -0.629652    #\n",
      "540 3.658158 -0.090814 -0.622530    #\n",
      "541 3.662162 -0.088336 -0.615304    #\n",
      "542 3.666166 -0.085887 -0.607975    #\n",
      "543 3.670170 -0.083467 -0.600556    #\n",
      "544 3.674174 -0.081077 -0.593096    #\n",
      "545 3.678178 -0.078718 -0.585599    #\n",
      "546 3.682182 -0.076388 -0.578063    #\n",
      "547 3.686186 -0.074088 -0.570489    #\n",
      "548 3.690190 -0.071819 -0.562878    #\n",
      "549 3.694194 -0.069581 -0.555228    #\n",
      "550 3.698198 -0.067373 -0.547541    #\n",
      "551 3.702202 -0.065196 -0.539815    #\n",
      "552 3.706206 -0.063050 -0.532052    #\n",
      "553 3.710210 -0.060936 -0.524251    #\n",
      "554 3.714214 -0.058852 -0.516411    #\n",
      "555 3.718218 -0.056800 -0.508534    #\n",
      "556 3.722222 -0.054780 -0.500619    #\n",
      "557 3.726226 -0.052791 -0.492666    #\n",
      "558 3.730230 -0.050835 -0.484674    #\n",
      "559 3.734234 -0.048910 -0.476645    #\n",
      "560 3.738238 -0.047018 -0.468578    #\n",
      "561 3.742242 -0.045158 -0.460473    #\n",
      "562 3.746246 -0.043330 -0.452330    #\n",
      "563 3.750250 -0.041536 -0.444149    #\n",
      "564 3.754254 -0.039774 -0.435930    #\n",
      "565 3.758258 -0.038045 -0.427673    #\n",
      "566 3.762262 -0.036349 -0.419378    #\n",
      "567 3.766266 -0.034686 -0.411046    #\n",
      "568 3.770270 -0.033057 -0.402675    #\n",
      "569 3.774274 -0.031462 -0.394266    #\n",
      "570 3.778278 -0.029900 -0.385819    #\n",
      "571 3.782282 -0.028372 -0.377335    #\n",
      "572 3.786286 -0.026878 -0.368812    #\n",
      "573 3.790290 -0.025419 -0.360251    #\n",
      "574 3.794294 -0.023994 -0.351653    #\n",
      "575 3.798298 -0.022603 -0.343016    #\n",
      "576 3.802302 -0.021247 -0.334342    #\n",
      "577 3.806306 -0.019926 -0.325630    #\n",
      "578 3.810310 -0.018639 -0.316879    #\n",
      "579 3.814314 -0.017388 -0.308091    #\n",
      "580 3.818318 -0.016172 -0.299273    #\n",
      "581 3.822322 -0.014991 -0.290549    #\n",
      "582 3.826326 -0.013845 -0.281960    #\n",
      "583 3.830330 -0.012733 -0.273505    #\n",
      "584 3.834334 -0.011655 -0.265185    #\n",
      "585 3.838338 -0.010609 -0.256999    #\n",
      "586 3.842342 -0.009597 -0.248949    #\n",
      "587 3.846346 -0.008616 -0.241033    #\n",
      "588 3.850350 -0.007666 -0.233251    #\n",
      "589 3.854354 -0.006748 -0.225604    #\n",
      "590 3.858358 -0.005859 -0.218092    #\n",
      "591 3.862362 -0.005001 -0.210715    #\n",
      "592 3.866366 -0.004172 -0.203472    #\n",
      "593 3.870370 -0.003371 -0.196364    #\n",
      "594 3.874374 -0.002599 -0.189390    #\n",
      "595 3.878378 -0.001854 -0.182552    #\n",
      "596 3.882382 -0.001137 -0.175847    #\n",
      "597 3.886386 -0.000446 -0.169278    #\n",
      "598 3.890390 0.000219 -0.162843    #\n",
      "599 3.894394 0.000858 -0.156543    #\n",
      "600 3.898398 0.001473 -0.150377    #\n",
      "601 3.902402 0.002063 -0.144347    #\n",
      "602 3.906406 0.002629 -0.138450    #\n",
      "603 3.910410 0.003171 -0.132689    #\n",
      "604 3.914414 0.003691 -0.127062    #\n",
      "605 3.918418 0.004189 -0.121570    #\n",
      "606 3.922422 0.004665 -0.116212    #\n",
      "607 3.926426 0.005120 -0.110989    #\n",
      "608 3.930430 0.005554 -0.105901    #\n",
      "609 3.934434 0.005968 -0.100947    #\n",
      "610 3.938438 0.006363 -0.096128    #\n",
      "611 3.942442 0.006738 -0.091444    #\n",
      "612 3.946446 0.007095 -0.086894    #\n",
      "613 3.950450 0.007434 -0.082479    #\n",
      "614 3.954454 0.007756 -0.078199    #\n",
      "615 3.958458 0.008061 -0.074054    #\n",
      "616 3.962462 0.008349 -0.070037    #\n",
      "617 3.966466 0.008621 -0.066085    #\n",
      "618 3.970470 0.008878 -0.062179    #\n",
      "619 3.974474 0.009119 -0.058320    #\n",
      "620 3.978478 0.009345 -0.054505    #\n",
      "621 3.982482 0.009556 -0.050737    #\n",
      "622 3.986486 0.009752 -0.047015    #\n",
      "623 3.990490 0.009933 -0.043339    #\n",
      "624 3.994494 0.010099 -0.039709    #\n",
      "625 3.998498 0.010251 -0.036124    #\n",
      "626 4.002503 0.010388 -0.032586    #\n",
      "627 4.006507 0.010512 -0.029093    #\n",
      "628 4.010511 0.010621 -0.025647    #\n",
      "629 4.014515 0.010717 -0.022246    #\n",
      "630 4.018519 0.010799 -0.018891    #\n",
      "631 4.022523 0.010868 -0.015582    #\n",
      "632 4.026527 0.010924 -0.012320    #\n",
      "633 4.030531 0.010967 -0.009103    #\n",
      "634 4.034535 0.010997 -0.005931    #\n",
      "635 4.038539 0.011015 -0.002806    #\n",
      "636 4.042543 0.011020 0.000273    #\n",
      "637 4.046547 0.011013 0.003306    #\n",
      "638 4.050551 0.010993 0.006294    #\n",
      "639 4.054555 0.010962 0.009235    #\n",
      "640 4.058559 0.010919 0.012131    #\n",
      "641 4.062563 0.010865 0.014980    #\n",
      "642 4.066567 0.010800 0.017784    #\n",
      "643 4.070571 0.010723 0.020542    #\n",
      "644 4.074575 0.010635 0.023253    #\n",
      "645 4.078579 0.010537 0.025919    #\n",
      "646 4.082583 0.010428 0.028539    #\n",
      "647 4.086587 0.010308 0.031113    #\n",
      "648 4.090591 0.010179 0.033641    #\n",
      "649 4.094595 0.010039 0.036124    #\n",
      "650 4.098599 0.009889 0.038560    #\n",
      "651 4.102603 0.009730 0.040937    #\n",
      "652 4.106607 0.009562 0.043210    #\n",
      "653 4.110611 0.009384 0.045374    #\n",
      "654 4.114615 0.009198 0.047429    #\n",
      "655 4.118619 0.009005 0.049377    #\n",
      "656 4.122623 0.008803 0.051216    #\n",
      "657 4.126627 0.008595 0.052946    #\n",
      "658 4.130631 0.008379 0.054568    #\n",
      "659 4.134635 0.008158 0.056082    #\n",
      "660 4.138639 0.007930 0.057487    #\n",
      "661 4.142643 0.007698 0.058784    #\n",
      "662 4.146647 0.007460 0.059973    #\n",
      "663 4.150651 0.007217 0.061053    #\n",
      "664 4.154655 0.006971 0.062024    #\n",
      "665 4.158659 0.006721 0.062888    #\n",
      "666 4.162663 0.006468 0.063642    #\n",
      "667 4.166667 0.006211 0.064289    #\n",
      "668 4.170671 0.005953 0.064827    #\n",
      "669 4.174675 0.005692 0.065256    #\n",
      "670 4.178679 0.005430 0.065578    #\n",
      "671 4.182683 0.005167 0.065790    #\n",
      "672 4.186687 0.004904 0.065895    #\n",
      "673 4.190691 0.004640 0.065891    #\n",
      "674 4.194695 0.004376 0.065778    #\n",
      "675 4.198699 0.004113 0.065557    #\n",
      "676 4.202703 0.003851 0.065228    #\n",
      "677 4.206707 0.003591 0.064790    #\n",
      "678 4.210711 0.003333 0.064244    #\n",
      "679 4.214715 0.003077 0.063590    #\n",
      "680 4.218719 0.002824 0.062827    #\n",
      "681 4.222723 0.002574 0.061955    #\n",
      "682 4.226727 0.002328 0.060976    #\n",
      "683 4.230731 0.002086 0.059887    #\n",
      "684 4.234735 0.001848 0.058691    #\n",
      "685 4.238739 0.001616 0.057436    #\n",
      "686 4.242743 0.001388 0.056159    #\n",
      "687 4.246747 0.001166 0.054858    #\n",
      "688 4.250751 0.000949 0.053535    #\n",
      "689 4.254755 0.000737 0.052188    #\n",
      "690 4.258759 0.000531 0.050819    #\n",
      "691 4.262763 0.000330 0.049426    #\n",
      "692 4.266767 0.000135 0.048011    #\n",
      "693 4.270771 -0.000054 0.046573    #\n",
      "694 4.274775 -0.000238 0.045112    #\n",
      "695 4.278779 -0.000415 0.043628    #\n",
      "696 4.282783 -0.000587 0.042121    #\n",
      "697 4.286787 -0.000753 0.040591    #\n",
      "698 4.290791 -0.000912 0.039038    #\n",
      "699 4.294795 -0.001065 0.037462    #\n",
      "700 4.298799 -0.001212 0.035863    #\n",
      "701 4.302803 -0.001352 0.034241    #\n",
      "702 4.306807 -0.001486 0.032597    #\n",
      "703 4.310811 -0.001613 0.030929    #\n",
      "704 4.314815 -0.001734 0.029239    #\n",
      "705 4.318819 -0.001847 0.027525    #\n",
      "706 4.322823 -0.001954 0.025789    #\n",
      "707 4.326827 -0.002054 0.024030    #\n",
      "708 4.330831 -0.002147 0.022247    #\n",
      "709 4.334835 -0.002232 0.020442    #\n",
      "710 4.338839 -0.002310 0.018614    #\n",
      "711 4.342843 -0.002381 0.016763    #\n",
      "712 4.346847 -0.002444 0.014889    #\n",
      "713 4.350851 -0.002500 0.012992    #\n",
      "714 4.354855 -0.002548 0.011072    #\n",
      "715 4.358859 -0.002589 0.009130    #\n",
      "716 4.362863 -0.002622 0.007164    #\n",
      "717 4.366867 -0.002646 0.005183    #\n",
      "718 4.370871 -0.002663 0.003220    #\n",
      "719 4.374875 -0.002672 0.001282    #\n",
      "720 4.378879 -0.002673 -0.000633    #\n",
      "721 4.382883 -0.002667 -0.002523    #\n",
      "722 4.386887 -0.002653 -0.004390    #\n",
      "723 4.390891 -0.002632 -0.006234    #\n",
      "724 4.394895 -0.002603 -0.008053    #\n",
      "725 4.398899 -0.002567 -0.009849    #\n",
      "726 4.402903 -0.002524 -0.011621    #\n",
      "727 4.406907 -0.002474 -0.013369    #\n",
      "728 4.410911 -0.002417 -0.015093    #\n",
      "729 4.414915 -0.002354 -0.016794    #\n",
      "730 4.418919 -0.002283 -0.018471    #\n",
      "731 4.422923 -0.002206 -0.020124    #\n",
      "732 4.426927 -0.002122 -0.021753    #\n",
      "733 4.430931 -0.002032 -0.023359    #\n",
      "734 4.434935 -0.001935 -0.024940    #\n",
      "735 4.438939 -0.001832 -0.026498    #\n",
      "736 4.442943 -0.001723 -0.028033    #\n",
      "737 4.446947 -0.001607 -0.029543    #\n",
      "738 4.450951 -0.001486 -0.031030    #\n",
      "739 4.454955 -0.001359 -0.032492    #\n",
      "740 4.458959 -0.001226 -0.033932    #\n",
      "741 4.462963 -0.001087 -0.035347    #\n",
      "742 4.466967 -0.000943 -0.036738    #\n",
      "743 4.470971 -0.000793 -0.038106    #\n",
      "744 4.474975 -0.000638 -0.039450    #\n",
      "745 4.478979 -0.000477 -0.040770    #\n",
      "746 4.482983 -0.000311 -0.042067    #\n",
      "747 4.486987 -0.000140 -0.043340    #\n",
      "748 4.490991 0.000036 -0.044588    #\n",
      "749 4.494995 0.000217 -0.045817    #\n",
      "750 4.498999 0.000403 -0.047028    #\n",
      "751 4.503003 0.000593 -0.048222    #\n",
      "752 4.507007 0.000789 -0.049398    #\n",
      "753 4.511011 0.000989 -0.050558    #\n",
      "754 4.515015 0.001194 -0.051701    #\n",
      "755 4.519019 0.001403 -0.052826    #\n",
      "756 4.523023 0.001617 -0.053934    #\n",
      "757 4.527027 0.001835 -0.055025    #\n",
      "758 4.531031 0.002057 -0.056099    #\n",
      "759 4.535035 0.002284 -0.057156    #\n",
      "760 4.539039 0.002515 -0.058195    #\n",
      "761 4.543043 0.002750 -0.059218    #\n",
      "762 4.547047 0.002989 -0.060223    #\n",
      "763 4.551051 0.003232 -0.061211    #\n",
      "764 4.555055 0.003479 -0.062182    #\n",
      "765 4.559059 0.003730 -0.063136    #\n",
      "766 4.563063 0.003985 -0.064072    #\n",
      "767 4.567067 0.004243 -0.064992    #\n",
      "768 4.571071 0.004505 -0.065894    #\n",
      "769 4.575075 0.004771 -0.066779    #\n",
      "770 4.579079 0.005040 -0.067647    #\n",
      "771 4.583083 0.005312 -0.068498    #\n",
      "772 4.587087 0.005588 -0.069332    #\n",
      "773 4.591091 0.005868 -0.070148    #\n",
      "774 4.595095 0.006150 -0.070948    #\n",
      "775 4.599099 0.006436 -0.071730    #\n",
      "776 4.603103 0.006725 -0.072495    #\n",
      "777 4.607107 0.007016 -0.073243    #\n",
      "778 4.611111 0.007311 -0.073974    #\n",
      "779 4.615115 0.007609 -0.074684    #\n",
      "780 4.619119 0.007909 -0.075312    #\n",
      "781 4.623123 0.008212 -0.075832    #\n",
      "782 4.627127 0.008516 -0.076244    #\n",
      "783 4.631131 0.008822 -0.076547    #\n",
      "784 4.635135 0.009129 -0.076743    #\n",
      "785 4.639139 0.009436 -0.076830    #\n",
      "786 4.643143 0.009744 -0.076809    #\n",
      "787 4.647147 0.010051 -0.076680    #\n",
      "788 4.651151 0.010358 -0.076442    #\n",
      "789 4.655155 0.010663 -0.076097    #\n",
      "790 4.659159 0.010967 -0.075643    #\n",
      "791 4.663163 0.011269 -0.075081    #\n",
      "792 4.667167 0.011568 -0.074411    #\n",
      "793 4.671171 0.011865 -0.073633    #\n",
      "794 4.675175 0.012158 -0.072746    #\n",
      "795 4.679179 0.012447 -0.071751    #\n",
      "796 4.683183 0.012732 -0.070649    #\n",
      "797 4.687187 0.013013 -0.069437    #\n",
      "798 4.691191 0.013288 -0.068118    #\n",
      "799 4.695195 0.013558 -0.066691    #\n",
      "800 4.699199 0.013822 -0.065155    #\n",
      "801 4.703203 0.014080 -0.063512    #\n",
      "802 4.707207 0.014331 -0.061760    #\n",
      "803 4.711211 0.014574 -0.059899    #\n",
      "804 4.715215 0.014810 -0.057931    #\n",
      "805 4.719219 0.015038 -0.055855    #\n",
      "806 4.723223 0.015257 -0.053670    #\n",
      "807 4.727227 0.015468 -0.051377    #\n",
      "808 4.731231 0.015669 -0.048976    #\n",
      "809 4.735235 0.015860 -0.046472    #\n",
      "810 4.739239 0.016041 -0.043936    #\n",
      "811 4.743243 0.016211 -0.041390    #\n",
      "812 4.747247 0.016372 -0.038835    #\n",
      "813 4.751251 0.016522 -0.036269    #\n",
      "814 4.755255 0.016663 -0.033694    #\n",
      "815 4.759259 0.016792 -0.031109    #\n",
      "816 4.763263 0.016912 -0.028514    #\n",
      "817 4.767267 0.017021 -0.025909    #\n",
      "818 4.771271 0.017119 -0.023294    #\n",
      "819 4.775275 0.017207 -0.020669    #\n",
      "820 4.779279 0.017285 -0.018035    #\n",
      "821 4.783283 0.017352 -0.015391    #\n",
      "822 4.787287 0.017408 -0.012737    #\n",
      "823 4.791291 0.017453 -0.010073    #\n",
      "824 4.795295 0.017488 -0.007399    #\n",
      "825 4.799299 0.017513 -0.004715    #\n",
      "826 4.803303 0.017526 -0.002022    #\n",
      "827 4.807307 0.017529 0.000682    #\n",
      "828 4.811311 0.017521 0.003395    #\n",
      "829 4.815315 0.017502 0.006118    #\n",
      "830 4.819319 0.017472 0.008851    #\n",
      "831 4.823323 0.017431 0.011594    #\n",
      "832 4.827327 0.017379 0.014346    #\n",
      "833 4.831331 0.017316 0.017109    #\n",
      "834 4.835335 0.017242 0.019881    #\n",
      "835 4.839339 0.017157 0.022663    #\n",
      "836 4.843343 0.017060 0.025455    #\n",
      "837 4.847347 0.016953 0.028257    #\n",
      "838 4.851351 0.016834 0.031068    #\n",
      "839 4.855355 0.016704 0.033826    #\n",
      "840 4.859359 0.016563 0.036497    #\n",
      "841 4.863363 0.016412 0.039079    #\n",
      "842 4.867367 0.016250 0.041574    #\n",
      "843 4.871371 0.016079 0.043980    #\n",
      "844 4.875375 0.015898 0.046299    #\n",
      "845 4.879379 0.015709 0.048530    #\n",
      "846 4.883383 0.015510 0.050672    #\n",
      "847 4.887387 0.015303 0.052727    #\n",
      "848 4.891391 0.015088 0.054694    #\n",
      "849 4.895395 0.014865 0.056573    #\n",
      "850 4.899399 0.014635 0.058364    #\n",
      "851 4.903403 0.014398 0.060066    #\n",
      "852 4.907407 0.014154 0.061681    #\n",
      "853 4.911411 0.013904 0.063208    #\n",
      "854 4.915415 0.013648 0.064647    #\n",
      "855 4.919419 0.013386 0.065998    #\n",
      "856 4.923423 0.013120 0.067261    #\n",
      "857 4.927427 0.012848 0.068436    #\n",
      "858 4.931431 0.012572 0.069523    #\n",
      "859 4.935435 0.012291 0.070522    #\n",
      "860 4.939439 0.012007 0.071433    #\n",
      "861 4.943443 0.011719 0.072257    #\n",
      "862 4.947447 0.011428 0.072992    #\n",
      "863 4.951451 0.011135 0.073639    #\n",
      "864 4.955455 0.010839 0.074198    #\n",
      "865 4.959459 0.010541 0.074669    #\n",
      "866 4.963463 0.010241 0.075053    #\n",
      "867 4.967467 0.009940 0.075348    #\n",
      "868 4.971471 0.009638 0.075555    #\n",
      "869 4.975475 0.009335 0.075673    #\n",
      "870 4.979479 0.009032 0.075702    #\n",
      "871 4.983483 0.008729 0.075644    #\n",
      "872 4.987487 0.008426 0.075496    #\n",
      "873 4.991491 0.008124 0.075260    #\n",
      "874 4.995495 0.007824 0.074936    #\n",
      "875 4.999499 0.007524 0.074523    #\n",
      "876 5.003504 0.007227 0.074021    #\n",
      "877 5.007508 0.006932 0.073431    #\n",
      "878 5.011512 0.006639 0.072753    #\n",
      "879 5.015516 0.006349 0.071986    #\n",
      "880 5.019520 0.006063 0.071130    #\n",
      "881 5.023524 0.005780 0.070186    #\n",
      "882 5.027528 0.005501 0.069153    #\n",
      "883 5.031532 0.005226 0.068032    #\n",
      "884 5.035536 0.004956 0.066823    #\n",
      "885 5.039540 0.004691 0.065524    #\n",
      "886 5.043544 0.004432 0.064138    #\n",
      "887 5.047548 0.004178 0.062662    #\n",
      "888 5.051552 0.003930 0.061099    #\n",
      "889 5.055556 0.003689 0.059446    #\n",
      "890 5.059560 0.003454 0.057705    #\n",
      "891 5.063564 0.003227 0.055876    #\n",
      "892 5.067568 0.003007 0.053958    #\n",
      "893 5.071572 0.002795 0.051952    #\n",
      "894 5.075576 0.002591 0.049857    #\n",
      "895 5.079580 0.002395 0.047723    #\n",
      "896 5.083584 0.002208 0.045654    #\n",
      "897 5.087588 0.002030 0.043655    #\n",
      "898 5.091592 0.001859 0.041725    #\n",
      "899 5.095596 0.001695 0.039865    #\n",
      "900 5.099600 0.001539 0.038074    #\n",
      "901 5.103604 0.001390 0.036352    #\n",
      "902 5.107608 0.001248 0.034699    #\n",
      "903 5.111612 0.001112 0.033116    #\n",
      "904 5.115616 0.000983 0.031602    #\n",
      "905 5.119620 0.000859 0.030157    #\n",
      "906 5.123624 0.000741 0.028782    #\n",
      "907 5.127628 0.000629 0.027476    #\n",
      "908 5.131632 0.000521 0.026239    #\n",
      "909 5.135636 0.000419 0.025071    #\n",
      "910 5.139640 0.000320 0.023973    #\n",
      "911 5.143644 0.000226 0.022944    #\n",
      "912 5.147648 0.000137 0.021985    #\n",
      "913 5.151652 0.000050 0.021095    #\n",
      "914 5.155656 -0.000032 0.020274    #\n",
      "915 5.159660 -0.000112 0.019522    #\n",
      "916 5.163664 -0.000189 0.018840    #\n",
      "917 5.167668 -0.000263 0.018226    #\n",
      "918 5.171672 -0.000335 0.017683    #\n",
      "919 5.175676 -0.000405 0.017208    #\n",
      "920 5.179680 -0.000473 0.016803    #\n",
      "921 5.183684 -0.000539 0.016467    #\n",
      "922 5.187688 -0.000605 0.016188    #\n",
      "923 5.191692 -0.000669 0.015902    #\n",
      "924 5.195696 -0.000732 0.015598    #\n",
      "925 5.199700 -0.000794 0.015278    #\n",
      "926 5.203704 -0.000854 0.014940    #\n",
      "927 5.207708 -0.000914 0.014585    #\n",
      "928 5.211712 -0.000971 0.014213    #\n",
      "929 5.215716 -0.001027 0.013823    #\n",
      "930 5.219720 -0.001082 0.013417    #\n",
      "931 5.223724 -0.001135 0.012994    #\n",
      "932 5.227728 -0.001186 0.012553    #\n",
      "933 5.231732 -0.001235 0.012095    #\n",
      "934 5.235736 -0.001283 0.011620    #\n",
      "935 5.239740 -0.001328 0.011129    #\n",
      "936 5.243744 -0.001372 0.010619    #\n",
      "937 5.247748 -0.001413 0.010093    #\n",
      "938 5.251752 -0.001453 0.009550    #\n",
      "939 5.255756 -0.001490 0.008989    #\n",
      "940 5.259760 -0.001525 0.008412    #\n",
      "941 5.263764 -0.001557 0.007817    #\n",
      "942 5.267768 -0.001587 0.007205    #\n",
      "943 5.271772 -0.001615 0.006576    #\n",
      "944 5.275776 -0.001640 0.005930    #\n",
      "945 5.279780 -0.001662 0.005267    #\n",
      "946 5.283784 -0.001682 0.004587    #\n",
      "947 5.287788 -0.001699 0.003889    #\n",
      "948 5.291792 -0.001713 0.003175    #\n",
      "949 5.295796 -0.001724 0.002457    #\n",
      "950 5.299800 -0.001733 0.001760    #\n",
      "951 5.303804 -0.001739 0.001084    #\n",
      "952 5.307808 -0.001742 0.000430    #\n",
      "953 5.311812 -0.001742 -0.000203    #\n",
      "954 5.315816 -0.001740 -0.000814    #\n",
      "955 5.319820 -0.001735 -0.001404    #\n",
      "956 5.323824 -0.001729 -0.001972    #\n",
      "957 5.327828 -0.001720 -0.002518    #\n",
      "958 5.331832 -0.001709 -0.003043    #\n",
      "959 5.335836 -0.001695 -0.003547    #\n",
      "960 5.339840 -0.001680 -0.004029    #\n",
      "961 5.343844 -0.001663 -0.004489    #\n",
      "962 5.347848 -0.001644 -0.004928    #\n",
      "963 5.351852 -0.001624 -0.005346    #\n",
      "964 5.355856 -0.001602 -0.005742    #\n",
      "965 5.359860 -0.001578 -0.006116    #\n",
      "966 5.363864 -0.001553 -0.006469    #\n",
      "967 5.367868 -0.001526 -0.006800    #\n",
      "968 5.371872 -0.001498 -0.007110    #\n",
      "969 5.375876 -0.001469 -0.007399    #\n",
      "970 5.379880 -0.001439 -0.007665    #\n",
      "971 5.383884 -0.001408 -0.007911    #\n",
      "972 5.387888 -0.001376 -0.008135    #\n",
      "973 5.391892 -0.001343 -0.008337    #\n",
      "974 5.395896 -0.001309 -0.008518    #\n",
      "975 5.399900 -0.001274 -0.008686    #\n",
      "976 5.403904 -0.001239 -0.008870    #\n",
      "977 5.407908 -0.001203 -0.009071    #\n",
      "978 5.411912 -0.001167 -0.009291    #\n",
      "979 5.415916 -0.001129 -0.009528    #\n",
      "980 5.419920 -0.001090 -0.009783    #\n",
      "981 5.423924 -0.001051 -0.010056    #\n",
      "982 5.427928 -0.001010 -0.010347    #\n",
      "983 5.431932 -0.000968 -0.010656    #\n",
      "984 5.435936 -0.000924 -0.010983    #\n",
      "985 5.439940 -0.000880 -0.011327    #\n",
      "986 5.443944 -0.000834 -0.011689    #\n",
      "987 5.447948 -0.000786 -0.012070    #\n",
      "988 5.451952 -0.000737 -0.012468    #\n",
      "989 5.455956 -0.000686 -0.012884    #\n",
      "990 5.459960 -0.000634 -0.013317    #\n",
      "991 5.463964 -0.000580 -0.013769    #\n",
      "992 5.467968 -0.000523 -0.014239    #\n",
      "993 5.471972 -0.000466 -0.014726    #\n",
      "994 5.475976 -0.000406 -0.015231    #\n",
      "995 5.479980 -0.000344 -0.015754    #\n",
      "996 5.483984 -0.000279 -0.016295    #\n",
      "997 5.487988 -0.000213 -0.016854    #\n",
      "998 5.491992 -0.000144 -0.017430    #\n",
      "999 5.495996 -0.000073 -0.018025    #\n",
      "1000 5.500000 0.000000 -0.018637    #\n"
     ]
    }
   ],
   "source": [
    "table_list = []\n",
    "pair_list = chemical_system.interactions_map[2]\n",
    "for pair in pair_list:\n",
    "    text = lammps.export_tabulated_potential(representation.knots_map[pair],\n",
    "                                             solutions[pair],\n",
    "                                             pair,\n",
    "                                             grid=1000,\n",
    "                                             filename=None)\n",
    "    table_list.append(text)\n",
    "combined_text = \"\\n\\n\\n\".join(table_list)\n",
    "print(combined_text)\n",
    "table_name = os.path.join(example_directory, \"table_test\", \"W.table\")\n",
    "with open(table_name, \"w\") as f:\n",
    "    f.write(combined_text)"
   ],
   "metadata": {
    "collapsed": false,
    "pycharm": {
     "name": "#%%\n"
    }
   }
  },
  {
   "cell_type": "markdown",
   "source": [
    "# Compute energy, forces, stress with UFCalculator"
   ],
   "metadata": {
    "collapsed": false
   }
  },
  {
   "cell_type": "code",
   "execution_count": 28,
   "outputs": [
    {
     "name": "stdout",
     "output_type": "stream",
     "text": [
      "-37.49977225925757\n",
      "Energy: -37.3318429605963\n",
      "Stresses (numerical): [-0.05220458 -0.03054882 -0.00999726  0.00202458 -0.01651235 -0.02966367]\n",
      "Forces:\n",
      " [[ 0.3025895  -6.88007796  0.6373046 ]\n",
      " [ 1.20561977  0.41737433 -0.56341199]\n",
      " [-1.44561141 -1.43014366 -0.39479287]\n",
      " [-1.62551419  5.36211189 -0.37430882]\n",
      " [ 0.83604936  2.17034682  1.1250718 ]\n",
      " [ 1.76586331 -2.11369171 -0.75330561]\n",
      " [ 2.22437483  1.47218412 -0.74985818]\n",
      " [-1.35961125 -0.65303525  0.99262891]\n",
      " [-2.10035631 -0.00748168  0.09958628]\n",
      " [ 0.21436648  5.21061339 -0.08685451]\n",
      " [ 1.78287894 -3.29244597 -0.27374965]\n",
      " [-1.80064901 -0.25575434  0.34169003]]\n",
      "Max force: 6.8800779614245675\n"
     ]
    }
   ],
   "source": [
    "calc = calculator.UFCalculator(bspline_config, model)\n",
    "\n",
    "geom = df_data.iloc[3000]['geometry'].copy()  # 12-atom cell\n",
    "geom.set_calculator(calc)\n",
    "print(df_data.iloc[3000]['energy'] - solutions['W'] * len(geom))\n",
    "print(\"Energy:\", geom.get_potential_energy())\n",
    "print(\"Stresses (numerical):\", geom.get_stress())\n",
    "print(\"Forces:\\n\", geom.get_forces())\n",
    "print(\"Max force:\", np.max(np.abs(geom.get_forces())))"
   ],
   "metadata": {
    "collapsed": false,
    "pycharm": {
     "name": "#%%\n"
    }
   }
  },
  {
   "cell_type": "code",
   "execution_count": 29,
   "outputs": [
    {
     "name": "stdout",
     "output_type": "stream",
     "text": [
      "-37.49977225925757\n",
      "Energy: -37.331849640622735\n",
      "Stresses (numerical): [-0.05220477 -0.03054881 -0.00999754  0.0020246  -0.01651238 -0.02966354]\n",
      "Forces:\n",
      " [[-0.30259017  6.88008157 -0.63730665]\n",
      " [-1.20561591 -0.41736954  0.56340505]\n",
      " [ 1.44561226  1.43013918  0.3947966 ]\n",
      " [ 1.62551452 -5.36211307  0.3743116 ]\n",
      " [-0.83604893 -2.17034753 -1.12507322]\n",
      " [-1.76588178  2.11368927  0.75331565]\n",
      " [-2.2243698  -1.4721812   0.74985987]\n",
      " [ 1.35961106  0.65303314 -0.99262309]\n",
      " [ 2.10035144  0.00748539 -0.09958861]\n",
      " [-0.21436768 -5.21061307  0.08685749]\n",
      " [-1.78288025  3.2924452   0.27374679]\n",
      " [ 1.80066524  0.25575068 -0.34170149]]\n",
      "Max force: 6.880081567789464\n"
     ]
    }
   ],
   "source": [
    "calc = lammps.UFLammps(lmpcmds=[\"pair_style table spline 1000\",\n",
    "                                \"pair_coeff * * table_test/W.table UF_W-W 5.5\"],\n",
    "                       keep_alive=True)\n",
    "geom = df_data.iloc[3000]['geometry'].copy()  # 12-atom cell\n",
    "geom.set_calculator(calc)\n",
    "print(df_data.iloc[3000]['energy'] - solutions['W'] * len(geom))\n",
    "print(\"Energy:\", geom.get_potential_energy())\n",
    "print(\"Stresses (numerical):\", geom.get_stress())\n",
    "print(\"Forces:\\n\", geom.get_forces())\n",
    "print(\"Max force:\", np.max(np.abs(geom.get_forces())))\n",
    "del calc"
   ],
   "metadata": {
    "collapsed": false,
    "pycharm": {
     "name": "#%%\n"
    }
   }
  },
  {
   "cell_type": "code",
   "source": [
    "# Relax with Calculator"
   ],
   "metadata": {
    "collapsed": false,
    "pycharm": {
     "name": "#%%\n"
    }
   },
   "execution_count": 30,
   "outputs": []
  },
  {
   "cell_type": "code",
   "execution_count": 31,
   "outputs": [
    {
     "name": "stdout",
     "output_type": "stream",
     "text": [
      "Relaxation Steps: 95\n",
      "Energy: -40.61378638258292\n",
      "Stresses (numerical): [-0.03202215  0.00518146  0.02687797  0.00840406 -0.01969797 -0.04616099]\n",
      "Forces:\n",
      " [[ 1.95559395e-03  1.24053843e-03 -2.01667711e-03]\n",
      " [-1.83157921e-03  1.27496863e-03 -1.79693093e-03]\n",
      " [-1.70756706e-03  2.31619332e-03 -1.73253067e-03]\n",
      " [ 1.93693769e-03  1.25989636e-03 -2.14105043e-03]\n",
      " [ 3.30326033e-03  1.12824454e-03 -1.97243912e-04]\n",
      " [-3.42708721e-03 -1.89966240e-03 -2.15979936e-04]\n",
      " [-3.02842937e-03  5.95145969e-04 -2.20188666e-04]\n",
      " [ 2.93751536e-03 -1.46647897e-03 -2.36485087e-04]\n",
      " [ 1.28759004e-03  2.43709861e-05  1.65086865e-03]\n",
      " [-1.33078862e-03 -1.69770336e-03  2.65651046e-03]\n",
      " [-1.17295778e-03 -1.95055818e-03  2.54643308e-03]\n",
      " [ 1.07751187e-03 -8.24955330e-04  1.70327456e-03]]\n",
      "Max force: 0.003303260334543298\n"
     ]
    }
   ],
   "source": [
    "calc = lammps.UFLammps(lmpcmds=[\"pair_style table spline 1000\",\n",
    "                                \"pair_coeff * * table_test/W.table UF_W-W 5.5\"],\n",
    "                       keep_alive=True)\n",
    "calc.relax(geom)\n",
    "print('Relaxation Steps:', calc.results['nsteps'])\n",
    "geom.calc = calc\n",
    "print(\"Energy:\", geom.get_potential_energy())\n",
    "print(\"Stresses (numerical):\", geom.get_stress())\n",
    "lammps_forces = geom.get_forces()\n",
    "print(\"Forces:\\n\", lammps_forces)\n",
    "print(\"Max force:\", np.max(lammps_forces))\n",
    "del calc"
   ],
   "metadata": {
    "collapsed": false,
    "pycharm": {
     "name": "#%%\n"
    }
   }
  },
  {
   "cell_type": "code",
   "execution_count": 21,
   "outputs": [],
   "source": [],
   "metadata": {
    "collapsed": false,
    "pycharm": {
     "name": "#%%\n"
    }
   }
  }
 ],
 "metadata": {
  "kernelspec": {
   "display_name": "Python 3",
   "language": "python",
   "name": "python3"
  },
  "language_info": {
   "codemirror_mode": {
    "name": "ipython",
    "version": 2
   },
   "file_extension": ".py",
   "mimetype": "text/x-python",
   "name": "python",
   "nbconvert_exporter": "python",
   "pygments_lexer": "ipython2",
   "version": "2.7.6"
  }
 },
 "nbformat": 4,
 "nbformat_minor": 0
}