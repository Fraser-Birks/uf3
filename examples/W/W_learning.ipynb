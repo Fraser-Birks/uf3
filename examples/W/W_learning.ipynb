{
 "cells": [
  {
   "cell_type": "code",
   "execution_count": 1,
   "outputs": [],
   "source": [
    "import os\n",
    "from concurrent.futures import ProcessPoolExecutor\n",
    "\n",
    "import numpy as np\n",
    "import matplotlib.pyplot as plt\n",
    "\n",
    "import uf3\n",
    "from uf3.data.io import DataCoordinator\n",
    "from uf3.data.composition import ChemicalSystem\n",
    "from uf3.representation.bspline import BSplineConfig\n",
    "from uf3.representation.process import BasisProcessor\n",
    "from uf3.regression.least_squares import WeightedLinearModel\n",
    "\n",
    "from uf3.representation import distances\n",
    "from uf3.util import plotting\n",
    "from uf3.forcefield import calculator\n",
    "from uf3.forcefield import lammps\n",
    "\n",
    "\n",
    "pkg_directory = os.path.dirname(os.path.dirname(uf3.__file__))\n",
    "example_directory = os.path.join(pkg_directory, \"examples\", \"W\")\n",
    "filename = os.path.join(example_directory, \"w-14.xyz\")\n",
    "\n",
    "with open(os.path.join(example_directory, \"training_idx.txt\"), \"r\") as f:\n",
    "    training_indices = [int(idx) for idx in f.read().splitlines()]"
   ],
   "metadata": {
    "collapsed": false,
    "pycharm": {
     "name": "#%%\n"
    }
   }
  },
  {
   "cell_type": "markdown",
   "source": [
    "# User Parameters"
   ],
   "metadata": {
    "collapsed": false,
    "pycharm": {
     "name": "#%% md\n"
    }
   }
  },
  {
   "cell_type": "code",
   "execution_count": 2,
   "outputs": [],
   "source": [
    "n_jobs = 8                              # Maximum number of parallel processes\n",
    "\n",
    "element_list = [\"W\"]\n",
    "degree = 2                              # two-body interactions\n",
    "\n",
    "r_min_map = {('W', 'W'): 1.5,}        # minimum distance cutoff (angstroms)\n",
    "r_max_map = {('W', 'W'): 5.5,}        # maximum distance cutoff (angstroms)\n",
    "resolution_map = {('W', 'W'): 25}     # number of knot intervals\n",
    "\n",
    "regularization_params = dict(ridge_1b=1e-4,  # L2 (Ridge) regularization\n",
    "                             ridge_2b=1e-6,\n",
    "                             ridge_3b=1e-5,\n",
    "                             curve_2b=1e-5,  # Curvature regularization\n",
    "                             curve_3b=1e-4)\n",
    "# may be optimized through cross-validation and grid/random search."
   ],
   "metadata": {
    "collapsed": false,
    "pycharm": {
     "name": "#%%\n"
    }
   }
  },
  {
   "cell_type": "markdown",
   "source": [
    "# Initialize data coordinator and chemical system"
   ],
   "metadata": {
    "collapsed": false,
    "pycharm": {
     "name": "#%% md\n"
    }
   }
  },
  {
   "cell_type": "code",
   "execution_count": 3,
   "outputs": [],
   "source": [
    "\n",
    "data_coordinator = DataCoordinator()\n",
    "\n",
    "chemical_system = ChemicalSystem(element_list=element_list,\n",
    "                                 degree=degree)\n",
    "\n"
   ],
   "metadata": {
    "collapsed": false,
    "pycharm": {
     "name": "#%%\n"
    }
   }
  },
  {
   "cell_type": "markdown",
   "source": [
    "# Load data from LAMMPS run directory"
   ],
   "metadata": {
    "collapsed": false,
    "pycharm": {
     "name": "#%% md\n"
    }
   }
  },
  {
   "cell_type": "code",
   "execution_count": 4,
   "outputs": [
    {
     "name": "stdout",
     "output_type": "stream",
     "text": [
      "Number of energies: 9693\n",
      "Number of forces: 475578\n"
     ]
    }
   ],
   "source": [
    "data_coordinator.dataframe_from_trajectory(filename,\n",
    "                                           prefix='dft')\n",
    "\n",
    "df_data = data_coordinator.consolidate()\n",
    "print(\"Number of energies:\", len(df_data))\n",
    "print(\"Number of forces:\", int(np.sum(df_data[\"size\"]) * 3))"
   ],
   "metadata": {
    "collapsed": false,
    "pycharm": {
     "name": "#%%\n"
    }
   }
  },
  {
   "cell_type": "code",
   "execution_count": 5,
   "outputs": [
    {
     "data": {
      "text/plain": "                                    geometry   energy     fx     fy     fz  \\\ndft_0  (Atom('W', [0.0, 0.0, 0.0], index=0)) -11.1948  [0.0]  [0.0]  [0.0]   \ndft_1  (Atom('W', [0.0, 0.0, 0.0], index=0))  -11.127  [0.0]  [0.0]  [0.0]   \ndft_2  (Atom('W', [0.0, 0.0, 0.0], index=0)) -11.1333  [0.0]  [0.0]  [0.0]   \ndft_3  (Atom('W', [0.0, 0.0, 0.0], index=0)) -11.1396  [0.0]  [0.0]  [0.0]   \ndft_4  (Atom('W', [0.0, 0.0, 0.0], index=0))  -11.142  [0.0]  [0.0]  [0.0]   \n\n       size  \ndft_0   1.0  \ndft_1   1.0  \ndft_2   1.0  \ndft_3   1.0  \ndft_4   1.0  ",
      "text/html": "<div>\n<style scoped>\n    .dataframe tbody tr th:only-of-type {\n        vertical-align: middle;\n    }\n\n    .dataframe tbody tr th {\n        vertical-align: top;\n    }\n\n    .dataframe thead th {\n        text-align: right;\n    }\n</style>\n<table border=\"1\" class=\"dataframe\">\n  <thead>\n    <tr style=\"text-align: right;\">\n      <th></th>\n      <th>geometry</th>\n      <th>energy</th>\n      <th>fx</th>\n      <th>fy</th>\n      <th>fz</th>\n      <th>size</th>\n    </tr>\n  </thead>\n  <tbody>\n    <tr>\n      <th>dft_0</th>\n      <td>(Atom('W', [0.0, 0.0, 0.0], index=0))</td>\n      <td>-11.1948</td>\n      <td>[0.0]</td>\n      <td>[0.0]</td>\n      <td>[0.0]</td>\n      <td>1.0</td>\n    </tr>\n    <tr>\n      <th>dft_1</th>\n      <td>(Atom('W', [0.0, 0.0, 0.0], index=0))</td>\n      <td>-11.127</td>\n      <td>[0.0]</td>\n      <td>[0.0]</td>\n      <td>[0.0]</td>\n      <td>1.0</td>\n    </tr>\n    <tr>\n      <th>dft_2</th>\n      <td>(Atom('W', [0.0, 0.0, 0.0], index=0))</td>\n      <td>-11.1333</td>\n      <td>[0.0]</td>\n      <td>[0.0]</td>\n      <td>[0.0]</td>\n      <td>1.0</td>\n    </tr>\n    <tr>\n      <th>dft_3</th>\n      <td>(Atom('W', [0.0, 0.0, 0.0], index=0))</td>\n      <td>-11.1396</td>\n      <td>[0.0]</td>\n      <td>[0.0]</td>\n      <td>[0.0]</td>\n      <td>1.0</td>\n    </tr>\n    <tr>\n      <th>dft_4</th>\n      <td>(Atom('W', [0.0, 0.0, 0.0], index=0))</td>\n      <td>-11.142</td>\n      <td>[0.0]</td>\n      <td>[0.0]</td>\n      <td>[0.0]</td>\n      <td>1.0</td>\n    </tr>\n  </tbody>\n</table>\n</div>"
     },
     "execution_count": 5,
     "metadata": {},
     "output_type": "execute_result"
    }
   ],
   "source": [
    "df_data.head()\n"
   ],
   "metadata": {
    "collapsed": false,
    "pycharm": {
     "name": "#%%\n"
    }
   }
  },
  {
   "cell_type": "markdown",
   "source": [
    "# Visualize partial radial distribution functions\n",
    "### This can be a sanity check for specified interaction-specific cutoffs."
   ],
   "metadata": {
    "collapsed": false,
    "pycharm": {
     "name": "#%% md\n"
    }
   }
  },
  {
   "cell_type": "code",
   "execution_count": 6,
   "outputs": [
    {
     "name": "stdout",
     "output_type": "stream",
     "text": [
      "('W', 'W') Lower bound: 1.920 angstroms\n",
      "('W', 'W') Peaks (min width 0.2 angstroms): [5.22 6.9  9.42]\n"
     ]
    }
   ],
   "source": [
    "atoms_key = data_coordinator.atoms_key\n",
    "histogram_slice = np.random.choice(np.arange(len(df_data)),\n",
    "                                   min(1000, len(df_data)),\n",
    "                                   replace=False)\n",
    "df_slice = df_data[atoms_key].iloc[histogram_slice]\n",
    "histograms = distances.summarize_distances(df_slice,\n",
    "                                           chemical_system,\n",
    "                                           min_peak_width=0.2)"
   ],
   "metadata": {
    "collapsed": false,
    "pycharm": {
     "name": "#%%\n"
    }
   }
  },
  {
   "cell_type": "code",
   "execution_count": 7,
   "outputs": [
    {
     "data": {
      "text/plain": "<Figure size 144x144 with 1 Axes>",
      "image/png": "[encoded data removed]"
     },
     "metadata": {
      "needs_background": "light"
     },
     "output_type": "display_data"
    }
   ],
   "source": [
    "bar_width = histograms[1][1] - histograms[1][0]\n",
    "pairs = chemical_system.interactions_map[2]\n",
    "fig, ax = plt.subplots(1, len(pairs), figsize=(len(pairs)*2, 2))\n",
    "if not isinstance(ax, (list, np.ndarray)):\n",
    "    ax = [ax]\n",
    "for i, pair in enumerate(pairs):\n",
    "    ax[i].bar(histograms[1][:-1],\n",
    "              histograms[0][pair],\n",
    "              width=bar_width)\n",
    "    ax[i].set_title(pair)\n",
    "    ax[i].plot([0, 10], [1, 1], linestyle='--', color='k')\n",
    "    ax[i].set_xlim(0, 10)\n",
    "    ax[i].set_ylim(0, 4)\n",
    "fig.tight_layout()\n"
   ],
   "metadata": {
    "collapsed": false,
    "pycharm": {
     "name": "#%%\n"
    }
   }
  },
  {
   "cell_type": "markdown",
   "source": [
    "# Initialize representation, regularizer, and model\n"
   ],
   "metadata": {
    "collapsed": false,
    "pycharm": {
     "name": "#%% md\n"
    }
   }
  },
  {
   "cell_type": "code",
   "execution_count": 8,
   "outputs": [],
   "source": [
    "bspline_config = BSplineConfig(chemical_system,\n",
    "                               r_min_map=r_min_map,\n",
    "                               r_max_map=r_max_map,\n",
    "                               resolution_map=resolution_map)\n",
    "\n",
    "representation = BasisProcessor(chemical_system,\n",
    "                                bspline_config)\n",
    "\n",
    "regularizer = bspline_config.get_regularization_matrix(\n",
    "    **regularization_params)\n",
    "fixed = bspline_config.get_fixed_tuples(values=0,\n",
    "                                        one_body=False,\n",
    "                                        upper_bounds=True,\n",
    "                                        lower_bounds=False)\n",
    "\n",
    "model = WeightedLinearModel(regularizer=regularizer,\n",
    "                            fixed_tuples=fixed)\n",
    "\n",
    "client = ProcessPoolExecutor(max_workers=n_jobs)"
   ],
   "metadata": {
    "collapsed": false,
    "pycharm": {
     "name": "#%%\n"
    }
   }
  },
  {
   "cell_type": "markdown",
   "source": [
    "# Compute energy and force features using B-spline basis"
   ],
   "metadata": {
    "collapsed": false,
    "pycharm": {
     "name": "#%% md\n"
    }
   }
  },
  {
   "cell_type": "code",
   "execution_count": 9,
   "outputs": [
    {
     "name": "stderr",
     "output_type": "stream",
     "text": [
      "100%|██████████| 128/128 [04:01<00:00,  1.89s/it]\n"
     ]
    }
   ],
   "source": [
    "n_batches = 16  # added granularity for more progress bar updates (optional).\n",
    "df_features = representation.evaluate_parallel(df_data,\n",
    "                                               data_coordinator,\n",
    "                                               client,\n",
    "                                               n_jobs=n_jobs * n_batches)"
   ],
   "metadata": {
    "collapsed": false,
    "pycharm": {
     "name": "#%%\n"
    }
   }
  },
  {
   "cell_type": "code",
   "execution_count": 10,
   "outputs": [
    {
     "data": {
      "text/plain": "                        y  n_W  ij_0  ij_1  ij_2  ij_3      ij_4      ij_5  \\\ndft_9692 fz_130 -0.349308  0.0  -0.0  -0.0  -0.0  -0.0 -0.731638  0.254634   \n         fz_131  0.646192  0.0  -0.0  -0.0  -0.0  -0.0  1.338005 -1.887305   \n         fz_132 -1.066545  0.0  -0.0  -0.0  -0.0  -0.0 -0.967187  3.125920   \n         fz_133 -0.292102  0.0  -0.0  -0.0  -0.0  -0.0  0.036952 -0.725176   \n         fz_134  0.034134  0.0  -0.0  -0.0  -0.0  -0.0 -0.150155  0.699390   \n\n                     ij_6      ij_7  ...      ij_18     ij_19     ij_20  \\\ndft_9692 fz_130  2.235403 -1.658641  ...  -2.876218 -4.614733 -0.144898   \n         fz_131 -2.046937  7.370498  ...  12.229312  6.062230 -0.000000   \n         fz_132 -3.120550 -4.939810  ...  -0.800037 -5.154843 -8.518168   \n         fz_133  1.554497 -2.723459  ...  13.482874 -6.896420 -2.600800   \n         fz_134 -2.843854  3.818630  ...  -7.151680 -0.095159  2.358159   \n\n                     ij_21      ij_22      ij_23      ij_24      ij_25  \\\ndft_9692 fz_130  -7.735684  -8.188476  32.821889   3.515273 -20.063360   \n         fz_131   7.109473  18.085836 -20.974637 -35.492463  26.062205   \n         fz_132 -10.845399   7.725257  -3.355608  19.322530   9.590749   \n         fz_133  -9.357365  -7.500500  32.415906 -27.554759  10.292425   \n         fz_134  -8.780113   4.140042   9.197823  16.211898  -4.778954   \n\n                     ij_26      ij_27  \ndft_9692 fz_130 -17.206056  17.001312  \n         fz_131  -8.374839  13.584425  \n         fz_132   8.948012 -25.013561  \n         fz_133  50.156311 -48.320855  \n         fz_134  -4.877550 -10.847418  \n\n[5 rows x 30 columns]",
      "text/html": "<div>\n<style scoped>\n    .dataframe tbody tr th:only-of-type {\n        vertical-align: middle;\n    }\n\n    .dataframe tbody tr th {\n        vertical-align: top;\n    }\n\n    .dataframe thead th {\n        text-align: right;\n    }\n</style>\n<table border=\"1\" class=\"dataframe\">\n  <thead>\n    <tr style=\"text-align: right;\">\n      <th></th>\n      <th></th>\n      <th>y</th>\n      <th>n_W</th>\n      <th>ij_0</th>\n      <th>ij_1</th>\n      <th>ij_2</th>\n      <th>ij_3</th>\n      <th>ij_4</th>\n      <th>ij_5</th>\n      <th>ij_6</th>\n      <th>ij_7</th>\n      <th>...</th>\n      <th>ij_18</th>\n      <th>ij_19</th>\n      <th>ij_20</th>\n      <th>ij_21</th>\n      <th>ij_22</th>\n      <th>ij_23</th>\n      <th>ij_24</th>\n      <th>ij_25</th>\n      <th>ij_26</th>\n      <th>ij_27</th>\n    </tr>\n  </thead>\n  <tbody>\n    <tr>\n      <th rowspan=\"5\" valign=\"top\">dft_9692</th>\n      <th>fz_130</th>\n      <td>-0.349308</td>\n      <td>0.0</td>\n      <td>-0.0</td>\n      <td>-0.0</td>\n      <td>-0.0</td>\n      <td>-0.0</td>\n      <td>-0.731638</td>\n      <td>0.254634</td>\n      <td>2.235403</td>\n      <td>-1.658641</td>\n      <td>...</td>\n      <td>-2.876218</td>\n      <td>-4.614733</td>\n      <td>-0.144898</td>\n      <td>-7.735684</td>\n      <td>-8.188476</td>\n      <td>32.821889</td>\n      <td>3.515273</td>\n      <td>-20.063360</td>\n      <td>-17.206056</td>\n      <td>17.001312</td>\n    </tr>\n    <tr>\n      <th>fz_131</th>\n      <td>0.646192</td>\n      <td>0.0</td>\n      <td>-0.0</td>\n      <td>-0.0</td>\n      <td>-0.0</td>\n      <td>-0.0</td>\n      <td>1.338005</td>\n      <td>-1.887305</td>\n      <td>-2.046937</td>\n      <td>7.370498</td>\n      <td>...</td>\n      <td>12.229312</td>\n      <td>6.062230</td>\n      <td>-0.000000</td>\n      <td>7.109473</td>\n      <td>18.085836</td>\n      <td>-20.974637</td>\n      <td>-35.492463</td>\n      <td>26.062205</td>\n      <td>-8.374839</td>\n      <td>13.584425</td>\n    </tr>\n    <tr>\n      <th>fz_132</th>\n      <td>-1.066545</td>\n      <td>0.0</td>\n      <td>-0.0</td>\n      <td>-0.0</td>\n      <td>-0.0</td>\n      <td>-0.0</td>\n      <td>-0.967187</td>\n      <td>3.125920</td>\n      <td>-3.120550</td>\n      <td>-4.939810</td>\n      <td>...</td>\n      <td>-0.800037</td>\n      <td>-5.154843</td>\n      <td>-8.518168</td>\n      <td>-10.845399</td>\n      <td>7.725257</td>\n      <td>-3.355608</td>\n      <td>19.322530</td>\n      <td>9.590749</td>\n      <td>8.948012</td>\n      <td>-25.013561</td>\n    </tr>\n    <tr>\n      <th>fz_133</th>\n      <td>-0.292102</td>\n      <td>0.0</td>\n      <td>-0.0</td>\n      <td>-0.0</td>\n      <td>-0.0</td>\n      <td>-0.0</td>\n      <td>0.036952</td>\n      <td>-0.725176</td>\n      <td>1.554497</td>\n      <td>-2.723459</td>\n      <td>...</td>\n      <td>13.482874</td>\n      <td>-6.896420</td>\n      <td>-2.600800</td>\n      <td>-9.357365</td>\n      <td>-7.500500</td>\n      <td>32.415906</td>\n      <td>-27.554759</td>\n      <td>10.292425</td>\n      <td>50.156311</td>\n      <td>-48.320855</td>\n    </tr>\n    <tr>\n      <th>fz_134</th>\n      <td>0.034134</td>\n      <td>0.0</td>\n      <td>-0.0</td>\n      <td>-0.0</td>\n      <td>-0.0</td>\n      <td>-0.0</td>\n      <td>-0.150155</td>\n      <td>0.699390</td>\n      <td>-2.843854</td>\n      <td>3.818630</td>\n      <td>...</td>\n      <td>-7.151680</td>\n      <td>-0.095159</td>\n      <td>2.358159</td>\n      <td>-8.780113</td>\n      <td>4.140042</td>\n      <td>9.197823</td>\n      <td>16.211898</td>\n      <td>-4.778954</td>\n      <td>-4.877550</td>\n      <td>-10.847418</td>\n    </tr>\n  </tbody>\n</table>\n<p>5 rows × 30 columns</p>\n</div>"
     },
     "execution_count": 10,
     "metadata": {},
     "output_type": "execute_result"
    }
   ],
   "source": [
    "df_features.tail()"
   ],
   "metadata": {
    "collapsed": false,
    "pycharm": {
     "name": "#%%\n"
    }
   }
  },
  {
   "cell_type": "markdown",
   "source": [
    "# Fit with 20% of the data, using preset training set\n",
    "### Weighing energies and forces with kappa = 0.8"
   ],
   "metadata": {
    "collapsed": false,
    "pycharm": {
     "name": "#%% md\n"
    }
   }
  },
  {
   "cell_type": "code",
   "execution_count": 11,
   "outputs": [],
   "source": [
    "kappa = 0.8  # energy-force weighting parameter between 0 and 1.\n",
    "\n",
    "training_keys = np.take(df_data.index, training_indices)\n",
    "testing_indices = np.setdiff1d(np.arange(len(df_data), dtype=int), training_indices)\n",
    "testing_keys = np.take(df_data.index, testing_indices)\n",
    "\n",
    "df_train = df_features.loc[training_keys]\n",
    "df_test = df_features.loc[testing_keys]\n",
    "x, y, w = representation.get_training_tuples(df_train,\n",
    "                                             kappa,\n",
    "                                             data_coordinator)"
   ],
   "metadata": {
    "collapsed": false,
    "pycharm": {
     "name": "#%%\n"
    }
   }
  },
  {
   "cell_type": "code",
   "execution_count": 12,
   "outputs": [],
   "source": [
    "model.fit(x, y, weights=w)"
   ],
   "metadata": {
    "collapsed": false,
    "pycharm": {
     "name": "#%%\n"
    }
   }
  },
  {
   "cell_type": "markdown",
   "source": [
    "# Evaluate Energy and Forces with model"
   ],
   "metadata": {
    "collapsed": false,
    "pycharm": {
     "name": "#%% md\n"
    }
   }
  },
  {
   "cell_type": "code",
   "execution_count": 13,
   "outputs": [],
   "source": [
    "# Evaluate\n",
    "x_test, y_test, w_cond = representation.get_training_tuples(df_test,\n",
    "                                                            0,\n",
    "                                                            data_coordinator)\n",
    "# slice entries corresponding to energies per atom\n",
    "s_e = df_data.loc[testing_keys][data_coordinator.size_key]\n",
    "x_e = np.divide(x_test[w_cond == 0].T, s_e.values).T\n",
    "y_e = y_test[w_cond == 0] / s_e.values\n",
    "# slice entries corresponding to forces\n",
    "x_f = x_test[w_cond > 0]\n",
    "y_f = y_test[w_cond > 0]\n",
    "# predict with solution\n",
    "p_e = model.predict(x_e)  # energy per atom\n",
    "p_f = model.predict(x_f)"
   ],
   "metadata": {
    "collapsed": false,
    "pycharm": {
     "name": "#%%\n"
    }
   }
  },
  {
   "cell_type": "markdown",
   "source": [
    "# Compute root-mean-square error"
   ],
   "metadata": {
    "collapsed": false,
    "pycharm": {
     "name": "#%% md\n"
    }
   }
  },
  {
   "cell_type": "code",
   "execution_count": 14,
   "outputs": [
    {
     "name": "stdout",
     "output_type": "stream",
     "text": [
      "Energy RMSE: 0.027309775522095257 eV/atom\n",
      "Forces RMSE: 0.3047559604838533 eV/angstrom\n"
     ]
    }
   ],
   "source": [
    "rmse_e = np.sqrt(np.mean(np.subtract(y_e, p_e)**2))\n",
    "rmse_f = np.sqrt(np.mean(np.subtract(y_f, p_f)**2))\n",
    "print(\"Energy RMSE:\", rmse_e, \"eV/atom\")\n",
    "print(\"Forces RMSE:\", rmse_f, \"eV/angstrom\")"
   ],
   "metadata": {
    "collapsed": false,
    "pycharm": {
     "name": "#%%\n"
    }
   }
  },
  {
   "cell_type": "markdown",
   "source": [
    "# Arrange solution into pair-interaction potentials"
   ],
   "metadata": {
    "collapsed": false
   }
  },
  {
   "cell_type": "code",
   "execution_count": 15,
   "outputs": [],
   "source": [
    "split_indices = np.cumsum(bspline_config.partition_sizes)[:-1]\n",
    "solutions_list = np.array_split(model.coefficients,\n",
    "                                split_indices)\n",
    "solutions = {element: value for element, value\n",
    "             in zip(chemical_system.element_list, solutions_list[0])}\n",
    "for i, pair in enumerate(chemical_system.interactions_map[2]):\n",
    "    solutions[pair] = solutions_list[i + 1]"
   ],
   "metadata": {
    "collapsed": false,
    "pycharm": {
     "name": "#%%\n"
    }
   }
  },
  {
   "cell_type": "code",
   "execution_count": 16,
   "outputs": [
    {
     "name": "stdout",
     "output_type": "stream",
     "text": [
      "W: -7.715771\n",
      "('W', 'W'): vector (28,)\n"
     ]
    }
   ],
   "source": [
    "for key, value in solutions.items():\n",
    "    if isinstance(value, (float, np.floating)):\n",
    "        print(\"{0}: {1:.6f}\".format(key, value))\n",
    "    else:\n",
    "        print(\"{}: vector\".format(key), value.shape)"
   ],
   "metadata": {
    "collapsed": false,
    "pycharm": {
     "name": "#%%\n"
    }
   }
  },
  {
   "cell_type": "markdown",
   "source": [
    "# Plot results\n"
   ],
   "metadata": {
    "collapsed": false,
    "pycharm": {
     "name": "#%% md\n"
    }
   }
  },
  {
   "cell_type": "code",
   "execution_count": 17,
   "outputs": [
    {
     "name": "stderr",
     "output_type": "stream",
     "text": [
      "<ipython-input-17-ddf32d05ffd1>:42: UserWarning: Matplotlib is currently using module://ipykernel.pylab.backend_inline, which is a non-GUI backend, so cannot show the figure.\n",
      "  fig.show()\n"
     ]
    },
    {
     "data": {
      "text/plain": "<Figure size 1196.8x640 with 3 Axes>",
      "image/png": "[encoded data removed]"
     },
     "metadata": {},
     "output_type": "display_data"
    }
   ],
   "source": [
    "y_min = -1\n",
    "y_max = 2\n",
    "ENERGY_UNITS = \"eV/atom\"\n",
    "FORCE_UNITS = \"eV/$\\mathrm{\\AA}$\"\n",
    "\n",
    "fig = plt.figure(figsize=(7.48, 4), dpi=160, facecolor='white')\n",
    "gs = fig.add_gridspec(ncols=3, nrows=2,\n",
    "                      width_ratios=[1, 1, 1],\n",
    "                      height_ratios=[0.5, 1])\n",
    "\n",
    "for i, pair in enumerate(chemical_system.interactions_map[2]):\n",
    "    ax = fig.add_subplot(gs[0, i])\n",
    "    r_min = r_min_map[pair]\n",
    "    r_max = r_max_map[pair]\n",
    "    knot_sequence = representation.knots_map[pair]\n",
    "    coefficients = solutions[pair]\n",
    "    plotting.visualize_splines(coefficients,\n",
    "                               knot_sequence,\n",
    "                               ax=ax,\n",
    "                               s_min=y_min,\n",
    "                               s_max=y_max,\n",
    "                               linewidth=1)\n",
    "    ax.set_ylabel('B-Spline Value')\n",
    "    ax.set_xlabel('$\\mathrm{r_{ij}~~(\\AA)}$')\n",
    "    ax.set_title(pair)\n",
    "ax2 = fig.add_subplot(gs[1, 0])\n",
    "plotting.density_scatter(y_e, p_e, ax=ax2, units=ENERGY_UNITS, text_size=6, label_size=10)\n",
    "ax2.set_xlabel('Reference ({})'.format(ENERGY_UNITS))\n",
    "ax2.set_ylabel('Prediction ({})'.format(ENERGY_UNITS))\n",
    "\n",
    "ax3 = fig.add_subplot(gs[1, 1])\n",
    "plotting.density_scatter(y_f, p_f, ax=ax3, units=FORCE_UNITS,\n",
    "                         text_size=6, label_size=10)\n",
    "ax3.set_xlabel('Reference ({})'.format(FORCE_UNITS))\n",
    "ax3.set_ylabel('Prediction ({})'.format(FORCE_UNITS))\n",
    "\n",
    "ax2.set_title('Energy Predictions')\n",
    "ax3.set_title('Force Predictions')\n",
    "fig.subplots_adjust(left=0.1, right=0.99,\n",
    "                    bottom=0.15, top=0.94,\n",
    "                    wspace=0.6, hspace=0.6)\n",
    "fig.show()\n"
   ],
   "metadata": {
    "collapsed": false,
    "pycharm": {
     "name": "#%%\n"
    }
   }
  },
  {
   "cell_type": "markdown",
   "source": [
    "# Export tabulated potentials"
   ],
   "metadata": {
    "collapsed": false,
    "pycharm": {
     "name": "#%% md\n"
    }
   }
  },
  {
   "cell_type": "code",
   "execution_count": 18,
   "outputs": [],
   "source": [
    "table_list = []\n",
    "pair_list = chemical_system.interactions_map[2]\n",
    "for pair in pair_list:\n",
    "    text = lammps.export_tabulated_potential(representation.knots_map[pair],\n",
    "                                             solutions[pair],\n",
    "                                             pair,\n",
    "                                             grid=1000,\n",
    "                                             filename=None)\n",
    "    table_list.append(text)\n",
    "combined_text = \"\\n\\n\\n\".join(table_list)\n",
    "table_name = os.path.join(example_directory, \"table_test\", \"W.table\")\n",
    "with open(table_name, \"w\") as f:\n",
    "    f.write(combined_text)"
   ],
   "metadata": {
    "collapsed": false,
    "pycharm": {
     "name": "#%%\n"
    }
   }
  },
  {
   "cell_type": "markdown",
   "source": [
    "# Compute energy, forces, stress with UFCalculator"
   ],
   "metadata": {
    "collapsed": false
   }
  },
  {
   "cell_type": "code",
   "execution_count": 22,
   "outputs": [
    {
     "name": "stdout",
     "output_type": "stream",
     "text": [
      "Energy: -37.3318429605963\n",
      "Stresses (numerical): [-0.05220458 -0.03054882 -0.00999726  0.00202458 -0.01651235 -0.02966367]\n",
      "Forces:\n",
      " [[ 0.3025895  -6.88007796  0.6373046 ]\n",
      " [ 1.20561977  0.41737433 -0.56341199]\n",
      " [-1.44561141 -1.43014366 -0.39479287]\n",
      " [-1.62551419  5.36211189 -0.37430882]\n",
      " [ 0.83604936  2.17034682  1.1250718 ]\n",
      " [ 1.76586331 -2.11369171 -0.75330561]\n",
      " [ 2.22437483  1.47218412 -0.74985818]\n",
      " [-1.35961125 -0.65303525  0.99262891]\n",
      " [-2.10035631 -0.00748168  0.09958628]\n",
      " [ 0.21436648  5.21061339 -0.08685451]\n",
      " [ 1.78287894 -3.29244597 -0.27374965]\n",
      " [-1.80064901 -0.25575434  0.34169003]]\n",
      "Max force: 6.8800779614245675\n"
     ]
    }
   ],
   "source": [
    "calc = calculator.UFCalculator(bspline_config, model)\n",
    "\n",
    "geom = df_data.iloc[3000]['geometry'].copy()  # 12-atom cell\n",
    "geom.set_calculator(calc)\n",
    "print(\"Energy:\", geom.get_potential_energy())\n",
    "print(\"Stresses (numerical):\", geom.get_stress())\n",
    "print(\"Forces:\\n\", geom.get_forces())\n",
    "print(\"Max force:\", np.max(np.abs(geom.get_forces())))"
   ],
   "metadata": {
    "collapsed": false,
    "pycharm": {
     "name": "#%%\n"
    }
   }
  },
  {
   "cell_type": "markdown",
   "source": [
    "# Compare with UFLammps calculator"
   ],
   "metadata": {
    "collapsed": false,
    "pycharm": {
     "name": "#%% md\n"
    }
   }
  },
  {
   "cell_type": "code",
   "execution_count": 23,
   "outputs": [
    {
     "name": "stdout",
     "output_type": "stream",
     "text": [
      "Energy: -37.331849640622735\n",
      "Stresses (numerical): [-0.05220477 -0.03054881 -0.00999754  0.0020246  -0.01651238 -0.02966354]\n",
      "Forces:\n",
      " [[-0.30259017  6.88008157 -0.63730665]\n",
      " [-1.20561591 -0.41736954  0.56340505]\n",
      " [ 1.44561226  1.43013918  0.3947966 ]\n",
      " [ 1.62551452 -5.36211307  0.3743116 ]\n",
      " [-0.83604893 -2.17034753 -1.12507322]\n",
      " [-1.76588178  2.11368927  0.75331565]\n",
      " [-2.2243698  -1.4721812   0.74985987]\n",
      " [ 1.35961106  0.65303314 -0.99262309]\n",
      " [ 2.10035144  0.00748539 -0.09958861]\n",
      " [-0.21436768 -5.21061307  0.08685749]\n",
      " [-1.78288025  3.2924452   0.27374679]\n",
      " [ 1.80066524  0.25575068 -0.34170149]]\n",
      "Max force: 6.880081567789464\n"
     ]
    }
   ],
   "source": [
    "calc = lammps.UFLammps(lmpcmds=[\"pair_style table spline 1000\",\n",
    "                                \"pair_coeff * * table_test/W.table UF_W-W 5.5\"],\n",
    "                       keep_alive=True)\n",
    "geom = df_data.iloc[3000]['geometry'].copy()  # 12-atom cell\n",
    "geom.set_calculator(calc)\n",
    "print(\"Energy:\", geom.get_potential_energy())\n",
    "print(\"Stresses (numerical):\", geom.get_stress())\n",
    "print(\"Forces:\\n\", geom.get_forces())\n",
    "print(\"Max force:\", np.max(np.abs(geom.get_forces())))\n",
    "del calc"
   ],
   "metadata": {
    "collapsed": false,
    "pycharm": {
     "name": "#%%\n"
    }
   }
  },
  {
   "cell_type": "markdown",
   "source": [
    "# Relax with UFLammps calculator"
   ],
   "metadata": {
    "collapsed": false,
    "pycharm": {
     "name": "#%% md\n"
    }
   }
  },
  {
   "cell_type": "code",
   "execution_count": 21,
   "outputs": [
    {
     "name": "stdout",
     "output_type": "stream",
     "text": [
      "Relaxation Steps: 95\n",
      "Energy: -40.61378638258292\n",
      "Stresses (numerical): [-0.03202215  0.00518146  0.02687797  0.00840406 -0.01969797 -0.04616099]\n",
      "Forces:\n",
      " [[ 1.95559395e-03  1.24053843e-03 -2.01667711e-03]\n",
      " [-1.83157921e-03  1.27496863e-03 -1.79693093e-03]\n",
      " [-1.70756706e-03  2.31619332e-03 -1.73253067e-03]\n",
      " [ 1.93693769e-03  1.25989636e-03 -2.14105043e-03]\n",
      " [ 3.30326033e-03  1.12824454e-03 -1.97243912e-04]\n",
      " [-3.42708721e-03 -1.89966240e-03 -2.15979936e-04]\n",
      " [-3.02842937e-03  5.95145969e-04 -2.20188666e-04]\n",
      " [ 2.93751536e-03 -1.46647897e-03 -2.36485087e-04]\n",
      " [ 1.28759004e-03  2.43709861e-05  1.65086865e-03]\n",
      " [-1.33078862e-03 -1.69770336e-03  2.65651046e-03]\n",
      " [-1.17295778e-03 -1.95055818e-03  2.54643308e-03]\n",
      " [ 1.07751187e-03 -8.24955330e-04  1.70327456e-03]]\n",
      "Max force: 0.003303260334543298\n"
     ]
    }
   ],
   "source": [
    "calc = lammps.UFLammps(lmpcmds=[\"pair_style table spline 1000\",\n",
    "                                \"pair_coeff * * table_test/W.table UF_W-W 5.5\"],\n",
    "                       keep_alive=True)\n",
    "calc.relax(geom)\n",
    "print('Relaxation Steps:', calc.results['nsteps'])\n",
    "geom.calc = calc\n",
    "print(\"Energy:\", geom.get_potential_energy())\n",
    "print(\"Stresses (numerical):\", geom.get_stress())\n",
    "lammps_forces = geom.get_forces()\n",
    "print(\"Forces:\\n\", lammps_forces)\n",
    "print(\"Max force:\", np.max(lammps_forces))\n",
    "del calc"
   ],
   "metadata": {
    "collapsed": false,
    "pycharm": {
     "name": "#%%\n"
    }
   }
  },
  {
   "cell_type": "code",
   "execution_count": 21,
   "outputs": [],
   "source": [],
   "metadata": {
    "collapsed": false,
    "pycharm": {
     "name": "#%%\n"
    }
   }
  }
 ],
 "metadata": {
  "kernelspec": {
   "display_name": "Python 3",
   "language": "python",
   "name": "python3"
  },
  "language_info": {
   "codemirror_mode": {
    "name": "ipython",
    "version": 2
   },
   "file_extension": ".py",
   "mimetype": "text/x-python",
   "name": "python",
   "nbconvert_exporter": "python",
   "pygments_lexer": "ipython2",
   "version": "2.7.6"
  }
 },
 "nbformat": 4,
 "nbformat_minor": 0
}