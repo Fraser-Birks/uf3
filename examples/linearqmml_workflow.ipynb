{
 "cells": [
  {
   "cell_type": "code",
   "execution_count": 1,
   "metadata": {},
   "outputs": [],
   "source": [
    "import os\n",
    "import yaml\n",
    "import time\n",
    "import sys\n",
    "import numpy as np\n",
    "import pandas as pd\n",
    "\n",
    "import matplotlib.pyplot as plt\n",
    "\n",
    "from linearqmml.parsing import LammpsParser\n",
    "\n",
    "from linearqmml.regression import ridge_regression\n",
    "from linearqmml.regression import collected_ridge_regression\n",
    "from linearqmml.regression import kernel_ridge_regression\n",
    "from linearqmml.regression import collected_kernel_ridge_regression\n",
    "\n",
    "from linearqmml.plotting import plot_distance_histogram\n",
    "from linearqmml.plotting import plot_descriptions\n",
    "from linearqmml.plotting import plot_morse_performance\n",
    "\n",
    "from linearqmml.utils import get_morse_potential\n",
    "from linearqmml.utils import tqdm_wrap"
   ]
  },
  {
   "cell_type": "code",
   "execution_count": 2,
   "metadata": {},
   "outputs": [],
   "source": [
    "from linearqmml.smearing import triangle_pdf\n",
    "from linearqmml.smearing import triangle_cdf"
   ]
  },
  {
   "cell_type": "code",
   "execution_count": 3,
   "metadata": {},
   "outputs": [],
   "source": [
    "from linearqmml.smearing import RealspaceHandler\n",
    "from linearqmml.smearing import distance_matrix_periodic"
   ]
  },
  {
   "cell_type": "markdown",
   "metadata": {},
   "source": [
    "# Parsing"
   ]
  },
  {
   "cell_type": "code",
   "execution_count": 4,
   "metadata": {},
   "outputs": [
    {
     "name": "stdout",
     "output_type": "stream",
     "text": [
      "\n",
      "    Parse LAMMPS .xyz and dumps. Supports serialization to yaml.\n",
      "\n",
      "    Suggest usage:\n",
      "    1. process_dump()\n",
      "    2. flatten_entries() to retrieve keys, ase Atoms objects, and energies\n",
      "    \n",
      "\n",
      "        Args:\n",
      "            root (str): Path to working directory.\n",
      "            stem (str): Prefix for dataset filenames.\n",
      "            element_symbols (list): List of element symbols (str).\n",
      "            element_aliases (dict): Optional mapping of aliases\n",
      "                for element symbols. LAMMPS users typically use integers\n",
      "                as element identifiers in inputs/outputs. Defaults to\n",
      "                integer: symbol mapping based on alphabetical sorting plus\n",
      "                symbol: symbol identity mapping.\n",
      "        \n"
     ]
    }
   ],
   "source": [
    "import linearqmml\n",
    "package_root = '/'.join(linearqmml.__file__.split('/')[:-2])\n",
    "example_dir = package_root + '/examples'\n",
    "assert os.path.isdir(example_dir)\n",
    "\n",
    "run_stem = 'copper_liquid'\n",
    "element_symbols = ['Cu']\n",
    "element_aliases = {'1': 'Cu'}\n",
    "\n",
    "parsing_handler = LammpsParser(root=example_dir,\n",
    "                               stem=run_stem, \n",
    "                               element_symbols=element_symbols,\n",
    "                               element_aliases=element_aliases)\n",
    "print(LammpsParser.__doc__)\n",
    "print(LammpsParser.__init__.__doc__)"
   ]
  },
  {
   "cell_type": "code",
   "execution_count": 5,
   "metadata": {},
   "outputs": [
    {
     "name": "stderr",
     "output_type": "stream",
     "text": [
      "100%|██████████| 2601/2601 [00:01<00:00, 1575.85it/s]"
     ]
    },
    {
     "name": "stdout",
     "output_type": "stream",
     "text": [
      "\n",
      "        Process custom LAMMPS dump file. Obtain by LAMMPS commands:\n",
      "            \"compute peratom all pe/atom\"\n",
      "            \"compute pe all reduce sum c_perat\"\n",
      "            \"dump fix_dump all custom 1 ${root}/${stem}.dump id x y z c_perat\"\n",
      "\n",
      "        Args:\n",
      "            filename: Optional filename. Defaults to [root]/[stem].dump\n",
      "        \n"
     ]
    },
    {
     "name": "stderr",
     "output_type": "stream",
     "text": [
      "\n"
     ]
    }
   ],
   "source": [
    "filename = '{}/{}.dump'.format(parsing_handler.root, parsing_handler.stem)\n",
    "parsing_handler.process_dump(filename=filename)\n",
    "print(LammpsParser.process_dump.__doc__)"
   ]
  },
  {
   "cell_type": "code",
   "execution_count": 6,
   "metadata": {},
   "outputs": [
    {
     "name": "stdout",
     "output_type": "stream",
     "text": [
      "\n",
      "        Flattens entries into lists e.g. for machine learning.\n",
      "\n",
      "        Args:\n",
      "            local (bool): uses list of energies if available instead of sum.\n",
      "            indices (list): optional subset of integers for slicing the\n",
      "                flattened list of keys.\n",
      "            key_subset (list): optional list of keys with which to take subset.\n",
      "\n",
      "        Returns:\n",
      "            keys (list): Entry names. Often simply the timesteps from LAMMPS.\n",
      "            geometries (list): List of ase Atoms objects.\n",
      "            energies (list): List of energies or lists of local energies.\n",
      "        \n"
     ]
    }
   ],
   "source": [
    "local=False\n",
    "indices = None\n",
    "key_subset = None\n",
    "flattened_entries = parsing_handler.flatten_entries(local=local,\n",
    "                                                    indices=indices,\n",
    "                                                    key_subset=key_subset)\n",
    "keys, geometries, energies = flattened_entries\n",
    "print(LammpsParser.flatten_entries.__doc__)"
   ]
  },
  {
   "cell_type": "code",
   "execution_count": 7,
   "metadata": {},
   "outputs": [
    {
     "data": {
      "text/html": [
       "<div>\n",
       "<style scoped>\n",
       "    .dataframe tbody tr th:only-of-type {\n",
       "        vertical-align: middle;\n",
       "    }\n",
       "\n",
       "    .dataframe tbody tr th {\n",
       "        vertical-align: top;\n",
       "    }\n",
       "\n",
       "    .dataframe thead th {\n",
       "        text-align: right;\n",
       "    }\n",
       "</style>\n",
       "<table border=\"1\" class=\"dataframe\">\n",
       "  <thead>\n",
       "    <tr style=\"text-align: right;\">\n",
       "      <th></th>\n",
       "      <th>Energy</th>\n",
       "      <th>Geometry</th>\n",
       "    </tr>\n",
       "  </thead>\n",
       "  <tbody>\n",
       "    <tr>\n",
       "      <th>259600</th>\n",
       "      <td>-320.92193</td>\n",
       "      <td>(Atom('Cu', [5.727547529418534, 7.024117529418...</td>\n",
       "    </tr>\n",
       "    <tr>\n",
       "      <th>259700</th>\n",
       "      <td>-317.78178</td>\n",
       "      <td>(Atom('Cu', [5.5855575294185345, 7.19925752941...</td>\n",
       "    </tr>\n",
       "    <tr>\n",
       "      <th>259800</th>\n",
       "      <td>-320.83003</td>\n",
       "      <td>(Atom('Cu', [5.329797529418534, 7.255487529418...</td>\n",
       "    </tr>\n",
       "    <tr>\n",
       "      <th>259900</th>\n",
       "      <td>-322.28102</td>\n",
       "      <td>(Atom('Cu', [5.320797529418535, 7.350327529418...</td>\n",
       "    </tr>\n",
       "    <tr>\n",
       "      <th>260000</th>\n",
       "      <td>-324.74018</td>\n",
       "      <td>(Atom('Cu', [5.055277529418534, 7.416527529418...</td>\n",
       "    </tr>\n",
       "  </tbody>\n",
       "</table>\n",
       "</div>"
      ],
      "text/plain": [
       "           Energy                                           Geometry\n",
       "259600 -320.92193  (Atom('Cu', [5.727547529418534, 7.024117529418...\n",
       "259700 -317.78178  (Atom('Cu', [5.5855575294185345, 7.19925752941...\n",
       "259800 -320.83003  (Atom('Cu', [5.329797529418534, 7.255487529418...\n",
       "259900 -322.28102  (Atom('Cu', [5.320797529418535, 7.350327529418...\n",
       "260000 -324.74018  (Atom('Cu', [5.055277529418534, 7.416527529418..."
      ]
     },
     "execution_count": 7,
     "metadata": {},
     "output_type": "execute_result"
    }
   ],
   "source": [
    "df = pd.DataFrame(columns=['Energy'], index=keys, data=energies)\n",
    "df['Geometry'] = geometries\n",
    "df.tail()"
   ]
  },
  {
   "cell_type": "markdown",
   "metadata": {},
   "source": [
    "# Triangle function demo"
   ]
  },
  {
   "cell_type": "code",
   "execution_count": 8,
   "metadata": {},
   "outputs": [
    {
     "data": {
      "image/png": "[encoded data removed]",
      "text/plain": [
       "<Figure size 432x288 with 1 Axes>"
      ]
     },
     "metadata": {
      "needs_background": "light"
     },
     "output_type": "display_data"
    }
   ],
   "source": [
    "n_test = 8\n",
    "\n",
    "r_min = 1.5\n",
    "r_max = 5\n",
    "\n",
    "x_test = np.linspace(r_min, r_max, n_test).astype(np.float64)\n",
    "mu_test = 3.5  # center of distribution\n",
    "sigma_test = 1  # width (radius) of broadening\n",
    "\n",
    "pdf = triangle_pdf(x_test, mu_test, sigma_test)  # function\n",
    "cdf = triangle_cdf(x_test, mu_test, sigma_test)  # integral\n",
    "trapz = [np.trapz(triangle_pdf(x_test[:i+1], mu_test, sigma_test), \n",
    "                  x_test[:i+1])\n",
    "         for i in range(len(x_test))]\n",
    "\n",
    "plt.title('Triangle test with {} points.'.format(n_test))\n",
    "plt.plot(x_test, pdf, label='Triangle function')\n",
    "plt.plot(x_test, cdf, label='Analytical integral')\n",
    "plt.plot(x_test, trapz, label='Numerical integral')\n",
    "plt.xlabel('x')\n",
    "plt.ylabel('g(x)')\n",
    "plt.xlim(r_min, r_max)\n",
    "plt.legend()\n",
    "plt.show()"
   ]
  },
  {
   "cell_type": "markdown",
   "metadata": {},
   "source": [
    "# Binning Demo"
   ]
  },
  {
   "cell_type": "code",
   "execution_count": 9,
   "metadata": {},
   "outputs": [],
   "source": [
    "n_bins = 50\n",
    "r_min = 1.5\n",
    "r_max = 5.0\n",
    "\n",
    "sigma_test = 0.1  # width (radius) of broadening\n",
    "bin_width = (r_max - r_min) / n_bins\n",
    "\n",
    "sigma_factor = sigma_test/bin_width\n",
    "\n",
    "rsh = RealspaceHandler(sigma_factor=sigma_factor,\n",
    "                       lower_bound=[r_min],\n",
    "                       upper_bound=[r_max],\n",
    "                       resolutions=[n_bins])"
   ]
  },
  {
   "cell_type": "code",
   "execution_count": 10,
   "metadata": {},
   "outputs": [
    {
     "name": "stdout",
     "output_type": "stream",
     "text": [
      "Number of bins = 50\n",
      "Active range (bins) 30:34\n"
     ]
    },
    {
     "data": {
      "image/png": "[encoded data removed]",
      "text/plain": [
       "<Figure size 432x288 with 2 Axes>"
      ]
     },
     "metadata": {
      "needs_background": "light"
     },
     "output_type": "display_data"
    }
   ],
   "source": [
    "mu_test = 3.7  # center of test distribution\n",
    "\n",
    "delta = sigma_test\n",
    "b_min = np.floor((mu_test - delta - r_min) / bin_width).astype(int)\n",
    "b_max = np.ceil((mu_test + delta - r_min) / bin_width).astype(int) + 1\n",
    "b_min = max(0, b_min)\n",
    "b_max = min(n_bins+1, b_max)\n",
    "# min and max indices of bin_edges to consider, based on distance delta\n",
    "# for triangle function, this is trivially equal to sigma\n",
    "bin_values = rsh.smear(mu_test, sigma_test, bin_width, r_min, b_min, b_max)\n",
    "\n",
    "bin_edges = np.arange(-5,n_bins+5)/n_bins*(r_max-r_min)+r_min\n",
    "print('Number of bins =', n_bins)\n",
    "print('Active range (bins) {}:{}'.format(b_min, b_max))\n",
    "fig, ax = plt.subplots(figsize=(6,4))\n",
    "ax2 = ax.twinx()\n",
    "ax.set_title('Triangle Binning'.format(n_test))\n",
    "ax.plot(bin_edges, triangle_pdf(bin_edges, mu_test, sigma_test), \n",
    "        label='Triangle function')\n",
    "ax2.scatter([r_min + bin_width * b_min, r_min + bin_width * (b_max-1)], \n",
    "            [0.02,0.02], \n",
    "            c='magenta', marker='|', s=500, \n",
    "            label='{b_min, b_max}')\n",
    "ax2.plot([], [], label='Triangle function')\n",
    "ax2.bar(np.arange(b_min, b_max) * bin_width + r_min, bin_values, \n",
    "        width=0.07, color='red', alpha=0.2,\n",
    "        align='edge', label='Binned Values')\n",
    "ax.set_xlabel('distance')\n",
    "ax.set_ylabel('triangle function value')\n",
    "ax2.set_ylabel('bin value')\n",
    "ax.set_xlim(r_min, r_max)\n",
    "ax2.set_xlim(r_min, r_max)\n",
    "ax.set_ylim(0, ax.get_ylim()[1])\n",
    "ax2.set_ylim(0, 0.7)\n",
    "ax2.legend()\n",
    "plt.show()"
   ]
  },
  {
   "cell_type": "markdown",
   "metadata": {},
   "source": [
    "# Histograms and Distance Matrices Demo"
   ]
  },
  {
   "cell_type": "code",
   "execution_count": 11,
   "metadata": {},
   "outputs": [
    {
     "name": "stdout",
     "output_type": "stream",
     "text": [
      "Distance Matrix shape: (108, 108)\n",
      "Number of distances within r_min < r < r_max:  5704\n"
     ]
    }
   ],
   "source": [
    "sample_geometry = geometries[0]\n",
    "dm = distance_matrix_periodic(sample_geometry.get_positions().astype(np.float64),\n",
    "                              sample_geometry.cell.diagonal().astype(np.float64))\n",
    "print('Distance Matrix shape:', dm.shape)\n",
    "sample_distances = dm[np.logical_and(dm>r_min, dm<r_max+0.1)]\n",
    "print('Number of distances within r_min < r < r_max: ', len(sample_distances))"
   ]
  },
  {
   "cell_type": "code",
   "execution_count": 12,
   "metadata": {},
   "outputs": [
    {
     "name": "stdout",
     "output_type": "stream",
     "text": [
      "\n",
      "    Histogram of pairwise distances, scaled by 1/r^2. The histogram converges\n",
      "    to the number density at larger distances.\n",
      "    \n",
      "    Args:\n",
      "        distances (list): flattened list of distance observations.\n",
      "        n_bins (int): Number of bins for histogram. Defaults to 50.\n",
      "        ax: optional matplotlib axis object on which to plot.\n",
      "\n",
      "    Returns:\n",
      "        fig & ax: new matplotlib figure & axis if ax is not specified.\n",
      "    \n"
     ]
    },
    {
     "data": {
      "image/png": "[encoded data removed]",
      "text/plain": [
       "<Figure size 432x288 with 1 Axes>"
      ]
     },
     "metadata": {
      "needs_background": "light"
     },
     "output_type": "display_data"
    }
   ],
   "source": [
    "fig, ax = plt.subplots(figsize=(6,4))\n",
    "plot_distance_histogram([sample_distances], n_bins=100, ax=ax)\n",
    "ax.set_ylabel('Normalized Frequency')\n",
    "ax.set_xlabel('Distance')\n",
    "ax.set_xlim(r_min, r_max)\n",
    "print(plot_distance_histogram.__doc__)"
   ]
  },
  {
   "cell_type": "markdown",
   "metadata": {},
   "source": [
    "# 1D Representation vs. Distance Histogram"
   ]
  },
  {
   "cell_type": "code",
   "execution_count": 13,
   "metadata": {},
   "outputs": [
    {
     "data": {
      "image/png": "[encoded data removed]",
      "text/plain": [
       "<Figure size 432x288 with 1 Axes>"
      ]
     },
     "metadata": {
      "needs_background": "light"
     },
     "output_type": "display_data"
    }
   ],
   "source": [
    "sample_representation = rsh.describe_1d(sample_geometry)\n",
    "\n",
    "plt.bar(np.arange(n_bins), sample_representation, width=0.8)\n",
    "plt.xlim(0, 49)\n",
    "plt.ylim(0, np.max(sample_representation))\n",
    "plt.xlabel('Bin Index')\n",
    "plt.ylabel('Representation Value (not normalized)')\n",
    "plt.title('Sample 1D Representation')\n",
    "plt.show()"
   ]
  },
  {
   "cell_type": "code",
   "execution_count": 14,
   "metadata": {},
   "outputs": [
    {
     "data": {
      "image/png": "[encoded data removed]",
      "text/plain": [
       "<Figure size 432x288 with 1 Axes>"
      ]
     },
     "metadata": {
      "needs_background": "light"
     },
     "output_type": "display_data"
    }
   ],
   "source": [
    "plt.hist(sample_distances, width=0.05, bins=50)\n",
    "plt.xlim(1.5, 5)\n",
    "plt.xlabel('Distance')\n",
    "plt.ylabel('Frequency')\n",
    "plt.title(\"Sample's True distance distribution\")\n",
    "plt.show()"
   ]
  },
  {
   "cell_type": "markdown",
   "metadata": {},
   "source": [
    "# Regression Demo\n"
   ]
  },
  {
   "cell_type": "code",
   "execution_count": 16,
   "metadata": {},
   "outputs": [
    {
     "name": "stderr",
     "output_type": "stream",
     "text": [
      "  0%|          | 0/50 [00:00<?, ?it/s]\n"
     ]
    },
    {
     "ename": "AttributeError",
     "evalue": "'numpy.ndarray' object has no attribute 'get_positions'",
     "output_type": "error",
     "traceback": [
      "\u001b[0;31m---------------------------------------------------------------------------\u001b[0m",
      "\u001b[0;31mAttributeError\u001b[0m                            Traceback (most recent call last)",
      "\u001b[0;32m<ipython-input-16-e8964273a405>\u001b[0m in \u001b[0;36m<module>\u001b[0;34m\u001b[0m\n\u001b[1;32m      6\u001b[0m \u001b[0;34m\u001b[0m\u001b[0m\n\u001b[1;32m      7\u001b[0m \u001b[0;32mfor\u001b[0m \u001b[0mkey\u001b[0m\u001b[0;34m,\u001b[0m \u001b[0mgeometry\u001b[0m \u001b[0;32min\u001b[0m \u001b[0mtqdm_wrap\u001b[0m\u001b[0;34m(\u001b[0m\u001b[0mentries\u001b[0m\u001b[0;34m)\u001b[0m\u001b[0;34m:\u001b[0m\u001b[0;34m\u001b[0m\u001b[0;34m\u001b[0m\u001b[0m\n\u001b[0;32m----> 8\u001b[0;31m     \u001b[0mrepresentation\u001b[0m \u001b[0;34m=\u001b[0m \u001b[0mrsh\u001b[0m\u001b[0;34m.\u001b[0m\u001b[0mdescribe_1d\u001b[0m\u001b[0;34m(\u001b[0m\u001b[0mdistances\u001b[0m\u001b[0;34m)\u001b[0m\u001b[0;34m\u001b[0m\u001b[0;34m\u001b[0m\u001b[0m\n\u001b[0m\u001b[1;32m      9\u001b[0m     \u001b[0mrepr_df\u001b[0m\u001b[0;34m.\u001b[0m\u001b[0mloc\u001b[0m\u001b[0;34m[\u001b[0m\u001b[0mkey\u001b[0m\u001b[0;34m]\u001b[0m \u001b[0;34m=\u001b[0m \u001b[0mrepresentation\u001b[0m\u001b[0;34m\u001b[0m\u001b[0;34m\u001b[0m\u001b[0m\n",
      "\u001b[0;32m~/Dropbox/linear-kernel-models/linearqmml/linearqmml/smearing.py\u001b[0m in \u001b[0;36mdescribe_1d\u001b[0;34m(self, sample_geometry)\u001b[0m\n\u001b[1;32m     96\u001b[0m         \u001b[0mr_max\u001b[0m \u001b[0;34m=\u001b[0m \u001b[0mself\u001b[0m\u001b[0;34m.\u001b[0m\u001b[0mupper_bound\u001b[0m\u001b[0;34m[\u001b[0m\u001b[0;36m0\u001b[0m\u001b[0;34m]\u001b[0m\u001b[0;34m\u001b[0m\u001b[0;34m\u001b[0m\u001b[0m\n\u001b[1;32m     97\u001b[0m         \u001b[0mskin\u001b[0m \u001b[0;34m=\u001b[0m \u001b[0mself\u001b[0m\u001b[0;34m.\u001b[0m\u001b[0msigma\u001b[0m\u001b[0;34m[\u001b[0m\u001b[0;36m0\u001b[0m\u001b[0;34m]\u001b[0m\u001b[0;34m\u001b[0m\u001b[0;34m\u001b[0m\u001b[0m\n\u001b[0;32m---> 98\u001b[0;31m         \u001b[0mpositions\u001b[0m \u001b[0;34m=\u001b[0m \u001b[0msample_geometry\u001b[0m\u001b[0;34m.\u001b[0m\u001b[0mget_positions\u001b[0m\u001b[0;34m(\u001b[0m\u001b[0;34m)\u001b[0m\u001b[0;34m.\u001b[0m\u001b[0mastype\u001b[0m\u001b[0;34m(\u001b[0m\u001b[0mnp\u001b[0m\u001b[0;34m.\u001b[0m\u001b[0mfloat64\u001b[0m\u001b[0;34m)\u001b[0m\u001b[0;34m\u001b[0m\u001b[0;34m\u001b[0m\u001b[0m\n\u001b[0m\u001b[1;32m     99\u001b[0m         \u001b[0mcell\u001b[0m \u001b[0;34m=\u001b[0m \u001b[0msample_geometry\u001b[0m\u001b[0;34m.\u001b[0m\u001b[0mcell\u001b[0m\u001b[0;34m.\u001b[0m\u001b[0mdiagonal\u001b[0m\u001b[0;34m(\u001b[0m\u001b[0;34m)\u001b[0m\u001b[0;34m.\u001b[0m\u001b[0mastype\u001b[0m\u001b[0;34m(\u001b[0m\u001b[0mnp\u001b[0m\u001b[0;34m.\u001b[0m\u001b[0mfloat64\u001b[0m\u001b[0;34m)\u001b[0m\u001b[0;34m\u001b[0m\u001b[0;34m\u001b[0m\u001b[0m\n\u001b[1;32m    100\u001b[0m         \u001b[0msample_distance_matrix\u001b[0m \u001b[0;34m=\u001b[0m \u001b[0mdistance_matrix_periodic\u001b[0m\u001b[0;34m(\u001b[0m\u001b[0mpositions\u001b[0m\u001b[0;34m,\u001b[0m \u001b[0mcell\u001b[0m\u001b[0;34m)\u001b[0m\u001b[0;34m\u001b[0m\u001b[0;34m\u001b[0m\u001b[0m\n",
      "\u001b[0;31mAttributeError\u001b[0m: 'numpy.ndarray' object has no attribute 'get_positions'"
     ]
    }
   ],
   "source": [
    "repr_columns = ['x_{}'.format(i) for i in range(n_bins)]\n",
    "repr_df = pd.DataFrame(columns=repr_columns)\n",
    "\n",
    "n = 50\n",
    "entries = sorted(zip(keys, geometries), key=lambda x: int(x[0]))[:n]\n",
    "\n",
    "for key, geometry in tqdm_wrap(entries):\n",
    "    representation = rsh.describe_1d(distances)\n",
    "    repr_df.loc[key] = representation"
   ]
  },
  {
   "cell_type": "code",
   "execution_count": null,
   "metadata": {},
   "outputs": [],
   "source": [
    "fig, ax = plt.subplots(figsize=(6,4))\n",
    "plot_descriptions(repr_df.values, rsh.bin_ranges[0]+rsh.lower_bound[0], ax=ax)\n",
    "ax.set_ylim(0, 250)\n",
    "#ax.set_xlim(rsh.lower_bound[0], rsh.upper_bound[0])\n",
    "ax.set_ylabel('g(r)')\n",
    "ax.set_xlabel('r')"
   ]
  },
  {
   "cell_type": "code",
   "execution_count": null,
   "metadata": {},
   "outputs": [],
   "source": [
    "frac_train = 0.8\n",
    "n_train = int(len(repr_df) * frac_train)\n",
    "\n",
    "x_train = repr_df.iloc[:n_train].values\n",
    "y_train = energies[:n_train]\n",
    "\n",
    "x_test = repr_df.iloc[n_train:].values\n",
    "y_test = energies[n_train:len(repr_df)]"
   ]
  },
  {
   "cell_type": "code",
   "execution_count": null,
   "metadata": {},
   "outputs": [],
   "source": [
    "coefficients, predictions, input_mean = ridge_regression(x_train, \n",
    "                                                         y_train, \n",
    "                                                         lambda_=1e-1)\n",
    "\n",
    "test_predictions = np.dot(coefficients, x_test.T)\n",
    "\n",
    "r_range = rsh.bin_ranges[0]+rsh.lower_bound[0]\n",
    "plot_morse_performance(coefficients, \n",
    "                       test_predictions, \n",
    "                       y_test, \n",
    "                       repr_df.values, \n",
    "                       r_range)"
   ]
  }
 ],
 "metadata": {
  "kernelspec": {
   "display_name": "Python 3",
   "language": "python",
   "name": "python3"
  },
  "language_info": {
   "codemirror_mode": {
    "name": "ipython",
    "version": 3
   },
   "file_extension": ".py",
   "mimetype": "text/x-python",
   "name": "python",
   "nbconvert_exporter": "python",
   "pygments_lexer": "ipython3",
   "version": "3.7.7"
  }
 },
 "nbformat": 4,
 "nbformat_minor": 4
}
