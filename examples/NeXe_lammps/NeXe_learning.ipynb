{
 "cells": [
  {
   "cell_type": "code",
   "execution_count": 1,
   "metadata": {
    "ExecuteTime": {
     "end_time": "2021-06-23T02:12:38.382218Z",
     "start_time": "2021-06-23T02:12:37.054836Z"
    },
    "pycharm": {
     "name": "#%%\n"
    }
   },
   "outputs": [],
   "source": [
    "import os\n",
    "from concurrent.futures import ProcessPoolExecutor\n",
    "import numpy as np\n",
    "import matplotlib.pyplot as plt\n",
    "import uf3\n",
    "from uf3.data.io import DataCoordinator\n",
    "from uf3.data.composition import ChemicalSystem\n",
    "from uf3.representation.bspline import BSplineBasis\n",
    "from uf3.representation.process import BasisFeaturizer\n",
    "from uf3.regression.least_squares import WeightedLinearModel\n",
    "from uf3.representation import distances\n",
    "from uf3.util import plotting\n",
    "from uf3.forcefield import calculator\n",
    "from uf3.forcefield import lammps"
   ]
  },
  {
   "cell_type": "markdown",
   "metadata": {
    "pycharm": {
     "name": "#%% md\n"
    }
   },
   "source": [
    "# User Parameters"
   ]
  },
  {
   "cell_type": "code",
   "execution_count": 2,
   "metadata": {
    "ExecuteTime": {
     "end_time": "2021-06-23T02:12:38.385257Z",
     "start_time": "2021-06-23T02:12:38.383383Z"
    }
   },
   "outputs": [],
   "source": [
    "dataset_directory = \"dataset\""
   ]
  },
  {
   "cell_type": "code",
   "execution_count": 3,
   "metadata": {
    "ExecuteTime": {
     "end_time": "2021-06-23T02:12:38.391181Z",
     "start_time": "2021-06-23T02:12:38.386856Z"
    },
    "pycharm": {
     "name": "#%%\n"
    }
   },
   "outputs": [],
   "source": [
    "n_jobs = 8                              # Maximum number of parallel processes\n",
    "\n",
    "element_list = ['Ne', 'Xe']\n",
    "degree = 2                              # two-body interactions\n",
    "\n",
    "r_min_map = {('Ne', 'Ne'): 1.5,\n",
    "             ('Ne', 'Xe'): 1.5,\n",
    "             ('Xe', 'Xe'): 1.5,}        # minimum distance cutoff (angstroms)\n",
    "r_max_map = {('Ne', 'Ne'): 6.0,\n",
    "             ('Ne', 'Xe'): 8.0,\n",
    "             ('Xe', 'Xe'): 10.0,}        # maximum distance cutoff (angstroms)\n",
    "resolution_map = {('Ne', 'Ne'): 35,\n",
    "                  ('Ne', 'Xe'): 35,\n",
    "                  ('Xe', 'Xe'): 35}     # number of knot intervals\n",
    "\n",
    "lammps_aliases = {1: 'Ne',\n",
    "                  2: 'Xe'}              # aliases for LAMMPS atom types\n",
    "\n",
    "regularization_params = dict(ridge_1b=1e-4,  # L2 (Ridge) regularization\n",
    "                             ridge_2b=1e-6,\n",
    "                             ridge_3b=1e-5,\n",
    "                             curve_2b=1e-5,  # Curvature regularization\n",
    "                             curve_3b=1e-4)\n",
    "# may be optimized through cross-validation and grid/random search."
   ]
  },
  {
   "cell_type": "markdown",
   "metadata": {
    "pycharm": {
     "name": "#%% md\n"
    }
   },
   "source": [
    "# Initialize data coordinator and chemical system"
   ]
  },
  {
   "cell_type": "code",
   "execution_count": 4,
   "metadata": {
    "ExecuteTime": {
     "end_time": "2021-06-23T02:12:38.395190Z",
     "start_time": "2021-06-23T02:12:38.392957Z"
    },
    "pycharm": {
     "name": "#%%\n"
    }
   },
   "outputs": [],
   "source": [
    "data_coordinator = DataCoordinator()\n",
    "\n",
    "chemical_system = ChemicalSystem(element_list=element_list,\n",
    "                                 degree=degree)\n",
    "\n"
   ]
  },
  {
   "cell_type": "markdown",
   "metadata": {
    "pycharm": {
     "name": "#%% md\n"
    }
   },
   "source": [
    "# Load data from LAMMPS run directory"
   ]
  },
  {
   "cell_type": "code",
   "execution_count": 5,
   "metadata": {
    "ExecuteTime": {
     "end_time": "2021-06-23T02:12:39.536105Z",
     "start_time": "2021-06-23T02:12:38.396739Z"
    },
    "pycharm": {
     "name": "#%%\n"
    }
   },
   "outputs": [
    {
     "name": "stdout",
     "output_type": "stream",
     "text": [
      "Number of energies: 401\n",
      "Number of forces: 76992\n"
     ]
    }
   ],
   "source": [
    "data_coordinator.dataframe_from_lammps_run(dataset_directory,\n",
    "                                           lammps_aliases,\n",
    "                                           prefix='lmp',\n",
    "                                           log_fname=\"log.lammps\",\n",
    "                                           dump_fname=\"dump.lammpstrj\")\n",
    "df_data = data_coordinator.consolidate()\n",
    "print(\"Number of energies:\", len(df_data))\n",
    "print(\"Number of forces:\", int(np.sum(df_data[\"size\"]) * 3))"
   ]
  },
  {
   "cell_type": "code",
   "execution_count": 6,
   "metadata": {
    "ExecuteTime": {
     "end_time": "2021-06-23T02:12:39.567814Z",
     "start_time": "2021-06-23T02:12:39.537000Z"
    },
    "pycharm": {
     "name": "#%%\n"
    }
   },
   "outputs": [
    {
     "data": {
      "text/html": [
       "<div>\n",
       "<style scoped>\n",
       "    .dataframe tbody tr th:only-of-type {\n",
       "        vertical-align: middle;\n",
       "    }\n",
       "\n",
       "    .dataframe tbody tr th {\n",
       "        vertical-align: top;\n",
       "    }\n",
       "\n",
       "    .dataframe thead th {\n",
       "        text-align: right;\n",
       "    }\n",
       "</style>\n",
       "<table border=\"1\" class=\"dataframe\">\n",
       "  <thead>\n",
       "    <tr style=\"text-align: right;\">\n",
       "      <th></th>\n",
       "      <th>Step</th>\n",
       "      <th>Temp</th>\n",
       "      <th>Press</th>\n",
       "      <th>TotEng</th>\n",
       "      <th>energy</th>\n",
       "      <th>geometry</th>\n",
       "      <th>size</th>\n",
       "      <th>fx</th>\n",
       "      <th>fy</th>\n",
       "      <th>fz</th>\n",
       "    </tr>\n",
       "  </thead>\n",
       "  <tbody>\n",
       "    <tr>\n",
       "      <th>lmp_0</th>\n",
       "      <td>0</td>\n",
       "      <td>0.100000</td>\n",
       "      <td>0.300731</td>\n",
       "      <td>-4.425584</td>\n",
       "      <td>-4.426398</td>\n",
       "      <td>(Atom('Ne', [15.123913088599998, 15.1239130885...</td>\n",
       "      <td>64.0</td>\n",
       "      <td>[0.0, -0.0, -0.0, 0.0, 0.0, -0.0, -0.0, 0.0, 0...</td>\n",
       "      <td>[0.0, -0.0, 0.0, -0.0, 0.0, -0.0, 0.0, -0.0, 0...</td>\n",
       "      <td>[-0.0, -0.0, 0.0, 0.0, -0.0, -0.0, 0.0, 0.0, -...</td>\n",
       "    </tr>\n",
       "    <tr>\n",
       "      <th>lmp_1</th>\n",
       "      <td>1000</td>\n",
       "      <td>5.624945</td>\n",
       "      <td>-73.317322</td>\n",
       "      <td>-4.412308</td>\n",
       "      <td>-4.458114</td>\n",
       "      <td>(Atom('Ne', [15.165314343599999, 15.1792692817...</td>\n",
       "      <td>64.0</td>\n",
       "      <td>[0.00020442650000000002, 0.0016639457, 0.00192...</td>\n",
       "      <td>[0.0056729229, 0.0009264524000000001, 0.002516...</td>\n",
       "      <td>[-0.0015951115, -0.0019227623, -0.0035339883, ...</td>\n",
       "    </tr>\n",
       "    <tr>\n",
       "      <th>lmp_2</th>\n",
       "      <td>2000</td>\n",
       "      <td>10.808590</td>\n",
       "      <td>-428.025400</td>\n",
       "      <td>-4.639121</td>\n",
       "      <td>-4.727139</td>\n",
       "      <td>(Atom('Ne', [0.9063913729, 1.3488837163999998,...</td>\n",
       "      <td>64.0</td>\n",
       "      <td>[0.0015836835999999998, -0.0023350728, 0.00265...</td>\n",
       "      <td>[-3.38791e-05, 0.002999284, -0.0060387845, 0.0...</td>\n",
       "      <td>[-0.0036139710999999997, -0.0023498482, 0.0036...</td>\n",
       "    </tr>\n",
       "    <tr>\n",
       "      <th>lmp_3</th>\n",
       "      <td>3000</td>\n",
       "      <td>14.861731</td>\n",
       "      <td>-1202.434200</td>\n",
       "      <td>-4.878347</td>\n",
       "      <td>-4.999372</td>\n",
       "      <td>(Atom('Ne', [1.3474466084, 1.2753605426, 14.56...</td>\n",
       "      <td>64.0</td>\n",
       "      <td>[-0.004552505300000001, 0.0010418925, -0.00689...</td>\n",
       "      <td>[0.004840957700000001, -0.0004996062000000001,...</td>\n",
       "      <td>[0.0098480452, 0.0022208212, 5.97758e-05, -0.0...</td>\n",
       "    </tr>\n",
       "    <tr>\n",
       "      <th>lmp_4</th>\n",
       "      <td>4000</td>\n",
       "      <td>20.299581</td>\n",
       "      <td>-1269.661700</td>\n",
       "      <td>-4.843280</td>\n",
       "      <td>-5.008587</td>\n",
       "      <td>(Atom('Ne', [1.7462606202000002, 1.4321776581,...</td>\n",
       "      <td>64.0</td>\n",
       "      <td>[-0.0036245833000000003, 0.0027762812, 0.00332...</td>\n",
       "      <td>[0.0002289233, 0.0005190723000000001, 0.009913...</td>\n",
       "      <td>[0.0008959326, 0.000723354, 0.0071951805, -0.0...</td>\n",
       "    </tr>\n",
       "  </tbody>\n",
       "</table>\n",
       "</div>"
      ],
      "text/plain": [
       "       Step       Temp        Press    TotEng    energy  \\\n",
       "lmp_0     0   0.100000     0.300731 -4.425584 -4.426398   \n",
       "lmp_1  1000   5.624945   -73.317322 -4.412308 -4.458114   \n",
       "lmp_2  2000  10.808590  -428.025400 -4.639121 -4.727139   \n",
       "lmp_3  3000  14.861731 -1202.434200 -4.878347 -4.999372   \n",
       "lmp_4  4000  20.299581 -1269.661700 -4.843280 -5.008587   \n",
       "\n",
       "                                                geometry  size  \\\n",
       "lmp_0  (Atom('Ne', [15.123913088599998, 15.1239130885...  64.0   \n",
       "lmp_1  (Atom('Ne', [15.165314343599999, 15.1792692817...  64.0   \n",
       "lmp_2  (Atom('Ne', [0.9063913729, 1.3488837163999998,...  64.0   \n",
       "lmp_3  (Atom('Ne', [1.3474466084, 1.2753605426, 14.56...  64.0   \n",
       "lmp_4  (Atom('Ne', [1.7462606202000002, 1.4321776581,...  64.0   \n",
       "\n",
       "                                                      fx  \\\n",
       "lmp_0  [0.0, -0.0, -0.0, 0.0, 0.0, -0.0, -0.0, 0.0, 0...   \n",
       "lmp_1  [0.00020442650000000002, 0.0016639457, 0.00192...   \n",
       "lmp_2  [0.0015836835999999998, -0.0023350728, 0.00265...   \n",
       "lmp_3  [-0.004552505300000001, 0.0010418925, -0.00689...   \n",
       "lmp_4  [-0.0036245833000000003, 0.0027762812, 0.00332...   \n",
       "\n",
       "                                                      fy  \\\n",
       "lmp_0  [0.0, -0.0, 0.0, -0.0, 0.0, -0.0, 0.0, -0.0, 0...   \n",
       "lmp_1  [0.0056729229, 0.0009264524000000001, 0.002516...   \n",
       "lmp_2  [-3.38791e-05, 0.002999284, -0.0060387845, 0.0...   \n",
       "lmp_3  [0.004840957700000001, -0.0004996062000000001,...   \n",
       "lmp_4  [0.0002289233, 0.0005190723000000001, 0.009913...   \n",
       "\n",
       "                                                      fz  \n",
       "lmp_0  [-0.0, -0.0, 0.0, 0.0, -0.0, -0.0, 0.0, 0.0, -...  \n",
       "lmp_1  [-0.0015951115, -0.0019227623, -0.0035339883, ...  \n",
       "lmp_2  [-0.0036139710999999997, -0.0023498482, 0.0036...  \n",
       "lmp_3  [0.0098480452, 0.0022208212, 5.97758e-05, -0.0...  \n",
       "lmp_4  [0.0008959326, 0.000723354, 0.0071951805, -0.0...  "
      ]
     },
     "execution_count": 6,
     "metadata": {},
     "output_type": "execute_result"
    }
   ],
   "source": [
    "df_data.head()"
   ]
  },
  {
   "cell_type": "markdown",
   "metadata": {
    "pycharm": {
     "name": "#%% md\n"
    }
   },
   "source": [
    "# Visualize partial radial distribution functions\n",
    "### This can be a sanity check for specified interaction-specific cutoffs."
   ]
  },
  {
   "cell_type": "code",
   "execution_count": 7,
   "metadata": {
    "ExecuteTime": {
     "end_time": "2021-06-23T02:12:41.577294Z",
     "start_time": "2021-06-23T02:12:39.568869Z"
    },
    "pycharm": {
     "name": "#%%\n"
    }
   },
   "outputs": [
    {
     "name": "stderr",
     "output_type": "stream",
     "text": [
      "100%|██████████| 401/401 [00:02<00:00, 200.22it/s]"
     ]
    },
    {
     "name": "stdout",
     "output_type": "stream",
     "text": [
      "('Ne', 'Ne') Lower bound: 2.160 angstroms\n",
      "('Ne', 'Ne') Peaks (min width 0.5 angstroms): [2.82 5.46]\n",
      "('Ne', 'Xe') Lower bound: 2.640 angstroms\n",
      "('Ne', 'Xe') Peaks (min width 0.5 angstroms): [ 3.66  7.98 10.74]\n",
      "('Xe', 'Xe') Lower bound: 3.360 angstroms\n",
      "('Xe', 'Xe') Peaks (min width 0.5 angstroms): [ 4.26  7.14 11.1 ]\n"
     ]
    },
    {
     "name": "stderr",
     "output_type": "stream",
     "text": [
      "\n"
     ]
    }
   ],
   "source": [
    "atoms_key = data_coordinator.atoms_key\n",
    "histograms = distances.summarize_distances(df_data[atoms_key],\n",
    "                                           chemical_system)"
   ]
  },
  {
   "cell_type": "code",
   "execution_count": 8,
   "metadata": {
    "ExecuteTime": {
     "end_time": "2021-06-23T02:12:42.193397Z",
     "start_time": "2021-06-23T02:12:41.579032Z"
    },
    "pycharm": {
     "name": "#%%\n"
    }
   },
   "outputs": [
    {
     "data": {
      "image/png": "[encoded data removed]",
      "text/plain": [
       "<Figure size 432x144 with 3 Axes>"
      ]
     },
     "metadata": {
      "needs_background": "light"
     },
     "output_type": "display_data"
    }
   ],
   "source": [
    "bar_width = histograms[1][1] - histograms[1][0]\n",
    "pairs = chemical_system.interactions_map[2]\n",
    "fig, ax = plt.subplots(1, len(pairs), figsize=(len(pairs)*2, 2))\n",
    "for i, pair in enumerate(pairs):\n",
    "    ax[i].bar(histograms[1][:-1],\n",
    "              histograms[0][pair],\n",
    "              width=bar_width)\n",
    "    ax[i].set_title(pair)\n",
    "    ax[i].plot([0, 10], [1, 1], linestyle='--', color='k')\n",
    "    ax[i].set_xlim(0, 10)\n",
    "    ax[i].set_ylim(0, 4)\n",
    "fig.tight_layout()"
   ]
  },
  {
   "cell_type": "markdown",
   "metadata": {
    "pycharm": {
     "name": "#%% md\n"
    }
   },
   "source": [
    "# Initialize representation, regularizer, and model\n"
   ]
  },
  {
   "cell_type": "code",
   "execution_count": 9,
   "metadata": {
    "ExecuteTime": {
     "end_time": "2021-06-23T02:12:42.211472Z",
     "start_time": "2021-06-23T02:12:42.195534Z"
    },
    "pycharm": {
     "name": "#%%\n"
    }
   },
   "outputs": [],
   "source": [
    "bspline_config = BSplineBasis(chemical_system,\n",
    "                               r_min_map=r_min_map,\n",
    "                               r_max_map=r_max_map,\n",
    "                               resolution_map=resolution_map)\n",
    "\n",
    "representation = BasisFeaturizer(chemical_system,\n",
    "                                bspline_config)\n",
    "\n",
    "regularizer = bspline_config.get_regularization_matrix(\n",
    "    **regularization_params)\n",
    "fixed = bspline_config.get_fixed_tuples(values=0,\n",
    "                                        one_body=True,\n",
    "                                        upper_bounds=True,\n",
    "                                        lower_bounds=False)\n",
    "\n",
    "model = WeightedLinearModel(regularizer=regularizer,\n",
    "                            fixed_tuples=fixed)\n",
    "\n",
    "client = ProcessPoolExecutor(max_workers=n_jobs)"
   ]
  },
  {
   "cell_type": "markdown",
   "metadata": {
    "pycharm": {
     "name": "#%% md\n"
    }
   },
   "source": [
    "# Compute energy and force features using B-spline basis"
   ]
  },
  {
   "cell_type": "code",
   "execution_count": 10,
   "metadata": {
    "ExecuteTime": {
     "end_time": "2021-06-23T02:13:09.204211Z",
     "start_time": "2021-06-23T02:12:42.212792Z"
    },
    "pycharm": {
     "name": "#%%\n"
    }
   },
   "outputs": [
    {
     "name": "stderr",
     "output_type": "stream",
     "text": [
      "100%|██████████| 32/32 [00:26<00:00,  2.63it/s]"
     ]
    }
   ],
   "source": [
    "n_batches = 4  # added granularity for more progress bar updates (optional).\n",
    "df_features = representation.evaluate_parallel(df_data,\n",
    "                                               client,\n",
    "                                               n_jobs=n_jobs * n_batches)"
   ]
  },
  {
   "cell_type": "code",
   "execution_count": 11,
   "metadata": {
    "ExecuteTime": {
     "end_time": "2021-06-23T02:13:09.224959Z",
     "start_time": "2021-06-23T02:13:09.205631Z"
    },
    "pycharm": {
     "name": "#%%\n"
    }
   },
   "outputs": [
    {
     "data": {
      "text/html": [
       "<div>\n",
       "<style scoped>\n",
       "    .dataframe tbody tr th:only-of-type {\n",
       "        vertical-align: middle;\n",
       "    }\n",
       "\n",
       "    .dataframe tbody tr th {\n",
       "        vertical-align: top;\n",
       "    }\n",
       "\n",
       "    .dataframe thead th {\n",
       "        text-align: right;\n",
       "    }\n",
       "</style>\n",
       "<table border=\"1\" class=\"dataframe\">\n",
       "  <thead>\n",
       "    <tr style=\"text-align: right;\">\n",
       "      <th></th>\n",
       "      <th></th>\n",
       "      <th>y</th>\n",
       "      <th>n_Ne</th>\n",
       "      <th>n_Xe</th>\n",
       "      <th>ij_0</th>\n",
       "      <th>ij_1</th>\n",
       "      <th>ij_2</th>\n",
       "      <th>ij_3</th>\n",
       "      <th>ij_4</th>\n",
       "      <th>ij_5</th>\n",
       "      <th>ij_6</th>\n",
       "      <th>...</th>\n",
       "      <th>ij_104</th>\n",
       "      <th>ij_105</th>\n",
       "      <th>ij_106</th>\n",
       "      <th>ij_107</th>\n",
       "      <th>ij_108</th>\n",
       "      <th>ij_109</th>\n",
       "      <th>ij_110</th>\n",
       "      <th>ij_111</th>\n",
       "      <th>ij_112</th>\n",
       "      <th>ij_113</th>\n",
       "    </tr>\n",
       "  </thead>\n",
       "  <tbody>\n",
       "    <tr>\n",
       "      <th rowspan=\"5\" valign=\"top\">lmp_0</th>\n",
       "      <th>energy</th>\n",
       "      <td>-4.426398</td>\n",
       "      <td>32.0</td>\n",
       "      <td>32.0</td>\n",
       "      <td>0.0</td>\n",
       "      <td>0.0</td>\n",
       "      <td>0.0</td>\n",
       "      <td>0.0</td>\n",
       "      <td>0.0</td>\n",
       "      <td>0.0</td>\n",
       "      <td>0.0</td>\n",
       "      <td>...</td>\n",
       "      <td>0.0</td>\n",
       "      <td>2.002371</td>\n",
       "      <td>242.049767</td>\n",
       "      <td>469.969187</td>\n",
       "      <td>53.978674</td>\n",
       "      <td>0.0</td>\n",
       "      <td>0.0</td>\n",
       "      <td>0.0</td>\n",
       "      <td>0.0</td>\n",
       "      <td>0.0</td>\n",
       "    </tr>\n",
       "    <tr>\n",
       "      <th>fx_0</th>\n",
       "      <td>0.000000</td>\n",
       "      <td>0.0</td>\n",
       "      <td>0.0</td>\n",
       "      <td>-0.0</td>\n",
       "      <td>-0.0</td>\n",
       "      <td>-0.0</td>\n",
       "      <td>-0.0</td>\n",
       "      <td>-0.0</td>\n",
       "      <td>-0.0</td>\n",
       "      <td>-0.0</td>\n",
       "      <td>...</td>\n",
       "      <td>-0.0</td>\n",
       "      <td>-0.000000</td>\n",
       "      <td>-0.000000</td>\n",
       "      <td>-0.000000</td>\n",
       "      <td>-0.000000</td>\n",
       "      <td>-0.0</td>\n",
       "      <td>-0.0</td>\n",
       "      <td>-0.0</td>\n",
       "      <td>-0.0</td>\n",
       "      <td>-0.0</td>\n",
       "    </tr>\n",
       "    <tr>\n",
       "      <th>fx_1</th>\n",
       "      <td>-0.000000</td>\n",
       "      <td>0.0</td>\n",
       "      <td>0.0</td>\n",
       "      <td>-0.0</td>\n",
       "      <td>-0.0</td>\n",
       "      <td>-0.0</td>\n",
       "      <td>-0.0</td>\n",
       "      <td>-0.0</td>\n",
       "      <td>-0.0</td>\n",
       "      <td>-0.0</td>\n",
       "      <td>...</td>\n",
       "      <td>-0.0</td>\n",
       "      <td>-0.000000</td>\n",
       "      <td>-0.000000</td>\n",
       "      <td>-0.000000</td>\n",
       "      <td>-0.000000</td>\n",
       "      <td>-0.0</td>\n",
       "      <td>-0.0</td>\n",
       "      <td>-0.0</td>\n",
       "      <td>-0.0</td>\n",
       "      <td>-0.0</td>\n",
       "    </tr>\n",
       "    <tr>\n",
       "      <th>fx_2</th>\n",
       "      <td>-0.000000</td>\n",
       "      <td>0.0</td>\n",
       "      <td>0.0</td>\n",
       "      <td>-0.0</td>\n",
       "      <td>-0.0</td>\n",
       "      <td>-0.0</td>\n",
       "      <td>-0.0</td>\n",
       "      <td>-0.0</td>\n",
       "      <td>-0.0</td>\n",
       "      <td>-0.0</td>\n",
       "      <td>...</td>\n",
       "      <td>-0.0</td>\n",
       "      <td>-0.000000</td>\n",
       "      <td>-0.000000</td>\n",
       "      <td>-0.000000</td>\n",
       "      <td>-0.000000</td>\n",
       "      <td>-0.0</td>\n",
       "      <td>-0.0</td>\n",
       "      <td>-0.0</td>\n",
       "      <td>-0.0</td>\n",
       "      <td>-0.0</td>\n",
       "    </tr>\n",
       "    <tr>\n",
       "      <th>fx_3</th>\n",
       "      <td>0.000000</td>\n",
       "      <td>0.0</td>\n",
       "      <td>0.0</td>\n",
       "      <td>-0.0</td>\n",
       "      <td>-0.0</td>\n",
       "      <td>-0.0</td>\n",
       "      <td>-0.0</td>\n",
       "      <td>-0.0</td>\n",
       "      <td>-0.0</td>\n",
       "      <td>-0.0</td>\n",
       "      <td>...</td>\n",
       "      <td>-0.0</td>\n",
       "      <td>-0.000000</td>\n",
       "      <td>-0.000000</td>\n",
       "      <td>-0.000000</td>\n",
       "      <td>-0.000000</td>\n",
       "      <td>-0.0</td>\n",
       "      <td>-0.0</td>\n",
       "      <td>-0.0</td>\n",
       "      <td>-0.0</td>\n",
       "      <td>-0.0</td>\n",
       "    </tr>\n",
       "  </tbody>\n",
       "</table>\n",
       "<p>5 rows × 117 columns</p>\n",
       "</div>"
      ],
      "text/plain": [
       "                     y  n_Ne  n_Xe  ij_0  ij_1  ij_2  ij_3  ij_4  ij_5  ij_6  \\\n",
       "lmp_0 energy -4.426398  32.0  32.0   0.0   0.0   0.0   0.0   0.0   0.0   0.0   \n",
       "      fx_0    0.000000   0.0   0.0  -0.0  -0.0  -0.0  -0.0  -0.0  -0.0  -0.0   \n",
       "      fx_1   -0.000000   0.0   0.0  -0.0  -0.0  -0.0  -0.0  -0.0  -0.0  -0.0   \n",
       "      fx_2   -0.000000   0.0   0.0  -0.0  -0.0  -0.0  -0.0  -0.0  -0.0  -0.0   \n",
       "      fx_3    0.000000   0.0   0.0  -0.0  -0.0  -0.0  -0.0  -0.0  -0.0  -0.0   \n",
       "\n",
       "              ...  ij_104    ij_105      ij_106      ij_107     ij_108  \\\n",
       "lmp_0 energy  ...     0.0  2.002371  242.049767  469.969187  53.978674   \n",
       "      fx_0    ...    -0.0 -0.000000   -0.000000   -0.000000  -0.000000   \n",
       "      fx_1    ...    -0.0 -0.000000   -0.000000   -0.000000  -0.000000   \n",
       "      fx_2    ...    -0.0 -0.000000   -0.000000   -0.000000  -0.000000   \n",
       "      fx_3    ...    -0.0 -0.000000   -0.000000   -0.000000  -0.000000   \n",
       "\n",
       "              ij_109  ij_110  ij_111  ij_112  ij_113  \n",
       "lmp_0 energy     0.0     0.0     0.0     0.0     0.0  \n",
       "      fx_0      -0.0    -0.0    -0.0    -0.0    -0.0  \n",
       "      fx_1      -0.0    -0.0    -0.0    -0.0    -0.0  \n",
       "      fx_2      -0.0    -0.0    -0.0    -0.0    -0.0  \n",
       "      fx_3      -0.0    -0.0    -0.0    -0.0    -0.0  \n",
       "\n",
       "[5 rows x 117 columns]"
      ]
     },
     "execution_count": 11,
     "metadata": {},
     "output_type": "execute_result"
    }
   ],
   "source": [
    "df_features.head()"
   ]
  },
  {
   "cell_type": "markdown",
   "metadata": {
    "pycharm": {
     "name": "#%% md\n"
    }
   },
   "source": [
    "# Fit with 25% of the data\n",
    "### Weighing energies and forces equally with kappa = 0.5"
   ]
  },
  {
   "cell_type": "code",
   "execution_count": 12,
   "metadata": {
    "ExecuteTime": {
     "end_time": "2021-06-23T02:13:09.230383Z",
     "start_time": "2021-06-23T02:13:09.226143Z"
    },
    "pycharm": {
     "name": "#%%\n"
    }
   },
   "outputs": [],
   "source": [
    "frac_train = 0.25\n",
    "kappa = 0.5  # energy-force weighting parameter between 0 and 1.\n",
    "\n",
    "n_samples_per_config = 1 + 64 * 3\n",
    "n_train = n_samples_per_config * int(frac_train * len(df_data))\n",
    "df_train = df_features.iloc[:n_train]\n",
    "x, y, w = representation.get_training_tuples(df_train,\n",
    "                                             kappa,\n",
    "                                             data_coordinator)"
   ]
  },
  {
   "cell_type": "code",
   "execution_count": 13,
   "metadata": {
    "ExecuteTime": {
     "end_time": "2021-06-23T02:13:09.261612Z",
     "start_time": "2021-06-23T02:13:09.231378Z"
    },
    "pycharm": {
     "name": "#%%\n"
    }
   },
   "outputs": [],
   "source": [
    "model.fit(x, y, weights=w)"
   ]
  },
  {
   "cell_type": "markdown",
   "metadata": {
    "pycharm": {
     "name": "#%% md\n"
    }
   },
   "source": [
    "# Evaluate Energy and Forces with model"
   ]
  },
  {
   "cell_type": "code",
   "execution_count": 14,
   "metadata": {
    "ExecuteTime": {
     "end_time": "2021-06-23T02:13:09.300388Z",
     "start_time": "2021-06-23T02:13:09.263025Z"
    },
    "pycharm": {
     "name": "#%%\n"
    }
   },
   "outputs": [],
   "source": [
    "# Evaluate energy\n",
    "df_test = df_features.iloc[n_train:]\n",
    "x_test, y_test, w_cond = representation.get_training_tuples(df_test,\n",
    "                                                            0,\n",
    "                                                            data_coordinator)\n",
    "# slice entries corresponding to energies per atom\n",
    "x_e = x_test[w_cond == 0] / 64\n",
    "y_e = y_test[w_cond == 0] / 64\n",
    "# slice entries corresponding to forces\n",
    "x_f = x_test[w_cond > 0]\n",
    "y_f = y_test[w_cond > 0]\n",
    "# predict with solution\n",
    "p_e = model.predict(x_e)  # energy per atom\n",
    "p_f = model.predict(x_f)"
   ]
  },
  {
   "cell_type": "markdown",
   "metadata": {
    "pycharm": {
     "name": "#%% md\n"
    }
   },
   "source": [
    "# Compute root-mean-square error"
   ]
  },
  {
   "cell_type": "code",
   "execution_count": 15,
   "metadata": {
    "ExecuteTime": {
     "end_time": "2021-06-23T02:13:09.305253Z",
     "start_time": "2021-06-23T02:13:09.301609Z"
    },
    "pycharm": {
     "name": "#%%\n"
    }
   },
   "outputs": [
    {
     "name": "stdout",
     "output_type": "stream",
     "text": [
      "Energy RMSE: 3.8248995543680605e-05 eV/atom\n",
      "Forces RMSE: 0.001131120803584359 eV/angstrom\n"
     ]
    }
   ],
   "source": [
    "rmse_e = np.sqrt(np.mean(np.subtract(y_e, p_e)**2))\n",
    "rmse_f = np.sqrt(np.mean(np.subtract(y_f, p_f)**2))\n",
    "print(\"Energy RMSE:\", rmse_e, \"eV/atom\")\n",
    "print(\"Forces RMSE:\", rmse_f, \"eV/angstrom\")"
   ]
  },
  {
   "cell_type": "markdown",
   "metadata": {},
   "source": [
    "# Arrange solution into pair-interaction potentials"
   ]
  },
  {
   "cell_type": "code",
   "execution_count": 16,
   "metadata": {
    "ExecuteTime": {
     "end_time": "2021-06-23T02:13:09.311471Z",
     "start_time": "2021-06-23T02:13:09.306382Z"
    }
   },
   "outputs": [
    {
     "data": {
      "text/plain": [
       "[1, 1, 38, 38, 38]"
      ]
     },
     "execution_count": 16,
     "metadata": {},
     "output_type": "execute_result"
    }
   ],
   "source": [
    "bspline_config.partition_sizes"
   ]
  },
  {
   "cell_type": "code",
   "execution_count": 17,
   "metadata": {
    "ExecuteTime": {
     "end_time": "2021-06-23T02:13:09.318124Z",
     "start_time": "2021-06-23T02:13:09.313135Z"
    },
    "pycharm": {
     "name": "#%%\n"
    }
   },
   "outputs": [],
   "source": [
    "n_elements = len(chemical_system.element_list)\n",
    "split_indices = np.cumsum(bspline_config.partition_sizes)[:-1]\n",
    "solutions_list = np.array_split(model.coefficients,\n",
    "                                split_indices)\n",
    "solutions = {element: value for element, value\n",
    "             in zip(chemical_system.element_list, \n",
    "                    solutions_list[:n_elements])}\n",
    "for i, pair in enumerate(chemical_system.interactions_map[2]):\n",
    "    solutions[pair] = solutions_list[i + n_elements]"
   ]
  },
  {
   "cell_type": "code",
   "execution_count": 18,
   "metadata": {
    "ExecuteTime": {
     "end_time": "2021-06-23T02:13:09.322958Z",
     "start_time": "2021-06-23T02:13:09.319249Z"
    },
    "pycharm": {
     "name": "#%%\n"
    }
   },
   "outputs": [
    {
     "name": "stdout",
     "output_type": "stream",
     "text": [
      "Ne: vector (1,)\n",
      "Xe: vector (1,)\n",
      "('Ne', 'Ne'): vector (38,)\n",
      "('Ne', 'Xe'): vector (38,)\n",
      "('Xe', 'Xe'): vector (38,)\n"
     ]
    }
   ],
   "source": [
    "for key, value in solutions.items():\n",
    "    if isinstance(value, (float, np.floating)):\n",
    "        print(\"{0}: {1:.6f}\".format(key, value))\n",
    "    else:\n",
    "        print(\"{}: vector\".format(key), value.shape)"
   ]
  },
  {
   "cell_type": "markdown",
   "metadata": {
    "pycharm": {
     "name": "#%% md\n"
    }
   },
   "source": [
    "# Compute true Lennard-Jones potentials for reference"
   ]
  },
  {
   "cell_type": "code",
   "execution_count": 19,
   "metadata": {
    "ExecuteTime": {
     "end_time": "2021-06-23T02:13:09.328842Z",
     "start_time": "2021-06-23T02:13:09.324344Z"
    },
    "pycharm": {
     "name": "#%%\n"
    }
   },
   "outputs": [],
   "source": [
    "plot_reference = False  # set to True to compute and plot.\n",
    "\n",
    "\n",
    "def get_lennard_jones(r_range, epsilon, sigma):\n",
    "    return 4 * epsilon * ((sigma/r_range)**12 - (sigma/r_range)**6)\n",
    "\n",
    "if plot_reference:\n",
    "    r_plot = np.linspace(2, 12, 1000)\n",
    "    yaa = get_lennard_jones(r_plot, 0.003705453303, 2.73) / 2\n",
    "    yab = get_lennard_jones(r_plot, 0.006323399148, 3.472) / 2\n",
    "    ybb = get_lennard_jones(r_plot, 0.02206037315, 3.92) / 2"
   ]
  },
  {
   "cell_type": "markdown",
   "metadata": {
    "pycharm": {
     "name": "#%% md\n"
    }
   },
   "source": [
    "# Plot results\n"
   ]
  },
  {
   "cell_type": "code",
   "execution_count": 20,
   "metadata": {
    "ExecuteTime": {
     "end_time": "2021-06-23T02:13:11.664604Z",
     "start_time": "2021-06-23T02:13:09.330176Z"
    },
    "pycharm": {
     "name": "#%%\n"
    }
   },
   "outputs": [
    {
     "name": "stderr",
     "output_type": "stream",
     "text": [
      "100%|██████████| 32/32 [00:27<00:00,  1.18it/s]\n",
      "<ipython-input-20-63d7aa1e0877>:44: UserWarning: Matplotlib is currently using module://ipykernel.pylab.backend_inline, which is a non-GUI backend, so cannot show the figure.\n",
      "  fig.show()\n"
     ]
    },
    {
     "data": {
      "image/png": "[encoded data removed]",
      "text/plain": [
       "<Figure size 1196.8x640 with 5 Axes>"
      ]
     },
     "metadata": {},
     "output_type": "display_data"
    }
   ],
   "source": [
    "y_min = -0.015\n",
    "y_max = 0.03\n",
    "ENERGY_UNITS = \"eV/atom\"\n",
    "FORCE_UNITS = \"eV/$\\mathrm{\\AA}$\"\n",
    "\n",
    "fig = plt.figure(figsize=(7.48, 4), dpi=160, facecolor='white')\n",
    "gs = fig.add_gridspec(ncols=3, nrows=2,\n",
    "                      width_ratios=[1, 1, 1],\n",
    "                      height_ratios=[0.5, 1])\n",
    "\n",
    "for i, pair in enumerate(chemical_system.interactions_map[2]):\n",
    "    ax = fig.add_subplot(gs[0, i])\n",
    "    r_min = r_min_map[pair]\n",
    "    r_max = r_max_map[pair]\n",
    "    knot_sequence = representation.knots_map[pair]\n",
    "    coefficients = solutions[pair]\n",
    "    plotting.visualize_splines(coefficients,\n",
    "                               knot_sequence,\n",
    "                               ax=ax)\n",
    "    ax.set_ylim(-0.02, 0.02)\n",
    "    ax.set_ylabel('B-Spline Value')\n",
    "    ax.set_xlabel('$\\mathrm{r_{ij}~~(\\AA)}$')\n",
    "    ax.set_title(pair)\n",
    "ax2 = fig.add_subplot(gs[1, 0])\n",
    "plotting.density_scatter(y_e, p_e, ax=ax2, units=ENERGY_UNITS, text_size=6, label_size=10)\n",
    "ax2.set_xlabel('Reference ({})'.format(ENERGY_UNITS))\n",
    "ax2.set_ylabel('Prediction ({})'.format(ENERGY_UNITS))\n",
    "\n",
    "ax3 = fig.add_subplot(gs[1, 1])\n",
    "plotting.density_scatter(y_f, p_f, ax=ax3, units=FORCE_UNITS,\n",
    "                         text_size=6, label_size=10)\n",
    "ax3.set_xlabel('Reference ({})'.format(FORCE_UNITS))\n",
    "ax3.set_ylabel('Prediction ({})'.format(FORCE_UNITS))\n",
    "\n",
    "ax2.set_title('Energy Predictions')\n",
    "ax3.set_title('Force Predictions')\n",
    "fig.subplots_adjust(left=0.1, right=0.99,\n",
    "                    bottom=0.15, top=0.94,\n",
    "                    wspace=0.6, hspace=0.6)\n",
    "if plot_reference:\n",
    "    fig.get_axes()[0].plot(r_plot, yaa, color='red', linewidth=2, linestyle=':')\n",
    "    fig.get_axes()[1].plot(r_plot, yab, color='red', linewidth=2, linestyle=':')\n",
    "    fig.get_axes()[2].plot(r_plot, ybb, color='red', linewidth=2, linestyle=':')\n",
    "fig.show()"
   ]
  },
  {
   "cell_type": "markdown",
   "metadata": {
    "pycharm": {
     "name": "#%% md\n"
    }
   },
   "source": [
    "# Export tabulated potentials"
   ]
  },
  {
   "cell_type": "code",
   "execution_count": 21,
   "metadata": {
    "ExecuteTime": {
     "end_time": "2021-06-23T02:13:11.881662Z",
     "start_time": "2021-06-23T02:13:11.665762Z"
    },
    "pycharm": {
     "name": "#%%\n"
    }
   },
   "outputs": [],
   "source": [
    "table_list = []\n",
    "pair_list = chemical_system.interactions_map[2]\n",
    "for pair in pair_list:\n",
    "    text = lammps.export_tabulated_potential(representation.knots_map[pair],\n",
    "                                             solutions[pair],\n",
    "                                             pair,\n",
    "                                             grid=1000,\n",
    "                                             filename=None)\n",
    "    table_list.append(text)\n",
    "combined_text = \"\\n\\n\\n\".join(table_list)\n",
    "if not os.path.isdir(\"table_test\"):\n",
    "    os.mkdir(\"table_test\")\n",
    "fname = os.path.join(\"table_test\", \"Ne_Xe.table\")\n",
    "with open(fname, \"w\") as f:\n",
    "    f.write(combined_text)"
   ]
  },
  {
   "cell_type": "markdown",
   "metadata": {
    "pycharm": {
     "name": "#%% md\n"
    }
   },
   "source": [
    "# Compute energy, forces, stress with UFCalculator"
   ]
  },
  {
   "cell_type": "code",
   "execution_count": 22,
   "metadata": {
    "ExecuteTime": {
     "end_time": "2021-06-23T02:13:12.000989Z",
     "start_time": "2021-06-23T02:13:11.882745Z"
    },
    "pycharm": {
     "name": "#%%\n"
    }
   },
   "outputs": [
    {
     "name": "stdout",
     "output_type": "stream",
     "text": [
      "Energy: [-2.38585053]\n",
      "Stresses (numerical): [-0.00434842 -0.00446046 -0.00374077 -0.00021938  0.00033697 -0.00037995]\n",
      "Max force: 0.5549184701893242\n"
     ]
    }
   ],
   "source": [
    "calc = calculator.UFCalculator(bspline_config, model)\n",
    "\n",
    "geom = df_data.iloc[100]['geometry'].copy()\n",
    "geom.set_calculator(calc)\n",
    "\n",
    "print(\"Energy:\", geom.get_potential_energy())\n",
    "print(\"Stresses (numerical):\", geom.get_stress())\n",
    "forces = geom.get_forces()\n",
    "print(\"Max force:\", np.max(np.abs(forces)))"
   ]
  },
  {
   "cell_type": "markdown",
   "metadata": {},
   "source": [
    "# Relax with UFLammps calculator"
   ]
  },
  {
   "cell_type": "code",
   "execution_count": 23,
   "metadata": {
    "ExecuteTime": {
     "end_time": "2021-06-23T02:13:14.994720Z",
     "start_time": "2021-06-23T02:13:12.001969Z"
    },
    "pycharm": {
     "name": "#%%\n"
    }
   },
   "outputs": [
    {
     "name": "stdout",
     "output_type": "stream",
     "text": [
      "Relaxation Steps: 125\n",
      "Energy: -3.994155955578867\n",
      "Stresses (numerical): [ 1.86274927e-04  3.57652450e-05  2.61652676e-04 -4.83005783e-05\n",
      "  1.10001675e-04 -1.72160306e-04]\n",
      "Max force: 0.052917670718063005\n"
     ]
    }
   ],
   "source": [
    "calc = lammps.UFLammps(lmpcmds=[\"pair_style table spline 1000\",\n",
    "                                \"pair_coeff 1 1 table_test/Ne_Xe.table UF_Ne-Ne 6.0\",\n",
    "                                \"pair_coeff 1 2 table_test/Ne_Xe.table UF_Ne-Xe 8.0\",\n",
    "                                \"pair_coeff 2 2 table_test/Ne_Xe.table UF_Xe-Xe 10.0\"],\n",
    "                       keep_alive=True)\n",
    "calc.relax(geom)\n",
    "print('Relaxation Steps:', calc.results['nsteps'])\n",
    "geom.calc = calc\n",
    "print(\"Energy:\", geom.get_potential_energy())\n",
    "print(\"Stresses (numerical):\", geom.get_stress())\n",
    "lammps_forces = geom.get_forces()\n",
    "print(\"Max force:\", np.max(np.abs(lammps_forces)))\n",
    "del calc"
   ]
  },
  {
   "cell_type": "code",
   "execution_count": null,
   "metadata": {
    "pycharm": {
     "name": "#%%\n"
    }
   },
   "outputs": [],
   "source": []
  }
 ],
 "metadata": {
  "kernelspec": {
   "display_name": "Python 3",
   "language": "python",
   "name": "python3"
  },
  "language_info": {
   "codemirror_mode": {
    "name": "ipython",
    "version": 3
   },
   "file_extension": ".py",
   "mimetype": "text/x-python",
   "name": "python",
   "nbconvert_exporter": "python",
   "pygments_lexer": "ipython3",
   "version": "3.8.3"
  },
  "toc": {
   "base_numbering": 1,
   "nav_menu": {},
   "number_sections": true,
   "sideBar": true,
   "skip_h1_title": false,
   "title_cell": "Table of Contents",
   "title_sidebar": "Contents",
   "toc_cell": false,
   "toc_position": {},
   "toc_section_display": true,
   "toc_window_display": false
  }
 },
 "nbformat": 4,
 "nbformat_minor": 1
}
