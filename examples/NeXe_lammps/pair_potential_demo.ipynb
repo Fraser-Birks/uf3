{
 "cells": [
  {
   "cell_type": "code",
   "execution_count": 1,
   "metadata": {
    "ExecuteTime": {
     "end_time": "2021-09-29T00:51:42.107058Z",
     "start_time": "2021-09-29T00:51:42.097518Z"
    },
    "pycharm": {
     "name": "#%%\n"
    }
   },
   "outputs": [],
   "source": [
    "import os\n",
    "from concurrent.futures import ProcessPoolExecutor"
   ]
  },
  {
   "cell_type": "code",
   "execution_count": 2,
   "metadata": {
    "ExecuteTime": {
     "end_time": "2021-09-29T00:51:42.324904Z",
     "start_time": "2021-09-29T00:51:42.108584Z"
    },
    "pycharm": {
     "name": "#%%\n"
    }
   },
   "outputs": [],
   "source": [
    "import numpy as np\n",
    "import matplotlib.pyplot as plt"
   ]
  },
  {
   "cell_type": "code",
   "execution_count": 3,
   "metadata": {
    "ExecuteTime": {
     "end_time": "2021-09-29T00:51:43.251285Z",
     "start_time": "2021-09-29T00:51:42.325908Z"
    },
    "pycharm": {
     "name": "#%%\n"
    }
   },
   "outputs": [],
   "source": [
    "from uf3.data import io\n",
    "from uf3.data import geometry\n",
    "from uf3.data import composition\n",
    "from uf3.representation import bspline\n",
    "from uf3.representation import distances\n",
    "from uf3.representation import process\n",
    "from uf3.regression import least_squares\n",
    "from uf3.forcefield import calculator\n",
    "from uf3.forcefield import lammps\n",
    "from uf3.util import parallel\n",
    "from uf3.util import plotting"
   ]
  },
  {
   "cell_type": "markdown",
   "metadata": {
    "ExecuteTime": {
     "start_time": "2021-09-27T14:45:45.123Z"
    }
   },
   "source": [
    "# $\\text{UF}_{2}$ Demo: Ne-Xe mixture"
   ]
  },
  {
   "cell_type": "markdown",
   "metadata": {},
   "source": [
    "**Data split**\n",
    "- Training set: 200 configurations (50% of the dataset)\n",
    "\n",
    "- Holdout: 201 configurations (remaining 50% of the dataset)"
   ]
  },
  {
   "cell_type": "markdown",
   "metadata": {},
   "source": [
    "**Inputs**\n",
    "- ```data/log.lammps``` (33.4 kb)\n",
    "- ```data/dump.lammpstrj``` (4.0 mb)"
   ]
  },
  {
   "cell_type": "markdown",
   "metadata": {},
   "source": [
    "**Outputs**\n",
    "- ```model_pair.json``` (2 kb)\n",
    "- ```table_test/Ne_Xe.table``` (98 kb)"
   ]
  },
  {
   "cell_type": "code",
   "execution_count": 4,
   "metadata": {
    "ExecuteTime": {
     "end_time": "2021-09-29T00:51:43.257674Z",
     "start_time": "2021-09-29T00:51:43.252862Z"
    }
   },
   "outputs": [
    {
     "data": {
      "text/html": [
       "<style>\n",
       "  table {margin-left: 0 !important;}\n",
       "</style>\n"
      ],
      "text/plain": [
       "<IPython.core.display.HTML object>"
      ]
     },
     "metadata": {},
     "output_type": "display_data"
    }
   ],
   "source": [
    "%%html\n",
    "<style>\n",
    "  table {margin-left: 0 !important;}\n",
    "</style>"
   ]
  },
  {
   "cell_type": "markdown",
   "metadata": {},
   "source": [
    " Step             | Estimated Time \n",
    ":-----------------|:--------------\n",
    "Preprocessing     | 2 seconds\n",
    "Pair distribution | 2 seconds\n",
    "Featurization     | 40 core-seconds (parallelizable)\n",
    "Training          | 1 second\n",
    "Prediction        | 1 second\n",
    "Plotting          | 1 second"
   ]
  },
  {
   "cell_type": "markdown",
   "metadata": {
    "pycharm": {
     "name": "#%% md\n"
    }
   },
   "source": [
    "# User Parameters\n",
    "\n",
    "```element_list (list)```: list of element symbols\n",
    "\n",
    "```degree (int)```: truncation of many-body expansion. A value of 2 yields a pair potential."
   ]
  },
  {
   "cell_type": "code",
   "execution_count": 5,
   "metadata": {
    "ExecuteTime": {
     "end_time": "2021-09-29T00:51:43.261900Z",
     "start_time": "2021-09-29T00:51:43.258754Z"
    },
    "pycharm": {
     "name": "#%%\n"
    }
   },
   "outputs": [],
   "source": [
    "element_list = [\"Ne\", \"Xe\"]\n",
    "degree = 2"
   ]
  },
  {
   "cell_type": "markdown",
   "metadata": {},
   "source": [
    "Initialize the ```ChemicalSystem``` and inspect interactions.\n",
    "\n",
    "Elements involved in each interactions are sorted by electronegativity."
   ]
  },
  {
   "cell_type": "code",
   "execution_count": 6,
   "metadata": {
    "ExecuteTime": {
     "end_time": "2021-09-29T00:51:43.266520Z",
     "start_time": "2021-09-29T00:51:43.263010Z"
    }
   },
   "outputs": [
    {
     "name": "stdout",
     "output_type": "stream",
     "text": [
      "Pairs: [('Ne', 'Ne'), ('Ne', 'Xe'), ('Xe', 'Xe')]\n"
     ]
    }
   ],
   "source": [
    "chemical_system = composition.ChemicalSystem(element_list=element_list,\n",
    "                                             degree=degree)\n",
    "print(\"Pairs:\", chemical_system.interactions_map[2])"
   ]
  },
  {
   "cell_type": "markdown",
   "metadata": {},
   "source": [
    "```r_min_map (dict)```: map of minimum pair distance per interaction (angstroms). \n",
    "    If unspecified, defaults to 1.0 for all interactions.\n",
    "    \n",
    "```r_max_map (dict)```: map of maximum pair distance per interaction (angstroms). \n",
    "    If unspecified, defaults to 6.0 angstroms for all interactions, which probably encompasses at least 2nd-nearest neighbors.\n",
    "    \n",
    "```resolution_map (dict)```: map of resolution (number of knot intervals) per interaction. \n",
    "    For the cubic basis, the number of basis functions equals three more than the number of knot intervals.\n",
    "    This is, in turn, negated by ```trailing_trim```.\n",
    "    If unspecified, defaults to 20 for all two-body interactions and 5 for three-body interactions.\n",
    "    \n",
    "```trailing_trim (int)```: number of trailing basis functions to trim, defaults to 3.\n",
    " - ```= 0```: hard cutoff at ```r_max```\n",
    " - ```= 1```: function goes to zero at ```r_max```\n",
    " - ```= 2```: first derivative goes to zero at ```r_max```\n",
    " - ```= 3```: second derivative goes to zero at ```r_max```"
   ]
  },
  {
   "cell_type": "code",
   "execution_count": 7,
   "metadata": {
    "ExecuteTime": {
     "end_time": "2021-09-29T00:51:43.270587Z",
     "start_time": "2021-09-29T00:51:43.267613Z"
    },
    "pycharm": {
     "name": "#%%\n"
    }
   },
   "outputs": [],
   "source": [
    "r_min_map = {(\"Ne\", \"Ne\"): 2.0,\n",
    "             (\"Ne\", \"Xe\"): 2.5,\n",
    "             (\"Xe\", \"Xe\"): 3.0,\n",
    "            }\n",
    "r_max_map = {(\"Ne\", \"Ne\"): 6.0,\n",
    "             (\"Ne\", \"Xe\"): 7.0,\n",
    "             (\"Xe\", \"Xe\"): 8.0,\n",
    "            }\n",
    "resolution_map = {(\"Ne\", \"Ne\"): 25,\n",
    "                  (\"Ne\", \"Xe\"): 25,\n",
    "                  (\"Xe\", \"Xe\"): 25,\n",
    "                 }\n",
    "trailing_trim = 3"
   ]
  },
  {
   "cell_type": "markdown",
   "metadata": {},
   "source": [
    "# Demo parameters\n",
    "```n_cores```: number of workers to use in parallel for feature generation\n",
    "\n",
    "```data_directory```: path to directory containing LAMMPS run\n",
    "\n",
    "```n_train```: number of sequential entries to use for training\n",
    "\n",
    "```lammps_aliases```: elements corresponding to integer identifiers in LAMMPS outputs."
   ]
  },
  {
   "cell_type": "code",
   "execution_count": 8,
   "metadata": {
    "ExecuteTime": {
     "end_time": "2021-09-29T00:51:43.273852Z",
     "start_time": "2021-09-29T00:51:43.271543Z"
    }
   },
   "outputs": [],
   "source": [
    "n_cores = 4"
   ]
  },
  {
   "cell_type": "code",
   "execution_count": 9,
   "metadata": {
    "ExecuteTime": {
     "end_time": "2021-09-29T00:51:43.277849Z",
     "start_time": "2021-09-29T00:51:43.274850Z"
    }
   },
   "outputs": [],
   "source": [
    "example_directory = os.getcwd()\n",
    "data_directory = os.path.join(example_directory, \"dataset\")"
   ]
  },
  {
   "cell_type": "code",
   "execution_count": 10,
   "metadata": {
    "ExecuteTime": {
     "end_time": "2021-09-29T00:51:43.282137Z",
     "start_time": "2021-09-29T00:51:43.279669Z"
    }
   },
   "outputs": [],
   "source": [
    "n_train = 200"
   ]
  },
  {
   "cell_type": "code",
   "execution_count": 11,
   "metadata": {
    "ExecuteTime": {
     "end_time": "2021-09-29T00:51:43.286073Z",
     "start_time": "2021-09-29T00:51:43.283692Z"
    }
   },
   "outputs": [],
   "source": [
    "lammps_aliases = {1: \"Ne\", 2: \"Xe\"}"
   ]
  },
  {
   "cell_type": "markdown",
   "metadata": {},
   "source": [
    "# Initialize basis"
   ]
  },
  {
   "cell_type": "code",
   "execution_count": 12,
   "metadata": {
    "ExecuteTime": {
     "end_time": "2021-09-29T00:51:43.294313Z",
     "start_time": "2021-09-29T00:51:43.287255Z"
    }
   },
   "outputs": [],
   "source": [
    "bspline_config = bspline.BSplineBasis(chemical_system,\n",
    "                                      r_min_map=r_min_map,\n",
    "                                      r_max_map=r_max_map,\n",
    "                                      offset_1b=False,\n",
    "                                      resolution_map=resolution_map,\n",
    "                                      trailing_trim=trailing_trim,\n",
    "                                      mask_trim=False)"
   ]
  },
  {
   "cell_type": "markdown",
   "metadata": {},
   "source": [
    "```bspline_config.get_interaction_partitions()``` yields the number of coefficients for each n-body interaction (one-body terms, two-body terms, three-body terms, ...) as well as the starting index in the coefficient vector for each interaction."
   ]
  },
  {
   "cell_type": "code",
   "execution_count": 13,
   "metadata": {
    "ExecuteTime": {
     "end_time": "2021-09-29T00:51:43.298582Z",
     "start_time": "2021-09-29T00:51:43.295205Z"
    }
   },
   "outputs": [
    {
     "data": {
      "text/plain": [
       "{'Ne': 1, 'Xe': 1, ('Ne', 'Ne'): 28, ('Ne', 'Xe'): 28, ('Xe', 'Xe'): 28}"
      ]
     },
     "execution_count": 13,
     "metadata": {},
     "output_type": "execute_result"
    }
   ],
   "source": [
    "bspline_config.get_interaction_partitions()[0]"
   ]
  },
  {
   "cell_type": "code",
   "execution_count": 14,
   "metadata": {
    "ExecuteTime": {
     "end_time": "2021-09-29T00:51:43.303352Z",
     "start_time": "2021-09-29T00:51:43.299465Z"
    }
   },
   "outputs": [
    {
     "data": {
      "text/plain": [
       "{'Ne': 0, 'Xe': 1, ('Ne', 'Ne'): 2, ('Ne', 'Xe'): 30, ('Xe', 'Xe'): 58}"
      ]
     },
     "execution_count": 14,
     "metadata": {},
     "output_type": "execute_result"
    }
   ],
   "source": [
    "bspline_config.get_interaction_partitions()[1]"
   ]
  },
  {
   "cell_type": "markdown",
   "metadata": {
    "pycharm": {
     "name": "#%% md\n"
    }
   },
   "source": [
    "# Load data from LAMMPS run directory"
   ]
  },
  {
   "cell_type": "code",
   "execution_count": 15,
   "metadata": {
    "ExecuteTime": {
     "end_time": "2021-09-29T00:51:44.647048Z",
     "start_time": "2021-09-29T00:51:43.304558Z"
    },
    "pycharm": {
     "name": "#%%\n"
    }
   },
   "outputs": [
    {
     "name": "stdout",
     "output_type": "stream",
     "text": [
      "Number of energies: 401\n",
      "Number of forces: 76992\n"
     ]
    }
   ],
   "source": [
    "data_coordinator = io.DataCoordinator()\n",
    "data_coordinator.dataframe_from_lammps_run(data_directory,\n",
    "                                           lammps_aliases,\n",
    "                                           prefix=\"lmp\",\n",
    "                                           log_fname=\"log.lammps\",\n",
    "                                           dump_fname=\"dump.lammpstrj\")\n",
    "df_data = data_coordinator.consolidate()\n",
    "print(\"Number of energies:\", len(df_data))\n",
    "print(\"Number of forces:\", int(np.sum(df_data[\"size\"]) * 3))"
   ]
  },
  {
   "cell_type": "code",
   "execution_count": 16,
   "metadata": {
    "ExecuteTime": {
     "end_time": "2021-09-29T00:51:44.687466Z",
     "start_time": "2021-09-29T00:51:44.648000Z"
    },
    "pycharm": {
     "name": "#%%\n"
    }
   },
   "outputs": [
    {
     "data": {
      "text/html": [
       "<div>\n",
       "<style scoped>\n",
       "    .dataframe tbody tr th:only-of-type {\n",
       "        vertical-align: middle;\n",
       "    }\n",
       "\n",
       "    .dataframe tbody tr th {\n",
       "        vertical-align: top;\n",
       "    }\n",
       "\n",
       "    .dataframe thead th {\n",
       "        text-align: right;\n",
       "    }\n",
       "</style>\n",
       "<table border=\"1\" class=\"dataframe\">\n",
       "  <thead>\n",
       "    <tr style=\"text-align: right;\">\n",
       "      <th></th>\n",
       "      <th>Step</th>\n",
       "      <th>Temp</th>\n",
       "      <th>Press</th>\n",
       "      <th>TotEng</th>\n",
       "      <th>energy</th>\n",
       "      <th>geometry</th>\n",
       "      <th>size</th>\n",
       "      <th>fx</th>\n",
       "      <th>fy</th>\n",
       "      <th>fz</th>\n",
       "    </tr>\n",
       "  </thead>\n",
       "  <tbody>\n",
       "    <tr>\n",
       "      <th>lmp_0</th>\n",
       "      <td>0</td>\n",
       "      <td>0.100000</td>\n",
       "      <td>0.300731</td>\n",
       "      <td>-4.425584</td>\n",
       "      <td>-4.426398</td>\n",
       "      <td>(Atom('Ne', [15.1239130886, 15.1239130886, 0.8...</td>\n",
       "      <td>64.0</td>\n",
       "      <td>[0.0, -0.0, -0.0, 0.0, 0.0, -0.0, -0.0, 0.0, 0...</td>\n",
       "      <td>[0.0, -0.0, 0.0, -0.0, 0.0, -0.0, 0.0, -0.0, 0...</td>\n",
       "      <td>[-0.0, -0.0, 0.0, 0.0, -0.0, -0.0, 0.0, 0.0, -...</td>\n",
       "    </tr>\n",
       "    <tr>\n",
       "      <th>lmp_1</th>\n",
       "      <td>1000</td>\n",
       "      <td>5.624945</td>\n",
       "      <td>-73.317322</td>\n",
       "      <td>-4.412308</td>\n",
       "      <td>-4.458114</td>\n",
       "      <td>(Atom('Ne', [15.1653143436, 15.1792692817, 0.8...</td>\n",
       "      <td>64.0</td>\n",
       "      <td>[0.0002044265, 0.0016639457, 0.001921414, -0.0...</td>\n",
       "      <td>[0.0056729229, 0.0009264524, 0.0025165864, -0....</td>\n",
       "      <td>[-0.0015951115, -0.0019227623, -0.0035339883, ...</td>\n",
       "    </tr>\n",
       "    <tr>\n",
       "      <th>lmp_2</th>\n",
       "      <td>2000</td>\n",
       "      <td>10.808590</td>\n",
       "      <td>-428.025400</td>\n",
       "      <td>-4.639121</td>\n",
       "      <td>-4.727139</td>\n",
       "      <td>(Atom('Ne', [0.9063913729, 1.3488837164, 15.02...</td>\n",
       "      <td>64.0</td>\n",
       "      <td>[0.0015836836, -0.0023350728, 0.0026551034, 0....</td>\n",
       "      <td>[-3.38791e-05, 0.002999284, -0.0060387845, 0.0...</td>\n",
       "      <td>[-0.0036139711, -0.0023498482, 0.0036703891, 0...</td>\n",
       "    </tr>\n",
       "    <tr>\n",
       "      <th>lmp_3</th>\n",
       "      <td>3000</td>\n",
       "      <td>14.861731</td>\n",
       "      <td>-1202.434200</td>\n",
       "      <td>-4.878347</td>\n",
       "      <td>-4.999372</td>\n",
       "      <td>(Atom('Ne', [1.3474466084, 1.2753605426, 14.56...</td>\n",
       "      <td>64.0</td>\n",
       "      <td>[-0.0045525053, 0.0010418925, -0.0068923877, 0...</td>\n",
       "      <td>[0.0048409577, -0.0004996062, 0.0063324616, 0....</td>\n",
       "      <td>[0.0098480452, 0.0022208212, 5.97758e-05, -0.0...</td>\n",
       "    </tr>\n",
       "    <tr>\n",
       "      <th>lmp_4</th>\n",
       "      <td>4000</td>\n",
       "      <td>20.299581</td>\n",
       "      <td>-1269.661700</td>\n",
       "      <td>-4.843280</td>\n",
       "      <td>-5.008587</td>\n",
       "      <td>(Atom('Ne', [1.7462606202, 1.4321776581, 14.75...</td>\n",
       "      <td>64.0</td>\n",
       "      <td>[-0.0036245833, 0.0027762812, 0.003324777, -0....</td>\n",
       "      <td>[0.0002289233, 0.0005190723, 0.0099133184, 0.0...</td>\n",
       "      <td>[0.0008959326, 0.000723354, 0.0071951805, -0.0...</td>\n",
       "    </tr>\n",
       "  </tbody>\n",
       "</table>\n",
       "</div>"
      ],
      "text/plain": [
       "       Step       Temp        Press    TotEng    energy  \\\n",
       "lmp_0     0   0.100000     0.300731 -4.425584 -4.426398   \n",
       "lmp_1  1000   5.624945   -73.317322 -4.412308 -4.458114   \n",
       "lmp_2  2000  10.808590  -428.025400 -4.639121 -4.727139   \n",
       "lmp_3  3000  14.861731 -1202.434200 -4.878347 -4.999372   \n",
       "lmp_4  4000  20.299581 -1269.661700 -4.843280 -5.008587   \n",
       "\n",
       "                                                geometry  size  \\\n",
       "lmp_0  (Atom('Ne', [15.1239130886, 15.1239130886, 0.8...  64.0   \n",
       "lmp_1  (Atom('Ne', [15.1653143436, 15.1792692817, 0.8...  64.0   \n",
       "lmp_2  (Atom('Ne', [0.9063913729, 1.3488837164, 15.02...  64.0   \n",
       "lmp_3  (Atom('Ne', [1.3474466084, 1.2753605426, 14.56...  64.0   \n",
       "lmp_4  (Atom('Ne', [1.7462606202, 1.4321776581, 14.75...  64.0   \n",
       "\n",
       "                                                      fx  \\\n",
       "lmp_0  [0.0, -0.0, -0.0, 0.0, 0.0, -0.0, -0.0, 0.0, 0...   \n",
       "lmp_1  [0.0002044265, 0.0016639457, 0.001921414, -0.0...   \n",
       "lmp_2  [0.0015836836, -0.0023350728, 0.0026551034, 0....   \n",
       "lmp_3  [-0.0045525053, 0.0010418925, -0.0068923877, 0...   \n",
       "lmp_4  [-0.0036245833, 0.0027762812, 0.003324777, -0....   \n",
       "\n",
       "                                                      fy  \\\n",
       "lmp_0  [0.0, -0.0, 0.0, -0.0, 0.0, -0.0, 0.0, -0.0, 0...   \n",
       "lmp_1  [0.0056729229, 0.0009264524, 0.0025165864, -0....   \n",
       "lmp_2  [-3.38791e-05, 0.002999284, -0.0060387845, 0.0...   \n",
       "lmp_3  [0.0048409577, -0.0004996062, 0.0063324616, 0....   \n",
       "lmp_4  [0.0002289233, 0.0005190723, 0.0099133184, 0.0...   \n",
       "\n",
       "                                                      fz  \n",
       "lmp_0  [-0.0, -0.0, 0.0, 0.0, -0.0, -0.0, 0.0, 0.0, -...  \n",
       "lmp_1  [-0.0015951115, -0.0019227623, -0.0035339883, ...  \n",
       "lmp_2  [-0.0036139711, -0.0023498482, 0.0036703891, 0...  \n",
       "lmp_3  [0.0098480452, 0.0022208212, 5.97758e-05, -0.0...  \n",
       "lmp_4  [0.0008959326, 0.000723354, 0.0071951805, -0.0...  "
      ]
     },
     "execution_count": 16,
     "metadata": {},
     "output_type": "execute_result"
    }
   ],
   "source": [
    "df_data.head()"
   ]
  },
  {
   "cell_type": "markdown",
   "metadata": {},
   "source": [
    "# Examine pair distance distribution"
   ]
  },
  {
   "cell_type": "code",
   "execution_count": 17,
   "metadata": {
    "ExecuteTime": {
     "end_time": "2021-09-29T00:51:46.313871Z",
     "start_time": "2021-09-29T00:51:44.688909Z"
    }
   },
   "outputs": [
    {
     "data": {
      "application/vnd.jupyter.widget-view+json": {
       "model_id": "8b8225e2c96a43c6a19ba9252e2e27ec",
       "version_major": 2,
       "version_minor": 0
      },
      "text/plain": [
       "  0%|          | 0/401 [00:00<?, ?it/s]"
      ]
     },
     "metadata": {},
     "output_type": "display_data"
    },
    {
     "name": "stdout",
     "output_type": "stream",
     "text": [
      "('Ne', 'Ne') Lower bound: 2.160 angstroms\n",
      "('Ne', 'Ne') Peaks (min width 0.2 angstroms): [ 2.82  5.46  6.18  9.18 10.02]\n",
      "('Ne', 'Xe') Lower bound: 2.640 angstroms\n",
      "('Ne', 'Xe') Peaks (min width 0.2 angstroms): [ 3.66  6.9   7.98 10.74]\n",
      "('Xe', 'Xe') Lower bound: 3.360 angstroms\n",
      "('Xe', 'Xe') Peaks (min width 0.2 angstroms): [ 4.26  7.14 11.1 ]\n"
     ]
    }
   ],
   "source": [
    "atoms_key = data_coordinator.atoms_key\n",
    "histogram_slice = np.random.choice(np.arange(len(df_data)),\n",
    "                                   min(1000, len(df_data)),\n",
    "                                   replace=False)\n",
    "df_slice = df_data[atoms_key].iloc[histogram_slice]\n",
    "histograms = distances.summarize_distances(df_slice,\n",
    "                                           chemical_system,\n",
    "                                           min_peak_width=0.2)"
   ]
  },
  {
   "cell_type": "code",
   "execution_count": 18,
   "metadata": {
    "ExecuteTime": {
     "end_time": "2021-09-29T00:51:47.049124Z",
     "start_time": "2021-09-29T00:51:46.314926Z"
    }
   },
   "outputs": [
    {
     "data": {
      "image/png": "[encoded data removed]",
      "text/plain": [
       "<Figure size 900x300 with 3 Axes>"
      ]
     },
     "metadata": {
      "needs_background": "light"
     },
     "output_type": "display_data"
    }
   ],
   "source": [
    "bar_width = histograms[1][1] - histograms[1][0]\n",
    "pairs = chemical_system.interactions_map[2]\n",
    "fig, ax = plt.subplots(1, len(pairs), figsize=(len(pairs)*3, 3), dpi=100)\n",
    "if not isinstance(ax, (list, np.ndarray)):\n",
    "    ax = [ax]\n",
    "for i, pair in enumerate(pairs):\n",
    "    ax[i].bar(histograms[1][:-1],\n",
    "              histograms[0][pair],\n",
    "              width=bar_width)\n",
    "    ax[i].set_title(\" - \".join(pair))\n",
    "    ax[i].plot([0, 10], [1, 1], linestyle=\"--\", color=\"k\")\n",
    "    ax[i].set_xlim(0, 10)\n",
    "    ax[i].set_ylim(0, 4)\n",
    "    ax[i].set_xlabel(\"Pair distance (angstroms)\")\n",
    "    ax[i].set_ylabel(\"Normalized Frequency\")\n",
    "fig.tight_layout()"
   ]
  },
  {
   "cell_type": "markdown",
   "metadata": {
    "pycharm": {
     "name": "#%% md\n"
    }
   },
   "source": [
    "# Compute energy and force features"
   ]
  },
  {
   "cell_type": "code",
   "execution_count": 19,
   "metadata": {
    "ExecuteTime": {
     "end_time": "2021-09-29T00:51:47.053015Z",
     "start_time": "2021-09-29T00:51:47.050374Z"
    }
   },
   "outputs": [],
   "source": [
    "representation = process.BasisFeaturizer(chemical_system,\n",
    "                                         bspline_config)"
   ]
  },
  {
   "cell_type": "code",
   "execution_count": 20,
   "metadata": {
    "ExecuteTime": {
     "end_time": "2021-09-29T00:51:47.057517Z",
     "start_time": "2021-09-29T00:51:47.054210Z"
    }
   },
   "outputs": [],
   "source": [
    "client = ProcessPoolExecutor(max_workers=n_cores)"
   ]
  },
  {
   "cell_type": "code",
   "execution_count": 21,
   "metadata": {
    "ExecuteTime": {
     "end_time": "2021-09-29T00:51:58.073647Z",
     "start_time": "2021-09-29T00:51:47.058667Z"
    }
   },
   "outputs": [
    {
     "data": {
      "application/vnd.jupyter.widget-view+json": {
       "model_id": "b9528f7b1c3442dfb614cee132c80b41",
       "version_major": 2,
       "version_minor": 0
      },
      "text/plain": [
       "  0%|          | 0/64 [00:00<?, ?it/s]"
      ]
     },
     "metadata": {},
     "output_type": "display_data"
    }
   ],
   "source": [
    "n_batches = n_cores * 16  # added granularity for more progress bar updates\n",
    "df_features = representation.evaluate_parallel(df_data,\n",
    "                                               client,\n",
    "                                               energy_key=data_coordinator.energy_key,\n",
    "                                               n_jobs=n_batches)"
   ]
  },
  {
   "cell_type": "code",
   "execution_count": 22,
   "metadata": {
    "ExecuteTime": {
     "end_time": "2021-09-29T00:51:58.096069Z",
     "start_time": "2021-09-29T00:51:58.075027Z"
    }
   },
   "outputs": [
    {
     "data": {
      "text/html": [
       "<div>\n",
       "<style scoped>\n",
       "    .dataframe tbody tr th:only-of-type {\n",
       "        vertical-align: middle;\n",
       "    }\n",
       "\n",
       "    .dataframe tbody tr th {\n",
       "        vertical-align: top;\n",
       "    }\n",
       "\n",
       "    .dataframe thead th {\n",
       "        text-align: right;\n",
       "    }\n",
       "</style>\n",
       "<table border=\"1\" class=\"dataframe\">\n",
       "  <thead>\n",
       "    <tr style=\"text-align: right;\">\n",
       "      <th></th>\n",
       "      <th></th>\n",
       "      <th>y</th>\n",
       "      <th>n_Ne</th>\n",
       "      <th>n_Xe</th>\n",
       "      <th>ij_0</th>\n",
       "      <th>ij_1</th>\n",
       "      <th>ij_2</th>\n",
       "      <th>ij_3</th>\n",
       "      <th>ij_4</th>\n",
       "      <th>ij_5</th>\n",
       "      <th>ij_6</th>\n",
       "      <th>...</th>\n",
       "      <th>ij_74</th>\n",
       "      <th>ij_75</th>\n",
       "      <th>ij_76</th>\n",
       "      <th>ij_77</th>\n",
       "      <th>ij_78</th>\n",
       "      <th>ij_79</th>\n",
       "      <th>ij_80</th>\n",
       "      <th>ij_81</th>\n",
       "      <th>ij_82</th>\n",
       "      <th>ij_83</th>\n",
       "    </tr>\n",
       "  </thead>\n",
       "  <tbody>\n",
       "    <tr>\n",
       "      <th rowspan=\"5\" valign=\"top\">lmp_0</th>\n",
       "      <th>energy</th>\n",
       "      <td>-4.426398</td>\n",
       "      <td>32.0</td>\n",
       "      <td>32.0</td>\n",
       "      <td>0.0</td>\n",
       "      <td>0.0</td>\n",
       "      <td>0.0</td>\n",
       "      <td>0.0</td>\n",
       "      <td>0.0</td>\n",
       "      <td>0.0</td>\n",
       "      <td>0.0</td>\n",
       "      <td>...</td>\n",
       "      <td>0.0</td>\n",
       "      <td>0.0</td>\n",
       "      <td>1.761935</td>\n",
       "      <td>77.130036</td>\n",
       "      <td>105.497558</td>\n",
       "      <td>7.610471</td>\n",
       "      <td>0.0</td>\n",
       "      <td>0.0</td>\n",
       "      <td>0.0</td>\n",
       "      <td>0.0</td>\n",
       "    </tr>\n",
       "    <tr>\n",
       "      <th>fx_0</th>\n",
       "      <td>0.000000</td>\n",
       "      <td>0.0</td>\n",
       "      <td>0.0</td>\n",
       "      <td>-0.0</td>\n",
       "      <td>-0.0</td>\n",
       "      <td>-0.0</td>\n",
       "      <td>-0.0</td>\n",
       "      <td>-0.0</td>\n",
       "      <td>-0.0</td>\n",
       "      <td>-0.0</td>\n",
       "      <td>...</td>\n",
       "      <td>-0.0</td>\n",
       "      <td>-0.0</td>\n",
       "      <td>-0.000000</td>\n",
       "      <td>-0.000000</td>\n",
       "      <td>-0.000000</td>\n",
       "      <td>-0.000000</td>\n",
       "      <td>-0.0</td>\n",
       "      <td>-0.0</td>\n",
       "      <td>-0.0</td>\n",
       "      <td>-0.0</td>\n",
       "    </tr>\n",
       "    <tr>\n",
       "      <th>fx_1</th>\n",
       "      <td>-0.000000</td>\n",
       "      <td>0.0</td>\n",
       "      <td>0.0</td>\n",
       "      <td>-0.0</td>\n",
       "      <td>-0.0</td>\n",
       "      <td>-0.0</td>\n",
       "      <td>-0.0</td>\n",
       "      <td>-0.0</td>\n",
       "      <td>-0.0</td>\n",
       "      <td>-0.0</td>\n",
       "      <td>...</td>\n",
       "      <td>-0.0</td>\n",
       "      <td>-0.0</td>\n",
       "      <td>-0.000000</td>\n",
       "      <td>-0.000000</td>\n",
       "      <td>-0.000000</td>\n",
       "      <td>-0.000000</td>\n",
       "      <td>-0.0</td>\n",
       "      <td>-0.0</td>\n",
       "      <td>-0.0</td>\n",
       "      <td>-0.0</td>\n",
       "    </tr>\n",
       "    <tr>\n",
       "      <th>fx_2</th>\n",
       "      <td>-0.000000</td>\n",
       "      <td>0.0</td>\n",
       "      <td>0.0</td>\n",
       "      <td>-0.0</td>\n",
       "      <td>-0.0</td>\n",
       "      <td>-0.0</td>\n",
       "      <td>-0.0</td>\n",
       "      <td>-0.0</td>\n",
       "      <td>-0.0</td>\n",
       "      <td>-0.0</td>\n",
       "      <td>...</td>\n",
       "      <td>-0.0</td>\n",
       "      <td>-0.0</td>\n",
       "      <td>-0.000000</td>\n",
       "      <td>-0.000000</td>\n",
       "      <td>-0.000000</td>\n",
       "      <td>-0.000000</td>\n",
       "      <td>-0.0</td>\n",
       "      <td>-0.0</td>\n",
       "      <td>-0.0</td>\n",
       "      <td>-0.0</td>\n",
       "    </tr>\n",
       "    <tr>\n",
       "      <th>fx_3</th>\n",
       "      <td>0.000000</td>\n",
       "      <td>0.0</td>\n",
       "      <td>0.0</td>\n",
       "      <td>-0.0</td>\n",
       "      <td>-0.0</td>\n",
       "      <td>-0.0</td>\n",
       "      <td>-0.0</td>\n",
       "      <td>-0.0</td>\n",
       "      <td>-0.0</td>\n",
       "      <td>-0.0</td>\n",
       "      <td>...</td>\n",
       "      <td>-0.0</td>\n",
       "      <td>-0.0</td>\n",
       "      <td>-0.000000</td>\n",
       "      <td>-0.000000</td>\n",
       "      <td>-0.000000</td>\n",
       "      <td>-0.000000</td>\n",
       "      <td>-0.0</td>\n",
       "      <td>-0.0</td>\n",
       "      <td>-0.0</td>\n",
       "      <td>-0.0</td>\n",
       "    </tr>\n",
       "  </tbody>\n",
       "</table>\n",
       "<p>5 rows × 87 columns</p>\n",
       "</div>"
      ],
      "text/plain": [
       "                     y  n_Ne  n_Xe  ij_0  ij_1  ij_2  ij_3  ij_4  ij_5  ij_6  \\\n",
       "lmp_0 energy -4.426398  32.0  32.0   0.0   0.0   0.0   0.0   0.0   0.0   0.0   \n",
       "      fx_0    0.000000   0.0   0.0  -0.0  -0.0  -0.0  -0.0  -0.0  -0.0  -0.0   \n",
       "      fx_1   -0.000000   0.0   0.0  -0.0  -0.0  -0.0  -0.0  -0.0  -0.0  -0.0   \n",
       "      fx_2   -0.000000   0.0   0.0  -0.0  -0.0  -0.0  -0.0  -0.0  -0.0  -0.0   \n",
       "      fx_3    0.000000   0.0   0.0  -0.0  -0.0  -0.0  -0.0  -0.0  -0.0  -0.0   \n",
       "\n",
       "              ...  ij_74  ij_75     ij_76      ij_77       ij_78     ij_79  \\\n",
       "lmp_0 energy  ...    0.0    0.0  1.761935  77.130036  105.497558  7.610471   \n",
       "      fx_0    ...   -0.0   -0.0 -0.000000  -0.000000   -0.000000 -0.000000   \n",
       "      fx_1    ...   -0.0   -0.0 -0.000000  -0.000000   -0.000000 -0.000000   \n",
       "      fx_2    ...   -0.0   -0.0 -0.000000  -0.000000   -0.000000 -0.000000   \n",
       "      fx_3    ...   -0.0   -0.0 -0.000000  -0.000000   -0.000000 -0.000000   \n",
       "\n",
       "              ij_80  ij_81  ij_82  ij_83  \n",
       "lmp_0 energy    0.0    0.0    0.0    0.0  \n",
       "      fx_0     -0.0   -0.0   -0.0   -0.0  \n",
       "      fx_1     -0.0   -0.0   -0.0   -0.0  \n",
       "      fx_2     -0.0   -0.0   -0.0   -0.0  \n",
       "      fx_3     -0.0   -0.0   -0.0   -0.0  \n",
       "\n",
       "[5 rows x 87 columns]"
      ]
     },
     "execution_count": 22,
     "metadata": {},
     "output_type": "execute_result"
    }
   ],
   "source": [
    "df_features.head()"
   ]
  },
  {
   "cell_type": "markdown",
   "metadata": {
    "ExecuteTime": {
     "start_time": "2021-09-27T03:31:28.871Z"
    }
   },
   "source": [
    "# Fit model"
   ]
  },
  {
   "cell_type": "code",
   "execution_count": 23,
   "metadata": {
    "ExecuteTime": {
     "end_time": "2021-09-29T00:51:58.100155Z",
     "start_time": "2021-09-29T00:51:58.097192Z"
    }
   },
   "outputs": [],
   "source": [
    "regularizer = bspline_config.get_regularization_matrix(ridge_1b=1e-6,\n",
    "                                                       curvature_2b=1e-8)\n",
    "\n",
    "model = least_squares.WeightedLinearModel(bspline_config,\n",
    "                                          regularizer=regularizer)"
   ]
  },
  {
   "cell_type": "markdown",
   "metadata": {},
   "source": [
    "Train with 50% of the dataset (200 samples)"
   ]
  },
  {
   "cell_type": "code",
   "execution_count": 24,
   "metadata": {
    "ExecuteTime": {
     "end_time": "2021-09-29T00:51:58.119943Z",
     "start_time": "2021-09-29T00:51:58.101031Z"
    }
   },
   "outputs": [],
   "source": [
    "training_keys = df_data.index[:n_train]\n",
    "df_slice = df_features.loc[training_keys]\n",
    "n_elements = len(chemical_system.element_list)\n",
    "x_e, y_e, x_f, y_f = least_squares.dataframe_to_tuples(df_slice,\n",
    "                                                       n_elements=n_elements,\n",
    "                                                       energy_key=\"energy\")"
   ]
  },
  {
   "cell_type": "markdown",
   "metadata": {},
   "source": [
    "# Fit with energies and force"
   ]
  },
  {
   "cell_type": "code",
   "execution_count": 25,
   "metadata": {
    "ExecuteTime": {
     "end_time": "2021-09-29T00:51:58.147757Z",
     "start_time": "2021-09-29T00:51:58.120941Z"
    }
   },
   "outputs": [],
   "source": [
    "model.fit(x_e, y_e, x_f, y_f, weight=0.5)\n",
    "solutions = least_squares.arrange_coefficients(model.coefficients, \n",
    "                                               bspline_config)"
   ]
  },
  {
   "cell_type": "code",
   "execution_count": 26,
   "metadata": {
    "ExecuteTime": {
     "end_time": "2021-09-29T00:51:58.495089Z",
     "start_time": "2021-09-29T00:51:58.148871Z"
    }
   },
   "outputs": [
    {
     "data": {
      "image/png": "[encoded data removed]",
      "text/plain": [
       "<Figure size 1200x400 with 3 Axes>"
      ]
     },
     "metadata": {
      "needs_background": "light"
     },
     "output_type": "display_data"
    }
   ],
   "source": [
    "fig, axes = plt.subplots(1, 3, figsize=(6, 2), dpi=200)\n",
    "for j, interaction in enumerate(bspline_config.interactions_map[2]):\n",
    "    coefficients = solutions[interaction]\n",
    "    knot_sequence = bspline_config.knots_map[interaction]\n",
    "    plotting.visualize_splines(coefficients, \n",
    "                               knot_sequence, \n",
    "                               ax=axes[j])\n",
    "    axes[j].set_title(\"-\".join(interaction))\n",
    "    axes[j].set_ylim(-0.010, 0.010)\n",
    "fig.tight_layout()\n"
   ]
  },
  {
   "cell_type": "markdown",
   "metadata": {
    "ExecuteTime": {
     "end_time": "2021-09-27T04:15:40.920319Z",
     "start_time": "2021-09-27T04:15:40.917610Z"
    }
   },
   "source": [
    "# Prediction"
   ]
  },
  {
   "cell_type": "code",
   "execution_count": 27,
   "metadata": {
    "ExecuteTime": {
     "end_time": "2021-09-29T00:51:58.499508Z",
     "start_time": "2021-09-29T00:51:58.496292Z"
    }
   },
   "outputs": [],
   "source": [
    "# predict with remainder of dataset\n",
    "holdout_keys = df_data.index.difference(training_keys)"
   ]
  },
  {
   "cell_type": "code",
   "execution_count": 28,
   "metadata": {
    "ExecuteTime": {
     "end_time": "2021-09-29T00:51:58.537389Z",
     "start_time": "2021-09-29T00:51:58.504133Z"
    }
   },
   "outputs": [],
   "source": [
    "df_holdout = df_features.loc[holdout_keys]\n",
    "x_e, y_e, x_f, y_f = least_squares.dataframe_to_tuples(df_holdout,\n",
    "                                                       n_elements=n_elements,\n",
    "                                                       energy_key=\"energy\")"
   ]
  },
  {
   "cell_type": "code",
   "execution_count": 29,
   "metadata": {
    "ExecuteTime": {
     "end_time": "2021-09-29T00:51:58.540700Z",
     "start_time": "2021-09-29T00:51:58.538550Z"
    }
   },
   "outputs": [],
   "source": [
    "p_e = model.predict(x_e)"
   ]
  },
  {
   "cell_type": "code",
   "execution_count": 30,
   "metadata": {
    "ExecuteTime": {
     "end_time": "2021-09-29T00:51:58.544672Z",
     "start_time": "2021-09-29T00:51:58.541831Z"
    }
   },
   "outputs": [],
   "source": [
    "p_f = model.predict(x_f)"
   ]
  },
  {
   "cell_type": "code",
   "execution_count": 31,
   "metadata": {
    "ExecuteTime": {
     "end_time": "2021-09-29T00:51:58.650625Z",
     "start_time": "2021-09-29T00:51:58.545730Z"
    }
   },
   "outputs": [
    {
     "data": {
      "image/png": "[encoded data removed]",
      "text/plain": [
       "<Figure size 432x288 with 1 Axes>"
      ]
     },
     "metadata": {
      "needs_background": "light"
     },
     "output_type": "display_data"
    }
   ],
   "source": [
    "plotting.density_scatter(y_e, p_e)\n",
    "plt.tight_layout()"
   ]
  },
  {
   "cell_type": "code",
   "execution_count": 32,
   "metadata": {
    "ExecuteTime": {
     "end_time": "2021-09-29T00:51:59.726648Z",
     "start_time": "2021-09-29T00:51:58.651581Z"
    }
   },
   "outputs": [
    {
     "data": {
      "image/png": "[encoded data removed]",
      "text/plain": [
       "<Figure size 432x288 with 1 Axes>"
      ]
     },
     "metadata": {
      "needs_background": "light"
     },
     "output_type": "display_data"
    }
   ],
   "source": [
    "plotting.density_scatter(y_f, p_f)\n",
    "plt.tight_layout()"
   ]
  },
  {
   "cell_type": "code",
   "execution_count": 33,
   "metadata": {
    "ExecuteTime": {
     "end_time": "2021-09-29T00:51:59.729852Z",
     "start_time": "2021-09-29T00:51:59.727694Z"
    }
   },
   "outputs": [],
   "source": [
    "solutions = least_squares.arrange_coefficients(model.coefficients, \n",
    "                                               bspline_config)"
   ]
  },
  {
   "cell_type": "code",
   "execution_count": 34,
   "metadata": {
    "ExecuteTime": {
     "end_time": "2021-09-29T00:51:59.735348Z",
     "start_time": "2021-09-29T00:51:59.730820Z"
    }
   },
   "outputs": [
    {
     "name": "stdout",
     "output_type": "stream",
     "text": [
      "Ne : 0.0\n",
      "Xe : 0.0\n",
      "('Ne', 'Ne') : [ 2.15482660e-01  1.71580419e-01  7.70826677e-02  2.71361221e-02\n",
      "  7.98418278e-03  6.52248637e-04 -1.69617442e-03 -2.45146310e-03\n",
      " -2.45346257e-03 -2.19713571e-03 -1.96517184e-03 -1.75920352e-03\n",
      " -1.53727874e-03 -1.21318993e-03 -1.03602024e-03 -8.37342116e-04\n",
      " -7.52591317e-04 -6.00828957e-04 -5.67021175e-04 -2.49945780e-04\n",
      " -4.05262957e-04 -1.34964972e-04 -2.15814133e-04 -1.24220238e-04\n",
      " -2.11670800e-04  0.00000000e+00  0.00000000e+00  0.00000000e+00]\n",
      "('Ne', 'Xe') : [ 4.85782020e-01  3.95850893e-01  1.93195469e-01  7.70654386e-02\n",
      "  2.83892035e-02  8.39474359e-03  1.08053948e-04 -3.03352808e-03\n",
      " -4.06421323e-03 -3.99440743e-03 -3.72976099e-03 -3.16838707e-03\n",
      " -2.79320888e-03 -2.35756807e-03 -2.02670131e-03 -1.57895340e-03\n",
      " -1.32587395e-03 -1.05515048e-03 -8.16808761e-04 -6.76830691e-04\n",
      " -4.22293657e-04 -3.25803500e-04 -2.77961343e-04 -1.00820993e-04\n",
      " -1.96775473e-04  0.00000000e+00  0.00000000e+00  0.00000000e+00]\n",
      "('Xe', 'Xe') : [ 9.80627089e+01  6.78175943e+01  2.97715270e-01  1.21138294e-01\n",
      "  3.98944247e-02  6.06738854e-03 -7.15614997e-03 -1.16661170e-02\n",
      " -1.22115745e-02 -1.11930469e-02 -9.77008578e-03 -8.24725064e-03\n",
      " -6.91314790e-03 -5.53886976e-03 -4.74620215e-03 -3.62410286e-03\n",
      " -2.94290439e-03 -2.18832788e-03 -1.70159869e-03 -1.28925067e-03\n",
      " -8.15553095e-04 -7.58898706e-04 -5.02868212e-04 -2.75855968e-04\n",
      " -2.85747404e-04  0.00000000e+00  0.00000000e+00  0.00000000e+00]\n"
     ]
    }
   ],
   "source": [
    "for interaction, values in solutions.items():\n",
    "    print(interaction, \":\", values)"
   ]
  },
  {
   "cell_type": "markdown",
   "metadata": {
    "pycharm": {
     "name": "#%% md\n"
    }
   },
   "source": [
    "# Export tabulated potentials"
   ]
  },
  {
   "cell_type": "code",
   "execution_count": 35,
   "metadata": {
    "ExecuteTime": {
     "end_time": "2021-09-29T00:51:59.738806Z",
     "start_time": "2021-09-29T00:51:59.736252Z"
    }
   },
   "outputs": [],
   "source": [
    "model.save(\"model_pair.json\")"
   ]
  },
  {
   "cell_type": "code",
   "execution_count": 36,
   "metadata": {
    "ExecuteTime": {
     "end_time": "2021-09-29T00:51:59.928578Z",
     "start_time": "2021-09-29T00:51:59.740050Z"
    },
    "pycharm": {
     "name": "#%%\n"
    }
   },
   "outputs": [],
   "source": [
    "table_list = []\n",
    "pair_list = chemical_system.interactions_map[2]\n",
    "for pair in pair_list:\n",
    "    text = lammps.export_tabulated_potential(representation.knots_map[pair],\n",
    "                                             solutions[pair],\n",
    "                                             pair,\n",
    "                                             grid=1000,\n",
    "                                             filename=None)\n",
    "    table_list.append(text)\n",
    "combined_text = \"\\n\\n\\n\".join(table_list)\n",
    "table_name = os.path.join(example_directory, \"table_test\", \"Ne_Xe.table\")\n",
    "with open(table_name, \"w\") as f:\n",
    "    f.write(combined_text)"
   ]
  },
  {
   "cell_type": "markdown",
   "metadata": {},
   "source": [
    "# Compute energy, forces, stress with UFCalculator"
   ]
  },
  {
   "cell_type": "code",
   "execution_count": 37,
   "metadata": {
    "ExecuteTime": {
     "end_time": "2021-09-29T00:52:00.045630Z",
     "start_time": "2021-09-29T00:51:59.929616Z"
    },
    "pycharm": {
     "name": "#%%\n"
    }
   },
   "outputs": [
    {
     "name": "stdout",
     "output_type": "stream",
     "text": [
      "Energy: [-5.24252979]\n",
      "Stresses (numerical): [ 1.23694554e-03  1.04022684e-03  1.01873938e-03 -8.13693080e-05\n",
      " -1.80044730e-05  4.01856438e-05]\n",
      "Max force: 0.0132157317068621\n"
     ]
    }
   ],
   "source": [
    "calc = calculator.UFCalculator(model)\n",
    "\n",
    "geom = df_data.iloc[200][\"geometry\"].copy()\n",
    "geom.set_calculator(calc)\n",
    "print(\"Energy:\", geom.get_potential_energy())\n",
    "print(\"Stresses (numerical):\", geom.get_stress())\n",
    "print(\"Max force:\", np.max(np.abs(geom.get_forces())))"
   ]
  },
  {
   "cell_type": "markdown",
   "metadata": {
    "pycharm": {
     "name": "#%% md\n"
    }
   },
   "source": [
    "# Compare with UFLammps calculator"
   ]
  },
  {
   "cell_type": "code",
   "execution_count": 38,
   "metadata": {
    "ExecuteTime": {
     "end_time": "2021-09-29T00:52:03.025749Z",
     "start_time": "2021-09-29T00:52:00.046600Z"
    },
    "pycharm": {
     "name": "#%%\n"
    }
   },
   "outputs": [
    {
     "name": "stdout",
     "output_type": "stream",
     "text": [
      "Energy: -5.242526000071701\n",
      "Stresses (numerical): [ 1.23693843e-03  1.04022236e-03  1.01875533e-03 -8.13630616e-05\n",
      " -1.80046436e-05  4.01840615e-05]\n",
      "Max force: 0.013215293525227772\n"
     ]
    }
   ],
   "source": [
    "calc = lammps.UFLammps(lmpcmds=[\"pair_style table spline 1000\",\n",
    "                                \"pair_coeff 1 1 table_test/Ne_Xe.table UF_Ne-Ne 6.0\",\n",
    "                                \"pair_coeff 1 2 table_test/Ne_Xe.table UF_Ne-Xe 7.0\",\n",
    "                                \"pair_coeff 2 2 table_test/Ne_Xe.table UF_Xe-Xe 8.0\"],\n",
    "                       keep_alive=True)\n",
    "geom.calc = calc\n",
    "print(\"Energy:\", geom.get_potential_energy())\n",
    "print(\"Stresses (numerical):\", geom.get_stress())\n",
    "lammps_forces = geom.get_forces()\n",
    "print(\"Max force:\", np.max(np.abs(lammps_forces)))\n",
    "del calc"
   ]
  },
  {
   "cell_type": "markdown",
   "metadata": {
    "pycharm": {
     "name": "#%% md\n"
    }
   },
   "source": [
    "# Relax with UFLammps calculator"
   ]
  },
  {
   "cell_type": "code",
   "execution_count": 39,
   "metadata": {
    "ExecuteTime": {
     "end_time": "2021-09-29T00:52:03.048099Z",
     "start_time": "2021-09-29T00:52:03.026706Z"
    },
    "pycharm": {
     "name": "#%%\n"
    }
   },
   "outputs": [
    {
     "name": "stdout",
     "output_type": "stream",
     "text": [
      "Relaxation Steps: 73\n",
      "Energy: -5.434137194694856\n",
      "Stresses (numerical): [ 1.35318007e-04 -7.02916555e-05 -5.34327350e-05 -1.58322231e-04\n",
      "  1.18055814e-05  5.86574641e-05]\n",
      "Max force: 0.003964100771550409\n"
     ]
    }
   ],
   "source": [
    "calc = lammps.UFLammps(lmpcmds=[\"pair_style table spline 1000\",\n",
    "                                \"pair_coeff 1 1 table_test/Ne_Xe.table UF_Ne-Ne 6.0\",\n",
    "                                \"pair_coeff 1 2 table_test/Ne_Xe.table UF_Ne-Xe 7.0\",\n",
    "                                \"pair_coeff 2 2 table_test/Ne_Xe.table UF_Xe-Xe 8.0\"],\n",
    "                       keep_alive=True)\n",
    "calc.relax(geom)\n",
    "print(\"Relaxation Steps:\", calc.results[\"nsteps\"])\n",
    "geom.calc = calc\n",
    "print(\"Energy:\", geom.get_potential_energy())\n",
    "print(\"Stresses (numerical):\", geom.get_stress())\n",
    "lammps_forces = geom.get_forces()\n",
    "print(\"Max force:\", np.max(np.abs(lammps_forces)))\n",
    "del calc"
   ]
  },
  {
   "cell_type": "code",
   "execution_count": null,
   "metadata": {
    "pycharm": {
     "name": "#%%\n"
    }
   },
   "outputs": [],
   "source": []
  }
 ],
 "metadata": {
  "kernelspec": {
   "display_name": "Python 3",
   "language": "python",
   "name": "python3"
  },
  "language_info": {
   "codemirror_mode": {
    "name": "ipython",
    "version": 3
   },
   "file_extension": ".py",
   "mimetype": "text/x-python",
   "name": "python",
   "nbconvert_exporter": "python",
   "pygments_lexer": "ipython3",
   "version": "3.7.11"
  },
  "toc": {
   "base_numbering": 1,
   "nav_menu": {},
   "number_sections": true,
   "sideBar": true,
   "skip_h1_title": false,
   "title_cell": "Table of Contents",
   "title_sidebar": "Contents",
   "toc_cell": false,
   "toc_position": {},
   "toc_section_display": true,
   "toc_window_display": false
  }
 },
 "nbformat": 4,
 "nbformat_minor": 1
}
