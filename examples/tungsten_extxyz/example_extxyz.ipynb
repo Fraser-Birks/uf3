{
 "cells": [
  {
   "cell_type": "code",
   "execution_count": null,
   "metadata": {
    "ExecuteTime": {
     "end_time": "2021-06-21T23:34:28.446575Z",
     "start_time": "2021-06-21T23:34:27.119174Z"
    },
    "pycharm": {
     "name": "#%%\n"
    }
   },
   "outputs": [],
   "source": [
    "import os\n",
    "\n",
    "from concurrent.futures import ProcessPoolExecutor"
   ]
  },
  {
   "cell_type": "code",
   "execution_count": null,
   "metadata": {
    "ExecuteTime": {
     "end_time": "2021-06-21T23:34:28.446575Z",
     "start_time": "2021-06-21T23:34:27.119174Z"
    },
    "pycharm": {
     "name": "#%%\n"
    }
   },
   "outputs": [],
   "source": [
    "import numpy as np\n",
    "import matplotlib.pyplot as plt"
   ]
  },
  {
   "cell_type": "code",
   "execution_count": 1,
   "metadata": {
    "ExecuteTime": {
     "end_time": "2021-06-21T23:34:28.446575Z",
     "start_time": "2021-06-21T23:34:27.119174Z"
    },
    "pycharm": {
     "name": "#%%\n"
    }
   },
   "outputs": [],
   "source": [
    "import uf3\n",
    "from uf3.data.io import DataCoordinator\n",
    "from uf3.data.composition import ChemicalSystem\n",
    "from uf3.representation.bspline import BSplineBasis\n",
    "from uf3.representation.process import BasisFeaturizer\n",
    "from uf3.regression.least_squares import WeightedLinearModel\n",
    "\n",
    "from uf3.representation import distances\n",
    "from uf3.regression import least_squares\n",
    "from uf3.util import plotting"
   ]
  },
  {
   "cell_type": "markdown",
   "metadata": {
    "pycharm": {
     "name": "#%% md\n"
    }
   },
   "source": [
    "# Setup"
   ]
  },
  {
   "cell_type": "code",
   "execution_count": 2,
   "metadata": {
    "ExecuteTime": {
     "end_time": "2021-06-21T23:34:28.450636Z",
     "start_time": "2021-06-21T23:34:28.447883Z"
    },
    "pycharm": {
     "name": "#%%\n"
    }
   },
   "outputs": [],
   "source": [
    "n_jobs = 8 # Maximum number of parallel processes for featurization\n",
    "\n",
    "element_list = [\"W\"]\n",
    "degree = 2 # include two-body interactions (pair potential)\n",
    "\n",
    "r_min_map = {('W', 'W'): 1.5,}  # minimum distance cutoff (angstroms)\n",
    "r_max_map = {('W', 'W'): 5.5,}  # maximum distance cutoff (angstroms)\n",
    "resolution_map = {('W', 'W'): 12}  # number of knot intervals\n",
    "\n",
    "regularization_params = dict(ridge_1b=1e-6,  # L2 (Ridge) regularization\n",
    "                             ridge_2b=1e-8,  # L2 (Ridge) regularization\n",
    "                             curve_2b=1e-8)  # Curvature regularization"
   ]
  },
  {
   "cell_type": "markdown",
   "metadata": {
    "pycharm": {
     "name": "#%% md\n"
    }
   },
   "source": [
    "# Initialize data coordinator and chemical system"
   ]
  },
  {
   "cell_type": "code",
   "execution_count": 3,
   "metadata": {
    "ExecuteTime": {
     "end_time": "2021-06-21T23:34:28.455222Z",
     "start_time": "2021-06-21T23:34:28.452337Z"
    },
    "pycharm": {
     "name": "#%%\n"
    }
   },
   "outputs": [],
   "source": [
    "data_coordinator = DataCoordinator()\n",
    "\n",
    "chemical_system = ChemicalSystem(element_list=element_list,\n",
    "                                 degree=degree)"
   ]
  },
  {
   "cell_type": "markdown",
   "metadata": {
    "pycharm": {
     "name": "#%% md\n"
    }
   },
   "source": [
    "# Load data from LAMMPS run directory"
   ]
  },
  {
   "cell_type": "code",
   "execution_count": 4,
   "metadata": {
    "ExecuteTime": {
     "end_time": "2021-06-21T23:34:35.846910Z",
     "start_time": "2021-06-21T23:34:28.456585Z"
    },
    "pycharm": {
     "name": "#%%\n"
    }
   },
   "outputs": [
    {
     "name": "stdout",
     "output_type": "stream",
     "text": [
      "Number of energies: 9693\n",
      "Number of forces: 475578\n"
     ]
    }
   ],
   "source": [
    "data_coordinator.dataframe_from_trajectory(\"w-14.xyz\",\n",
    "                                           prefix='dft')\n",
    "\n",
    "df_data = data_coordinator.consolidate()\n",
    "print(\"Number of energies:\", len(df_data))\n",
    "print(\"Number of forces:\", int(np.sum(df_data[\"size\"]) * 3))"
   ]
  },
  {
   "cell_type": "code",
   "execution_count": 5,
   "metadata": {
    "ExecuteTime": {
     "end_time": "2021-06-21T23:34:35.862190Z",
     "start_time": "2021-06-21T23:34:35.848043Z"
    },
    "pycharm": {
     "name": "#%%\n"
    }
   },
   "outputs": [
    {
     "data": {
      "text/html": [
       "<div>\n",
       "<style scoped>\n",
       "    .dataframe tbody tr th:only-of-type {\n",
       "        vertical-align: middle;\n",
       "    }\n",
       "\n",
       "    .dataframe tbody tr th {\n",
       "        vertical-align: top;\n",
       "    }\n",
       "\n",
       "    .dataframe thead th {\n",
       "        text-align: right;\n",
       "    }\n",
       "</style>\n",
       "<table border=\"1\" class=\"dataframe\">\n",
       "  <thead>\n",
       "    <tr style=\"text-align: right;\">\n",
       "      <th></th>\n",
       "      <th>geometry</th>\n",
       "      <th>energy</th>\n",
       "      <th>fx</th>\n",
       "      <th>fy</th>\n",
       "      <th>fz</th>\n",
       "      <th>size</th>\n",
       "    </tr>\n",
       "  </thead>\n",
       "  <tbody>\n",
       "    <tr>\n",
       "      <th>dft_0</th>\n",
       "      <td>(Atom('W', [0.0, 0.0, 0.0], index=0))</td>\n",
       "      <td>-11.1948</td>\n",
       "      <td>[0.0]</td>\n",
       "      <td>[0.0]</td>\n",
       "      <td>[0.0]</td>\n",
       "      <td>1.0</td>\n",
       "    </tr>\n",
       "    <tr>\n",
       "      <th>dft_1</th>\n",
       "      <td>(Atom('W', [0.0, 0.0, 0.0], index=0))</td>\n",
       "      <td>-11.127</td>\n",
       "      <td>[0.0]</td>\n",
       "      <td>[0.0]</td>\n",
       "      <td>[0.0]</td>\n",
       "      <td>1.0</td>\n",
       "    </tr>\n",
       "    <tr>\n",
       "      <th>dft_2</th>\n",
       "      <td>(Atom('W', [0.0, 0.0, 0.0], index=0))</td>\n",
       "      <td>-11.1333</td>\n",
       "      <td>[0.0]</td>\n",
       "      <td>[0.0]</td>\n",
       "      <td>[0.0]</td>\n",
       "      <td>1.0</td>\n",
       "    </tr>\n",
       "    <tr>\n",
       "      <th>dft_3</th>\n",
       "      <td>(Atom('W', [0.0, 0.0, 0.0], index=0))</td>\n",
       "      <td>-11.1396</td>\n",
       "      <td>[0.0]</td>\n",
       "      <td>[0.0]</td>\n",
       "      <td>[0.0]</td>\n",
       "      <td>1.0</td>\n",
       "    </tr>\n",
       "    <tr>\n",
       "      <th>dft_4</th>\n",
       "      <td>(Atom('W', [0.0, 0.0, 0.0], index=0))</td>\n",
       "      <td>-11.142</td>\n",
       "      <td>[0.0]</td>\n",
       "      <td>[0.0]</td>\n",
       "      <td>[0.0]</td>\n",
       "      <td>1.0</td>\n",
       "    </tr>\n",
       "  </tbody>\n",
       "</table>\n",
       "</div>"
      ],
      "text/plain": [
       "                                    geometry   energy     fx     fy     fz  \\\n",
       "dft_0  (Atom('W', [0.0, 0.0, 0.0], index=0)) -11.1948  [0.0]  [0.0]  [0.0]   \n",
       "dft_1  (Atom('W', [0.0, 0.0, 0.0], index=0))  -11.127  [0.0]  [0.0]  [0.0]   \n",
       "dft_2  (Atom('W', [0.0, 0.0, 0.0], index=0)) -11.1333  [0.0]  [0.0]  [0.0]   \n",
       "dft_3  (Atom('W', [0.0, 0.0, 0.0], index=0)) -11.1396  [0.0]  [0.0]  [0.0]   \n",
       "dft_4  (Atom('W', [0.0, 0.0, 0.0], index=0))  -11.142  [0.0]  [0.0]  [0.0]   \n",
       "\n",
       "       size  \n",
       "dft_0   1.0  \n",
       "dft_1   1.0  \n",
       "dft_2   1.0  \n",
       "dft_3   1.0  \n",
       "dft_4   1.0  "
      ]
     },
     "execution_count": 5,
     "metadata": {},
     "output_type": "execute_result"
    }
   ],
   "source": [
    "df_data.head()\n"
   ]
  },
  {
   "cell_type": "markdown",
   "metadata": {
    "pycharm": {
     "name": "#%% md\n"
    }
   },
   "source": [
    "# Visualize partial radial distribution functions\n",
    "### This can be a sanity check for specified interaction-specific cutoffs."
   ]
  },
  {
   "cell_type": "code",
   "execution_count": 6,
   "metadata": {
    "ExecuteTime": {
     "end_time": "2021-06-21T23:34:45.993159Z",
     "start_time": "2021-06-21T23:34:35.863858Z"
    },
    "pycharm": {
     "name": "#%%\n"
    }
   },
   "outputs": [
    {
     "name": "stderr",
     "output_type": "stream",
     "text": [
      "100%|██████████| 1000/1000 [00:10<00:00, 98.82it/s]"
     ]
    },
    {
     "name": "stdout",
     "output_type": "stream",
     "text": [
      "('W', 'W') Lower bound: 1.920 angstroms\n",
      "('W', 'W') Peaks (min width 0.2 angstroms): [5.22 6.9  9.42]\n"
     ]
    },
    {
     "name": "stderr",
     "output_type": "stream",
     "text": [
      "\n"
     ]
    }
   ],
   "source": [
    "atoms_key = data_coordinator.atoms_key\n",
    "histogram_slice = np.random.choice(np.arange(len(df_data)),\n",
    "                                   min(1000, len(df_data)),\n",
    "                                   replace=False)\n",
    "df_slice = df_data[atoms_key].iloc[histogram_slice]\n",
    "histograms = distances.summarize_distances(df_slice,\n",
    "                                           chemical_system,\n",
    "                                           min_peak_width=0.2)"
   ]
  },
  {
   "cell_type": "code",
   "execution_count": 7,
   "metadata": {
    "ExecuteTime": {
     "end_time": "2021-06-21T23:34:46.229687Z",
     "start_time": "2021-06-21T23:34:45.994143Z"
    },
    "pycharm": {
     "name": "#%%\n"
    }
   },
   "outputs": [
    {
     "data": {
      "image/png": "[encoded data removed]",
      "text/plain": [
       "<Figure size 144x144 with 1 Axes>"
      ]
     },
     "metadata": {
      "needs_background": "light"
     },
     "output_type": "display_data"
    }
   ],
   "source": [
    "bar_width = histograms[1][1] - histograms[1][0]\n",
    "pairs = chemical_system.interactions_map[2]\n",
    "fig, ax = plt.subplots(1, len(pairs), figsize=(len(pairs)*2, 2))\n",
    "if not isinstance(ax, (list, np.ndarray)):\n",
    "    ax = [ax]\n",
    "for i, pair in enumerate(pairs):\n",
    "    ax[i].bar(histograms[1][:-1],\n",
    "              histograms[0][pair],\n",
    "              width=bar_width)\n",
    "    ax[i].set_title(pair)\n",
    "    ax[i].plot([0, 10], [1, 1], linestyle='--', color='k')\n",
    "    ax[i].set_xlim(0, 10)\n",
    "    ax[i].set_ylim(0, 4)\n",
    "    ax[i].set_xlabel(\"r\")\n",
    "    ax[i].set_ylabel(\"Frequency\")\n",
    "fig.tight_layout()\n"
   ]
  },
  {
   "cell_type": "markdown",
   "metadata": {
    "pycharm": {
     "name": "#%% md\n"
    }
   },
   "source": [
    "# Initialize representation, regularizer, and model\n"
   ]
  },
  {
   "cell_type": "code",
   "execution_count": 8,
   "metadata": {
    "ExecuteTime": {
     "end_time": "2021-06-21T23:34:46.236208Z",
     "start_time": "2021-06-21T23:34:46.231411Z"
    },
    "pycharm": {
     "name": "#%%\n"
    }
   },
   "outputs": [],
   "source": [
    "bspline_config = BSplineBasis(chemical_system,\n",
    "                               r_min_map=r_min_map,\n",
    "                               r_max_map=r_max_map,\n",
    "                               resolution_map=resolution_map)\n",
    "\n",
    "representation = BasisFeaturizer(chemical_system,\n",
    "                                bspline_config)\n",
    "\n",
    "regularizer = bspline_config.get_regularization_matrix(\n",
    "    **regularization_params)\n",
    "fixed = bspline_config.get_fixed_tuples(values=0,\n",
    "                                        one_body=False,\n",
    "                                        upper_bounds=True,\n",
    "                                        lower_bounds=False)\n",
    "\n",
    "model = WeightedLinearModel(regularizer=regularizer,\n",
    "                            fixed_tuples=fixed)\n",
    "\n",
    "client = ProcessPoolExecutor(max_workers=n_jobs)"
   ]
  },
  {
   "cell_type": "markdown",
   "metadata": {
    "pycharm": {
     "name": "#%% md\n"
    }
   },
   "source": [
    "# Compute energy and force features using B-spline basis"
   ]
  },
  {
   "cell_type": "code",
   "execution_count": 9,
   "metadata": {
    "ExecuteTime": {
     "end_time": "2021-06-21T23:36:11.573641Z",
     "start_time": "2021-06-21T23:34:46.238525Z"
    },
    "pycharm": {
     "name": "#%%\n"
    }
   },
   "outputs": [
    {
     "name": "stderr",
     "output_type": "stream",
     "text": [
      "100%|██████████| 128/128 [01:25<00:00,  1.56it/s]"
     ]
    }
   ],
   "source": [
    "n_batches = 16  # added granularity for more progress bar updates (optional).\n",
    "df_features = representation.evaluate_parallel(df_data,\n",
    "                                               client,\n",
    "                                               n_jobs=n_jobs * n_batches)"
   ]
  },
  {
   "cell_type": "code",
   "execution_count": 10,
   "metadata": {
    "ExecuteTime": {
     "end_time": "2021-06-21T23:36:11.589632Z",
     "start_time": "2021-06-21T23:36:11.575198Z"
    },
    "pycharm": {
     "name": "#%%\n"
    }
   },
   "outputs": [
    {
     "data": {
      "text/html": [
       "<div>\n",
       "<style scoped>\n",
       "    .dataframe tbody tr th:only-of-type {\n",
       "        vertical-align: middle;\n",
       "    }\n",
       "\n",
       "    .dataframe tbody tr th {\n",
       "        vertical-align: top;\n",
       "    }\n",
       "\n",
       "    .dataframe thead th {\n",
       "        text-align: right;\n",
       "    }\n",
       "</style>\n",
       "<table border=\"1\" class=\"dataframe\">\n",
       "  <thead>\n",
       "    <tr style=\"text-align: right;\">\n",
       "      <th></th>\n",
       "      <th></th>\n",
       "      <th>y</th>\n",
       "      <th>n_W</th>\n",
       "      <th>ij_0</th>\n",
       "      <th>ij_1</th>\n",
       "      <th>ij_2</th>\n",
       "      <th>ij_3</th>\n",
       "      <th>ij_4</th>\n",
       "      <th>ij_5</th>\n",
       "      <th>ij_6</th>\n",
       "      <th>ij_7</th>\n",
       "      <th>ij_8</th>\n",
       "      <th>ij_9</th>\n",
       "      <th>ij_10</th>\n",
       "      <th>ij_11</th>\n",
       "      <th>ij_12</th>\n",
       "      <th>ij_13</th>\n",
       "      <th>ij_14</th>\n",
       "    </tr>\n",
       "  </thead>\n",
       "  <tbody>\n",
       "    <tr>\n",
       "      <th rowspan=\"5\" valign=\"top\">dft_9692</th>\n",
       "      <th>fz_130</th>\n",
       "      <td>-0.349308</td>\n",
       "      <td>0.0</td>\n",
       "      <td>-0.0</td>\n",
       "      <td>-0.0</td>\n",
       "      <td>-0.0</td>\n",
       "      <td>-0.284629</td>\n",
       "      <td>0.115201</td>\n",
       "      <td>0.907442</td>\n",
       "      <td>-0.508149</td>\n",
       "      <td>-0.156850</td>\n",
       "      <td>-0.310577</td>\n",
       "      <td>-1.730358</td>\n",
       "      <td>4.005582</td>\n",
       "      <td>-4.991529</td>\n",
       "      <td>10.987032</td>\n",
       "      <td>-7.809375</td>\n",
       "      <td>-0.223789</td>\n",
       "    </tr>\n",
       "    <tr>\n",
       "      <th>fz_131</th>\n",
       "      <td>0.646192</td>\n",
       "      <td>0.0</td>\n",
       "      <td>-0.0</td>\n",
       "      <td>-0.0</td>\n",
       "      <td>-0.0</td>\n",
       "      <td>0.473734</td>\n",
       "      <td>-0.779015</td>\n",
       "      <td>0.625148</td>\n",
       "      <td>-1.844884</td>\n",
       "      <td>1.336873</td>\n",
       "      <td>0.700906</td>\n",
       "      <td>2.979020</td>\n",
       "      <td>-7.848901</td>\n",
       "      <td>10.472510</td>\n",
       "      <td>-9.255821</td>\n",
       "      <td>-11.073421</td>\n",
       "      <td>14.213852</td>\n",
       "    </tr>\n",
       "    <tr>\n",
       "      <th>fz_132</th>\n",
       "      <td>-1.066545</td>\n",
       "      <td>0.0</td>\n",
       "      <td>-0.0</td>\n",
       "      <td>-0.0</td>\n",
       "      <td>-0.0</td>\n",
       "      <td>-0.301764</td>\n",
       "      <td>0.980453</td>\n",
       "      <td>-2.913931</td>\n",
       "      <td>5.116118</td>\n",
       "      <td>-1.887448</td>\n",
       "      <td>-2.466755</td>\n",
       "      <td>-0.748139</td>\n",
       "      <td>5.771566</td>\n",
       "      <td>-11.883671</td>\n",
       "      <td>4.507288</td>\n",
       "      <td>19.810635</td>\n",
       "      <td>-15.984351</td>\n",
       "    </tr>\n",
       "    <tr>\n",
       "      <th>fz_133</th>\n",
       "      <td>-0.292102</td>\n",
       "      <td>0.0</td>\n",
       "      <td>-0.0</td>\n",
       "      <td>-0.0</td>\n",
       "      <td>-0.0</td>\n",
       "      <td>0.006905</td>\n",
       "      <td>-0.223910</td>\n",
       "      <td>-0.172881</td>\n",
       "      <td>1.404027</td>\n",
       "      <td>-0.584533</td>\n",
       "      <td>-0.586029</td>\n",
       "      <td>-1.418083</td>\n",
       "      <td>3.179218</td>\n",
       "      <td>-5.733854</td>\n",
       "      <td>1.447427</td>\n",
       "      <td>14.131168</td>\n",
       "      <td>-11.449455</td>\n",
       "    </tr>\n",
       "    <tr>\n",
       "      <th>fz_134</th>\n",
       "      <td>0.034134</td>\n",
       "      <td>0.0</td>\n",
       "      <td>-0.0</td>\n",
       "      <td>-0.0</td>\n",
       "      <td>-0.0</td>\n",
       "      <td>-0.058272</td>\n",
       "      <td>-0.024893</td>\n",
       "      <td>0.272448</td>\n",
       "      <td>0.271886</td>\n",
       "      <td>-1.339522</td>\n",
       "      <td>0.998410</td>\n",
       "      <td>0.665213</td>\n",
       "      <td>-1.289444</td>\n",
       "      <td>-2.316576</td>\n",
       "      <td>10.336306</td>\n",
       "      <td>7.781168</td>\n",
       "      <td>-15.296725</td>\n",
       "    </tr>\n",
       "  </tbody>\n",
       "</table>\n",
       "</div>"
      ],
      "text/plain": [
       "                        y  n_W  ij_0  ij_1  ij_2      ij_3      ij_4  \\\n",
       "dft_9692 fz_130 -0.349308  0.0  -0.0  -0.0  -0.0 -0.284629  0.115201   \n",
       "         fz_131  0.646192  0.0  -0.0  -0.0  -0.0  0.473734 -0.779015   \n",
       "         fz_132 -1.066545  0.0  -0.0  -0.0  -0.0 -0.301764  0.980453   \n",
       "         fz_133 -0.292102  0.0  -0.0  -0.0  -0.0  0.006905 -0.223910   \n",
       "         fz_134  0.034134  0.0  -0.0  -0.0  -0.0 -0.058272 -0.024893   \n",
       "\n",
       "                     ij_5      ij_6      ij_7      ij_8      ij_9     ij_10  \\\n",
       "dft_9692 fz_130  0.907442 -0.508149 -0.156850 -0.310577 -1.730358  4.005582   \n",
       "         fz_131  0.625148 -1.844884  1.336873  0.700906  2.979020 -7.848901   \n",
       "         fz_132 -2.913931  5.116118 -1.887448 -2.466755 -0.748139  5.771566   \n",
       "         fz_133 -0.172881  1.404027 -0.584533 -0.586029 -1.418083  3.179218   \n",
       "         fz_134  0.272448  0.271886 -1.339522  0.998410  0.665213 -1.289444   \n",
       "\n",
       "                     ij_11      ij_12      ij_13      ij_14  \n",
       "dft_9692 fz_130  -4.991529  10.987032  -7.809375  -0.223789  \n",
       "         fz_131  10.472510  -9.255821 -11.073421  14.213852  \n",
       "         fz_132 -11.883671   4.507288  19.810635 -15.984351  \n",
       "         fz_133  -5.733854   1.447427  14.131168 -11.449455  \n",
       "         fz_134  -2.316576  10.336306   7.781168 -15.296725  "
      ]
     },
     "execution_count": 10,
     "metadata": {},
     "output_type": "execute_result"
    }
   ],
   "source": [
    "df_features.tail()"
   ]
  },
  {
   "cell_type": "markdown",
   "metadata": {
    "pycharm": {
     "name": "#%% md\n"
    }
   },
   "source": [
    "# Fit with 20% of the data, using preset training set\n",
    "### Weighing energies and forces with kappa = 0.9"
   ]
  },
  {
   "cell_type": "code",
   "execution_count": 11,
   "metadata": {
    "ExecuteTime": {
     "end_time": "2021-06-21T23:36:11.636114Z",
     "start_time": "2021-06-21T23:36:11.590896Z"
    },
    "pycharm": {
     "name": "#%%\n"
    }
   },
   "outputs": [],
   "source": [
    "kappa = 0.9  # energy-force weighting parameter between 0 and 1.\n",
    "\n",
    "np.random.seed(8)\n",
    "n_train = int(len(df_data) * 0.2)\n",
    "training_indices = np.random.choice(np.arange(len(df_data)), \n",
    "                                    n_train,\n",
    "                                    replace=False)\n",
    "training_keys = np.take(df_data.index, training_indices)\n",
    "testing_indices = np.setdiff1d(np.arange(len(df_data), dtype=int), training_indices)\n",
    "testing_keys = np.take(df_data.index, testing_indices)\n",
    "\n",
    "df_train = df_features.loc[training_keys]\n",
    "df_test = df_features.loc[testing_keys]\n",
    "x, y, w = representation.get_training_tuples(df_train,\n",
    "                                             kappa,\n",
    "                                             data_coordinator)"
   ]
  },
  {
   "cell_type": "code",
   "execution_count": 12,
   "metadata": {
    "ExecuteTime": {
     "end_time": "2021-06-21T23:36:11.660155Z",
     "start_time": "2021-06-21T23:36:11.637329Z"
    },
    "pycharm": {
     "name": "#%%\n"
    }
   },
   "outputs": [],
   "source": [
    "model.fit(x, y, weights=w)"
   ]
  },
  {
   "cell_type": "code",
   "execution_count": 13,
   "metadata": {
    "ExecuteTime": {
     "end_time": "2021-06-21T23:36:11.664522Z",
     "start_time": "2021-06-21T23:36:11.661440Z"
    }
   },
   "outputs": [],
   "source": [
    "c_2 = model.coefficients[bspline_config.partition_sizes[0]:]\n",
    "c_2 = least_squares.postprocess_coefficients(c_2)\n",
    "model.coefficients[bspline_config.partition_sizes[0]:] = c_2"
   ]
  },
  {
   "cell_type": "markdown",
   "metadata": {
    "pycharm": {
     "name": "#%% md\n"
    }
   },
   "source": [
    "# Evaluate Energy and Forces with model"
   ]
  },
  {
   "cell_type": "code",
   "execution_count": 14,
   "metadata": {
    "ExecuteTime": {
     "end_time": "2021-06-21T23:36:11.725685Z",
     "start_time": "2021-06-21T23:36:11.666534Z"
    },
    "pycharm": {
     "name": "#%%\n"
    }
   },
   "outputs": [],
   "source": [
    "# Evaluate\n",
    "x_test, y_test, w_cond = representation.get_training_tuples(df_test,\n",
    "                                                            0,\n",
    "                                                            data_coordinator)\n",
    "# slice entries corresponding to energies per atom\n",
    "s_e = df_data.loc[testing_keys][data_coordinator.size_key]\n",
    "x_e = np.divide(x_test[w_cond == 0].T, s_e.values).T\n",
    "y_e = y_test[w_cond == 0] / s_e.values\n",
    "# slice entries corresponding to forces\n",
    "x_f = x_test[w_cond > 0]\n",
    "y_f = y_test[w_cond > 0]\n",
    "# predict with solution\n",
    "p_e = model.predict(x_e)  # energy per atom\n",
    "p_f = model.predict(x_f)"
   ]
  },
  {
   "cell_type": "markdown",
   "metadata": {
    "pycharm": {
     "name": "#%% md\n"
    }
   },
   "source": [
    "# Compute root-mean-square error"
   ]
  },
  {
   "cell_type": "code",
   "execution_count": 15,
   "metadata": {
    "ExecuteTime": {
     "end_time": "2021-06-21T23:36:11.732449Z",
     "start_time": "2021-06-21T23:36:11.727229Z"
    },
    "pycharm": {
     "name": "#%%\n"
    }
   },
   "outputs": [
    {
     "name": "stdout",
     "output_type": "stream",
     "text": [
      "Energy RMSE: 0.025859622432284173 eV/atom\n",
      "Forces RMSE: 0.3099057521755056 eV/angstrom\n"
     ]
    }
   ],
   "source": [
    "rmse_e = np.sqrt(np.mean(np.subtract(y_e, p_e)**2))\n",
    "rmse_f = np.sqrt(np.mean(np.subtract(y_f, p_f)**2))\n",
    "print(\"Energy RMSE:\", rmse_e, \"eV/atom\")\n",
    "print(\"Forces RMSE:\", rmse_f, \"eV/angstrom\")"
   ]
  },
  {
   "cell_type": "markdown",
   "metadata": {},
   "source": [
    "# Arrange solution into pair-interaction potentials"
   ]
  },
  {
   "cell_type": "code",
   "execution_count": 16,
   "metadata": {
    "ExecuteTime": {
     "end_time": "2021-06-21T23:36:11.737735Z",
     "start_time": "2021-06-21T23:36:11.734103Z"
    },
    "pycharm": {
     "name": "#%%\n"
    }
   },
   "outputs": [],
   "source": [
    "split_indices = np.cumsum(bspline_config.partition_sizes)[:-1]\n",
    "solutions_list = np.array_split(model.coefficients,\n",
    "                                split_indices)\n",
    "solutions = {element: value for element, value\n",
    "             in zip(chemical_system.element_list, solutions_list[0])}\n",
    "for i, pair in enumerate(chemical_system.interactions_map[2]):\n",
    "    solutions[pair] = solutions_list[i + 1]"
   ]
  },
  {
   "cell_type": "code",
   "execution_count": 17,
   "metadata": {
    "ExecuteTime": {
     "end_time": "2021-06-21T23:36:11.743477Z",
     "start_time": "2021-06-21T23:36:11.739007Z"
    },
    "pycharm": {
     "name": "#%%\n"
    }
   },
   "outputs": [
    {
     "name": "stdout",
     "output_type": "stream",
     "text": [
      "W: -7.666735\n",
      "('W', 'W'): vector (15,)\n"
     ]
    }
   ],
   "source": [
    "for key, value in solutions.items():\n",
    "    if isinstance(value, (float, np.floating)):\n",
    "        print(\"{0}: {1:.6f}\".format(key, value))\n",
    "    else:\n",
    "        print(\"{}: vector\".format(key), value.shape)"
   ]
  },
  {
   "cell_type": "markdown",
   "metadata": {
    "pycharm": {
     "name": "#%% md\n"
    }
   },
   "source": [
    "# Plot results\n"
   ]
  },
  {
   "cell_type": "code",
   "execution_count": 18,
   "metadata": {
    "ExecuteTime": {
     "end_time": "2021-06-21T23:36:22.593775Z",
     "start_time": "2021-06-21T23:36:11.744894Z"
    },
    "pycharm": {
     "name": "#%%\n"
    }
   },
   "outputs": [
    {
     "name": "stderr",
     "output_type": "stream",
     "text": [
      "<ipython-input-18-77cc92652f15>:43: UserWarning: Matplotlib is currently using module://ipykernel.pylab.backend_inline, which is a non-GUI backend, so cannot show the figure.\n",
      "  fig.show()\n"
     ]
    },
    {
     "data": {
      "image/png": "[encoded data removed]",
      "text/plain": [
       "<Figure size 1196.8x640 with 3 Axes>"
      ]
     },
     "metadata": {},
     "output_type": "display_data"
    }
   ],
   "source": [
    "y_min = -1\n",
    "y_max = 2\n",
    "ENERGY_UNITS = \"eV/atom\"\n",
    "FORCE_UNITS = \"eV/$\\mathrm{\\AA}$\"\n",
    "\n",
    "fig = plt.figure(figsize=(7.48, 4), dpi=160, facecolor='white')\n",
    "gs = fig.add_gridspec(ncols=3, nrows=2,\n",
    "                      width_ratios=[1, 1, 1],\n",
    "                      height_ratios=[0.5, 1])\n",
    "\n",
    "for i, pair in enumerate(chemical_system.interactions_map[2]):\n",
    "    ax = fig.add_subplot(gs[0, i])\n",
    "    r_min = r_min_map[pair]\n",
    "    r_max = r_max_map[pair]\n",
    "    knot_sequence = representation.knots_map[pair]\n",
    "    coefficients = solutions[pair]\n",
    "    plotting.visualize_splines(coefficients,\n",
    "                               knot_sequence,\n",
    "                               ax=ax,)\n",
    "    ax.set_ylabel('B-Spline Value')\n",
    "    ax.set_xlabel('$\\mathrm{r_{ij}~~(\\AA)}$')\n",
    "    ax.set_title(pair)\n",
    "    ax.set_ylim(-0.5, 2)\n",
    "ax2 = fig.add_subplot(gs[1, 0])\n",
    "plotting.density_scatter(y_e, p_e, ax=ax2, units=ENERGY_UNITS)\n",
    "ax2.set_xlabel('Reference ({})'.format(ENERGY_UNITS))\n",
    "ax2.set_ylabel('Prediction ({})'.format(ENERGY_UNITS))\n",
    "\n",
    "ax3 = fig.add_subplot(gs[1, 1])\n",
    "plotting.density_scatter(y_f, \n",
    "                         p_f, \n",
    "                         ax=ax3, \n",
    "                         units=FORCE_UNITS, \n",
    "                         subset_threshold=1000)\n",
    "ax3.set_xlabel('Reference ({})'.format(FORCE_UNITS))\n",
    "ax3.set_ylabel('Prediction ({})'.format(FORCE_UNITS))\n",
    "\n",
    "ax2.set_title('Energy Predictions')\n",
    "ax3.set_title('Force Predictions')\n",
    "fig.subplots_adjust(left=0.1, right=0.99,\n",
    "                    bottom=0.15, top=0.94,\n",
    "                    wspace=0.6, hspace=0.6)\n",
    "fig.show()\n"
   ]
  },
  {
   "cell_type": "markdown",
   "metadata": {
    "pycharm": {
     "name": "#%% md\n"
    }
   },
   "source": [
    "# Export tabulated potentials"
   ]
  },
  {
   "cell_type": "code",
   "execution_count": null,
   "metadata": {},
   "outputs": [],
   "source": [
    "from uf3.forcefield import lammps"
   ]
  },
  {
   "cell_type": "code",
   "execution_count": 19,
   "metadata": {
    "ExecuteTime": {
     "end_time": "2021-06-21T23:36:22.671338Z",
     "start_time": "2021-06-21T23:36:22.594728Z"
    },
    "pycharm": {
     "name": "#%%\n"
    }
   },
   "outputs": [],
   "source": [
    "table_list = []\n",
    "pair_list = chemical_system.interactions_map[2]\n",
    "for pair in pair_list:\n",
    "    text = lammps.export_tabulated_potential(representation.knots_map[pair],\n",
    "                                             solutions[pair],\n",
    "                                             pair,\n",
    "                                             grid=1000,\n",
    "                                             filename=None)\n",
    "    table_list.append(text)\n",
    "combined_text = \"\\n\\n\\n\".join(table_list)\n",
    "table_name = os.path.join(\"table_test\", \"W.table\")\n",
    "with open(table_name, \"w\") as f:\n",
    "    f.write(combined_text)"
   ]
  },
  {
   "cell_type": "markdown",
   "metadata": {},
   "source": [
    "# Compute energy, forces, stress with UFCalculator"
   ]
  },
  {
   "cell_type": "code",
   "execution_count": null,
   "metadata": {},
   "outputs": [],
   "source": [
    "from uf3.forcefield import calculator"
   ]
  },
  {
   "cell_type": "code",
   "execution_count": 20,
   "metadata": {
    "ExecuteTime": {
     "end_time": "2021-06-21T23:36:22.718445Z",
     "start_time": "2021-06-21T23:36:22.672618Z"
    },
    "pycharm": {
     "name": "#%%\n"
    }
   },
   "outputs": [
    {
     "name": "stdout",
     "output_type": "stream",
     "text": [
      "Energy: -129.91293531740013\n",
      "Stresses (numerical): [-0.0543753  -0.03638182 -0.01470901  0.00238862 -0.01620332 -0.03222746]\n",
      "Forces:\n",
      " [[ 3.26613860e-01 -6.91642291e+00  6.07400412e-01]\n",
      " [ 1.23419228e+00  4.26123679e-01 -5.86352943e-01]\n",
      " [-1.37832150e+00 -1.42765610e+00 -3.98962340e-01]\n",
      " [-1.74115341e+00  5.31758292e+00 -3.73344170e-01]\n",
      " [ 8.05222904e-01  2.22389485e+00  1.09754810e+00]\n",
      " [ 1.88088758e+00 -2.22025148e+00 -7.90118201e-01]\n",
      " [ 2.30380310e+00  1.54378719e+00 -7.34143396e-01]\n",
      " [-1.42987408e+00 -6.63984128e-01  1.02735536e+00]\n",
      " [-2.19003903e+00 -2.42263636e-03  6.94168162e-02]\n",
      " [ 3.07377404e-01  5.29370994e+00 -4.41367907e-02]\n",
      " [ 1.81183116e+00 -3.30984614e+00 -2.38454179e-01]\n",
      " [-1.93054028e+00 -2.64515182e-01  3.63791324e-01]]\n",
      "Max force: 6.9164229091479585\n"
     ]
    }
   ],
   "source": [
    "calc = calculator.UFCalculator(bspline_config, model)\n",
    "\n",
    "geom = df_data.iloc[3000]['geometry'].copy()  # 12-atom cell\n",
    "geom.set_calculator(calc)\n",
    "print(\"Energy:\", geom.get_potential_energy())\n",
    "print(\"Stresses (numerical):\", geom.get_stress())\n",
    "print(\"Forces:\\n\", geom.get_forces())\n",
    "print(\"Max force:\", np.max(np.abs(geom.get_forces())))"
   ]
  },
  {
   "cell_type": "markdown",
   "metadata": {
    "pycharm": {
     "name": "#%% md\n"
    }
   },
   "source": [
    "# Compare with UFLammps calculator"
   ]
  },
  {
   "cell_type": "code",
   "execution_count": 21,
   "metadata": {
    "ExecuteTime": {
     "end_time": "2021-06-21T23:36:25.688150Z",
     "start_time": "2021-06-21T23:36:22.719603Z"
    },
    "pycharm": {
     "name": "#%%\n"
    }
   },
   "outputs": [
    {
     "name": "stdout",
     "output_type": "stream",
     "text": [
      "Energy: -37.9121180897919\n",
      "Stresses (numerical): [-0.0543752  -0.03638209 -0.01470938  0.0023884  -0.01620334 -0.03222738]\n",
      "Forces:\n",
      " [[-3.26614206e-01  6.91642289e+00 -6.07400685e-01]\n",
      " [-1.23419291e+00 -4.26123503e-01  5.86353877e-01]\n",
      " [ 1.37832214e+00  1.42765467e+00  3.98961785e-01]\n",
      " [ 1.74115484e+00 -5.31758224e+00  3.73341672e-01]\n",
      " [-8.05223999e-01 -2.22389434e+00 -1.09754948e+00]\n",
      " [-1.88088985e+00  2.22025108e+00  7.90116544e-01]\n",
      " [-2.30380391e+00 -1.54378347e+00  7.34144117e-01]\n",
      " [ 1.42987574e+00  6.63982768e-01 -1.02735365e+00]\n",
      " [ 2.19004002e+00  2.42184887e-03 -6.94152320e-02]\n",
      " [-3.07380450e-01 -5.29373161e+00  4.41180043e-02]\n",
      " [-1.81182844e+00  3.30987011e+00  2.38474895e-01]\n",
      " [ 1.93054101e+00  2.64511782e-01 -3.63791849e-01]]\n",
      "Max force: 6.916422891725154\n"
     ]
    }
   ],
   "source": [
    "calc = lammps.UFLammps(lmpcmds=[\"pair_style table spline 1000\",\n",
    "                                \"pair_coeff * * table_test/W.table UF_W-W 5.5\"],\n",
    "                       keep_alive=True)\n",
    "geom = df_data.iloc[3000]['geometry'].copy()  # 12-atom cell\n",
    "geom.set_calculator(calc)\n",
    "print(\"Energy:\", geom.get_potential_energy())\n",
    "print(\"Stresses (numerical):\", geom.get_stress())\n",
    "print(\"Forces:\\n\", geom.get_forces())\n",
    "print(\"Max force:\", np.max(np.abs(geom.get_forces())))\n",
    "del calc"
   ]
  },
  {
   "cell_type": "markdown",
   "metadata": {
    "pycharm": {
     "name": "#%% md\n"
    }
   },
   "source": [
    "# Relax with UFLammps calculator"
   ]
  },
  {
   "cell_type": "code",
   "execution_count": 22,
   "metadata": {
    "ExecuteTime": {
     "end_time": "2021-06-21T23:36:25.708867Z",
     "start_time": "2021-06-21T23:36:25.689832Z"
    },
    "pycharm": {
     "name": "#%%\n"
    }
   },
   "outputs": [
    {
     "name": "stdout",
     "output_type": "stream",
     "text": [
      "Relaxation Steps: 93\n",
      "Energy: -41.23010080514103\n",
      "Stresses (numerical): [-0.03376374  0.00191698  0.0318193   0.00768406 -0.01794595 -0.04558064]\n",
      "Forces:\n",
      " [[ 0.00528491 -0.00246796  0.00235554]\n",
      " [-0.0008847  -0.00878648  0.00373691]\n",
      " [-0.00228546 -0.00486096  0.00216438]\n",
      " [ 0.00122039 -0.00128789  0.00184671]\n",
      " [ 0.00845143 -0.00159939  0.00195616]\n",
      " [-0.00022463  0.0077283  -0.00100959]\n",
      " [-0.00286689 -0.00321598 -0.00167861]\n",
      " [ 0.00632936  0.00285896  0.00023215]\n",
      " [-0.00193798 -0.00077773 -0.00173439]\n",
      " [-0.0055369   0.00645764 -0.00301832]\n",
      " [-0.00636335 -0.00251386 -0.00291591]\n",
      " [-0.00118617  0.00846536 -0.00193502]]\n",
      "Max force: 0.008465359163967\n"
     ]
    }
   ],
   "source": [
    "calc = lammps.UFLammps(lmpcmds=[\"pair_style table spline 1000\",\n",
    "                                \"pair_coeff * * table_test/W.table UF_W-W 5.5\"],\n",
    "                       keep_alive=True)\n",
    "calc.relax(geom)\n",
    "print('Relaxation Steps:', calc.results['nsteps'])\n",
    "geom.calc = calc\n",
    "print(\"Energy:\", geom.get_potential_energy())\n",
    "print(\"Stresses (numerical):\", geom.get_stress())\n",
    "lammps_forces = geom.get_forces()\n",
    "print(\"Forces:\\n\", lammps_forces)\n",
    "print(\"Max force:\", np.max(lammps_forces))\n",
    "del calc"
   ]
  },
  {
   "cell_type": "code",
   "execution_count": null,
   "metadata": {
    "pycharm": {
     "name": "#%%\n"
    }
   },
   "outputs": [],
   "source": []
  }
 ],
 "metadata": {
  "kernelspec": {
   "display_name": "Python 3",
   "language": "python",
   "name": "python3"
  },
  "language_info": {
   "codemirror_mode": {
    "name": "ipython",
    "version": 3
   },
   "file_extension": ".py",
   "mimetype": "text/x-python",
   "name": "python",
   "nbconvert_exporter": "python",
   "pygments_lexer": "ipython3",
   "version": "3.8.3"
  },
  "toc": {
   "base_numbering": 1,
   "nav_menu": {},
   "number_sections": true,
   "sideBar": true,
   "skip_h1_title": false,
   "title_cell": "Table of Contents",
   "title_sidebar": "Contents",
   "toc_cell": false,
   "toc_position": {},
   "toc_section_display": true,
   "toc_window_display": false
  }
 },
 "nbformat": 4,
 "nbformat_minor": 1
}
