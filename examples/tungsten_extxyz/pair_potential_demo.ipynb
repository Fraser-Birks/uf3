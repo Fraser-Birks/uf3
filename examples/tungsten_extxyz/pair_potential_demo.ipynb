{
 "cells": [
  {
   "cell_type": "code",
   "execution_count": 1,
   "metadata": {
    "ExecuteTime": {
     "end_time": "2021-09-27T14:58:52.568217Z",
     "start_time": "2021-09-27T14:58:52.559388Z"
    },
    "pycharm": {
     "name": "#%%\n"
    }
   },
   "outputs": [],
   "source": [
    "import os\n",
    "from concurrent.futures import ProcessPoolExecutor"
   ]
  },
  {
   "cell_type": "code",
   "execution_count": 2,
   "metadata": {
    "ExecuteTime": {
     "end_time": "2021-09-27T14:58:52.780699Z",
     "start_time": "2021-09-27T14:58:52.569724Z"
    },
    "pycharm": {
     "name": "#%%\n"
    }
   },
   "outputs": [],
   "source": [
    "import numpy as np\n",
    "import matplotlib.pyplot as plt"
   ]
  },
  {
   "cell_type": "code",
   "execution_count": 3,
   "metadata": {
    "ExecuteTime": {
     "end_time": "2021-09-27T14:58:53.650075Z",
     "start_time": "2021-09-27T14:58:52.781697Z"
    },
    "pycharm": {
     "name": "#%%\n"
    }
   },
   "outputs": [],
   "source": [
    "from uf3.data import io\n",
    "from uf3.data import geometry\n",
    "from uf3.data import composition\n",
    "from uf3.representation import bspline\n",
    "from uf3.representation import distances\n",
    "from uf3.representation import process\n",
    "from uf3.regression import least_squares\n",
    "from uf3.forcefield import calculator\n",
    "from uf3.forcefield import lammps\n",
    "from uf3.util import parallel\n",
    "from uf3.util import plotting"
   ]
  },
  {
   "cell_type": "markdown",
   "metadata": {
    "ExecuteTime": {
     "start_time": "2021-09-27T14:45:45.123Z"
    }
   },
   "source": [
    "# $\\text{UF}_{2}$ Demo: Elemental tungsten"
   ]
  },
  {
   "cell_type": "markdown",
   "metadata": {},
   "source": [
    "**Data split**\n",
    "- Training set: 1939 configurations (stratified 20% of the dataset)\n",
    "\n",
    "- Holdout: 7754 configurations (remaining 80%)"
   ]
  },
  {
   "cell_type": "markdown",
   "metadata": {},
   "source": [
    "**Inputs**\n",
    "- ```w-14.xyz``` (30 mb)\n",
    "- ```training_idx.txt``` (10 kb, included for reproducibility purposes)"
   ]
  },
  {
   "cell_type": "markdown",
   "metadata": {},
   "source": [
    "**Outputs**\n",
    "- ```model_pair.json``` (1 kb)\n",
    "- ```W_pair.table``` (32 kb)"
   ]
  },
  {
   "cell_type": "code",
   "execution_count": 4,
   "metadata": {
    "ExecuteTime": {
     "end_time": "2021-09-27T14:58:53.656356Z",
     "start_time": "2021-09-27T14:58:53.651623Z"
    }
   },
   "outputs": [
    {
     "data": {
      "text/html": [
       "<style>\n",
       "  table {margin-left: 0 !important;}\n",
       "</style>\n"
      ],
      "text/plain": [
       "<IPython.core.display.HTML object>"
      ]
     },
     "metadata": {},
     "output_type": "display_data"
    }
   ],
   "source": [
    "%%html\n",
    "<style>\n",
    "  table {margin-left: 0 !important;}\n",
    "</style>"
   ]
  },
  {
   "cell_type": "markdown",
   "metadata": {},
   "source": [
    " Step             | Estimated Time \n",
    ":-----------------|:--------------\n",
    "Preprocessing     | 10 seconds\n",
    "Pair distribution | 10 seconds\n",
    "Featurization     | 5 core-minutes (parallelizable)\n",
    "Training          | 1 second\n",
    "Prediction        | 1 second\n",
    "Plotting          | 9 seconds"
   ]
  },
  {
   "cell_type": "markdown",
   "metadata": {
    "pycharm": {
     "name": "#%% md\n"
    }
   },
   "source": [
    "# User Parameters\n",
    "\n",
    "```element_list (list)```: list of element symbols\n",
    "\n",
    "```degree (int)```: truncation of many-body expansion. A value of 2 yields a pair potential."
   ]
  },
  {
   "cell_type": "code",
   "execution_count": 5,
   "metadata": {
    "ExecuteTime": {
     "end_time": "2021-09-27T14:58:53.660338Z",
     "start_time": "2021-09-27T14:58:53.657330Z"
    },
    "pycharm": {
     "name": "#%%\n"
    }
   },
   "outputs": [],
   "source": [
    "element_list = ['W']\n",
    "degree = 2"
   ]
  },
  {
   "cell_type": "markdown",
   "metadata": {},
   "source": [
    "Initialize the ```ChemicalSystem``` and inspect interactions.\n",
    "\n",
    "Elements involved in each interactions are sorted by electronegativity."
   ]
  },
  {
   "cell_type": "code",
   "execution_count": 6,
   "metadata": {
    "ExecuteTime": {
     "end_time": "2021-09-27T14:58:53.664869Z",
     "start_time": "2021-09-27T14:58:53.661595Z"
    }
   },
   "outputs": [
    {
     "name": "stdout",
     "output_type": "stream",
     "text": [
      "Pairs: [('W', 'W')]\n"
     ]
    }
   ],
   "source": [
    "chemical_system = composition.ChemicalSystem(element_list=element_list,\n",
    "                                             degree=degree)\n",
    "print(\"Pairs:\", chemical_system.interactions_map[2])"
   ]
  },
  {
   "cell_type": "markdown",
   "metadata": {},
   "source": [
    "```r_min_map (dict)```: map of minimum pair distance per interaction (angstroms). \n",
    "    If unspecified, defaults to 1.0 for all interactions.\n",
    "    \n",
    "```r_max_map (dict)```: map of maximum pair distance per interaction (angstroms). \n",
    "    If unspecified, defaults to 6.0 angstroms for all interactions, which probably encompasses at least 2nd-nearest neighbors.\n",
    "    \n",
    "```resolution_map (dict)```: map of resolution (number of knot intervals) per interaction. \n",
    "    For the cubic basis, the number of basis functions equals three more than the number of knot intervals.\n",
    "    This is, in turn, negated by ```trailing_trim```.\n",
    "    If unspecified, defaults to 20 for all two-body interactions and 5 for three-body interactions.\n",
    "    \n",
    "```trailing_trim (int)```: number of trailing basis functions to trim, defaults to 3.\n",
    " - ```= 0```: hard cutoff at ```r_max```\n",
    " - ```= 1```: function goes to zero at ```r_max```\n",
    " - ```= 2```: first derivative goes to zero at ```r_max```\n",
    " - ```= 3```: second derivative goes to zero at ```r_max```"
   ]
  },
  {
   "cell_type": "code",
   "execution_count": 7,
   "metadata": {
    "ExecuteTime": {
     "end_time": "2021-09-27T14:58:53.669216Z",
     "start_time": "2021-09-27T14:58:53.665986Z"
    },
    "pycharm": {
     "name": "#%%\n"
    }
   },
   "outputs": [],
   "source": [
    "r_min_map = {('W', 'W'): 1.5,\n",
    "            }\n",
    "r_max_map = {('W', 'W'): 5.5,\n",
    "            }\n",
    "resolution_map = {('W', 'W'): 25,\n",
    "                 }\n",
    "trailing_trim = 3"
   ]
  },
  {
   "cell_type": "markdown",
   "metadata": {},
   "source": [
    "# Demo parameters\n",
    "```n_cores```: number of workers to use in parallel for feature generation\n",
    "\n",
    "```data_filename```: filename of reference data including geometries, energies, forces, ...\n",
    "\n",
    "```training_1939```: list of integers corresponding to entries to use for training."
   ]
  },
  {
   "cell_type": "code",
   "execution_count": 8,
   "metadata": {
    "ExecuteTime": {
     "end_time": "2021-09-27T14:58:53.672255Z",
     "start_time": "2021-09-27T14:58:53.670155Z"
    }
   },
   "outputs": [],
   "source": [
    "n_cores = 4"
   ]
  },
  {
   "cell_type": "code",
   "execution_count": 9,
   "metadata": {
    "ExecuteTime": {
     "end_time": "2021-09-27T14:58:53.676259Z",
     "start_time": "2021-09-27T14:58:53.673129Z"
    }
   },
   "outputs": [],
   "source": [
    "example_directory = os.getcwd()\n",
    "data_filename = os.path.join(example_directory, \"w-14.xyz\")\n",
    "with open(os.path.join(example_directory, \"training_idx.txt\"), \"r\") as f:\n",
    "    training_1939 = [int(idx) for idx in f.read().splitlines()]"
   ]
  },
  {
   "cell_type": "markdown",
   "metadata": {},
   "source": [
    "# Initialize basis"
   ]
  },
  {
   "cell_type": "code",
   "execution_count": 10,
   "metadata": {
    "ExecuteTime": {
     "end_time": "2021-09-27T14:58:53.682256Z",
     "start_time": "2021-09-27T14:58:53.678245Z"
    }
   },
   "outputs": [],
   "source": [
    "bspline_config = bspline.BSplineBasis(chemical_system,\n",
    "                                      r_min_map=r_min_map,\n",
    "                                      r_max_map=r_max_map,\n",
    "                                      resolution_map=resolution_map,\n",
    "                                      trailing_trim=trailing_trim)"
   ]
  },
  {
   "cell_type": "markdown",
   "metadata": {},
   "source": [
    "```bspline_config.get_interaction_partitions()``` yields the number of coefficients for each n-body interaction (one-body terms, two-body terms, three-body terms, ...) as well as the starting index in the coefficient vector for each interaction."
   ]
  },
  {
   "cell_type": "code",
   "execution_count": 11,
   "metadata": {
    "ExecuteTime": {
     "end_time": "2021-09-27T14:58:53.687170Z",
     "start_time": "2021-09-27T14:58:53.683382Z"
    }
   },
   "outputs": [
    {
     "data": {
      "text/plain": [
       "{'W': 1, ('W', 'W'): 28}"
      ]
     },
     "execution_count": 11,
     "metadata": {},
     "output_type": "execute_result"
    }
   ],
   "source": [
    "bspline_config.get_interaction_partitions()[0]"
   ]
  },
  {
   "cell_type": "code",
   "execution_count": 12,
   "metadata": {
    "ExecuteTime": {
     "end_time": "2021-09-27T14:58:53.692050Z",
     "start_time": "2021-09-27T14:58:53.688672Z"
    }
   },
   "outputs": [
    {
     "data": {
      "text/plain": [
       "{'W': 0, ('W', 'W'): 1}"
      ]
     },
     "execution_count": 12,
     "metadata": {},
     "output_type": "execute_result"
    }
   ],
   "source": [
    "bspline_config.get_interaction_partitions()[1]"
   ]
  },
  {
   "cell_type": "markdown",
   "metadata": {
    "pycharm": {
     "name": "#%% md\n"
    }
   },
   "source": [
    "# Load data"
   ]
  },
  {
   "cell_type": "code",
   "execution_count": 13,
   "metadata": {
    "ExecuteTime": {
     "end_time": "2021-09-27T14:59:04.515465Z",
     "start_time": "2021-09-27T14:58:53.693147Z"
    },
    "pycharm": {
     "name": "#%%\n"
    }
   },
   "outputs": [
    {
     "name": "stdout",
     "output_type": "stream",
     "text": [
      "Number of energies: 9693\n",
      "Number of forces: 475578\n"
     ]
    }
   ],
   "source": [
    "data_coordinator = io.DataCoordinator()\n",
    "data_coordinator.dataframe_from_trajectory(data_filename,\n",
    "                                           prefix='dft')\n",
    "df_data = data_coordinator.consolidate()\n",
    "print(\"Number of energies:\", len(df_data))\n",
    "print(\"Number of forces:\", int(np.sum(df_data[\"size\"]) * 3))"
   ]
  },
  {
   "cell_type": "code",
   "execution_count": 14,
   "metadata": {
    "ExecuteTime": {
     "end_time": "2021-09-27T14:59:04.528827Z",
     "start_time": "2021-09-27T14:59:04.516555Z"
    },
    "pycharm": {
     "name": "#%%\n"
    }
   },
   "outputs": [
    {
     "data": {
      "text/html": [
       "<div>\n",
       "<style scoped>\n",
       "    .dataframe tbody tr th:only-of-type {\n",
       "        vertical-align: middle;\n",
       "    }\n",
       "\n",
       "    .dataframe tbody tr th {\n",
       "        vertical-align: top;\n",
       "    }\n",
       "\n",
       "    .dataframe thead th {\n",
       "        text-align: right;\n",
       "    }\n",
       "</style>\n",
       "<table border=\"1\" class=\"dataframe\">\n",
       "  <thead>\n",
       "    <tr style=\"text-align: right;\">\n",
       "      <th></th>\n",
       "      <th>geometry</th>\n",
       "      <th>energy</th>\n",
       "      <th>fx</th>\n",
       "      <th>fy</th>\n",
       "      <th>fz</th>\n",
       "      <th>size</th>\n",
       "    </tr>\n",
       "  </thead>\n",
       "  <tbody>\n",
       "    <tr>\n",
       "      <th>dft_0</th>\n",
       "      <td>(Atom('W', [0.0, 0.0, 0.0], index=0))</td>\n",
       "      <td>-11.194835</td>\n",
       "      <td>[0.0]</td>\n",
       "      <td>[0.0]</td>\n",
       "      <td>[0.0]</td>\n",
       "      <td>1.0</td>\n",
       "    </tr>\n",
       "    <tr>\n",
       "      <th>dft_1</th>\n",
       "      <td>(Atom('W', [0.0, 0.0, 0.0], index=0))</td>\n",
       "      <td>-11.126991</td>\n",
       "      <td>[0.0]</td>\n",
       "      <td>[0.0]</td>\n",
       "      <td>[0.0]</td>\n",
       "      <td>1.0</td>\n",
       "    </tr>\n",
       "    <tr>\n",
       "      <th>dft_2</th>\n",
       "      <td>(Atom('W', [0.0, 0.0, 0.0], index=0))</td>\n",
       "      <td>-11.133282</td>\n",
       "      <td>[0.0]</td>\n",
       "      <td>[0.0]</td>\n",
       "      <td>[0.0]</td>\n",
       "      <td>1.0</td>\n",
       "    </tr>\n",
       "    <tr>\n",
       "      <th>dft_3</th>\n",
       "      <td>(Atom('W', [0.0, 0.0, 0.0], index=0))</td>\n",
       "      <td>-11.139626</td>\n",
       "      <td>[0.0]</td>\n",
       "      <td>[0.0]</td>\n",
       "      <td>[0.0]</td>\n",
       "      <td>1.0</td>\n",
       "    </tr>\n",
       "    <tr>\n",
       "      <th>dft_4</th>\n",
       "      <td>(Atom('W', [0.0, 0.0, 0.0], index=0))</td>\n",
       "      <td>-11.142003</td>\n",
       "      <td>[0.0]</td>\n",
       "      <td>[0.0]</td>\n",
       "      <td>[0.0]</td>\n",
       "      <td>1.0</td>\n",
       "    </tr>\n",
       "  </tbody>\n",
       "</table>\n",
       "</div>"
      ],
      "text/plain": [
       "                                    geometry     energy     fx     fy     fz  \\\n",
       "dft_0  (Atom('W', [0.0, 0.0, 0.0], index=0)) -11.194835  [0.0]  [0.0]  [0.0]   \n",
       "dft_1  (Atom('W', [0.0, 0.0, 0.0], index=0)) -11.126991  [0.0]  [0.0]  [0.0]   \n",
       "dft_2  (Atom('W', [0.0, 0.0, 0.0], index=0)) -11.133282  [0.0]  [0.0]  [0.0]   \n",
       "dft_3  (Atom('W', [0.0, 0.0, 0.0], index=0)) -11.139626  [0.0]  [0.0]  [0.0]   \n",
       "dft_4  (Atom('W', [0.0, 0.0, 0.0], index=0)) -11.142003  [0.0]  [0.0]  [0.0]   \n",
       "\n",
       "       size  \n",
       "dft_0   1.0  \n",
       "dft_1   1.0  \n",
       "dft_2   1.0  \n",
       "dft_3   1.0  \n",
       "dft_4   1.0  "
      ]
     },
     "execution_count": 14,
     "metadata": {},
     "output_type": "execute_result"
    }
   ],
   "source": [
    "df_data.head()"
   ]
  },
  {
   "cell_type": "markdown",
   "metadata": {},
   "source": [
    "Useful step that serves as a sanity check for selected cutoffs and resolution."
   ]
  },
  {
   "cell_type": "markdown",
   "metadata": {},
   "source": [
    "# Examine pair distance distribution"
   ]
  },
  {
   "cell_type": "code",
   "execution_count": 15,
   "metadata": {
    "ExecuteTime": {
     "end_time": "2021-09-27T14:59:13.684318Z",
     "start_time": "2021-09-27T14:59:04.530029Z"
    }
   },
   "outputs": [
    {
     "data": {
      "application/vnd.jupyter.widget-view+json": {
       "model_id": "4749fbe8810d40a7acb829254df8e4f7",
       "version_major": 2,
       "version_minor": 0
      },
      "text/plain": [
       "  0%|          | 0/1000 [00:00<?, ?it/s]"
      ]
     },
     "metadata": {},
     "output_type": "display_data"
    },
    {
     "name": "stdout",
     "output_type": "stream",
     "text": [
      "('W', 'W') Lower bound: 1.920 angstroms\n",
      "('W', 'W') Peaks (min width 0.2 angstroms): [5.22 6.9  9.42]\n"
     ]
    }
   ],
   "source": [
    "atoms_key = data_coordinator.atoms_key\n",
    "histogram_slice = np.random.choice(np.arange(len(df_data)),\n",
    "                                   min(1000, len(df_data)),\n",
    "                                   replace=False)\n",
    "df_slice = df_data[atoms_key].iloc[histogram_slice]\n",
    "histograms = distances.summarize_distances(df_slice,\n",
    "                                           chemical_system,\n",
    "                                           min_peak_width=0.2)"
   ]
  },
  {
   "cell_type": "code",
   "execution_count": 16,
   "metadata": {
    "ExecuteTime": {
     "end_time": "2021-09-27T14:59:13.952471Z",
     "start_time": "2021-09-27T14:59:13.685373Z"
    }
   },
   "outputs": [
    {
     "data": {
      "image/png": "[encoded data removed]",
      "text/plain": [
       "<Figure size 300x300 with 1 Axes>"
      ]
     },
     "metadata": {
      "needs_background": "light"
     },
     "output_type": "display_data"
    }
   ],
   "source": [
    "bar_width = histograms[1][1] - histograms[1][0]\n",
    "pairs = chemical_system.interactions_map[2]\n",
    "fig, ax = plt.subplots(1, len(pairs), figsize=(len(pairs)*3, 3), dpi=100)\n",
    "if not isinstance(ax, (list, np.ndarray)):\n",
    "    ax = [ax]\n",
    "for i, pair in enumerate(pairs):\n",
    "    ax[i].bar(histograms[1][:-1],\n",
    "              histograms[0][pair],\n",
    "              width=bar_width)\n",
    "    ax[i].set_title(\" - \".join(pair))\n",
    "    ax[i].plot([0, 10], [1, 1], linestyle='--', color='k')\n",
    "    ax[i].set_xlim(0, 10)\n",
    "    ax[i].set_ylim(0, 4)\n",
    "    ax[i].set_xlabel(\"Pair distance (angstroms)\")\n",
    "    ax[i].set_ylabel(\"Normalized Frequency\")\n",
    "fig.tight_layout()"
   ]
  },
  {
   "cell_type": "markdown",
   "metadata": {
    "pycharm": {
     "name": "#%% md\n"
    }
   },
   "source": [
    "# Compute energy and force features"
   ]
  },
  {
   "cell_type": "code",
   "execution_count": 17,
   "metadata": {
    "ExecuteTime": {
     "end_time": "2021-09-27T14:59:13.956034Z",
     "start_time": "2021-09-27T14:59:13.953582Z"
    }
   },
   "outputs": [],
   "source": [
    "representation = process.BasisFeaturizer(chemical_system,\n",
    "                                         bspline_config)"
   ]
  },
  {
   "cell_type": "code",
   "execution_count": 18,
   "metadata": {
    "ExecuteTime": {
     "end_time": "2021-09-27T14:59:13.959284Z",
     "start_time": "2021-09-27T14:59:13.957006Z"
    }
   },
   "outputs": [],
   "source": [
    "client = ProcessPoolExecutor(max_workers=n_cores)"
   ]
  },
  {
   "cell_type": "code",
   "execution_count": 19,
   "metadata": {
    "ExecuteTime": {
     "end_time": "2021-09-27T15:00:30.855632Z",
     "start_time": "2021-09-27T14:59:13.960157Z"
    }
   },
   "outputs": [
    {
     "data": {
      "application/vnd.jupyter.widget-view+json": {
       "model_id": "4c03b04df72942ea844381ab05f02979",
       "version_major": 2,
       "version_minor": 0
      },
      "text/plain": [
       "  0%|          | 0/64 [00:00<?, ?it/s]"
      ]
     },
     "metadata": {},
     "output_type": "display_data"
    }
   ],
   "source": [
    "n_batches = n_cores * 16  # added granularity for more progress bar updates\n",
    "df_features = representation.evaluate_parallel(df_data,\n",
    "                                               client,\n",
    "                                               energy_key=data_coordinator.energy_key,\n",
    "                                               n_jobs=n_batches)"
   ]
  },
  {
   "cell_type": "code",
   "execution_count": 20,
   "metadata": {
    "ExecuteTime": {
     "end_time": "2021-09-27T15:00:30.881041Z",
     "start_time": "2021-09-27T15:00:30.856820Z"
    }
   },
   "outputs": [
    {
     "data": {
      "text/html": [
       "<div>\n",
       "<style scoped>\n",
       "    .dataframe tbody tr th:only-of-type {\n",
       "        vertical-align: middle;\n",
       "    }\n",
       "\n",
       "    .dataframe tbody tr th {\n",
       "        vertical-align: top;\n",
       "    }\n",
       "\n",
       "    .dataframe thead th {\n",
       "        text-align: right;\n",
       "    }\n",
       "</style>\n",
       "<table border=\"1\" class=\"dataframe\">\n",
       "  <thead>\n",
       "    <tr style=\"text-align: right;\">\n",
       "      <th></th>\n",
       "      <th></th>\n",
       "      <th>y</th>\n",
       "      <th>n_W</th>\n",
       "      <th>ij_0</th>\n",
       "      <th>ij_1</th>\n",
       "      <th>ij_2</th>\n",
       "      <th>ij_3</th>\n",
       "      <th>ij_4</th>\n",
       "      <th>ij_5</th>\n",
       "      <th>ij_6</th>\n",
       "      <th>ij_7</th>\n",
       "      <th>...</th>\n",
       "      <th>ij_18</th>\n",
       "      <th>ij_19</th>\n",
       "      <th>ij_20</th>\n",
       "      <th>ij_21</th>\n",
       "      <th>ij_22</th>\n",
       "      <th>ij_23</th>\n",
       "      <th>ij_24</th>\n",
       "      <th>ij_25</th>\n",
       "      <th>ij_26</th>\n",
       "      <th>ij_27</th>\n",
       "    </tr>\n",
       "  </thead>\n",
       "  <tbody>\n",
       "    <tr>\n",
       "      <th rowspan=\"4\" valign=\"top\">dft_0</th>\n",
       "      <th>energy</th>\n",
       "      <td>-11.194835</td>\n",
       "      <td>1.0</td>\n",
       "      <td>0.0</td>\n",
       "      <td>0.0</td>\n",
       "      <td>0.0</td>\n",
       "      <td>0.0</td>\n",
       "      <td>0.0</td>\n",
       "      <td>0.0</td>\n",
       "      <td>0.0</td>\n",
       "      <td>5.465031e-03</td>\n",
       "      <td>...</td>\n",
       "      <td>3.641680e-02</td>\n",
       "      <td>3.884511e+00</td>\n",
       "      <td>7.278707e+00</td>\n",
       "      <td>8.003649e-01</td>\n",
       "      <td>0.000000</td>\n",
       "      <td>2.774099e-01</td>\n",
       "      <td>1.012363e+01</td>\n",
       "      <td>0.0</td>\n",
       "      <td>0.0</td>\n",
       "      <td>0.0</td>\n",
       "    </tr>\n",
       "    <tr>\n",
       "      <th>fx_0</th>\n",
       "      <td>0.000000</td>\n",
       "      <td>0.0</td>\n",
       "      <td>-0.0</td>\n",
       "      <td>-0.0</td>\n",
       "      <td>-0.0</td>\n",
       "      <td>-0.0</td>\n",
       "      <td>-0.0</td>\n",
       "      <td>-0.0</td>\n",
       "      <td>-0.0</td>\n",
       "      <td>6.938894e-18</td>\n",
       "      <td>...</td>\n",
       "      <td>-8.326673e-17</td>\n",
       "      <td>-4.440892e-16</td>\n",
       "      <td>4.440892e-16</td>\n",
       "      <td>-0.000000e+00</td>\n",
       "      <td>-0.000000</td>\n",
       "      <td>-3.053113e-16</td>\n",
       "      <td>-2.220446e-16</td>\n",
       "      <td>-0.0</td>\n",
       "      <td>-0.0</td>\n",
       "      <td>-0.0</td>\n",
       "    </tr>\n",
       "    <tr>\n",
       "      <th>fy_0</th>\n",
       "      <td>0.000000</td>\n",
       "      <td>0.0</td>\n",
       "      <td>-0.0</td>\n",
       "      <td>-0.0</td>\n",
       "      <td>-0.0</td>\n",
       "      <td>-0.0</td>\n",
       "      <td>-0.0</td>\n",
       "      <td>-0.0</td>\n",
       "      <td>-0.0</td>\n",
       "      <td>-0.000000e+00</td>\n",
       "      <td>...</td>\n",
       "      <td>-0.000000e+00</td>\n",
       "      <td>-4.440892e-16</td>\n",
       "      <td>-0.000000e+00</td>\n",
       "      <td>2.220446e-16</td>\n",
       "      <td>-0.000000</td>\n",
       "      <td>-0.000000e+00</td>\n",
       "      <td>2.220446e-16</td>\n",
       "      <td>-0.0</td>\n",
       "      <td>-0.0</td>\n",
       "      <td>-0.0</td>\n",
       "    </tr>\n",
       "    <tr>\n",
       "      <th>fz_0</th>\n",
       "      <td>0.000000</td>\n",
       "      <td>0.0</td>\n",
       "      <td>-0.0</td>\n",
       "      <td>-0.0</td>\n",
       "      <td>-0.0</td>\n",
       "      <td>-0.0</td>\n",
       "      <td>-0.0</td>\n",
       "      <td>-0.0</td>\n",
       "      <td>-0.0</td>\n",
       "      <td>6.938894e-18</td>\n",
       "      <td>...</td>\n",
       "      <td>2.775558e-17</td>\n",
       "      <td>-0.000000e+00</td>\n",
       "      <td>-2.220446e-16</td>\n",
       "      <td>-0.000000e+00</td>\n",
       "      <td>-0.000000</td>\n",
       "      <td>-3.330669e-16</td>\n",
       "      <td>-1.332268e-15</td>\n",
       "      <td>-0.0</td>\n",
       "      <td>-0.0</td>\n",
       "      <td>-0.0</td>\n",
       "    </tr>\n",
       "    <tr>\n",
       "      <th>dft_1</th>\n",
       "      <th>energy</th>\n",
       "      <td>-11.126991</td>\n",
       "      <td>1.0</td>\n",
       "      <td>0.0</td>\n",
       "      <td>0.0</td>\n",
       "      <td>0.0</td>\n",
       "      <td>0.0</td>\n",
       "      <td>0.0</td>\n",
       "      <td>0.0</td>\n",
       "      <td>0.0</td>\n",
       "      <td>2.732517e-03</td>\n",
       "      <td>...</td>\n",
       "      <td>1.609307e-02</td>\n",
       "      <td>2.028756e+00</td>\n",
       "      <td>5.999376e+00</td>\n",
       "      <td>3.438647e+00</td>\n",
       "      <td>0.516544</td>\n",
       "      <td>2.634127e-01</td>\n",
       "      <td>5.359363e+00</td>\n",
       "      <td>0.0</td>\n",
       "      <td>0.0</td>\n",
       "      <td>0.0</td>\n",
       "    </tr>\n",
       "  </tbody>\n",
       "</table>\n",
       "<p>5 rows × 30 columns</p>\n",
       "</div>"
      ],
      "text/plain": [
       "                      y  n_W  ij_0  ij_1  ij_2  ij_3  ij_4  ij_5  ij_6  \\\n",
       "dft_0 energy -11.194835  1.0   0.0   0.0   0.0   0.0   0.0   0.0   0.0   \n",
       "      fx_0     0.000000  0.0  -0.0  -0.0  -0.0  -0.0  -0.0  -0.0  -0.0   \n",
       "      fy_0     0.000000  0.0  -0.0  -0.0  -0.0  -0.0  -0.0  -0.0  -0.0   \n",
       "      fz_0     0.000000  0.0  -0.0  -0.0  -0.0  -0.0  -0.0  -0.0  -0.0   \n",
       "dft_1 energy -11.126991  1.0   0.0   0.0   0.0   0.0   0.0   0.0   0.0   \n",
       "\n",
       "                      ij_7  ...         ij_18         ij_19         ij_20  \\\n",
       "dft_0 energy  5.465031e-03  ...  3.641680e-02  3.884511e+00  7.278707e+00   \n",
       "      fx_0    6.938894e-18  ... -8.326673e-17 -4.440892e-16  4.440892e-16   \n",
       "      fy_0   -0.000000e+00  ... -0.000000e+00 -4.440892e-16 -0.000000e+00   \n",
       "      fz_0    6.938894e-18  ...  2.775558e-17 -0.000000e+00 -2.220446e-16   \n",
       "dft_1 energy  2.732517e-03  ...  1.609307e-02  2.028756e+00  5.999376e+00   \n",
       "\n",
       "                     ij_21     ij_22         ij_23         ij_24  ij_25  \\\n",
       "dft_0 energy  8.003649e-01  0.000000  2.774099e-01  1.012363e+01    0.0   \n",
       "      fx_0   -0.000000e+00 -0.000000 -3.053113e-16 -2.220446e-16   -0.0   \n",
       "      fy_0    2.220446e-16 -0.000000 -0.000000e+00  2.220446e-16   -0.0   \n",
       "      fz_0   -0.000000e+00 -0.000000 -3.330669e-16 -1.332268e-15   -0.0   \n",
       "dft_1 energy  3.438647e+00  0.516544  2.634127e-01  5.359363e+00    0.0   \n",
       "\n",
       "              ij_26  ij_27  \n",
       "dft_0 energy    0.0    0.0  \n",
       "      fx_0     -0.0   -0.0  \n",
       "      fy_0     -0.0   -0.0  \n",
       "      fz_0     -0.0   -0.0  \n",
       "dft_1 energy    0.0    0.0  \n",
       "\n",
       "[5 rows x 30 columns]"
      ]
     },
     "execution_count": 20,
     "metadata": {},
     "output_type": "execute_result"
    }
   ],
   "source": [
    "df_features.head()"
   ]
  },
  {
   "cell_type": "markdown",
   "metadata": {
    "ExecuteTime": {
     "start_time": "2021-09-27T03:31:28.871Z"
    }
   },
   "source": [
    "# Fit model"
   ]
  },
  {
   "cell_type": "code",
   "execution_count": 21,
   "metadata": {
    "ExecuteTime": {
     "end_time": "2021-09-27T15:00:30.885060Z",
     "start_time": "2021-09-27T15:00:30.882387Z"
    }
   },
   "outputs": [],
   "source": [
    "regularizer = bspline_config.get_regularization_matrix(ridge_1b=1e-6,\n",
    "                                                       curvature_2b=1e-8)\n",
    "\n",
    "model = least_squares.WeightedLinearModel(bspline_config,\n",
    "                                          regularizer=regularizer)"
   ]
  },
  {
   "cell_type": "markdown",
   "metadata": {},
   "source": [
    "Train with 20% of the dataset (1939 samples)"
   ]
  },
  {
   "cell_type": "code",
   "execution_count": 22,
   "metadata": {
    "ExecuteTime": {
     "end_time": "2021-09-27T15:00:30.914594Z",
     "start_time": "2021-09-27T15:00:30.885972Z"
    }
   },
   "outputs": [],
   "source": [
    "training_keys = df_data.index[training_1939]\n",
    "df_slice = df_features.loc[training_keys]\n",
    "n_elements = len(chemical_system.element_list)\n",
    "x_e, y_e, x_f, y_f = least_squares.dataframe_to_tuples(df_slice,\n",
    "                                                       n_elements=n_elements,\n",
    "                                                       energy_key=\"energy\")"
   ]
  },
  {
   "cell_type": "markdown",
   "metadata": {},
   "source": [
    "# Fit with energies and force"
   ]
  },
  {
   "cell_type": "code",
   "execution_count": 23,
   "metadata": {
    "ExecuteTime": {
     "end_time": "2021-09-27T15:00:31.067577Z",
     "start_time": "2021-09-27T15:00:30.915771Z"
    }
   },
   "outputs": [
    {
     "data": {
      "image/png": "[encoded data removed]",
      "text/plain": [
       "<Figure size 432x288 with 1 Axes>"
      ]
     },
     "metadata": {
      "needs_background": "light"
     },
     "output_type": "display_data"
    }
   ],
   "source": [
    "model.fit(x_e, y_e, x_f, y_f, weight=0.5)\n",
    "solutions = least_squares.arrange_coefficients(model.coefficients, \n",
    "                                               bspline_config)\n",
    "coefficients = solutions[(\"W\", \"W\")]\n",
    "knot_sequence = bspline_config.knots_map[(\"W\", \"W\")]\n",
    "fig, ax = plotting.visualize_splines(coefficients, knot_sequence)"
   ]
  },
  {
   "cell_type": "markdown",
   "metadata": {
    "ExecuteTime": {
     "end_time": "2021-09-27T04:15:40.920319Z",
     "start_time": "2021-09-27T04:15:40.917610Z"
    }
   },
   "source": [
    "# Prediction"
   ]
  },
  {
   "cell_type": "code",
   "execution_count": 24,
   "metadata": {
    "ExecuteTime": {
     "end_time": "2021-09-27T15:00:31.077728Z",
     "start_time": "2021-09-27T15:00:31.069009Z"
    }
   },
   "outputs": [],
   "source": [
    "# predict with remaining 80% of dataset\n",
    "holdout_keys = df_data.index.difference(training_keys)"
   ]
  },
  {
   "cell_type": "code",
   "execution_count": 25,
   "metadata": {
    "ExecuteTime": {
     "end_time": "2021-09-27T15:00:31.170605Z",
     "start_time": "2021-09-27T15:00:31.079102Z"
    }
   },
   "outputs": [],
   "source": [
    "df_holdout = df_features.loc[holdout_keys]\n",
    "x_e, y_e, x_f, y_f = least_squares.dataframe_to_tuples(df_holdout,\n",
    "                                                       n_elements=n_elements,\n",
    "                                                       energy_key=\"energy\")"
   ]
  },
  {
   "cell_type": "code",
   "execution_count": 26,
   "metadata": {
    "ExecuteTime": {
     "end_time": "2021-09-27T15:00:31.173846Z",
     "start_time": "2021-09-27T15:00:31.171719Z"
    }
   },
   "outputs": [],
   "source": [
    "p_e = model.predict(x_e)"
   ]
  },
  {
   "cell_type": "code",
   "execution_count": 27,
   "metadata": {
    "ExecuteTime": {
     "end_time": "2021-09-27T15:00:31.180497Z",
     "start_time": "2021-09-27T15:00:31.174933Z"
    }
   },
   "outputs": [],
   "source": [
    "p_f = model.predict(x_f)"
   ]
  },
  {
   "cell_type": "code",
   "execution_count": 28,
   "metadata": {
    "ExecuteTime": {
     "end_time": "2021-09-27T15:00:31.540524Z",
     "start_time": "2021-09-27T15:00:31.183560Z"
    }
   },
   "outputs": [
    {
     "data": {
      "image/png": "[encoded data removed]",
      "text/plain": [
       "<Figure size 432x288 with 1 Axes>"
      ]
     },
     "metadata": {
      "needs_background": "light"
     },
     "output_type": "display_data"
    }
   ],
   "source": [
    "plotting.density_scatter(y_e, p_e)\n",
    "plt.tight_layout()"
   ]
  },
  {
   "cell_type": "code",
   "execution_count": 29,
   "metadata": {
    "ExecuteTime": {
     "end_time": "2021-09-27T15:00:40.674332Z",
     "start_time": "2021-09-27T15:00:31.541761Z"
    }
   },
   "outputs": [
    {
     "data": {
      "image/png": "[encoded data removed]",
      "text/plain": [
       "<Figure size 432x288 with 1 Axes>"
      ]
     },
     "metadata": {
      "needs_background": "light"
     },
     "output_type": "display_data"
    }
   ],
   "source": [
    "plotting.density_scatter(y_f, p_f)\n",
    "plt.tight_layout()"
   ]
  },
  {
   "cell_type": "code",
   "execution_count": 30,
   "metadata": {
    "ExecuteTime": {
     "end_time": "2021-09-27T15:00:40.677782Z",
     "start_time": "2021-09-27T15:00:40.675453Z"
    }
   },
   "outputs": [],
   "source": [
    "solutions = least_squares.arrange_coefficients(model.coefficients, \n",
    "                                               bspline_config)"
   ]
  },
  {
   "cell_type": "code",
   "execution_count": 31,
   "metadata": {
    "ExecuteTime": {
     "end_time": "2021-09-27T15:00:40.683356Z",
     "start_time": "2021-09-27T15:00:40.679211Z"
    }
   },
   "outputs": [
    {
     "name": "stdout",
     "output_type": "stream",
     "text": [
      "W : -7.3598176211137485\n",
      "('W', 'W') : [ 6.05292109e+00  5.76172773e+00  5.06058534e+00  3.69113116e+00\n",
      "  1.65205853e+00  9.23859149e-01  2.81258201e-01 -5.36413556e-03\n",
      " -1.65669972e-01 -2.39954884e-01 -2.77954263e-01 -2.80998799e-01\n",
      " -2.49653066e-01 -1.77409590e-01 -1.00099852e-01 -6.82599769e-02\n",
      " -2.00034440e-02 -3.28071234e-02 -3.43219435e-02 -3.43618259e-02\n",
      " -2.88400639e-02 -2.12175439e-02 -6.90983502e-04 -9.25139031e-03\n",
      " -8.08694792e-03  0.00000000e+00  0.00000000e+00  0.00000000e+00]\n"
     ]
    }
   ],
   "source": [
    "for interaction, values in solutions.items():\n",
    "    print(interaction, \":\", values)"
   ]
  },
  {
   "cell_type": "markdown",
   "metadata": {
    "pycharm": {
     "name": "#%% md\n"
    }
   },
   "source": [
    "# Export potential and tabulated potential"
   ]
  },
  {
   "cell_type": "code",
   "execution_count": 32,
   "metadata": {
    "ExecuteTime": {
     "end_time": "2021-09-27T15:00:40.688349Z",
     "start_time": "2021-09-27T15:00:40.684472Z"
    }
   },
   "outputs": [],
   "source": [
    "model.save(\"model_pair.json\")"
   ]
  },
  {
   "cell_type": "code",
   "execution_count": 33,
   "metadata": {
    "ExecuteTime": {
     "end_time": "2021-09-27T15:00:40.777770Z",
     "start_time": "2021-09-27T15:00:40.690323Z"
    },
    "pycharm": {
     "name": "#%%\n"
    }
   },
   "outputs": [],
   "source": [
    "table_list = []\n",
    "pair_list = chemical_system.interactions_map[2]\n",
    "for pair in pair_list:\n",
    "    text = lammps.export_tabulated_potential(representation.knots_map[pair],\n",
    "                                             solutions[pair],\n",
    "                                             pair,\n",
    "                                             grid=1000,\n",
    "                                             filename=None)\n",
    "    table_list.append(text)\n",
    "combined_text = \"\\n\\n\\n\".join(table_list)\n",
    "table_name = os.path.join(example_directory, \"table_test\", \"W.table\")\n",
    "with open(table_name, \"w\") as f:\n",
    "    f.write(combined_text)"
   ]
  },
  {
   "cell_type": "markdown",
   "metadata": {},
   "source": [
    "# Compute energy, forces, stress with UFCalculator"
   ]
  },
  {
   "cell_type": "code",
   "execution_count": 34,
   "metadata": {
    "ExecuteTime": {
     "end_time": "2021-09-27T15:00:40.833947Z",
     "start_time": "2021-09-27T15:00:40.779433Z"
    },
    "pycharm": {
     "name": "#%%\n"
    }
   },
   "outputs": [
    {
     "name": "stdout",
     "output_type": "stream",
     "text": [
      "Energy: [-129.90850437]\n",
      "Stresses (numerical): [-0.07157686 -0.05615776 -0.03585433  0.00072185 -0.01699741 -0.03629823]\n",
      "Forces:\n",
      " [[ 0.36706937 -7.28026397  0.58103694]\n",
      " [ 1.10934562  0.51625161 -0.62697603]\n",
      " [-1.15703167 -1.59575223 -0.37736722]\n",
      " [-1.83079162  5.43204632 -0.44976142]\n",
      " [ 0.57471404  2.30500838  1.01534022]\n",
      " [ 1.86237115 -2.25965517 -0.7613154 ]\n",
      " [ 2.60550322  1.55873367 -0.90440522]\n",
      " [-1.66154524 -0.61688415  1.17963061]\n",
      " [-2.14010085 -0.27336131  0.10013569]\n",
      " [ 0.09055564  5.6471755   0.11915614]\n",
      " [ 1.97460374 -3.39727663 -0.23972051]\n",
      " [-1.79469339 -0.03602202  0.3642462 ]]\n",
      "Max force: 7.280263968421663\n"
     ]
    }
   ],
   "source": [
    "calc = calculator.UFCalculator(bspline_config, model)\n",
    "\n",
    "geom = df_data.iloc[3000]['geometry'].copy()  # 12-atom cell\n",
    "geom.set_calculator(calc)\n",
    "print(\"Energy:\", geom.get_potential_energy())\n",
    "print(\"Stresses (numerical):\", geom.get_stress())\n",
    "print(\"Forces:\\n\", geom.get_forces())\n",
    "print(\"Max force:\", np.max(np.abs(geom.get_forces())))"
   ]
  },
  {
   "cell_type": "markdown",
   "metadata": {
    "pycharm": {
     "name": "#%% md\n"
    }
   },
   "source": [
    "# Compare with UFLammps calculator"
   ]
  },
  {
   "cell_type": "code",
   "execution_count": 35,
   "metadata": {
    "ExecuteTime": {
     "end_time": "2021-09-27T15:00:43.882335Z",
     "start_time": "2021-09-27T15:00:40.835053Z"
    },
    "pycharm": {
     "name": "#%%\n"
    }
   },
   "outputs": [
    {
     "name": "stdout",
     "output_type": "stream",
     "text": [
      "Energy: -41.59071629828812\n",
      "Stresses (numerical): [-0.07157678 -0.05615798 -0.03585438  0.0007219  -0.01699733 -0.0362982 ]\n",
      "Forces:\n",
      " [[-0.36707085  7.28027149 -0.58103072]\n",
      " [-1.10934726 -0.51625373  0.62697386]\n",
      " [ 1.15703129  1.59575361  0.37736717]\n",
      " [ 1.830793   -5.4320507   0.44975813]\n",
      " [-0.57471276 -2.30501251 -1.01534688]\n",
      " [-1.86236869  2.25965632  0.76131392]\n",
      " [-2.60550385 -1.55873187  0.90440782]\n",
      " [ 1.66154317  0.61688455 -1.17962671]\n",
      " [ 2.14010237  0.27336506 -0.10013918]\n",
      " [-0.0905544  -5.64717482 -0.11915727]\n",
      " [-1.97460007  3.39727246  0.23972502]\n",
      " [ 1.79468806  0.03602015 -0.36424515]]\n",
      "Max force: 7.280271486255797\n"
     ]
    }
   ],
   "source": [
    "calc = lammps.UFLammps(lmpcmds=[\"pair_style table spline 1000\",\n",
    "                                \"pair_coeff * * table_test/W.table UF_W-W 5.5\"],\n",
    "                       keep_alive=True)\n",
    "geom = df_data.iloc[3000]['geometry'].copy()  # 12-atom cell\n",
    "geom.set_calculator(calc)\n",
    "print(\"Energy:\", geom.get_potential_energy())\n",
    "print(\"Stresses (numerical):\", geom.get_stress())\n",
    "print(\"Forces:\\n\", geom.get_forces())\n",
    "print(\"Max force:\", np.max(np.abs(geom.get_forces())))\n",
    "del calc"
   ]
  },
  {
   "cell_type": "markdown",
   "metadata": {
    "pycharm": {
     "name": "#%% md\n"
    }
   },
   "source": [
    "# Relax with UFLammps calculator"
   ]
  },
  {
   "cell_type": "code",
   "execution_count": 36,
   "metadata": {
    "ExecuteTime": {
     "end_time": "2021-09-27T15:00:43.907682Z",
     "start_time": "2021-09-27T15:00:43.883774Z"
    },
    "pycharm": {
     "name": "#%%\n"
    }
   },
   "outputs": [
    {
     "name": "stdout",
     "output_type": "stream",
     "text": [
      "Relaxation Steps: 93\n",
      "Energy: -44.93448967579233\n",
      "Stresses (numerical): [-0.02876663 -0.00625577  0.03505017  0.00253287 -0.01604888 -0.03666763]\n",
      "Forces:\n",
      " [[-6.13670874e-04 -5.59840158e-04 -1.20723586e-04]\n",
      " [ 2.10592823e-03 -2.35684886e-04 -1.86147363e-03]\n",
      " [ 2.02430711e-03  9.13033147e-04 -4.07057512e-05]\n",
      " [-2.62411174e-03  2.23662760e-04  9.79704229e-04]\n",
      " [-1.35599262e-03  7.35322985e-05  8.57665172e-04]\n",
      " [ 1.69965025e-03 -2.32461582e-04 -1.11735158e-03]\n",
      " [ 2.73562177e-03 -4.59016302e-04 -1.12265584e-03]\n",
      " [-2.76851036e-03  7.63081639e-04  1.39608060e-03]\n",
      " [-6.43108653e-04  4.58048485e-05  8.62789598e-04]\n",
      " [ 7.53828171e-04 -8.23463358e-04  3.07237588e-04]\n",
      " [-2.56944163e-04 -2.46499874e-04 -3.66001987e-04]\n",
      " [-1.05699711e-03  5.37851469e-04  2.25435193e-04]]\n",
      "Max force: 0.0027356217678128417\n"
     ]
    }
   ],
   "source": [
    "calc = lammps.UFLammps(lmpcmds=[\"pair_style table spline 1000\",\n",
    "                                \"pair_coeff * * table_test/W.table UF_W-W 5.5\"],\n",
    "                       keep_alive=True)\n",
    "calc.relax(geom)\n",
    "print('Relaxation Steps:', calc.results['nsteps'])\n",
    "geom.calc = calc\n",
    "print(\"Energy:\", geom.get_potential_energy())\n",
    "print(\"Stresses (numerical):\", geom.get_stress())\n",
    "lammps_forces = geom.get_forces()\n",
    "print(\"Forces:\\n\", lammps_forces)\n",
    "print(\"Max force:\", np.max(lammps_forces))\n",
    "del calc"
   ]
  },
  {
   "cell_type": "code",
   "execution_count": null,
   "metadata": {
    "pycharm": {
     "name": "#%%\n"
    }
   },
   "outputs": [],
   "source": []
  }
 ],
 "metadata": {
  "kernelspec": {
   "display_name": "Python 3",
   "language": "python",
   "name": "python3"
  },
  "language_info": {
   "codemirror_mode": {
    "name": "ipython",
    "version": 3
   },
   "file_extension": ".py",
   "mimetype": "text/x-python",
   "name": "python",
   "nbconvert_exporter": "python",
   "pygments_lexer": "ipython3",
   "version": "3.8.5"
  },
  "toc": {
   "base_numbering": 1,
   "nav_menu": {},
   "number_sections": true,
   "sideBar": true,
   "skip_h1_title": false,
   "title_cell": "Table of Contents",
   "title_sidebar": "Contents",
   "toc_cell": false,
   "toc_position": {},
   "toc_section_display": true,
   "toc_window_display": false
  }
 },
 "nbformat": 4,
 "nbformat_minor": 1
}
