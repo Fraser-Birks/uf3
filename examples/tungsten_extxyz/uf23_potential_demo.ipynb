{
 "cells": [
  {
   "cell_type": "code",
   "execution_count": 1,
   "metadata": {
    "ExecuteTime": {
     "end_time": "2021-09-27T14:59:21.445819Z",
     "start_time": "2021-09-27T14:59:21.434186Z"
    },
    "pycharm": {
     "name": "#%%\n"
    }
   },
   "outputs": [],
   "source": [
    "import os\n",
    "from concurrent.futures import ProcessPoolExecutor"
   ]
  },
  {
   "cell_type": "code",
   "execution_count": 2,
   "metadata": {
    "ExecuteTime": {
     "end_time": "2021-09-27T14:59:21.820112Z",
     "start_time": "2021-09-27T14:59:21.447766Z"
    },
    "pycharm": {
     "name": "#%%\n"
    }
   },
   "outputs": [],
   "source": [
    "import numpy as np\n",
    "import matplotlib.pyplot as plt"
   ]
  },
  {
   "cell_type": "code",
   "execution_count": 3,
   "metadata": {
    "ExecuteTime": {
     "end_time": "2021-09-27T14:59:23.154227Z",
     "start_time": "2021-09-27T14:59:21.821572Z"
    },
    "pycharm": {
     "name": "#%%\n"
    }
   },
   "outputs": [],
   "source": [
    "from uf3.data import io\n",
    "from uf3.data import geometry\n",
    "from uf3.data import composition\n",
    "from uf3.representation import bspline\n",
    "from uf3.representation import process\n",
    "from uf3.regression import least_squares\n",
    "from uf3.forcefield import calculator\n",
    "from uf3.forcefield import lammps\n",
    "from uf3.util import parallel\n",
    "from uf3.util import plotting"
   ]
  },
  {
   "cell_type": "markdown",
   "metadata": {},
   "source": [
    "# $\\text{UF}_{2,3}$ Demo: Elemental tungsten"
   ]
  },
  {
   "cell_type": "markdown",
   "metadata": {},
   "source": [
    "**Data split**\n",
    "- Training set: 1939 configurations (stratified 20% of the dataset)\n",
    "\n",
    "- Holdout: 7754 configurations (remaining 80%)"
   ]
  },
  {
   "cell_type": "markdown",
   "metadata": {},
   "source": [
    "**Inputs**\n",
    "- ```w-14.xyz``` (30 mb)\n",
    "- ```training_idx.txt``` (10 kb, included for reproducibility purposes)"
   ]
  },
  {
   "cell_type": "markdown",
   "metadata": {},
   "source": [
    "**Outputs**\n",
    "- ```df_features_uf23.h5``` (650 mb)\n",
    "- ```model_uf23.json``` (3 kb)"
   ]
  },
  {
   "cell_type": "code",
   "execution_count": 4,
   "metadata": {
    "ExecuteTime": {
     "end_time": "2021-09-27T14:59:23.168020Z",
     "start_time": "2021-09-27T14:59:23.156491Z"
    }
   },
   "outputs": [
    {
     "data": {
      "text/html": [
       "<style>\n",
       "  table {margin-left: 0 !important;}\n",
       "</style>\n"
      ],
      "text/plain": [
       "<IPython.core.display.HTML object>"
      ]
     },
     "metadata": {},
     "output_type": "display_data"
    }
   ],
   "source": [
    "%%html\n",
    "<style>\n",
    "  table {margin-left: 0 !important;}\n",
    "</style>"
   ]
  },
  {
   "cell_type": "markdown",
   "metadata": {
    "ExecuteTime": {
     "end_time": "2021-09-27T14:23:57.821312Z",
     "start_time": "2021-09-27T14:23:57.818248Z"
    }
   },
   "source": [
    " Step         | Estimated Time \n",
    ":-------------|:--------------\n",
    "Preprocessing | 10 seconds\n",
    "Featurization | 2.5 core-hours (parallelizable)\n",
    "Training      | 4 seconds\n",
    "Prediction    | 3 seconds\n",
    "Plotting      | 10 seconds"
   ]
  },
  {
   "cell_type": "markdown",
   "metadata": {
    "pycharm": {
     "name": "#%% md\n"
    }
   },
   "source": [
    "# User Parameters\n",
    "\n",
    "```element_list (list)```: list of element symbols\n",
    "\n",
    "```degree (int)```: truncation of many-body expansion. A value of 3 yields a two-and-three-body potential."
   ]
  },
  {
   "cell_type": "code",
   "execution_count": 5,
   "metadata": {
    "ExecuteTime": {
     "end_time": "2021-09-27T14:59:23.173322Z",
     "start_time": "2021-09-27T14:59:23.170210Z"
    },
    "pycharm": {
     "name": "#%%\n"
    }
   },
   "outputs": [],
   "source": [
    "element_list = ['W']\n",
    "degree = 3"
   ]
  },
  {
   "cell_type": "markdown",
   "metadata": {},
   "source": [
    "Initialize the ```ChemicalSystem``` and inspect interactions.\n",
    "\n",
    "Elements involved in each interactions are sorted by electronegativity."
   ]
  },
  {
   "cell_type": "code",
   "execution_count": 6,
   "metadata": {
    "ExecuteTime": {
     "end_time": "2021-09-27T14:59:23.180454Z",
     "start_time": "2021-09-27T14:59:23.175122Z"
    }
   },
   "outputs": [
    {
     "name": "stdout",
     "output_type": "stream",
     "text": [
      "Pairs: [('W', 'W')]\n"
     ]
    }
   ],
   "source": [
    "chemical_system = composition.ChemicalSystem(element_list=element_list,\n",
    "                                             degree=degree)\n",
    "print(\"Pairs:\", chemical_system.interactions_map[2])"
   ]
  },
  {
   "cell_type": "code",
   "execution_count": 7,
   "metadata": {
    "ExecuteTime": {
     "end_time": "2021-09-27T14:59:23.187068Z",
     "start_time": "2021-09-27T14:59:23.182377Z"
    }
   },
   "outputs": [
    {
     "name": "stdout",
     "output_type": "stream",
     "text": [
      "Trios: [('W', 'W', 'W')]\n"
     ]
    }
   ],
   "source": [
    "print(\"Trios:\", chemical_system.interactions_map[3])"
   ]
  },
  {
   "cell_type": "markdown",
   "metadata": {},
   "source": [
    "```r_min_map (dict)```: map of minimum pair distance per interaction (angstroms). \n",
    "    If unspecified, defaults to 1.0 for all interactions.\n",
    "    \n",
    "```r_max_map (dict)```: map of maximum pair distance per interaction (angstroms). \n",
    "    If unspecified, defaults to 6.0 angstroms for all interactions, which probably encompasses at least 2nd-nearest neighbors.\n",
    "    \n",
    "```resolution_map (dict)```: map of resolution (number of knot intervals) per interaction. \n",
    "    For the cubic basis, the number of basis functions equals three more than the number of knot intervals.\n",
    "    This is, in turn, negated by ```trailing_trim```.\n",
    "    If unspecified, defaults to 20 for all two-body interactions and 5 for three-body interactions.\n",
    "    \n",
    "```trailing_trim (int)```: number of trailing basis functions to trim, defaults to 3.\n",
    " - ```= 0```: hard cutoff at ```r_max```\n",
    " - ```= 1```: function goes to zero at ```r_max```\n",
    " - ```= 2```: first derivative goes to zero at ```r_max```\n",
    " - ```= 3```: second derivative goes to zero at ```r_max```"
   ]
  },
  {
   "cell_type": "markdown",
   "metadata": {},
   "source": [
    "**Note: the demo's resolution and cutoffs (3.5-3.5-7.0Å, 5-5-10) are small to reduce runtime and filesize.**\n",
    "\n",
    "**Results in the manuscript use (4.25-4.25-8.5Å, 10-10-20), requiring about 4 core-hours and 6 gb.**"
   ]
  },
  {
   "cell_type": "code",
   "execution_count": 8,
   "metadata": {
    "ExecuteTime": {
     "end_time": "2021-09-27T14:59:23.195726Z",
     "start_time": "2021-09-27T14:59:23.189091Z"
    },
    "pycharm": {
     "name": "#%%\n"
    }
   },
   "outputs": [],
   "source": [
    "r_min_map = {(\"W\", \"W\"): 1.5,\n",
    "             (\"W\", \"W\", \"W\"): [1.5, 1.5, 1.5],\n",
    "            }\n",
    "r_max_map = {(\"W\", \"W\"): 5.5,\n",
    "             (\"W\", \"W\", \"W\"): [3.5, 3.5, 7.0],\n",
    "            }\n",
    "resolution_map = {(\"W\", \"W\"): 25,\n",
    "                  (\"W\", \"W\", \"W\"): [5, 5, 10],\n",
    "                 }\n",
    "trailing_trim = 3"
   ]
  },
  {
   "cell_type": "markdown",
   "metadata": {},
   "source": [
    "# Demo parameters\n",
    "```n_cores```: number of workers to use in parallel for feature generation\n",
    "\n",
    "```data_filename```: filename of reference data including geometries, energies, forces, ...\n",
    "\n",
    "```training_1939```: list of integers corresponding to entries to use for training.\n",
    "\n",
    "```filename```: filename to save features dataframe.\n",
    "\n",
    "```table_template```: format string for table names in feature dataframe."
   ]
  },
  {
   "cell_type": "code",
   "execution_count": 9,
   "metadata": {
    "ExecuteTime": {
     "end_time": "2021-09-27T14:59:23.202346Z",
     "start_time": "2021-09-27T14:59:23.199460Z"
    }
   },
   "outputs": [],
   "source": [
    "n_cores = 4"
   ]
  },
  {
   "cell_type": "code",
   "execution_count": 10,
   "metadata": {
    "ExecuteTime": {
     "end_time": "2021-09-27T14:59:23.208120Z",
     "start_time": "2021-09-27T14:59:23.203985Z"
    }
   },
   "outputs": [],
   "source": [
    "example_directory = os.getcwd()\n",
    "data_filename = os.path.join(example_directory, \"w-14.xyz\")\n",
    "with open(os.path.join(example_directory, \"training_idx.txt\"), \"r\") as f:\n",
    "    training_1939 = [int(idx) for idx in f.read().splitlines()]"
   ]
  },
  {
   "cell_type": "code",
   "execution_count": 11,
   "metadata": {
    "ExecuteTime": {
     "end_time": "2021-09-27T14:59:23.212406Z",
     "start_time": "2021-09-27T14:59:23.209264Z"
    }
   },
   "outputs": [],
   "source": [
    "filename = \"df_features_uf23.h5\"\n",
    "table_template = \"features_{}\""
   ]
  },
  {
   "cell_type": "markdown",
   "metadata": {},
   "source": [
    "# Initialize basis"
   ]
  },
  {
   "cell_type": "code",
   "execution_count": 12,
   "metadata": {
    "ExecuteTime": {
     "end_time": "2021-09-27T14:59:23.221609Z",
     "start_time": "2021-09-27T14:59:23.213603Z"
    }
   },
   "outputs": [],
   "source": [
    "bspline_config = bspline.BSplineBasis(chemical_system,\n",
    "                                      r_min_map=r_min_map,\n",
    "                                      r_max_map=r_max_map,\n",
    "                                      resolution_map=resolution_map,\n",
    "                                      trailing_trim=trailing_trim)"
   ]
  },
  {
   "cell_type": "markdown",
   "metadata": {},
   "source": [
    "```bspline_config.get_interaction_partitions()``` yields the number of coefficients for each n-body interaction (one-body terms, two-body terms, three-body terms, ...) as well as the starting index in the coefficient vector for each interaction."
   ]
  },
  {
   "cell_type": "code",
   "execution_count": 13,
   "metadata": {
    "ExecuteTime": {
     "end_time": "2021-09-27T14:59:23.227089Z",
     "start_time": "2021-09-27T14:59:23.223287Z"
    }
   },
   "outputs": [
    {
     "data": {
      "text/plain": [
       "{'W': 1, ('W', 'W'): 28, ('W', 'W', 'W'): 144}"
      ]
     },
     "execution_count": 13,
     "metadata": {},
     "output_type": "execute_result"
    }
   ],
   "source": [
    "bspline_config.get_interaction_partitions()[0]"
   ]
  },
  {
   "cell_type": "code",
   "execution_count": 14,
   "metadata": {
    "ExecuteTime": {
     "end_time": "2021-09-27T14:59:23.231982Z",
     "start_time": "2021-09-27T14:59:23.228290Z"
    }
   },
   "outputs": [
    {
     "data": {
      "text/plain": [
       "{'W': 0, ('W', 'W'): 1, ('W', 'W', 'W'): 29}"
      ]
     },
     "execution_count": 14,
     "metadata": {},
     "output_type": "execute_result"
    }
   ],
   "source": [
    "bspline_config.get_interaction_partitions()[1]"
   ]
  },
  {
   "cell_type": "markdown",
   "metadata": {
    "pycharm": {
     "name": "#%% md\n"
    }
   },
   "source": [
    "# Load data from LAMMPS run directory"
   ]
  },
  {
   "cell_type": "code",
   "execution_count": 15,
   "metadata": {
    "ExecuteTime": {
     "end_time": "2021-09-27T14:59:36.745246Z",
     "start_time": "2021-09-27T14:59:23.233415Z"
    },
    "pycharm": {
     "name": "#%%\n"
    }
   },
   "outputs": [
    {
     "name": "stdout",
     "output_type": "stream",
     "text": [
      "Number of energies: 9693\n",
      "Number of forces: 475578\n"
     ]
    }
   ],
   "source": [
    "data_coordinator = io.DataCoordinator()\n",
    "data_coordinator.dataframe_from_trajectory(data_filename,\n",
    "                                           prefix='dft')\n",
    "df_data = data_coordinator.consolidate()\n",
    "print(\"Number of energies:\", len(df_data))\n",
    "print(\"Number of forces:\", int(np.sum(df_data[\"size\"]) * 3))"
   ]
  },
  {
   "cell_type": "code",
   "execution_count": 16,
   "metadata": {
    "ExecuteTime": {
     "end_time": "2021-09-27T14:59:36.768458Z",
     "start_time": "2021-09-27T14:59:36.747374Z"
    },
    "pycharm": {
     "name": "#%%\n"
    }
   },
   "outputs": [
    {
     "data": {
      "text/html": [
       "<div>\n",
       "<style scoped>\n",
       "    .dataframe tbody tr th:only-of-type {\n",
       "        vertical-align: middle;\n",
       "    }\n",
       "\n",
       "    .dataframe tbody tr th {\n",
       "        vertical-align: top;\n",
       "    }\n",
       "\n",
       "    .dataframe thead th {\n",
       "        text-align: right;\n",
       "    }\n",
       "</style>\n",
       "<table border=\"1\" class=\"dataframe\">\n",
       "  <thead>\n",
       "    <tr style=\"text-align: right;\">\n",
       "      <th></th>\n",
       "      <th>geometry</th>\n",
       "      <th>energy</th>\n",
       "      <th>fx</th>\n",
       "      <th>fy</th>\n",
       "      <th>fz</th>\n",
       "      <th>size</th>\n",
       "    </tr>\n",
       "  </thead>\n",
       "  <tbody>\n",
       "    <tr>\n",
       "      <th>dft_0</th>\n",
       "      <td>(Atom('W', [0.0, 0.0, 0.0], index=0))</td>\n",
       "      <td>-11.194835</td>\n",
       "      <td>[0.0]</td>\n",
       "      <td>[0.0]</td>\n",
       "      <td>[0.0]</td>\n",
       "      <td>1.0</td>\n",
       "    </tr>\n",
       "    <tr>\n",
       "      <th>dft_1</th>\n",
       "      <td>(Atom('W', [0.0, 0.0, 0.0], index=0))</td>\n",
       "      <td>-11.126991</td>\n",
       "      <td>[0.0]</td>\n",
       "      <td>[0.0]</td>\n",
       "      <td>[0.0]</td>\n",
       "      <td>1.0</td>\n",
       "    </tr>\n",
       "    <tr>\n",
       "      <th>dft_2</th>\n",
       "      <td>(Atom('W', [0.0, 0.0, 0.0], index=0))</td>\n",
       "      <td>-11.133282</td>\n",
       "      <td>[0.0]</td>\n",
       "      <td>[0.0]</td>\n",
       "      <td>[0.0]</td>\n",
       "      <td>1.0</td>\n",
       "    </tr>\n",
       "    <tr>\n",
       "      <th>dft_3</th>\n",
       "      <td>(Atom('W', [0.0, 0.0, 0.0], index=0))</td>\n",
       "      <td>-11.139626</td>\n",
       "      <td>[0.0]</td>\n",
       "      <td>[0.0]</td>\n",
       "      <td>[0.0]</td>\n",
       "      <td>1.0</td>\n",
       "    </tr>\n",
       "    <tr>\n",
       "      <th>dft_4</th>\n",
       "      <td>(Atom('W', [0.0, 0.0, 0.0], index=0))</td>\n",
       "      <td>-11.142003</td>\n",
       "      <td>[0.0]</td>\n",
       "      <td>[0.0]</td>\n",
       "      <td>[0.0]</td>\n",
       "      <td>1.0</td>\n",
       "    </tr>\n",
       "  </tbody>\n",
       "</table>\n",
       "</div>"
      ],
      "text/plain": [
       "                                    geometry     energy     fx     fy     fz  \\\n",
       "dft_0  (Atom('W', [0.0, 0.0, 0.0], index=0)) -11.194835  [0.0]  [0.0]  [0.0]   \n",
       "dft_1  (Atom('W', [0.0, 0.0, 0.0], index=0)) -11.126991  [0.0]  [0.0]  [0.0]   \n",
       "dft_2  (Atom('W', [0.0, 0.0, 0.0], index=0)) -11.133282  [0.0]  [0.0]  [0.0]   \n",
       "dft_3  (Atom('W', [0.0, 0.0, 0.0], index=0)) -11.139626  [0.0]  [0.0]  [0.0]   \n",
       "dft_4  (Atom('W', [0.0, 0.0, 0.0], index=0)) -11.142003  [0.0]  [0.0]  [0.0]   \n",
       "\n",
       "       size  \n",
       "dft_0   1.0  \n",
       "dft_1   1.0  \n",
       "dft_2   1.0  \n",
       "dft_3   1.0  \n",
       "dft_4   1.0  "
      ]
     },
     "execution_count": 16,
     "metadata": {},
     "output_type": "execute_result"
    }
   ],
   "source": [
    "df_data.head()"
   ]
  },
  {
   "cell_type": "markdown",
   "metadata": {
    "pycharm": {
     "name": "#%% md\n"
    }
   },
   "source": [
    "# Compute energy and force features\n",
    "\n"
   ]
  },
  {
   "cell_type": "code",
   "execution_count": 17,
   "metadata": {
    "ExecuteTime": {
     "end_time": "2021-09-27T14:59:36.773880Z",
     "start_time": "2021-09-27T14:59:36.770899Z"
    }
   },
   "outputs": [],
   "source": [
    "representation = process.BasisFeaturizer(chemical_system,\n",
    "                                         bspline_config)"
   ]
  },
  {
   "cell_type": "code",
   "execution_count": 18,
   "metadata": {
    "ExecuteTime": {
     "end_time": "2021-09-27T14:59:36.779766Z",
     "start_time": "2021-09-27T14:59:36.775605Z"
    }
   },
   "outputs": [],
   "source": [
    "client = ProcessPoolExecutor(max_workers=n_cores)"
   ]
  },
  {
   "cell_type": "code",
   "execution_count": 19,
   "metadata": {
    "ExecuteTime": {
     "end_time": "2021-09-27T14:59:37.053307Z",
     "start_time": "2021-09-27T14:59:36.781102Z"
    }
   },
   "outputs": [
    {
     "name": "stderr",
     "output_type": "stream",
     "text": [
      "/home/sxiexie/Dropbox/uf3_dev/uf3/representation/process.py:265: RuntimeWarning: File already exists: contains 194 chunks.\n",
      "  RuntimeWarning)\n"
     ]
    },
    {
     "data": {
      "application/vnd.jupyter.widget-view+json": {
       "model_id": "d7f873051c5d4f848fb2e42e09873e76",
       "version_major": 2,
       "version_minor": 0
      },
      "text/plain": [
       "  0%|          | 0/194 [00:00<?, ?it/s]"
      ]
     },
     "metadata": {},
     "output_type": "display_data"
    }
   ],
   "source": [
    "representation.batched_to_hdf(filename,\n",
    "                              df_data,\n",
    "                              client,\n",
    "                              n_jobs = n_cores,\n",
    "                              batch_size=50,\n",
    "                              progress=\"bar\",\n",
    "                              table_template=table_template)"
   ]
  },
  {
   "cell_type": "markdown",
   "metadata": {
    "ExecuteTime": {
     "start_time": "2021-09-27T03:31:28.871Z"
    }
   },
   "source": [
    "# Fit model"
   ]
  },
  {
   "cell_type": "code",
   "execution_count": 20,
   "metadata": {
    "ExecuteTime": {
     "end_time": "2021-09-27T14:59:37.069059Z",
     "start_time": "2021-09-27T14:59:37.054374Z"
    }
   },
   "outputs": [],
   "source": [
    "regularizer = bspline_config.get_regularization_matrix(ridge_1b=1e-6,\n",
    "                                                       curvature_2b=1e-8)\n",
    "\n",
    "model = least_squares.WeightedLinearModel(bspline_config,\n",
    "                                          regularizer=regularizer)"
   ]
  },
  {
   "cell_type": "markdown",
   "metadata": {},
   "source": [
    "# Fit with energies and force"
   ]
  },
  {
   "cell_type": "markdown",
   "metadata": {},
   "source": [
    "Train with 20% of the dataset (1939 samples)"
   ]
  },
  {
   "cell_type": "code",
   "execution_count": 21,
   "metadata": {
    "ExecuteTime": {
     "end_time": "2021-09-27T14:59:40.865344Z",
     "start_time": "2021-09-27T14:59:37.070884Z"
    }
   },
   "outputs": [
    {
     "data": {
      "application/vnd.jupyter.widget-view+json": {
       "model_id": "7ea4036c909e46019d439c5988cde73f",
       "version_major": 2,
       "version_minor": 0
      },
      "text/plain": [
       "  0%|          | 0/194 [00:00<?, ?it/s]"
      ]
     },
     "metadata": {},
     "output_type": "display_data"
    }
   ],
   "source": [
    "model.fit_from_file(filename, \n",
    "                    training_1939, \n",
    "                    df_data.index, \n",
    "                    weight=0.5, \n",
    "                    batch_size=2500,\n",
    "                    energy_key=\"energy\", \n",
    "                    progress=\"bar\")"
   ]
  },
  {
   "cell_type": "code",
   "execution_count": 22,
   "metadata": {
    "ExecuteTime": {
     "end_time": "2021-09-27T14:59:40.878924Z",
     "start_time": "2021-09-27T14:59:40.867403Z"
    }
   },
   "outputs": [
    {
     "name": "stdout",
     "output_type": "stream",
     "text": [
      "W : -6.716739073815975\n",
      "('W', 'W') : [ 2.15217406e+01  1.93041633e+01  1.42102856e+01  4.81308278e+00\n",
      "  1.80514946e+00  2.77225228e-01 -1.68484333e-01 -3.36506729e-01\n",
      " -3.70176024e-01 -3.63166352e-01 -3.31166953e-01 -2.57769526e-01\n",
      " -2.29957543e-01 -1.98296425e-01 -1.51283888e-01 -9.75114289e-02\n",
      " -6.22740694e-02 -4.53436724e-02 -4.31061149e-02 -5.43497858e-02\n",
      " -6.31024660e-02 -5.75008432e-02 -3.24283040e-02 -1.85322639e-02\n",
      " -7.77351082e-03  0.00000000e+00  0.00000000e+00  0.00000000e+00]\n",
      "('W', 'W', 'W') : [-4.01518776e-01  1.58119414e+00  6.79738470e-01 -4.77584556e-01\n",
      " -3.93735655e-01 -3.07368367e+00 -5.63666437e+00 -3.57793454e+00\n",
      " -8.10041278e-01 -3.99563804e+00 -4.78509585e+00 -8.62653888e-01\n",
      "  7.33540754e-01 -2.73598040e+00  1.60223736e+00  1.05863343e+00\n",
      " -1.16027244e+00 -1.00342796e+00 -4.22756938e+00 -6.50542889e+00\n",
      "  2.52933553e+00  1.06852536e+01 -6.38798463e-01 -5.29039141e+00\n",
      " -3.12074814e+00 -2.33320886e+00  1.14565346e+00  3.40839146e-01\n",
      " -2.44296185e+00 -2.55348625e+00  4.21682145e+00  6.36895903e+00\n",
      " -1.29786346e+00 -4.65221789e+00 -3.57630190e+00 -3.32534437e+00\n",
      " -3.86741369e-01  2.25112006e+00  2.60867299e+00  5.06056878e+00\n",
      " -3.36736781e-01 -3.63280554e+00  8.31388923e-01  6.38868106e+00\n",
      "  5.99879415e+00 -3.47166063e-01 -5.25746220e+00 -6.31077907e+00\n",
      " -2.05829489e+00  3.85364712e+00  5.86213437e+00  7.43248645e+00\n",
      "  1.89919054e+00 -3.39130340e+00 -3.87482904e+00  5.25600222e+00\n",
      "  6.04858337e+00  5.14891311e-01 -2.16370878e+00 -1.06347947e+00\n",
      " -1.64794882e+00 -8.70761223e-01 -9.16602397e-01 -4.68453979e+00\n",
      "  1.03252716e-01 -3.47610381e+00 -7.45149399e+00 -6.19312603e+00\n",
      "  3.31712410e+00 -1.22393535e+00 -8.44420262e+00 -6.08940338e+00\n",
      "  3.44386207e+00  5.99045806e+00  2.95904084e+00 -3.16772832e+00\n",
      " -1.42835061e+01 -7.42465597e+00  9.49038434e-01 -1.14221221e+00\n",
      "  9.28324699e-01 -2.00674809e+00 -6.01193096e+00 -9.06090388e+00\n",
      " -6.82091252e+00  4.12429659e+00  7.58255565e+00  5.84044505e+00\n",
      "  4.72550304e+00 -4.12961475e+00  3.43692167e+00 -2.44527855e+00\n",
      "  1.50392106e+00  6.02632842e+00  5.22726310e+00  3.55282071e+00\n",
      " -9.75240265e-01 -5.38323370e+00  7.37284171e-01  9.50778034e-01\n",
      "  9.08083898e-01  1.44988433e+00 -4.70310506e+00 -3.50920971e+00\n",
      " -4.48332368e-01 -1.04194151e+00 -3.10880582e+00 -2.38479445e+00\n",
      "  4.31086781e-01  3.44851966e-01 -2.98813625e-01  1.65517143e-01\n",
      "  1.79382627e+00  1.87133882e+00  8.97354029e-01  3.43380264e+00\n",
      "  3.49079921e+00 -2.33233585e+00  2.88341989e-01 -8.20029279e-03\n",
      "  3.77115261e-02  1.12556033e+00 -1.31163645e+00 -1.92637906e+00\n",
      "  6.99396472e+00  1.61228177e+01  3.05428256e+00 -6.76249134e-01\n",
      "  2.82079774e-01  2.15449770e-02 -1.17630158e-01  3.16834918e-01\n",
      "  1.51028647e-01 -5.31682315e-01  4.30750539e+00  7.20128825e+00\n",
      "  2.07699170e+00  2.30766551e-02 -5.84816251e-03  2.23185792e-01\n",
      " -1.50675164e-01  8.51450880e-02  7.89625612e-02  1.75303133e-02]\n"
     ]
    }
   ],
   "source": [
    "solutions = least_squares.arrange_coefficients(model.coefficients, \n",
    "                                               bspline_config)\n",
    "\n",
    "for interaction, values in solutions.items():\n",
    "    print(interaction, \":\", values)"
   ]
  },
  {
   "cell_type": "markdown",
   "metadata": {
    "ExecuteTime": {
     "end_time": "2021-09-27T04:15:40.920319Z",
     "start_time": "2021-09-27T04:15:40.917610Z"
    }
   },
   "source": [
    "# Prediction"
   ]
  },
  {
   "cell_type": "code",
   "execution_count": 23,
   "metadata": {
    "ExecuteTime": {
     "end_time": "2021-09-27T14:59:40.910998Z",
     "start_time": "2021-09-27T14:59:40.881305Z"
    }
   },
   "outputs": [],
   "source": [
    "# predict with remaining 80% of dataset\n",
    "training_keys = df_data.index[training_1939]\n",
    "holdout_keys = df_data.index.difference(training_keys)"
   ]
  },
  {
   "cell_type": "code",
   "execution_count": 24,
   "metadata": {
    "ExecuteTime": {
     "end_time": "2021-09-27T14:59:43.932706Z",
     "start_time": "2021-09-27T14:59:40.917376Z"
    }
   },
   "outputs": [
    {
     "name": "stdout",
     "output_type": "stream",
     "text": [
      "RMSE (energy): 0.012\n",
      "RMSE (forces): 0.236\n"
     ]
    }
   ],
   "source": [
    "y_e, p_e, y_f, p_f, rmse_e, rmse_f = model.batched_predict(filename, \n",
    "                                                           keys=holdout_keys)"
   ]
  },
  {
   "cell_type": "code",
   "execution_count": 25,
   "metadata": {
    "ExecuteTime": {
     "end_time": "2021-09-27T14:59:44.318300Z",
     "start_time": "2021-09-27T14:59:43.934332Z"
    }
   },
   "outputs": [
    {
     "data": {
      "image/png": "[encoded data removed]",
      "text/plain": [
       "<Figure size 432x288 with 1 Axes>"
      ]
     },
     "metadata": {
      "needs_background": "light"
     },
     "output_type": "display_data"
    }
   ],
   "source": [
    "plotting.density_scatter(y_e, p_e)\n",
    "plt.tight_layout()"
   ]
  },
  {
   "cell_type": "code",
   "execution_count": 26,
   "metadata": {
    "ExecuteTime": {
     "end_time": "2021-09-27T14:59:54.814009Z",
     "start_time": "2021-09-27T14:59:44.319915Z"
    }
   },
   "outputs": [
    {
     "data": {
      "image/png": "[encoded data removed]",
      "text/plain": [
       "<Figure size 432x288 with 1 Axes>"
      ]
     },
     "metadata": {
      "needs_background": "light"
     },
     "output_type": "display_data"
    }
   ],
   "source": [
    "plotting.density_scatter(y_f, p_f)\n",
    "plt.tight_layout()"
   ]
  },
  {
   "cell_type": "markdown",
   "metadata": {
    "pycharm": {
     "name": "#%% md\n"
    }
   },
   "source": [
    "# Export tabulated potentials"
   ]
  },
  {
   "cell_type": "code",
   "execution_count": 27,
   "metadata": {
    "ExecuteTime": {
     "end_time": "2021-09-27T14:59:54.818376Z",
     "start_time": "2021-09-27T14:59:54.815226Z"
    }
   },
   "outputs": [],
   "source": [
    "model.save(\"model_uf23.json\")"
   ]
  },
  {
   "cell_type": "markdown",
   "metadata": {},
   "source": [
    "# Compute energy, forces, stress with UFCalculator"
   ]
  },
  {
   "cell_type": "code",
   "execution_count": 28,
   "metadata": {
    "ExecuteTime": {
     "end_time": "2021-09-27T14:59:55.470729Z",
     "start_time": "2021-09-27T14:59:54.819820Z"
    },
    "pycharm": {
     "name": "#%%\n"
    }
   },
   "outputs": [
    {
     "name": "stdout",
     "output_type": "stream",
     "text": [
      "Energy: [-130.09493314]\n",
      "Stresses (numerical): [-0.08819919 -0.07324204 -0.0423286   0.00498623 -0.01471503 -0.03239163]\n",
      "Forces:\n",
      " [[ 0.47403131 -5.49644972  0.40964325]\n",
      " [ 1.5866378   0.20680908 -0.56699679]\n",
      " [-1.74637707 -1.40334534 -0.42291201]\n",
      " [-1.59637352  4.4853612  -0.34295283]\n",
      " [ 0.95273678  2.36522599  1.20309918]\n",
      " [ 1.67518782 -2.55455361 -0.98299761]\n",
      " [ 2.58894576  1.82922862 -0.86552304]\n",
      " [-1.65474583 -0.65950932  1.15857995]\n",
      " [-2.07476016  0.08150375  0.15179355]\n",
      " [ 0.01879634  4.58151018 -0.01966442]\n",
      " [ 1.64770454 -2.91106117 -0.09774663]\n",
      " [-1.87178376 -0.52471966  0.3756774 ]]\n",
      "Max force: 5.496449716616037\n"
     ]
    }
   ],
   "source": [
    "calc = calculator.UFCalculator(bspline_config, model)\n",
    "\n",
    "geom = df_data.iloc[3000]['geometry'].copy()  # 12-atom cell\n",
    "geom.set_calculator(calc)\n",
    "print(\"Energy:\", geom.get_potential_energy())\n",
    "print(\"Stresses (numerical):\", geom.get_stress())\n",
    "print(\"Forces:\\n\", geom.get_forces())\n",
    "print(\"Max force:\", np.max(np.abs(geom.get_forces())))"
   ]
  },
  {
   "cell_type": "code",
   "execution_count": null,
   "metadata": {},
   "outputs": [],
   "source": []
  }
 ],
 "metadata": {
  "kernelspec": {
   "display_name": "Python 3",
   "language": "python",
   "name": "python3"
  },
  "language_info": {
   "codemirror_mode": {
    "name": "ipython",
    "version": 3
   },
   "file_extension": ".py",
   "mimetype": "text/x-python",
   "name": "python",
   "nbconvert_exporter": "python",
   "pygments_lexer": "ipython3",
   "version": "3.7.11"
  },
  "toc": {
   "base_numbering": 1,
   "nav_menu": {},
   "number_sections": true,
   "sideBar": true,
   "skip_h1_title": false,
   "title_cell": "Table of Contents",
   "title_sidebar": "Contents",
   "toc_cell": false,
   "toc_position": {},
   "toc_section_display": true,
   "toc_window_display": false
  }
 },
 "nbformat": 4,
 "nbformat_minor": 1
}
