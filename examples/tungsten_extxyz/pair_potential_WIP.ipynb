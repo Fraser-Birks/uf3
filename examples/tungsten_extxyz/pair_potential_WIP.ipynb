{
 "cells": [
  {
   "cell_type": "code",
   "execution_count": 1,
   "metadata": {
    "ExecuteTime": {
     "end_time": "2022-07-09T03:39:44.294770Z",
     "start_time": "2022-07-09T03:39:44.285740Z"
    },
    "pycharm": {
     "name": "#%%\n"
    }
   },
   "outputs": [],
   "source": [
    "import os\n",
    "from concurrent.futures import ProcessPoolExecutor"
   ]
  },
  {
   "cell_type": "code",
   "execution_count": 2,
   "metadata": {
    "ExecuteTime": {
     "end_time": "2022-07-09T03:39:44.532090Z",
     "start_time": "2022-07-09T03:39:44.296246Z"
    },
    "pycharm": {
     "name": "#%%\n"
    }
   },
   "outputs": [],
   "source": [
    "import numpy as np\n",
    "import matplotlib.pyplot as plt"
   ]
  },
  {
   "cell_type": "code",
   "execution_count": 3,
   "metadata": {
    "ExecuteTime": {
     "end_time": "2022-07-09T03:39:45.532183Z",
     "start_time": "2022-07-09T03:39:44.533056Z"
    },
    "pycharm": {
     "name": "#%%\n"
    }
   },
   "outputs": [],
   "source": [
    "from uf3.data import io\n",
    "from uf3.data import geometry\n",
    "from uf3.data import composition\n",
    "from uf3.representation import bspline\n",
    "from uf3.representation import distances\n",
    "from uf3.representation import process\n",
    "from uf3.regression import least_squares\n",
    "from uf3.forcefield import calculator\n",
    "from uf3.forcefield import lammps\n",
    "from uf3.util import parallel\n",
    "from uf3.util import plotting"
   ]
  },
  {
   "cell_type": "markdown",
   "metadata": {
    "ExecuteTime": {
     "start_time": "2021-09-27T14:45:45.123Z"
    }
   },
   "source": [
    "# $\\text{UF}_{2}$ Demo: Elemental tungsten"
   ]
  },
  {
   "cell_type": "markdown",
   "metadata": {},
   "source": [
    "**Data split**\n",
    "- Training set: 1939 configurations (stratified 20% of the dataset)\n",
    "\n",
    "- Holdout: 7754 configurations (remaining 80%)"
   ]
  },
  {
   "cell_type": "markdown",
   "metadata": {},
   "source": [
    "**Inputs**\n",
    "- ```w-14.xyz``` (30 mb)\n",
    "- ```training_idx.txt``` (10 kb, included for reproducibility purposes)"
   ]
  },
  {
   "cell_type": "markdown",
   "metadata": {},
   "source": [
    "**Outputs**\n",
    "- ```model_pair.json``` (1 kb)\n",
    "- ```W_pair.table``` (32 kb)"
   ]
  },
  {
   "cell_type": "code",
   "execution_count": 4,
   "metadata": {
    "ExecuteTime": {
     "end_time": "2022-07-09T03:39:45.541046Z",
     "start_time": "2022-07-09T03:39:45.533828Z"
    }
   },
   "outputs": [
    {
     "data": {
      "text/html": [
       "<style>\n",
       "  table {margin-left: 0 !important;}\n",
       "</style>\n"
      ],
      "text/plain": [
       "<IPython.core.display.HTML object>"
      ]
     },
     "metadata": {},
     "output_type": "display_data"
    }
   ],
   "source": [
    "%%html\n",
    "<style>\n",
    "  table {margin-left: 0 !important;}\n",
    "</style>"
   ]
  },
  {
   "cell_type": "markdown",
   "metadata": {},
   "source": [
    " Step             | Estimated Time \n",
    ":-----------------|:--------------\n",
    "Preprocessing     | 10 seconds\n",
    "Pair distribution | 10 seconds\n",
    "Featurization     | 5 core-minutes (parallelizable)\n",
    "Training          | 1 second\n",
    "Prediction        | 1 second\n",
    "Plotting          | 9 seconds"
   ]
  },
  {
   "cell_type": "markdown",
   "metadata": {
    "pycharm": {
     "name": "#%% md\n"
    }
   },
   "source": [
    "# User Parameters\n",
    "\n",
    "```element_list (list)```: list of element symbols\n",
    "\n",
    "```degree (int)```: truncation of many-body expansion. A value of 2 yields a pair potential."
   ]
  },
  {
   "cell_type": "code",
   "execution_count": 5,
   "metadata": {
    "ExecuteTime": {
     "end_time": "2022-07-09T03:39:45.545184Z",
     "start_time": "2022-07-09T03:39:45.542321Z"
    },
    "pycharm": {
     "name": "#%%\n"
    }
   },
   "outputs": [],
   "source": [
    "element_list = ['W']\n",
    "degree = 2"
   ]
  },
  {
   "cell_type": "markdown",
   "metadata": {},
   "source": [
    "Initialize the ```ChemicalSystem``` and inspect interactions.\n",
    "\n",
    "Elements involved in each interactions are sorted by electronegativity."
   ]
  },
  {
   "cell_type": "code",
   "execution_count": 6,
   "metadata": {
    "ExecuteTime": {
     "end_time": "2022-07-09T03:39:45.550764Z",
     "start_time": "2022-07-09T03:39:45.546796Z"
    }
   },
   "outputs": [
    {
     "name": "stdout",
     "output_type": "stream",
     "text": [
      "ChemicalSystem:\n",
      "    Elements: ('W',)\n",
      "    Degree: 2\n",
      "    Pairs: [('W', 'W')]\n"
     ]
    }
   ],
   "source": [
    "chemical_system = composition.ChemicalSystem(element_list=element_list,\n",
    "                                             degree=degree)\n",
    "print(chemical_system)"
   ]
  },
  {
   "cell_type": "markdown",
   "metadata": {},
   "source": [
    "```r_min_map (dict)```: map of minimum pair distance per interaction (angstroms). \n",
    "    If unspecified, defaults to 1.0 for all interactions.\n",
    "    \n",
    "```r_max_map (dict)```: map of maximum pair distance per interaction (angstroms). \n",
    "    If unspecified, defaults to 6.0 angstroms for all interactions, which probably encompasses at least 2nd-nearest neighbors.\n",
    "    \n",
    "```resolution_map (dict)```: map of resolution (number of knot intervals) per interaction. \n",
    "    For the cubic basis, the number of basis functions equals three more than the number of knot intervals.\n",
    "    This is, in turn, negated by ```trailing_trim```.\n",
    "    If unspecified, defaults to 20 for all two-body interactions and 5 for three-body interactions.\n",
    "    \n",
    "```trailing_trim (int)```: number of trailing basis functions to trim, defaults to 3.\n",
    " - ```= 0```: hard cutoff at ```r_max```\n",
    " - ```= 1```: function goes to zero at ```r_max```\n",
    " - ```= 2```: first derivative goes to zero at ```r_max```\n",
    " - ```= 3```: second derivative goes to zero at ```r_max```\n",
    " \n",
    "```leading_trim (int)```: similar for leading basis functions (small distances)."
   ]
  },
  {
   "cell_type": "code",
   "execution_count": 7,
   "metadata": {
    "ExecuteTime": {
     "end_time": "2022-07-09T03:39:45.555642Z",
     "start_time": "2022-07-09T03:39:45.552143Z"
    },
    "pycharm": {
     "name": "#%%\n"
    }
   },
   "outputs": [],
   "source": [
    "r_min_map = {('W', 'W'): 0.001,\n",
    "            }\n",
    "r_max_map = {('W', 'W'): 5.5,\n",
    "            }\n",
    "resolution_map = {('W', 'W'): 15,\n",
    "                 }\n",
    "trailing_trim = 3\n",
    "leading_trim = 0"
   ]
  },
  {
   "cell_type": "markdown",
   "metadata": {},
   "source": [
    "# Demo parameters\n",
    "```n_cores```: number of workers to use in parallel for feature generation\n",
    "\n",
    "```data_filename```: filename of reference data including geometries, energies, forces, ...\n",
    "\n",
    "```training_1939```: list of integers corresponding to entries to use for training."
   ]
  },
  {
   "cell_type": "code",
   "execution_count": 8,
   "metadata": {
    "ExecuteTime": {
     "end_time": "2022-07-09T03:39:45.559733Z",
     "start_time": "2022-07-09T03:39:45.557034Z"
    }
   },
   "outputs": [],
   "source": [
    "n_cores = 4"
   ]
  },
  {
   "cell_type": "code",
   "execution_count": 9,
   "metadata": {
    "ExecuteTime": {
     "end_time": "2022-07-09T03:39:45.565618Z",
     "start_time": "2022-07-09T03:39:45.561080Z"
    }
   },
   "outputs": [],
   "source": [
    "example_directory = os.getcwd()\n",
    "data_filename = os.path.join(example_directory, \"w-14.xyz\")\n",
    "with open(os.path.join(example_directory, \"training_idx.txt\"), \"r\") as f:\n",
    "    training_1939 = [int(idx) for idx in f.read().splitlines()]"
   ]
  },
  {
   "cell_type": "markdown",
   "metadata": {},
   "source": [
    "# Initialize basis"
   ]
  },
  {
   "cell_type": "code",
   "execution_count": 10,
   "metadata": {
    "ExecuteTime": {
     "end_time": "2022-07-09T03:39:45.573363Z",
     "start_time": "2022-07-09T03:39:45.568807Z"
    }
   },
   "outputs": [
    {
     "name": "stdout",
     "output_type": "stream",
     "text": [
      "BSplineBasis:\n",
      "    Basis functions:\n",
      "        ('W', 'W'): 18\n",
      "ChemicalSystem:\n",
      "    Elements: ('W',)\n",
      "    Degree: 2\n",
      "    Pairs: [('W', 'W')]\n"
     ]
    }
   ],
   "source": [
    "bspline_config = bspline.BSplineBasis(chemical_system,\n",
    "                                      r_min_map=r_min_map,\n",
    "                                      r_max_map=r_max_map,\n",
    "                                      resolution_map=resolution_map,\n",
    "                                      leading_trim=leading_trim,\n",
    "                                      trailing_trim=trailing_trim)\n",
    "\n",
    "print(bspline_config)"
   ]
  },
  {
   "cell_type": "markdown",
   "metadata": {},
   "source": [
    "```bspline_config.get_interaction_partitions()``` yields the number of coefficients for each n-body interaction (one-body terms, two-body terms, three-body terms, ...) as well as the starting index in the coefficient vector for each interaction."
   ]
  },
  {
   "cell_type": "code",
   "execution_count": 11,
   "metadata": {
    "ExecuteTime": {
     "end_time": "2022-07-09T03:39:45.577896Z",
     "start_time": "2022-07-09T03:39:45.574337Z"
    }
   },
   "outputs": [
    {
     "data": {
      "text/plain": [
       "{'W': 1, ('W', 'W'): 18}"
      ]
     },
     "execution_count": 11,
     "metadata": {},
     "output_type": "execute_result"
    }
   ],
   "source": [
    "bspline_config.get_interaction_partitions()[0]"
   ]
  },
  {
   "cell_type": "code",
   "execution_count": 12,
   "metadata": {
    "ExecuteTime": {
     "end_time": "2022-07-09T03:39:45.582430Z",
     "start_time": "2022-07-09T03:39:45.578829Z"
    }
   },
   "outputs": [
    {
     "data": {
      "text/plain": [
       "{'W': 0, ('W', 'W'): 1}"
      ]
     },
     "execution_count": 12,
     "metadata": {},
     "output_type": "execute_result"
    }
   ],
   "source": [
    "bspline_config.get_interaction_partitions()[1]"
   ]
  },
  {
   "cell_type": "code",
   "execution_count": 13,
   "metadata": {
    "ExecuteTime": {
     "end_time": "2022-07-09T03:39:45.722676Z",
     "start_time": "2022-07-09T03:39:45.583713Z"
    }
   },
   "outputs": [
    {
     "data": {
      "text/plain": [
       "Text(0.5, 1.0, \"Basis functions: ('W', 'W')\")"
      ]
     },
     "execution_count": 13,
     "metadata": {},
     "output_type": "execute_result"
    },
    {
     "data": {
      "image/png": "[encoded data removed]",
      "text/plain": [
       "<Figure size 252x144 with 1 Axes>"
      ]
     },
     "metadata": {
      "needs_background": "light"
     },
     "output_type": "display_data"
    }
   ],
   "source": [
    "pair = bspline_config.interactions_map[2][0]\n",
    "k_plot = bspline_config.knots_map[pair][: -3]\n",
    "c_plot = np.ones(len(k_plot) - 4)\n",
    "\n",
    "fig, ax = plt.subplots(figsize=(3.5, 2))\n",
    "plotting.visualize_basis_functions(c_plot, \n",
    "                                   k_plot,\n",
    "                                   ax=ax)\n",
    "plotting.visualize_pair_potential(c_plot,\n",
    "                                  k_plot,\n",
    "                                  color=\"black\",\n",
    "                                  ax=ax)\n",
    "plt.ylim(0, 1.1)\n",
    "plt.title(f\"Basis functions: {str(pair)}\")"
   ]
  },
  {
   "cell_type": "markdown",
   "metadata": {
    "pycharm": {
     "name": "#%% md\n"
    }
   },
   "source": [
    "# Load data"
   ]
  },
  {
   "cell_type": "code",
   "execution_count": 14,
   "metadata": {
    "ExecuteTime": {
     "end_time": "2022-07-09T03:39:55.750141Z",
     "start_time": "2022-07-09T03:39:45.723697Z"
    },
    "pycharm": {
     "name": "#%%\n"
    }
   },
   "outputs": [
    {
     "name": "stdout",
     "output_type": "stream",
     "text": [
      "Number of energies: 9693\n",
      "Number of forces: 475578\n"
     ]
    }
   ],
   "source": [
    "data_coordinator = io.DataCoordinator()\n",
    "data_coordinator.dataframe_from_trajectory(data_filename,\n",
    "                                           prefix='dft')\n",
    "df_data = data_coordinator.consolidate()\n",
    "print(\"Number of energies:\", len(df_data))\n",
    "print(\"Number of forces:\", int(np.sum(df_data[\"size\"]) * 3))"
   ]
  },
  {
   "cell_type": "code",
   "execution_count": 15,
   "metadata": {
    "ExecuteTime": {
     "end_time": "2022-07-09T03:39:55.762955Z",
     "start_time": "2022-07-09T03:39:55.751108Z"
    },
    "pycharm": {
     "name": "#%%\n"
    }
   },
   "outputs": [
    {
     "data": {
      "text/html": [
       "<div>\n",
       "<style scoped>\n",
       "    .dataframe tbody tr th:only-of-type {\n",
       "        vertical-align: middle;\n",
       "    }\n",
       "\n",
       "    .dataframe tbody tr th {\n",
       "        vertical-align: top;\n",
       "    }\n",
       "\n",
       "    .dataframe thead th {\n",
       "        text-align: right;\n",
       "    }\n",
       "</style>\n",
       "<table border=\"1\" class=\"dataframe\">\n",
       "  <thead>\n",
       "    <tr style=\"text-align: right;\">\n",
       "      <th></th>\n",
       "      <th>geometry</th>\n",
       "      <th>energy</th>\n",
       "      <th>fx</th>\n",
       "      <th>fy</th>\n",
       "      <th>fz</th>\n",
       "      <th>size</th>\n",
       "    </tr>\n",
       "  </thead>\n",
       "  <tbody>\n",
       "    <tr>\n",
       "      <th>dft_0</th>\n",
       "      <td>(Atom('W', [0.0, 0.0, 0.0], index=0))</td>\n",
       "      <td>-11.194835</td>\n",
       "      <td>[0.0]</td>\n",
       "      <td>[0.0]</td>\n",
       "      <td>[0.0]</td>\n",
       "      <td>1.0</td>\n",
       "    </tr>\n",
       "    <tr>\n",
       "      <th>dft_1</th>\n",
       "      <td>(Atom('W', [0.0, 0.0, 0.0], index=0))</td>\n",
       "      <td>-11.126991</td>\n",
       "      <td>[0.0]</td>\n",
       "      <td>[0.0]</td>\n",
       "      <td>[0.0]</td>\n",
       "      <td>1.0</td>\n",
       "    </tr>\n",
       "    <tr>\n",
       "      <th>dft_2</th>\n",
       "      <td>(Atom('W', [0.0, 0.0, 0.0], index=0))</td>\n",
       "      <td>-11.133282</td>\n",
       "      <td>[0.0]</td>\n",
       "      <td>[0.0]</td>\n",
       "      <td>[0.0]</td>\n",
       "      <td>1.0</td>\n",
       "    </tr>\n",
       "    <tr>\n",
       "      <th>dft_3</th>\n",
       "      <td>(Atom('W', [0.0, 0.0, 0.0], index=0))</td>\n",
       "      <td>-11.139626</td>\n",
       "      <td>[0.0]</td>\n",
       "      <td>[0.0]</td>\n",
       "      <td>[0.0]</td>\n",
       "      <td>1.0</td>\n",
       "    </tr>\n",
       "    <tr>\n",
       "      <th>dft_4</th>\n",
       "      <td>(Atom('W', [0.0, 0.0, 0.0], index=0))</td>\n",
       "      <td>-11.142003</td>\n",
       "      <td>[0.0]</td>\n",
       "      <td>[0.0]</td>\n",
       "      <td>[0.0]</td>\n",
       "      <td>1.0</td>\n",
       "    </tr>\n",
       "  </tbody>\n",
       "</table>\n",
       "</div>"
      ],
      "text/plain": [
       "                                    geometry     energy     fx     fy     fz  \\\n",
       "dft_0  (Atom('W', [0.0, 0.0, 0.0], index=0)) -11.194835  [0.0]  [0.0]  [0.0]   \n",
       "dft_1  (Atom('W', [0.0, 0.0, 0.0], index=0)) -11.126991  [0.0]  [0.0]  [0.0]   \n",
       "dft_2  (Atom('W', [0.0, 0.0, 0.0], index=0)) -11.133282  [0.0]  [0.0]  [0.0]   \n",
       "dft_3  (Atom('W', [0.0, 0.0, 0.0], index=0)) -11.139626  [0.0]  [0.0]  [0.0]   \n",
       "dft_4  (Atom('W', [0.0, 0.0, 0.0], index=0)) -11.142003  [0.0]  [0.0]  [0.0]   \n",
       "\n",
       "       size  \n",
       "dft_0   1.0  \n",
       "dft_1   1.0  \n",
       "dft_2   1.0  \n",
       "dft_3   1.0  \n",
       "dft_4   1.0  "
      ]
     },
     "execution_count": 15,
     "metadata": {},
     "output_type": "execute_result"
    }
   ],
   "source": [
    "df_data.head()"
   ]
  },
  {
   "cell_type": "markdown",
   "metadata": {},
   "source": [
    "# Examine pair distance distribution\n",
    "Useful step that serves as a sanity check for selected cutoffs and resolution."
   ]
  },
  {
   "cell_type": "code",
   "execution_count": 16,
   "metadata": {
    "ExecuteTime": {
     "end_time": "2022-07-09T03:39:55.810575Z",
     "start_time": "2022-07-09T03:39:55.763995Z"
    }
   },
   "outputs": [],
   "source": [
    "from uf3.data import analyze\n",
    "from tqdm.auto import tqdm"
   ]
  },
  {
   "cell_type": "code",
   "execution_count": 17,
   "metadata": {
    "ExecuteTime": {
     "end_time": "2022-07-09T03:39:55.814153Z",
     "start_time": "2022-07-09T03:39:55.811648Z"
    }
   },
   "outputs": [],
   "source": [
    "analyzer = analyze.DataAnalyzer(chemical_system, \n",
    "                                r_cut=10.0,\n",
    "                                bins=0.01)"
   ]
  },
  {
   "cell_type": "code",
   "execution_count": 18,
   "metadata": {
    "ExecuteTime": {
     "end_time": "2022-07-09T03:40:02.402411Z",
     "start_time": "2022-07-09T03:39:55.815043Z"
    }
   },
   "outputs": [
    {
     "data": {
      "application/vnd.jupyter.widget-view+json": {
       "model_id": "6a28c06ce480455ea557ffdbd1445df4",
       "version_major": 2,
       "version_minor": 0
      },
      "text/plain": [
       "  0%|          | 0/1000 [00:00<?, ?it/s]"
      ]
     },
     "metadata": {},
     "output_type": "display_data"
    }
   ],
   "source": [
    "atoms_key = data_coordinator.atoms_key\n",
    "histogram_slice = np.random.choice(np.arange(len(df_data)),\n",
    "                                   min(1000, len(df_data)),\n",
    "                                   replace=False)\n",
    "df_slice = df_data[atoms_key].iloc[histogram_slice]\n",
    "analyzer.load_entries(df_slice)"
   ]
  },
  {
   "cell_type": "code",
   "execution_count": 19,
   "metadata": {
    "ExecuteTime": {
     "end_time": "2022-07-09T03:40:02.418567Z",
     "start_time": "2022-07-09T03:40:02.403357Z"
    }
   },
   "outputs": [
    {
     "name": "stdout",
     "output_type": "stream",
     "text": [
      "    Smallest observed: 2.03 angstroms\n",
      "    Suggested Cutoffs: [3.16  3.21  3.435 3.685 3.745 3.795 3.885 4.19  4.47  4.52  4.645 4.765\n",
      " 5.005 5.25  5.3   5.415 5.53  5.565 5.71  5.855 5.885 5.925 5.96  6.015\n",
      " 6.185 6.34  6.39  6.425 6.685 6.96  7.025 7.085 7.135 7.28  7.415 7.59\n",
      " 7.77  7.82  8.03  8.235 8.6   8.97  9.02  9.06  9.215 9.38  9.43  9.475\n",
      " 9.51  9.56  9.705]\n"
     ]
    }
   ],
   "source": [
    "analysis = analyzer.analyze()"
   ]
  },
  {
   "cell_type": "code",
   "execution_count": 20,
   "metadata": {
    "ExecuteTime": {
     "end_time": "2022-07-09T03:40:03.779729Z",
     "start_time": "2022-07-09T03:40:02.419582Z"
    }
   },
   "outputs": [
    {
     "data": {
      "image/png": "[encoded data removed]",
      "text/plain": [
       "<Figure size 420x360 with 1 Axes>"
      ]
     },
     "metadata": {
      "needs_background": "light"
     },
     "output_type": "display_data"
    }
   ],
   "source": [
    "canvases = plotting.plot_pair_distributions(analysis, show_cutoffs=False)\n",
    "for fig, ax in canvases:\n",
    "    fig.set_dpi(120)\n",
    "    fig.tight_layout()\n",
    "    # fig.show()"
   ]
  },
  {
   "cell_type": "markdown",
   "metadata": {
    "pycharm": {
     "name": "#%% md\n"
    }
   },
   "source": [
    "# Compute energy and force features"
   ]
  },
  {
   "cell_type": "code",
   "execution_count": 21,
   "metadata": {
    "ExecuteTime": {
     "end_time": "2022-07-09T03:40:03.782925Z",
     "start_time": "2022-07-09T03:40:03.780724Z"
    }
   },
   "outputs": [],
   "source": [
    "representation = process.BasisFeaturizer(bspline_config)"
   ]
  },
  {
   "cell_type": "code",
   "execution_count": 22,
   "metadata": {
    "ExecuteTime": {
     "end_time": "2022-07-09T03:40:03.786081Z",
     "start_time": "2022-07-09T03:40:03.783816Z"
    }
   },
   "outputs": [],
   "source": [
    "client = ProcessPoolExecutor(max_workers=n_cores)"
   ]
  },
  {
   "cell_type": "code",
   "execution_count": 23,
   "metadata": {
    "ExecuteTime": {
     "end_time": "2022-07-09T03:41:03.224888Z",
     "start_time": "2022-07-09T03:40:03.787005Z"
    }
   },
   "outputs": [
    {
     "data": {
      "application/vnd.jupyter.widget-view+json": {
       "model_id": "8dcbf43be7954afba4a5f2167b17432b",
       "version_major": 2,
       "version_minor": 0
      },
      "text/plain": [
       "  0%|          | 0/64 [00:00<?, ?it/s]"
      ]
     },
     "metadata": {},
     "output_type": "display_data"
    }
   ],
   "source": [
    "n_batches = n_cores * 16  # added granularity for more progress bar updates\n",
    "df_features = representation.evaluate_parallel(df_data,\n",
    "                                               client,\n",
    "                                               energy_key=data_coordinator.energy_key,\n",
    "                                               n_jobs=n_batches)"
   ]
  },
  {
   "cell_type": "code",
   "execution_count": 24,
   "metadata": {
    "ExecuteTime": {
     "end_time": "2022-07-09T03:41:03.248644Z",
     "start_time": "2022-07-09T03:41:03.226245Z"
    }
   },
   "outputs": [
    {
     "data": {
      "text/html": [
       "<div>\n",
       "<style scoped>\n",
       "    .dataframe tbody tr th:only-of-type {\n",
       "        vertical-align: middle;\n",
       "    }\n",
       "\n",
       "    .dataframe tbody tr th {\n",
       "        vertical-align: top;\n",
       "    }\n",
       "\n",
       "    .dataframe thead th {\n",
       "        text-align: right;\n",
       "    }\n",
       "</style>\n",
       "<table border=\"1\" class=\"dataframe\">\n",
       "  <thead>\n",
       "    <tr style=\"text-align: right;\">\n",
       "      <th></th>\n",
       "      <th></th>\n",
       "      <th>y</th>\n",
       "      <th>n_W</th>\n",
       "      <th>WW0</th>\n",
       "      <th>WW1</th>\n",
       "      <th>WW2</th>\n",
       "      <th>WW3</th>\n",
       "      <th>WW4</th>\n",
       "      <th>WW5</th>\n",
       "      <th>WW6</th>\n",
       "      <th>WW7</th>\n",
       "      <th>WW8</th>\n",
       "      <th>WW9</th>\n",
       "      <th>WW10</th>\n",
       "      <th>WW11</th>\n",
       "      <th>WW12</th>\n",
       "      <th>WW13</th>\n",
       "      <th>WW14</th>\n",
       "      <th>WW15</th>\n",
       "      <th>WW16</th>\n",
       "      <th>WW17</th>\n",
       "    </tr>\n",
       "  </thead>\n",
       "  <tbody>\n",
       "    <tr>\n",
       "      <th rowspan=\"4\" valign=\"top\">dft_0</th>\n",
       "      <th>energy</th>\n",
       "      <td>-11.194835</td>\n",
       "      <td>1.0</td>\n",
       "      <td>0.0</td>\n",
       "      <td>0.0</td>\n",
       "      <td>0.0</td>\n",
       "      <td>0.0</td>\n",
       "      <td>0.0</td>\n",
       "      <td>0.0</td>\n",
       "      <td>0.0</td>\n",
       "      <td>1.562682e-01</td>\n",
       "      <td>3.814984e+00</td>\n",
       "      <td>6.083338e+00</td>\n",
       "      <td>3.640668e+00</td>\n",
       "      <td>3.047422e-01</td>\n",
       "      <td>0.789208</td>\n",
       "      <td>7.261185e+00</td>\n",
       "      <td>4.845617e+00</td>\n",
       "      <td>0.0</td>\n",
       "      <td>0.0</td>\n",
       "      <td>0.0</td>\n",
       "    </tr>\n",
       "    <tr>\n",
       "      <th>fx_0</th>\n",
       "      <td>0.000000</td>\n",
       "      <td>0.0</td>\n",
       "      <td>-0.0</td>\n",
       "      <td>-0.0</td>\n",
       "      <td>-0.0</td>\n",
       "      <td>-0.0</td>\n",
       "      <td>-0.0</td>\n",
       "      <td>-0.0</td>\n",
       "      <td>-0.0</td>\n",
       "      <td>2.775558e-17</td>\n",
       "      <td>7.626384e-17</td>\n",
       "      <td>1.881809e-17</td>\n",
       "      <td>6.064743e-18</td>\n",
       "      <td>3.763120e-17</td>\n",
       "      <td>-0.000000</td>\n",
       "      <td>-0.000000e+00</td>\n",
       "      <td>7.771561e-16</td>\n",
       "      <td>-0.0</td>\n",
       "      <td>-0.0</td>\n",
       "      <td>-0.0</td>\n",
       "    </tr>\n",
       "    <tr>\n",
       "      <th>fy_0</th>\n",
       "      <td>0.000000</td>\n",
       "      <td>0.0</td>\n",
       "      <td>-0.0</td>\n",
       "      <td>-0.0</td>\n",
       "      <td>-0.0</td>\n",
       "      <td>-0.0</td>\n",
       "      <td>-0.0</td>\n",
       "      <td>-0.0</td>\n",
       "      <td>-0.0</td>\n",
       "      <td>-0.000000e+00</td>\n",
       "      <td>-3.475846e-17</td>\n",
       "      <td>1.881809e-17</td>\n",
       "      <td>-7.720198e-17</td>\n",
       "      <td>-0.000000e+00</td>\n",
       "      <td>-0.000000</td>\n",
       "      <td>1.110223e-16</td>\n",
       "      <td>3.330669e-16</td>\n",
       "      <td>-0.0</td>\n",
       "      <td>-0.0</td>\n",
       "      <td>-0.0</td>\n",
       "    </tr>\n",
       "    <tr>\n",
       "      <th>fz_0</th>\n",
       "      <td>0.000000</td>\n",
       "      <td>0.0</td>\n",
       "      <td>-0.0</td>\n",
       "      <td>-0.0</td>\n",
       "      <td>-0.0</td>\n",
       "      <td>-0.0</td>\n",
       "      <td>-0.0</td>\n",
       "      <td>-0.0</td>\n",
       "      <td>-0.0</td>\n",
       "      <td>-2.775558e-17</td>\n",
       "      <td>-0.000000e+00</td>\n",
       "      <td>-0.000000e+00</td>\n",
       "      <td>2.220446e-16</td>\n",
       "      <td>-0.000000e+00</td>\n",
       "      <td>-0.000000</td>\n",
       "      <td>-1.110223e-16</td>\n",
       "      <td>3.330669e-16</td>\n",
       "      <td>-0.0</td>\n",
       "      <td>-0.0</td>\n",
       "      <td>-0.0</td>\n",
       "    </tr>\n",
       "    <tr>\n",
       "      <th>dft_1</th>\n",
       "      <th>energy</th>\n",
       "      <td>-11.126991</td>\n",
       "      <td>1.0</td>\n",
       "      <td>0.0</td>\n",
       "      <td>0.0</td>\n",
       "      <td>0.0</td>\n",
       "      <td>0.0</td>\n",
       "      <td>0.0</td>\n",
       "      <td>0.0</td>\n",
       "      <td>0.0</td>\n",
       "      <td>8.745162e-02</td>\n",
       "      <td>3.148796e+00</td>\n",
       "      <td>6.107877e+00</td>\n",
       "      <td>4.016702e+00</td>\n",
       "      <td>6.389270e-01</td>\n",
       "      <td>0.442822</td>\n",
       "      <td>5.845941e+00</td>\n",
       "      <td>5.884295e+00</td>\n",
       "      <td>0.0</td>\n",
       "      <td>0.0</td>\n",
       "      <td>0.0</td>\n",
       "    </tr>\n",
       "  </tbody>\n",
       "</table>\n",
       "</div>"
      ],
      "text/plain": [
       "                      y  n_W  WW0  WW1  WW2  WW3  WW4  WW5  WW6           WW7  \\\n",
       "dft_0 energy -11.194835  1.0  0.0  0.0  0.0  0.0  0.0  0.0  0.0  1.562682e-01   \n",
       "      fx_0     0.000000  0.0 -0.0 -0.0 -0.0 -0.0 -0.0 -0.0 -0.0  2.775558e-17   \n",
       "      fy_0     0.000000  0.0 -0.0 -0.0 -0.0 -0.0 -0.0 -0.0 -0.0 -0.000000e+00   \n",
       "      fz_0     0.000000  0.0 -0.0 -0.0 -0.0 -0.0 -0.0 -0.0 -0.0 -2.775558e-17   \n",
       "dft_1 energy -11.126991  1.0  0.0  0.0  0.0  0.0  0.0  0.0  0.0  8.745162e-02   \n",
       "\n",
       "                       WW8           WW9          WW10          WW11  \\\n",
       "dft_0 energy  3.814984e+00  6.083338e+00  3.640668e+00  3.047422e-01   \n",
       "      fx_0    7.626384e-17  1.881809e-17  6.064743e-18  3.763120e-17   \n",
       "      fy_0   -3.475846e-17  1.881809e-17 -7.720198e-17 -0.000000e+00   \n",
       "      fz_0   -0.000000e+00 -0.000000e+00  2.220446e-16 -0.000000e+00   \n",
       "dft_1 energy  3.148796e+00  6.107877e+00  4.016702e+00  6.389270e-01   \n",
       "\n",
       "                  WW12          WW13          WW14  WW15  WW16  WW17  \n",
       "dft_0 energy  0.789208  7.261185e+00  4.845617e+00   0.0   0.0   0.0  \n",
       "      fx_0   -0.000000 -0.000000e+00  7.771561e-16  -0.0  -0.0  -0.0  \n",
       "      fy_0   -0.000000  1.110223e-16  3.330669e-16  -0.0  -0.0  -0.0  \n",
       "      fz_0   -0.000000 -1.110223e-16  3.330669e-16  -0.0  -0.0  -0.0  \n",
       "dft_1 energy  0.442822  5.845941e+00  5.884295e+00   0.0   0.0   0.0  "
      ]
     },
     "execution_count": 24,
     "metadata": {},
     "output_type": "execute_result"
    }
   ],
   "source": [
    "df_features.head()"
   ]
  },
  {
   "cell_type": "markdown",
   "metadata": {
    "ExecuteTime": {
     "start_time": "2021-09-27T03:31:28.871Z"
    }
   },
   "source": [
    "# Fit model\n",
    "Train with 20% of the dataset (1939 samples)"
   ]
  },
  {
   "cell_type": "code",
   "execution_count": 25,
   "metadata": {
    "ExecuteTime": {
     "end_time": "2022-07-09T03:41:03.278687Z",
     "start_time": "2022-07-09T03:41:03.249917Z"
    }
   },
   "outputs": [],
   "source": [
    "training_keys = df_data.index[training_1939]\n",
    "df_slice = df_features.loc[training_keys]\n",
    "n_elements = len(chemical_system.element_list)\n",
    "\n",
    "x_e, y_e, x_f, y_f = least_squares.dataframe_to_tuples(df_slice,\n",
    "                                                       n_elements=n_elements,\n",
    "                                                       energy_key=\"energy\")"
   ]
  },
  {
   "cell_type": "code",
   "execution_count": 26,
   "metadata": {
    "ExecuteTime": {
     "end_time": "2022-07-09T03:41:03.282705Z",
     "start_time": "2022-07-09T03:41:03.279757Z"
    }
   },
   "outputs": [],
   "source": [
    "regularizer = bspline_config.get_regularization_matrix(ridge_1b=1e-6,\n",
    "                                                       ridge_2b=0.0,\n",
    "                                                       curvature_2b=1e-8)\n",
    "\n",
    "model = least_squares.WeightedLinearModel(bspline_config,\n",
    "                                          regularizer=regularizer)"
   ]
  },
  {
   "cell_type": "code",
   "execution_count": 27,
   "metadata": {
    "ExecuteTime": {
     "end_time": "2022-07-09T03:41:03.303716Z",
     "start_time": "2022-07-09T03:41:03.283898Z"
    }
   },
   "outputs": [],
   "source": [
    "model.fit(x_e, y_e, x_f, y_f, weight=0.5)"
   ]
  },
  {
   "cell_type": "code",
   "execution_count": 28,
   "metadata": {
    "ExecuteTime": {
     "end_time": "2022-07-09T03:41:03.309960Z",
     "start_time": "2022-07-09T03:41:03.306791Z"
    }
   },
   "outputs": [
    {
     "name": "stdout",
     "output_type": "stream",
     "text": [
      "('W', 'W') Correction: adjusted 5 coefficients.\n"
     ]
    }
   ],
   "source": [
    "pair = (\"W\", \"W\")\n",
    "\n",
    "r_target = analysis[\"lower_bounds\"][pair]\n",
    "model.fix_repulsion_2b(pair, \n",
    "                       r_target=r_target,\n",
    "                       min_curvature=0.0)"
   ]
  },
  {
   "cell_type": "code",
   "execution_count": 29,
   "metadata": {
    "ExecuteTime": {
     "end_time": "2022-07-09T03:41:03.463016Z",
     "start_time": "2022-07-09T03:41:03.311128Z"
    }
   },
   "outputs": [
    {
     "data": {
      "text/plain": [
       "<matplotlib.collections.LineCollection at 0x7f6b765cc350>"
      ]
     },
     "execution_count": 29,
     "metadata": {},
     "output_type": "execute_result"
    },
    {
     "data": {
      "image/png": "[encoded data removed]",
      "text/plain": [
       "<Figure size 432x288 with 1 Axes>"
      ]
     },
     "metadata": {
      "needs_background": "light"
     },
     "output_type": "display_data"
    }
   ],
   "source": [
    "solutions = least_squares.arrange_coefficients(model.coefficients,\n",
    "                                               bspline_config)\n",
    "coefficients = solutions[(\"W\", \"W\")]\n",
    "knot_sequence = bspline_config.knots_map[(\"W\", \"W\")]\n",
    "fig, ax = plotting.visualize_splines(coefficients, knot_sequence)\n",
    "plt.vlines([0.0], -100, 100, color=\"orange\", linewidth=2)"
   ]
  },
  {
   "cell_type": "code",
   "execution_count": 30,
   "metadata": {
    "ExecuteTime": {
     "end_time": "2022-07-09T03:41:03.575568Z",
     "start_time": "2022-07-09T03:41:03.464185Z"
    }
   },
   "outputs": [
    {
     "data": {
      "text/plain": [
       "(-0.5, 0.5)"
      ]
     },
     "execution_count": 30,
     "metadata": {},
     "output_type": "execute_result"
    },
    {
     "data": {
      "image/png": "[encoded data removed]",
      "text/plain": [
       "<Figure size 432x288 with 1 Axes>"
      ]
     },
     "metadata": {
      "needs_background": "light"
     },
     "output_type": "display_data"
    }
   ],
   "source": [
    "fig, ax = plotting.visualize_splines(coefficients, knot_sequence)\n",
    "plt.vlines([0.0], -1, 1, color=\"orange\", linewidth=2)\n",
    "ax.set_ylim(-0.5, 0.5)"
   ]
  },
  {
   "cell_type": "markdown",
   "metadata": {
    "ExecuteTime": {
     "end_time": "2021-09-27T04:15:40.920319Z",
     "start_time": "2021-09-27T04:15:40.917610Z"
    }
   },
   "source": [
    "# Prediction"
   ]
  },
  {
   "cell_type": "markdown",
   "metadata": {
    "ExecuteTime": {
     "end_time": "2022-07-09T00:03:45.680681Z",
     "start_time": "2022-07-09T00:03:45.667521Z"
    }
   },
   "source": [
    "predict with remaining 80% of dataset"
   ]
  },
  {
   "cell_type": "code",
   "execution_count": 31,
   "metadata": {
    "ExecuteTime": {
     "end_time": "2022-07-09T03:41:03.582881Z",
     "start_time": "2022-07-09T03:41:03.576820Z"
    }
   },
   "outputs": [],
   "source": [
    "holdout_keys = df_data.index.difference(training_keys)"
   ]
  },
  {
   "cell_type": "code",
   "execution_count": 32,
   "metadata": {
    "ExecuteTime": {
     "end_time": "2022-07-09T03:41:03.652742Z",
     "start_time": "2022-07-09T03:41:03.583930Z"
    }
   },
   "outputs": [],
   "source": [
    "df_holdout = df_features.loc[holdout_keys]\n",
    "x_e, y_e, x_f, y_f = least_squares.dataframe_to_tuples(df_holdout,\n",
    "                                                       n_elements=n_elements,\n",
    "                                                       energy_key=\"energy\")"
   ]
  },
  {
   "cell_type": "code",
   "execution_count": 33,
   "metadata": {
    "ExecuteTime": {
     "end_time": "2022-07-09T03:41:03.658676Z",
     "start_time": "2022-07-09T03:41:03.653877Z"
    }
   },
   "outputs": [],
   "source": [
    "p_e = model.predict(x_e)\n",
    "\n",
    "p_f = model.predict(x_f)"
   ]
  },
  {
   "cell_type": "code",
   "execution_count": 34,
   "metadata": {
    "ExecuteTime": {
     "end_time": "2022-07-09T03:41:03.664657Z",
     "start_time": "2022-07-09T03:41:03.659994Z"
    }
   },
   "outputs": [
    {
     "name": "stdout",
     "output_type": "stream",
     "text": [
      "Energy root-mean-square error: 21.01 meV/atom\n",
      "Force component root-mean-square error: 339.98 meV/angstrom\n"
     ]
    }
   ],
   "source": [
    "rmse_e = np.sqrt(np.mean(np.subtract(y_e, p_e)**2))\n",
    "rmse_f = np.sqrt(np.mean(np.subtract(y_f, p_f)**2))\n",
    "print(f\"Energy root-mean-square error: {1000 * rmse_e:.2f} meV/atom\")\n",
    "print(f\"Force component root-mean-square error: {1000 * rmse_f:.2f} meV/angstrom\")"
   ]
  },
  {
   "cell_type": "code",
   "execution_count": 35,
   "metadata": {
    "ExecuteTime": {
     "end_time": "2022-07-09T03:41:04.036593Z",
     "start_time": "2022-07-09T03:41:03.665769Z"
    }
   },
   "outputs": [
    {
     "data": {
      "image/png": "[encoded data removed]",
      "text/plain": [
       "<Figure size 432x288 with 1 Axes>"
      ]
     },
     "metadata": {
      "needs_background": "light"
     },
     "output_type": "display_data"
    }
   ],
   "source": [
    "plotting.density_scatter(y_e, p_e)\n",
    "plt.tight_layout()"
   ]
  },
  {
   "cell_type": "code",
   "execution_count": 36,
   "metadata": {
    "ExecuteTime": {
     "end_time": "2022-07-09T03:41:13.398068Z",
     "start_time": "2022-07-09T03:41:04.037585Z"
    }
   },
   "outputs": [
    {
     "data": {
      "image/png": "[encoded data removed]",
      "text/plain": [
       "<Figure size 432x288 with 1 Axes>"
      ]
     },
     "metadata": {
      "needs_background": "light"
     },
     "output_type": "display_data"
    }
   ],
   "source": [
    "plotting.density_scatter(y_f, p_f)\n",
    "plt.tight_layout()"
   ]
  },
  {
   "cell_type": "markdown",
   "metadata": {},
   "source": [
    "# Retrain with sample weights\n",
    "Provide per-sample weighting to influence the fit.\n",
    "\n",
    "If sample_weights is provided, each training sample, including energy and\n",
    "force component representations, is scaled by the weight. Missing keys\n",
    "are not weighted (scaled by 1.0)."
   ]
  },
  {
   "cell_type": "code",
   "execution_count": 37,
   "metadata": {
    "ExecuteTime": {
     "end_time": "2022-07-09T03:41:13.402696Z",
     "start_time": "2022-07-09T03:41:13.399225Z"
    }
   },
   "outputs": [],
   "source": [
    "sample_weights = {}\n",
    "df_training = df_data.loc[training_keys]"
   ]
  },
  {
   "cell_type": "markdown",
   "metadata": {},
   "source": [
    "Example: increase the influence of small configurations on the fit \n",
    "(less than 10 atoms) by a factor of two."
   ]
  },
  {
   "cell_type": "code",
   "execution_count": 38,
   "metadata": {
    "ExecuteTime": {
     "end_time": "2022-07-09T03:41:13.409237Z",
     "start_time": "2022-07-09T03:41:13.403846Z"
    }
   },
   "outputs": [
    {
     "name": "stdout",
     "output_type": "stream",
     "text": [
      "406 samples upweighted.\n"
     ]
    }
   ],
   "source": [
    "for key, size in df_training[[\"size\"]].itertuples():\n",
    "    if size < 10:\n",
    "        sample_weights[key] = 2.0        \n",
    "print(len(sample_weights), \"samples upweighted.\")"
   ]
  },
  {
   "cell_type": "markdown",
   "metadata": {},
   "source": [
    "Example: reduce the influence of configurations with large forces\n",
    "by factors inversely proportional to their maximum force."
   ]
  },
  {
   "cell_type": "code",
   "execution_count": 39,
   "metadata": {
    "ExecuteTime": {
     "end_time": "2022-07-09T03:41:13.450485Z",
     "start_time": "2022-07-09T03:41:13.410276Z"
    }
   },
   "outputs": [
    {
     "name": "stdout",
     "output_type": "stream",
     "text": [
      "dft_5565: 0.65\n",
      "dft_8296: 0.99\n",
      "dft_5345: 0.49\n",
      "dft_6358: 0.84\n",
      "dft_7920: 0.95\n",
      "dft_6747: 0.96\n",
      "dft_6150: 0.72\n",
      "dft_5126: 0.91\n",
      "dft_6314: 0.94\n",
      "dft_5175: 0.78\n",
      "dft_5385: 0.89\n",
      "dft_7985: 0.56\n",
      "dft_5748: 0.66\n",
      "dft_6590: 0.92\n",
      "dft_5745: 0.87\n",
      "dft_5325: 0.77\n",
      "dft_5560: 0.90\n",
      "423 samples downweighted.\n"
     ]
    }
   ],
   "source": [
    "for key, fx, fy, fz in df_training[[\"fx\", \"fy\", \"fz\"]].itertuples():\n",
    "    force_array = np.vstack([fx, fy, fz]).T\n",
    "    max_force = np.max(force_array)\n",
    "    if max_force > 10:\n",
    "        scale = 10 / max_force\n",
    "        sample_weights[key] = scale\n",
    "        print(f\"{key}: {scale:.2f}\")\n",
    "print(len(sample_weights), \"samples downweighted.\")"
   ]
  },
  {
   "cell_type": "code",
   "execution_count": 40,
   "metadata": {
    "ExecuteTime": {
     "end_time": "2022-07-09T03:41:13.493485Z",
     "start_time": "2022-07-09T03:41:13.451367Z"
    }
   },
   "outputs": [],
   "source": [
    "training_keys = df_data.index[training_1939]\n",
    "df_slice = df_features.loc[training_keys]\n",
    "n_elements = len(chemical_system.element_list)\n",
    "\n",
    "x_e, y_e, x_f, y_f = least_squares.dataframe_to_tuples(df_slice,\n",
    "                                                       n_elements=n_elements,\n",
    "                                                       energy_key=\"energy\",\n",
    "                                                       sample_weights=sample_weights)"
   ]
  },
  {
   "cell_type": "code",
   "execution_count": 41,
   "metadata": {
    "ExecuteTime": {
     "end_time": "2022-07-09T03:41:13.497345Z",
     "start_time": "2022-07-09T03:41:13.494557Z"
    }
   },
   "outputs": [],
   "source": [
    "regularizer = bspline_config.get_regularization_matrix(ridge_1b=1e-6,\n",
    "                                                       ridge_2b=0.0,\n",
    "                                                       curvature_2b=1e-8)\n",
    "\n",
    "model = least_squares.WeightedLinearModel(bspline_config,\n",
    "                                          regularizer=regularizer)"
   ]
  },
  {
   "cell_type": "code",
   "execution_count": 42,
   "metadata": {
    "ExecuteTime": {
     "end_time": "2022-07-09T03:41:13.513416Z",
     "start_time": "2022-07-09T03:41:13.498506Z"
    }
   },
   "outputs": [],
   "source": [
    "model.fit(x_e, y_e, x_f, y_f, weight=0.5)"
   ]
  },
  {
   "cell_type": "code",
   "execution_count": 43,
   "metadata": {
    "ExecuteTime": {
     "end_time": "2022-07-09T03:41:13.518047Z",
     "start_time": "2022-07-09T03:41:13.514458Z"
    }
   },
   "outputs": [
    {
     "name": "stdout",
     "output_type": "stream",
     "text": [
      "('W', 'W') Correction: adjusted 5 coefficients.\n"
     ]
    }
   ],
   "source": [
    "pair = (\"W\", \"W\")\n",
    "\n",
    "r_target = analysis[\"lower_bounds\"][pair]\n",
    "model.fix_repulsion_2b(pair, \n",
    "                       r_target=r_target,\n",
    "                       min_curvature=0.0)"
   ]
  },
  {
   "cell_type": "code",
   "execution_count": 44,
   "metadata": {
    "ExecuteTime": {
     "end_time": "2022-07-09T03:41:13.661366Z",
     "start_time": "2022-07-09T03:41:13.519829Z"
    }
   },
   "outputs": [
    {
     "data": {
      "text/plain": [
       "<matplotlib.collections.LineCollection at 0x7f6b765a2510>"
      ]
     },
     "execution_count": 44,
     "metadata": {},
     "output_type": "execute_result"
    },
    {
     "data": {
      "image/png": "[encoded data removed]",
      "text/plain": [
       "<Figure size 432x288 with 1 Axes>"
      ]
     },
     "metadata": {
      "needs_background": "light"
     },
     "output_type": "display_data"
    }
   ],
   "source": [
    "solutions = least_squares.arrange_coefficients(model.coefficients,\n",
    "                                               bspline_config)\n",
    "coefficients = solutions[(\"W\", \"W\")]\n",
    "knot_sequence = bspline_config.knots_map[(\"W\", \"W\")]\n",
    "fig, ax = plotting.visualize_splines(coefficients, knot_sequence)\n",
    "plt.vlines([0.0], -100, 100, color=\"orange\", linewidth=2)"
   ]
  },
  {
   "cell_type": "code",
   "execution_count": 45,
   "metadata": {
    "ExecuteTime": {
     "end_time": "2022-07-09T03:41:13.764968Z",
     "start_time": "2022-07-09T03:41:13.662942Z"
    }
   },
   "outputs": [
    {
     "data": {
      "text/plain": [
       "(-0.5, 0.5)"
      ]
     },
     "execution_count": 45,
     "metadata": {},
     "output_type": "execute_result"
    },
    {
     "data": {
      "image/png": "[encoded data removed]",
      "text/plain": [
       "<Figure size 432x288 with 1 Axes>"
      ]
     },
     "metadata": {
      "needs_background": "light"
     },
     "output_type": "display_data"
    }
   ],
   "source": [
    "fig, ax = plotting.visualize_splines(coefficients, knot_sequence)\n",
    "plt.vlines([0.0], -1, 1, color=\"orange\", linewidth=2)\n",
    "ax.set_ylim(-0.5, 0.5)"
   ]
  },
  {
   "cell_type": "code",
   "execution_count": 46,
   "metadata": {
    "ExecuteTime": {
     "end_time": "2022-07-09T03:41:13.831889Z",
     "start_time": "2022-07-09T03:41:13.766219Z"
    }
   },
   "outputs": [],
   "source": [
    "df_holdout = df_features.loc[holdout_keys]\n",
    "x_e, y_e, x_f, y_f = least_squares.dataframe_to_tuples(df_holdout,\n",
    "                                                       n_elements=n_elements,\n",
    "                                                       energy_key=\"energy\")"
   ]
  },
  {
   "cell_type": "code",
   "execution_count": 47,
   "metadata": {
    "ExecuteTime": {
     "end_time": "2022-07-09T03:41:13.837521Z",
     "start_time": "2022-07-09T03:41:13.832986Z"
    }
   },
   "outputs": [],
   "source": [
    "p_e = model.predict(x_e)\n",
    "\n",
    "p_f = model.predict(x_f)"
   ]
  },
  {
   "cell_type": "code",
   "execution_count": 48,
   "metadata": {
    "ExecuteTime": {
     "end_time": "2022-07-09T03:41:13.842897Z",
     "start_time": "2022-07-09T03:41:13.838670Z"
    }
   },
   "outputs": [
    {
     "name": "stdout",
     "output_type": "stream",
     "text": [
      "Energy root-mean-square error: 27.86 meV/atom\n",
      "Force component root-mean-square error: 314.24 meV/angstrom\n"
     ]
    }
   ],
   "source": [
    "rmse_e = np.sqrt(np.mean(np.subtract(y_e, p_e)**2))\n",
    "rmse_f = np.sqrt(np.mean(np.subtract(y_f, p_f)**2))\n",
    "print(f\"Energy root-mean-square error: {1000 * rmse_e:.2f} meV/atom\")\n",
    "print(f\"Force component root-mean-square error: {1000 * rmse_f:.2f} meV/angstrom\")"
   ]
  },
  {
   "cell_type": "markdown",
   "metadata": {},
   "source": [
    "# Model to/from dictionary"
   ]
  },
  {
   "cell_type": "code",
   "execution_count": 49,
   "metadata": {
    "ExecuteTime": {
     "end_time": "2022-07-09T03:41:13.848483Z",
     "start_time": "2022-07-09T03:41:13.844059Z"
    }
   },
   "outputs": [
    {
     "data": {
      "text/plain": [
       "{'coefficients': {'W': -7.731867407982848,\n",
       "  ('W',\n",
       "   'W'): array([ 6.17064799e+01,  6.17064799e+01,  4.39377935e+01,  2.91996409e+01,\n",
       "          1.74920219e+01,  9.17832671e+00,  2.50384426e+00,  1.99530864e-01,\n",
       "         -2.40278431e-01, -3.06073057e-01, -2.16940399e-01,  2.08883166e-03,\n",
       "          1.12246896e-02, -4.53185601e-03,  1.91038098e-02,  0.00000000e+00,\n",
       "          0.00000000e+00,  0.00000000e+00])},\n",
       " 'knots': {('W',\n",
       "   'W'): array([1.0000e-03, 1.0000e-03, 1.0000e-03, 1.0000e-03, 3.6760e-01,\n",
       "         7.3420e-01, 1.1008e+00, 1.4674e+00, 1.8340e+00, 2.2006e+00,\n",
       "         2.5672e+00, 2.9338e+00, 3.3004e+00, 3.6670e+00, 4.0336e+00,\n",
       "         4.4002e+00, 4.7668e+00, 5.1334e+00, 5.5000e+00, 5.5000e+00,\n",
       "         5.5000e+00, 5.5000e+00])},\n",
       " 'data_coverage': array([ True, False, False, False, False, False,  True,  True,  True,\n",
       "         True,  True,  True,  True,  True,  True,  True, False, False,\n",
       "        False]),\n",
       " 'knot_strategy': 'linear',\n",
       " 'offset_1b': True,\n",
       " 'leading_trim': 0,\n",
       " 'trailing_trim': 3,\n",
       " 'knots_map': {('W',\n",
       "   'W'): array([1.0000e-03, 1.0000e-03, 1.0000e-03, 1.0000e-03, 3.6760e-01,\n",
       "         7.3420e-01, 1.1008e+00, 1.4674e+00, 1.8340e+00, 2.2006e+00,\n",
       "         2.5672e+00, 2.9338e+00, 3.3004e+00, 3.6670e+00, 4.0336e+00,\n",
       "         4.4002e+00, 4.7668e+00, 5.1334e+00, 5.5000e+00, 5.5000e+00,\n",
       "         5.5000e+00, 5.5000e+00])},\n",
       " 'element_list': ('W',),\n",
       " 'degree': 2}"
      ]
     },
     "execution_count": 49,
     "metadata": {},
     "output_type": "execute_result"
    }
   ],
   "source": [
    "dump = model.as_dict()\n",
    "dump"
   ]
  },
  {
   "cell_type": "code",
   "execution_count": 50,
   "metadata": {
    "ExecuteTime": {
     "end_time": "2022-07-09T03:41:13.853501Z",
     "start_time": "2022-07-09T03:41:13.849619Z"
    }
   },
   "outputs": [],
   "source": [
    "model_copy = least_squares.WeightedLinearModel.from_dict(dump)"
   ]
  },
  {
   "cell_type": "code",
   "execution_count": 51,
   "metadata": {
    "ExecuteTime": {
     "end_time": "2022-07-09T03:41:13.857488Z",
     "start_time": "2022-07-09T03:41:13.854465Z"
    }
   },
   "outputs": [
    {
     "data": {
      "text/plain": [
       "WeightedLinearModel:\n",
       "    Fit: True\n",
       "BSplineBasis:\n",
       "    Basis functions:\n",
       "        ('W', 'W'): 18\n",
       "ChemicalSystem:\n",
       "    Elements: ('W',)\n",
       "    Degree: 2\n",
       "    Pairs: [('W', 'W')]"
      ]
     },
     "execution_count": 51,
     "metadata": {},
     "output_type": "execute_result"
    }
   ],
   "source": [
    "model_copy"
   ]
  },
  {
   "cell_type": "code",
   "execution_count": 61,
   "metadata": {
    "ExecuteTime": {
     "end_time": "2022-07-09T03:41:44.426286Z",
     "start_time": "2022-07-09T03:41:44.423925Z"
    }
   },
   "outputs": [],
   "source": [
    "assert np.allclose(model_copy.coefficients, model.coefficients)"
   ]
  },
  {
   "cell_type": "markdown",
   "metadata": {},
   "source": [
    "# Save to and load from file"
   ]
  },
  {
   "cell_type": "code",
   "execution_count": 52,
   "metadata": {
    "ExecuteTime": {
     "end_time": "2022-07-09T03:41:13.863701Z",
     "start_time": "2022-07-09T03:41:13.858933Z"
    }
   },
   "outputs": [],
   "source": [
    "filename = \"model_pair.json\"\n",
    "model.save(filename)\n",
    "loaded_model = least_squares.WeightedLinearModel.from_file(filename)"
   ]
  },
  {
   "cell_type": "code",
   "execution_count": 53,
   "metadata": {
    "ExecuteTime": {
     "end_time": "2022-07-09T03:41:13.867866Z",
     "start_time": "2022-07-09T03:41:13.864965Z"
    }
   },
   "outputs": [
    {
     "data": {
      "text/plain": [
       "WeightedLinearModel:\n",
       "    Fit: True\n",
       "BSplineBasis:\n",
       "    Basis functions:\n",
       "        ('W', 'W'): 18\n",
       "ChemicalSystem:\n",
       "    Elements: ('W',)\n",
       "    Degree: 2\n",
       "    Pairs: [('W', 'W')]"
      ]
     },
     "execution_count": 53,
     "metadata": {},
     "output_type": "execute_result"
    }
   ],
   "source": [
    "loaded_model"
   ]
  },
  {
   "cell_type": "code",
   "execution_count": 54,
   "metadata": {
    "ExecuteTime": {
     "end_time": "2022-07-09T03:41:13.871030Z",
     "start_time": "2022-07-09T03:41:13.868849Z"
    }
   },
   "outputs": [],
   "source": [
    "assert np.allclose(loaded_model.coefficients, model.coefficients)"
   ]
  },
  {
   "cell_type": "markdown",
   "metadata": {},
   "source": [
    "# Compute energy, forces, stress with UFCalculator"
   ]
  },
  {
   "cell_type": "code",
   "execution_count": 55,
   "metadata": {
    "ExecuteTime": {
     "end_time": "2022-07-09T03:41:13.929482Z",
     "start_time": "2022-07-09T03:41:13.871971Z"
    }
   },
   "outputs": [
    {
     "name": "stdout",
     "output_type": "stream",
     "text": [
      "Energy: -129.94613209028597\n",
      "Stresses (numerical): [-0.06135798 -0.03453627 -0.03054148  0.00298846 -0.01784534 -0.03373372]\n",
      "Forces:\n",
      " [[-0.43294901  6.73603294 -0.58333983]\n",
      " [-1.33292939 -0.42635559  0.53194692]\n",
      " [ 1.35787554  1.43996832  0.41931416]\n",
      " [ 1.68800143 -5.34581649  0.41422941]\n",
      " [-0.71671663 -2.2625857  -1.20471884]\n",
      " [-1.91111338  2.27644361  0.82348654]\n",
      " [-2.17766135 -1.53650472  0.74938148]\n",
      " [ 1.37690969  0.73920866 -1.00822568]\n",
      " [ 2.10069196 -0.06056058 -0.0972426 ]\n",
      " [-0.10117589 -5.08345892  0.03573497]\n",
      " [-1.63333728  3.25637763  0.2574926 ]\n",
      " [ 1.7824043   0.26725081 -0.33805913]]\n",
      "Max force: 6.736032939992741\n"
     ]
    }
   ],
   "source": [
    "calc = calculator.UFCalculator(model)\n",
    "\n",
    "geom = df_data.iloc[3000]['geometry'].copy()  # 12-atom cell\n",
    "geom.set_calculator(calc)\n",
    "print(\"Energy:\", geom.get_potential_energy())\n",
    "print(\"Stresses (numerical):\", geom.get_stress())\n",
    "print(\"Forces:\\n\", geom.get_forces())\n",
    "print(\"Max force:\", np.max(np.abs(geom.get_forces())))"
   ]
  },
  {
   "cell_type": "markdown",
   "metadata": {
    "pycharm": {
     "name": "#%% md\n"
    }
   },
   "source": [
    "# Relax with UFCalculator"
   ]
  },
  {
   "cell_type": "code",
   "execution_count": 56,
   "metadata": {
    "ExecuteTime": {
     "end_time": "2022-07-09T03:41:19.172657Z",
     "start_time": "2022-07-09T03:41:13.930551Z"
    },
    "pycharm": {
     "name": "#%%\n"
    }
   },
   "outputs": [
    {
     "name": "stdout",
     "output_type": "stream",
     "text": [
      "                Step[ FC]     Time          Energy          fmax\n",
      "*Force-consistent energies used in optimization.\n",
      "BFGSLineSearch:    0[  2] 23:41:14      -37.627017*      11.8282\n",
      "BFGSLineSearch:    1[  5] 23:41:14      -39.969245*      14.5948\n",
      "BFGSLineSearch:    2[  9] 23:41:15      -40.381924*       7.3731\n",
      "BFGSLineSearch:    3[ 13] 23:41:15      -40.641143*       2.2187\n",
      "BFGSLineSearch:    4[ 17] 23:41:16      -40.681684*       1.2190\n",
      "BFGSLineSearch:    5[ 22] 23:41:16      -41.292664*       4.7592\n",
      "BFGSLineSearch:    6[ 25] 23:41:17      -41.534915*       2.6943\n",
      "BFGSLineSearch:    7[ 27] 23:41:17      -41.616323*       1.3431\n",
      "BFGSLineSearch:    8[ 29] 23:41:17      -41.628343*       0.1448\n",
      "BFGSLineSearch:    9[ 32] 23:41:18      -41.629202*       0.0615\n",
      "BFGSLineSearch:   10[ 36] 23:41:18      -41.629253*       0.0112\n"
     ]
    }
   ],
   "source": [
    "geom_relaxed = calc.relax_fmax(geom, verbose=True)"
   ]
  },
  {
   "cell_type": "code",
   "execution_count": 57,
   "metadata": {
    "ExecuteTime": {
     "end_time": "2022-07-09T03:41:19.230748Z",
     "start_time": "2022-07-09T03:41:19.173653Z"
    },
    "pycharm": {
     "name": "#%%\n"
    }
   },
   "outputs": [
    {
     "name": "stdout",
     "output_type": "stream",
     "text": [
      "Energy: -134.4116667409619\n",
      "Stresses (numerical): [-2.96838390e-05  3.31433736e-05  5.54734982e-06 -5.06201075e-06\n",
      " -1.94573723e-05  2.54877232e-06]\n",
      "Forces:\n",
      " [[ 6.01171484e-05  6.38554484e-05  1.63138256e-03]\n",
      " [ 3.14526521e-04  9.57099989e-04 -4.74538648e-04]\n",
      " [-1.01858773e-05 -1.36884469e-03 -3.25748906e-04]\n",
      " [-4.07317837e-04 -1.53982291e-03 -8.99390557e-04]\n",
      " [-1.06455183e-03  1.03706156e-03 -4.41150871e-04]\n",
      " [-1.93317237e-04  1.38752707e-03 -1.20294149e-04]\n",
      " [ 2.10584287e-04  5.01292005e-04 -3.53859791e-04]\n",
      " [-1.51164002e-04  1.12660331e-03 -4.93150935e-04]\n",
      " [ 5.05989761e-04 -6.76243361e-04  7.73158346e-04]\n",
      " [ 1.80107065e-04  5.21570328e-04 -4.62814436e-04]\n",
      " [-1.53807623e-04 -2.29449773e-03  9.23450706e-04]\n",
      " [ 7.09019620e-04  2.84398977e-04  2.42956676e-04]]\n",
      "Max force: 0.0016313825639475885\n"
     ]
    }
   ],
   "source": [
    "print(\"Energy:\", geom_relaxed.get_potential_energy())\n",
    "print(\"Stresses (numerical):\", geom_relaxed.get_stress())\n",
    "forces = geom_relaxed.get_forces()\n",
    "print(\"Forces:\\n\", forces)\n",
    "print(\"Max force:\", np.max(forces))"
   ]
  },
  {
   "cell_type": "markdown",
   "metadata": {
    "pycharm": {
     "name": "#%% md\n"
    }
   },
   "source": [
    "# Export potential and tabulated potential"
   ]
  },
  {
   "cell_type": "code",
   "execution_count": 58,
   "metadata": {
    "ExecuteTime": {
     "end_time": "2022-07-09T03:41:19.312976Z",
     "start_time": "2022-07-09T03:41:19.231941Z"
    }
   },
   "outputs": [],
   "source": [
    "table_list = []\n",
    "pair_list = chemical_system.interactions_map[2]\n",
    "for pair in pair_list:\n",
    "    text = lammps.export_tabulated_potential(representation.knots_map[pair],\n",
    "                                             solutions[pair],\n",
    "                                             pair,\n",
    "                                             grid=1000,\n",
    "                                             filename=None)\n",
    "    table_list.append(text)\n",
    "combined_text = \"\\n\\n\\n\".join(table_list)\n",
    "table_name = os.path.join(example_directory, \"table_test\", \"W.table\")\n",
    "with open(table_name, \"w\") as f:\n",
    "    f.write(combined_text)"
   ]
  },
  {
   "cell_type": "markdown",
   "metadata": {
    "pycharm": {
     "name": "#%%\n"
    }
   },
   "source": [
    "# Compute energy, forces, stress with UFLAMMPS"
   ]
  },
  {
   "cell_type": "code",
   "execution_count": 59,
   "metadata": {
    "ExecuteTime": {
     "end_time": "2022-07-09T03:41:22.288758Z",
     "start_time": "2022-07-09T03:41:19.314433Z"
    }
   },
   "outputs": [
    {
     "name": "stdout",
     "output_type": "stream",
     "text": [
      "Energy: -37.16372789033476\n",
      "Stresses (numerical): [-0.06135807 -0.03453647 -0.03054176  0.00298838 -0.01784529 -0.0337337 ]\n",
      "Forces:\n",
      " [[-0.4329519   6.73603289 -0.58333216]\n",
      " [-1.33292957 -0.42635554  0.53194987]\n",
      " [ 1.35787476  1.43996937  0.41931314]\n",
      " [ 1.68800081 -5.34581733  0.41422204]\n",
      " [-0.7167178  -2.26258662 -1.20471951]\n",
      " [-1.91111412  2.27644512  0.82348623]\n",
      " [-2.17765939 -1.53650329  0.74938347]\n",
      " [ 1.3769121   0.73920875 -1.0082286 ]\n",
      " [ 2.10069201 -0.06055869 -0.09724428]\n",
      " [-0.10117233 -5.08346482  0.0357333 ]\n",
      " [-1.63334123  3.25638126  0.25749692]\n",
      " [ 1.78240667  0.2672489  -0.33806042]]\n",
      "Max force: 6.736032890604939\n"
     ]
    }
   ],
   "source": [
    "calc = lammps.UFLammps(lmpcmds=[\"pair_style table spline 1000\",\n",
    "                                \"pair_coeff * * table_test/W.table UF_W-W 5.5\"],\n",
    "                       keep_alive=True)\n",
    "geom = df_data.iloc[3000]['geometry'].copy()  # 12-atom cell\n",
    "geom.set_calculator(calc)\n",
    "print(\"Energy:\", geom.get_potential_energy())\n",
    "print(\"Stresses (numerical):\", geom.get_stress())\n",
    "print(\"Forces:\\n\", geom.get_forces())\n",
    "print(\"Max force:\", np.max(np.abs(geom.get_forces())))\n",
    "del calc"
   ]
  },
  {
   "cell_type": "code",
   "execution_count": 60,
   "metadata": {
    "ExecuteTime": {
     "end_time": "2022-07-09T03:41:22.317323Z",
     "start_time": "2022-07-09T03:41:22.291135Z"
    }
   },
   "outputs": [
    {
     "name": "stdout",
     "output_type": "stream",
     "text": [
      "Relaxation Steps: 96\n",
      "Energy: -40.45526970514733\n",
      "Stresses (numerical): [-0.03056265  0.00534184  0.02522052  0.00658642 -0.01849611 -0.04036679]\n",
      "Forces:\n",
      " [[-0.00932412  0.00108845  0.0037133 ]\n",
      " [-0.00770538  0.00916022 -0.001408  ]\n",
      " [ 0.01600974  0.00277239 -0.0029679 ]\n",
      " [ 0.00052542 -0.00275431 -0.00184305]\n",
      " [-0.01227637  0.00703248  0.00533529]\n",
      " [ 0.00683997 -0.00875213  0.00534898]\n",
      " [ 0.00657954 -0.00175415 -0.00487387]\n",
      " [ 0.00421104  0.00285633 -0.00125897]\n",
      " [ 0.000371   -0.00499479 -0.00232729]\n",
      " [ 0.00617072 -0.00231353 -0.00279275]\n",
      " [-0.00311078  0.00403531  0.00084746]\n",
      " [-0.00829078 -0.00637626  0.0022268 ]]\n",
      "Max force: 0.016009737113210867\n"
     ]
    }
   ],
   "source": [
    "calc = lammps.UFLammps(lmpcmds=[\"pair_style table spline 1000\",\n",
    "                                \"pair_coeff * * table_test/W.table UF_W-W 5.5\"],\n",
    "                       keep_alive=True)\n",
    "calc.relax(geom)\n",
    "print('Relaxation Steps:', calc.results['nsteps'])\n",
    "geom.calc = calc\n",
    "print(\"Energy:\", geom.get_potential_energy())\n",
    "print(\"Stresses (numerical):\", geom.get_stress())\n",
    "lammps_forces = geom.get_forces()\n",
    "print(\"Forces:\\n\", lammps_forces)\n",
    "print(\"Max force:\", np.max(lammps_forces))\n",
    "del calc"
   ]
  }
 ],
 "metadata": {
  "kernelspec": {
   "display_name": "Python 3 (ipykernel)",
   "language": "python",
   "name": "python3"
  },
  "language_info": {
   "codemirror_mode": {
    "name": "ipython",
    "version": 3
   },
   "file_extension": ".py",
   "mimetype": "text/x-python",
   "name": "python",
   "nbconvert_exporter": "python",
   "pygments_lexer": "ipython3",
   "version": "3.7.11"
  },
  "toc": {
   "base_numbering": 1,
   "nav_menu": {},
   "number_sections": true,
   "sideBar": true,
   "skip_h1_title": false,
   "title_cell": "Table of Contents",
   "title_sidebar": "Contents",
   "toc_cell": false,
   "toc_position": {},
   "toc_section_display": true,
   "toc_window_display": false
  }
 },
 "nbformat": 4,
 "nbformat_minor": 1
}
