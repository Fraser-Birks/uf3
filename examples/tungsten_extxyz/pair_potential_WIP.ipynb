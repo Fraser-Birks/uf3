{
 "cells": [
  {
   "cell_type": "code",
   "execution_count": 1,
   "metadata": {
    "ExecuteTime": {
     "end_time": "2022-07-09T03:08:14.958863Z",
     "start_time": "2022-07-09T03:08:14.948923Z"
    },
    "pycharm": {
     "name": "#%%\n"
    }
   },
   "outputs": [],
   "source": [
    "import os\n",
    "from concurrent.futures import ProcessPoolExecutor"
   ]
  },
  {
   "cell_type": "code",
   "execution_count": 2,
   "metadata": {
    "ExecuteTime": {
     "end_time": "2022-07-09T03:08:15.171052Z",
     "start_time": "2022-07-09T03:08:14.960218Z"
    },
    "pycharm": {
     "name": "#%%\n"
    }
   },
   "outputs": [],
   "source": [
    "import numpy as np\n",
    "import matplotlib.pyplot as plt"
   ]
  },
  {
   "cell_type": "code",
   "execution_count": 3,
   "metadata": {
    "ExecuteTime": {
     "end_time": "2022-07-09T03:08:16.118863Z",
     "start_time": "2022-07-09T03:08:15.172049Z"
    },
    "pycharm": {
     "name": "#%%\n"
    }
   },
   "outputs": [],
   "source": [
    "from uf3.data import io\n",
    "from uf3.data import geometry\n",
    "from uf3.data import composition\n",
    "from uf3.representation import bspline\n",
    "from uf3.representation import distances\n",
    "from uf3.representation import process\n",
    "from uf3.regression import least_squares\n",
    "from uf3.forcefield import calculator\n",
    "from uf3.forcefield import lammps\n",
    "from uf3.util import parallel\n",
    "from uf3.util import plotting"
   ]
  },
  {
   "cell_type": "markdown",
   "metadata": {
    "ExecuteTime": {
     "start_time": "2021-09-27T14:45:45.123Z"
    }
   },
   "source": [
    "# $\\text{UF}_{2}$ Demo: Elemental tungsten"
   ]
  },
  {
   "cell_type": "markdown",
   "metadata": {},
   "source": [
    "**Data split**\n",
    "- Training set: 1939 configurations (stratified 20% of the dataset)\n",
    "\n",
    "- Holdout: 7754 configurations (remaining 80%)"
   ]
  },
  {
   "cell_type": "markdown",
   "metadata": {},
   "source": [
    "**Inputs**\n",
    "- ```w-14.xyz``` (30 mb)\n",
    "- ```training_idx.txt``` (10 kb, included for reproducibility purposes)"
   ]
  },
  {
   "cell_type": "markdown",
   "metadata": {},
   "source": [
    "**Outputs**\n",
    "- ```model_pair.json``` (1 kb)\n",
    "- ```W_pair.table``` (32 kb)"
   ]
  },
  {
   "cell_type": "code",
   "execution_count": 4,
   "metadata": {
    "ExecuteTime": {
     "end_time": "2022-07-09T03:08:16.125487Z",
     "start_time": "2022-07-09T03:08:16.120442Z"
    }
   },
   "outputs": [
    {
     "data": {
      "text/html": [
       "<style>\n",
       "  table {margin-left: 0 !important;}\n",
       "</style>\n"
      ],
      "text/plain": [
       "<IPython.core.display.HTML object>"
      ]
     },
     "metadata": {},
     "output_type": "display_data"
    }
   ],
   "source": [
    "%%html\n",
    "<style>\n",
    "  table {margin-left: 0 !important;}\n",
    "</style>"
   ]
  },
  {
   "cell_type": "markdown",
   "metadata": {},
   "source": [
    " Step             | Estimated Time \n",
    ":-----------------|:--------------\n",
    "Preprocessing     | 10 seconds\n",
    "Pair distribution | 10 seconds\n",
    "Featurization     | 5 core-minutes (parallelizable)\n",
    "Training          | 1 second\n",
    "Prediction        | 1 second\n",
    "Plotting          | 9 seconds"
   ]
  },
  {
   "cell_type": "markdown",
   "metadata": {
    "pycharm": {
     "name": "#%% md\n"
    }
   },
   "source": [
    "# User Parameters\n",
    "\n",
    "```element_list (list)```: list of element symbols\n",
    "\n",
    "```degree (int)```: truncation of many-body expansion. A value of 2 yields a pair potential."
   ]
  },
  {
   "cell_type": "code",
   "execution_count": 5,
   "metadata": {
    "ExecuteTime": {
     "end_time": "2022-07-09T03:08:16.128909Z",
     "start_time": "2022-07-09T03:08:16.126660Z"
    },
    "pycharm": {
     "name": "#%%\n"
    }
   },
   "outputs": [],
   "source": [
    "element_list = ['W']\n",
    "degree = 2"
   ]
  },
  {
   "cell_type": "markdown",
   "metadata": {},
   "source": [
    "Initialize the ```ChemicalSystem``` and inspect interactions.\n",
    "\n",
    "Elements involved in each interactions are sorted by electronegativity."
   ]
  },
  {
   "cell_type": "code",
   "execution_count": 6,
   "metadata": {
    "ExecuteTime": {
     "end_time": "2022-07-09T03:08:16.133882Z",
     "start_time": "2022-07-09T03:08:16.129962Z"
    }
   },
   "outputs": [
    {
     "name": "stdout",
     "output_type": "stream",
     "text": [
      "ChemicalSystem:\n",
      "    Elements: ('W',)\n",
      "    Degree: 2\n",
      "    Pairs: [('W', 'W')]\n"
     ]
    }
   ],
   "source": [
    "chemical_system = composition.ChemicalSystem(element_list=element_list,\n",
    "                                             degree=degree)\n",
    "print(chemical_system)"
   ]
  },
  {
   "cell_type": "markdown",
   "metadata": {},
   "source": [
    "```r_min_map (dict)```: map of minimum pair distance per interaction (angstroms). \n",
    "    If unspecified, defaults to 1.0 for all interactions.\n",
    "    \n",
    "```r_max_map (dict)```: map of maximum pair distance per interaction (angstroms). \n",
    "    If unspecified, defaults to 6.0 angstroms for all interactions, which probably encompasses at least 2nd-nearest neighbors.\n",
    "    \n",
    "```resolution_map (dict)```: map of resolution (number of knot intervals) per interaction. \n",
    "    For the cubic basis, the number of basis functions equals three more than the number of knot intervals.\n",
    "    This is, in turn, negated by ```trailing_trim```.\n",
    "    If unspecified, defaults to 20 for all two-body interactions and 5 for three-body interactions.\n",
    "    \n",
    "```trailing_trim (int)```: number of trailing basis functions to trim, defaults to 3.\n",
    " - ```= 0```: hard cutoff at ```r_max```\n",
    " - ```= 1```: function goes to zero at ```r_max```\n",
    " - ```= 2```: first derivative goes to zero at ```r_max```\n",
    " - ```= 3```: second derivative goes to zero at ```r_max```\n",
    " \n",
    "```leading_trim (int)```: similar for leading basis functions (small distances)."
   ]
  },
  {
   "cell_type": "code",
   "execution_count": 7,
   "metadata": {
    "ExecuteTime": {
     "end_time": "2022-07-09T03:08:16.137956Z",
     "start_time": "2022-07-09T03:08:16.135189Z"
    },
    "pycharm": {
     "name": "#%%\n"
    }
   },
   "outputs": [],
   "source": [
    "r_min_map = {('W', 'W'): None,\n",
    "            }\n",
    "r_max_map = {('W', 'W'): 5.5,\n",
    "            }\n",
    "resolution_map = {('W', 'W'): 15,\n",
    "                 }\n",
    "trailing_trim = 3\n",
    "leading_trim = 3"
   ]
  },
  {
   "cell_type": "markdown",
   "metadata": {},
   "source": [
    "# Demo parameters\n",
    "```n_cores```: number of workers to use in parallel for feature generation\n",
    "\n",
    "```data_filename```: filename of reference data including geometries, energies, forces, ...\n",
    "\n",
    "```training_1939```: list of integers corresponding to entries to use for training."
   ]
  },
  {
   "cell_type": "code",
   "execution_count": 8,
   "metadata": {
    "ExecuteTime": {
     "end_time": "2022-07-09T03:08:16.141088Z",
     "start_time": "2022-07-09T03:08:16.138892Z"
    }
   },
   "outputs": [],
   "source": [
    "n_cores = 4"
   ]
  },
  {
   "cell_type": "code",
   "execution_count": 9,
   "metadata": {
    "ExecuteTime": {
     "end_time": "2022-07-09T03:08:16.147701Z",
     "start_time": "2022-07-09T03:08:16.142563Z"
    }
   },
   "outputs": [],
   "source": [
    "example_directory = os.getcwd()\n",
    "data_filename = os.path.join(example_directory, \"w-14.xyz\")\n",
    "with open(os.path.join(example_directory, \"training_idx.txt\"), \"r\") as f:\n",
    "    training_1939 = [int(idx) for idx in f.read().splitlines()]"
   ]
  },
  {
   "cell_type": "markdown",
   "metadata": {},
   "source": [
    "# Initialize basis"
   ]
  },
  {
   "cell_type": "code",
   "execution_count": 10,
   "metadata": {
    "ExecuteTime": {
     "end_time": "2022-07-09T03:08:16.153527Z",
     "start_time": "2022-07-09T03:08:16.149594Z"
    }
   },
   "outputs": [
    {
     "name": "stdout",
     "output_type": "stream",
     "text": [
      "BSplineBasis:\n",
      "    Basis functions:\n",
      "        ('W', 'W'): 18\n",
      "ChemicalSystem:\n",
      "    Elements: ('W',)\n",
      "    Degree: 2\n",
      "    Pairs: [('W', 'W')]\n"
     ]
    }
   ],
   "source": [
    "bspline_config = bspline.BSplineBasis(chemical_system,\n",
    "                                      r_min_map=r_min_map,\n",
    "                                      r_max_map=r_max_map,\n",
    "                                      resolution_map=resolution_map,\n",
    "                                      leading_trim=leading_trim,\n",
    "                                      trailing_trim=trailing_trim)\n",
    "\n",
    "print(bspline_config)"
   ]
  },
  {
   "cell_type": "markdown",
   "metadata": {},
   "source": [
    "```bspline_config.get_interaction_partitions()``` yields the number of coefficients for each n-body interaction (one-body terms, two-body terms, three-body terms, ...) as well as the starting index in the coefficient vector for each interaction."
   ]
  },
  {
   "cell_type": "code",
   "execution_count": 11,
   "metadata": {
    "ExecuteTime": {
     "end_time": "2022-07-09T03:08:16.157462Z",
     "start_time": "2022-07-09T03:08:16.154521Z"
    }
   },
   "outputs": [
    {
     "data": {
      "text/plain": [
       "{'W': 1, ('W', 'W'): 18}"
      ]
     },
     "execution_count": 11,
     "metadata": {},
     "output_type": "execute_result"
    }
   ],
   "source": [
    "bspline_config.get_interaction_partitions()[0]"
   ]
  },
  {
   "cell_type": "code",
   "execution_count": 12,
   "metadata": {
    "ExecuteTime": {
     "end_time": "2022-07-09T03:08:16.161761Z",
     "start_time": "2022-07-09T03:08:16.158376Z"
    }
   },
   "outputs": [
    {
     "data": {
      "text/plain": [
       "{'W': 0, ('W', 'W'): 1}"
      ]
     },
     "execution_count": 12,
     "metadata": {},
     "output_type": "execute_result"
    }
   ],
   "source": [
    "bspline_config.get_interaction_partitions()[1]"
   ]
  },
  {
   "cell_type": "code",
   "execution_count": 13,
   "metadata": {
    "ExecuteTime": {
     "end_time": "2022-07-09T03:08:16.270686Z",
     "start_time": "2022-07-09T03:08:16.162701Z"
    }
   },
   "outputs": [
    {
     "data": {
      "text/plain": [
       "Text(0.5, 1.0, \"Basis functions: ('W', 'W')\")"
      ]
     },
     "execution_count": 13,
     "metadata": {},
     "output_type": "execute_result"
    },
    {
     "data": {
      "image/png": "[encoded data removed]",
      "text/plain": [
       "<Figure size 252x144 with 1 Axes>"
      ]
     },
     "metadata": {
      "needs_background": "light"
     },
     "output_type": "display_data"
    }
   ],
   "source": [
    "pair = bspline_config.interactions_map[2][0]\n",
    "k_plot = bspline_config.knots_map[pair][3: -3]\n",
    "c_plot = np.ones(len(k_plot) - 4)\n",
    "\n",
    "fig, ax = plt.subplots(figsize=(3.5, 2))\n",
    "plotting.visualize_basis_functions(c_plot, \n",
    "                                   k_plot,\n",
    "                                   ax=ax)\n",
    "plotting.visualize_pair_potential(c_plot,\n",
    "                                  k_plot,\n",
    "                                  color=\"black\",\n",
    "                                  ax=ax)\n",
    "plt.ylim(0, 1.1)\n",
    "plt.title(f\"Basis functions: {str(pair)}\")"
   ]
  },
  {
   "cell_type": "markdown",
   "metadata": {
    "pycharm": {
     "name": "#%% md\n"
    }
   },
   "source": [
    "# Load data"
   ]
  },
  {
   "cell_type": "code",
   "execution_count": 14,
   "metadata": {
    "ExecuteTime": {
     "end_time": "2022-07-09T03:08:26.037308Z",
     "start_time": "2022-07-09T03:08:16.271714Z"
    },
    "pycharm": {
     "name": "#%%\n"
    }
   },
   "outputs": [
    {
     "name": "stdout",
     "output_type": "stream",
     "text": [
      "Number of energies: 9693\n",
      "Number of forces: 475578\n"
     ]
    }
   ],
   "source": [
    "data_coordinator = io.DataCoordinator()\n",
    "data_coordinator.dataframe_from_trajectory(data_filename,\n",
    "                                           prefix='dft')\n",
    "df_data = data_coordinator.consolidate()\n",
    "print(\"Number of energies:\", len(df_data))\n",
    "print(\"Number of forces:\", int(np.sum(df_data[\"size\"]) * 3))"
   ]
  },
  {
   "cell_type": "code",
   "execution_count": 15,
   "metadata": {
    "ExecuteTime": {
     "end_time": "2022-07-09T03:08:26.052790Z",
     "start_time": "2022-07-09T03:08:26.038513Z"
    },
    "pycharm": {
     "name": "#%%\n"
    }
   },
   "outputs": [
    {
     "data": {
      "text/html": [
       "<div>\n",
       "<style scoped>\n",
       "    .dataframe tbody tr th:only-of-type {\n",
       "        vertical-align: middle;\n",
       "    }\n",
       "\n",
       "    .dataframe tbody tr th {\n",
       "        vertical-align: top;\n",
       "    }\n",
       "\n",
       "    .dataframe thead th {\n",
       "        text-align: right;\n",
       "    }\n",
       "</style>\n",
       "<table border=\"1\" class=\"dataframe\">\n",
       "  <thead>\n",
       "    <tr style=\"text-align: right;\">\n",
       "      <th></th>\n",
       "      <th>geometry</th>\n",
       "      <th>energy</th>\n",
       "      <th>fx</th>\n",
       "      <th>fy</th>\n",
       "      <th>fz</th>\n",
       "      <th>size</th>\n",
       "    </tr>\n",
       "  </thead>\n",
       "  <tbody>\n",
       "    <tr>\n",
       "      <th>dft_0</th>\n",
       "      <td>(Atom('W', [0.0, 0.0, 0.0], index=0))</td>\n",
       "      <td>-11.194835</td>\n",
       "      <td>[0.0]</td>\n",
       "      <td>[0.0]</td>\n",
       "      <td>[0.0]</td>\n",
       "      <td>1.0</td>\n",
       "    </tr>\n",
       "    <tr>\n",
       "      <th>dft_1</th>\n",
       "      <td>(Atom('W', [0.0, 0.0, 0.0], index=0))</td>\n",
       "      <td>-11.126991</td>\n",
       "      <td>[0.0]</td>\n",
       "      <td>[0.0]</td>\n",
       "      <td>[0.0]</td>\n",
       "      <td>1.0</td>\n",
       "    </tr>\n",
       "    <tr>\n",
       "      <th>dft_2</th>\n",
       "      <td>(Atom('W', [0.0, 0.0, 0.0], index=0))</td>\n",
       "      <td>-11.133282</td>\n",
       "      <td>[0.0]</td>\n",
       "      <td>[0.0]</td>\n",
       "      <td>[0.0]</td>\n",
       "      <td>1.0</td>\n",
       "    </tr>\n",
       "    <tr>\n",
       "      <th>dft_3</th>\n",
       "      <td>(Atom('W', [0.0, 0.0, 0.0], index=0))</td>\n",
       "      <td>-11.139626</td>\n",
       "      <td>[0.0]</td>\n",
       "      <td>[0.0]</td>\n",
       "      <td>[0.0]</td>\n",
       "      <td>1.0</td>\n",
       "    </tr>\n",
       "    <tr>\n",
       "      <th>dft_4</th>\n",
       "      <td>(Atom('W', [0.0, 0.0, 0.0], index=0))</td>\n",
       "      <td>-11.142003</td>\n",
       "      <td>[0.0]</td>\n",
       "      <td>[0.0]</td>\n",
       "      <td>[0.0]</td>\n",
       "      <td>1.0</td>\n",
       "    </tr>\n",
       "  </tbody>\n",
       "</table>\n",
       "</div>"
      ],
      "text/plain": [
       "                                    geometry     energy     fx     fy     fz  \\\n",
       "dft_0  (Atom('W', [0.0, 0.0, 0.0], index=0)) -11.194835  [0.0]  [0.0]  [0.0]   \n",
       "dft_1  (Atom('W', [0.0, 0.0, 0.0], index=0)) -11.126991  [0.0]  [0.0]  [0.0]   \n",
       "dft_2  (Atom('W', [0.0, 0.0, 0.0], index=0)) -11.133282  [0.0]  [0.0]  [0.0]   \n",
       "dft_3  (Atom('W', [0.0, 0.0, 0.0], index=0)) -11.139626  [0.0]  [0.0]  [0.0]   \n",
       "dft_4  (Atom('W', [0.0, 0.0, 0.0], index=0)) -11.142003  [0.0]  [0.0]  [0.0]   \n",
       "\n",
       "       size  \n",
       "dft_0   1.0  \n",
       "dft_1   1.0  \n",
       "dft_2   1.0  \n",
       "dft_3   1.0  \n",
       "dft_4   1.0  "
      ]
     },
     "execution_count": 15,
     "metadata": {},
     "output_type": "execute_result"
    }
   ],
   "source": [
    "df_data.head()"
   ]
  },
  {
   "cell_type": "markdown",
   "metadata": {},
   "source": [
    "# Examine pair distance distribution\n",
    "Useful step that serves as a sanity check for selected cutoffs and resolution."
   ]
  },
  {
   "cell_type": "code",
   "execution_count": 16,
   "metadata": {
    "ExecuteTime": {
     "end_time": "2022-07-09T03:08:26.102450Z",
     "start_time": "2022-07-09T03:08:26.054371Z"
    }
   },
   "outputs": [],
   "source": [
    "from uf3.data import analyze\n",
    "from tqdm.auto import tqdm"
   ]
  },
  {
   "cell_type": "code",
   "execution_count": 17,
   "metadata": {
    "ExecuteTime": {
     "end_time": "2022-07-09T03:08:26.106648Z",
     "start_time": "2022-07-09T03:08:26.103471Z"
    }
   },
   "outputs": [],
   "source": [
    "analyzer = analyze.DataAnalyzer(chemical_system, \n",
    "                                r_cut=10.0,\n",
    "                                bins=0.01)"
   ]
  },
  {
   "cell_type": "code",
   "execution_count": 18,
   "metadata": {
    "ExecuteTime": {
     "end_time": "2022-07-09T03:08:32.982245Z",
     "start_time": "2022-07-09T03:08:26.108259Z"
    }
   },
   "outputs": [
    {
     "data": {
      "application/vnd.jupyter.widget-view+json": {
       "model_id": "073bd146b95b468997df9d42dfcee6a4",
       "version_major": 2,
       "version_minor": 0
      },
      "text/plain": [
       "  0%|          | 0/1000 [00:00<?, ?it/s]"
      ]
     },
     "metadata": {},
     "output_type": "display_data"
    }
   ],
   "source": [
    "atoms_key = data_coordinator.atoms_key\n",
    "histogram_slice = np.random.choice(np.arange(len(df_data)),\n",
    "                                   min(1000, len(df_data)),\n",
    "                                   replace=False)\n",
    "df_slice = df_data[atoms_key].iloc[histogram_slice]\n",
    "analyzer.load_entries(df_slice)"
   ]
  },
  {
   "cell_type": "code",
   "execution_count": 19,
   "metadata": {
    "ExecuteTime": {
     "end_time": "2022-07-09T03:08:32.997671Z",
     "start_time": "2022-07-09T03:08:32.983168Z"
    }
   },
   "outputs": [
    {
     "name": "stdout",
     "output_type": "stream",
     "text": [
      "    Smallest observed: 2.00 angstroms\n",
      "    Suggested Cutoffs: [3.16  3.21  3.385 3.545 3.66  3.8   3.86  3.895 4.175 4.47  4.52  4.65\n",
      " 4.795 5.03  5.25  5.3   5.39  5.48  5.53  5.565 5.755 5.95  5.975 6.15\n",
      " 6.34  6.39  6.425 6.46  6.495 6.72  7.    7.085 7.135 7.3   7.59  7.765\n",
      " 7.815 7.91  8.115 8.48  8.825 8.97  9.02  9.06  9.215 9.38  9.43  9.475\n",
      " 9.51  9.56  9.69  9.8  ]\n"
     ]
    }
   ],
   "source": [
    "analysis = analyzer.analyze()"
   ]
  },
  {
   "cell_type": "code",
   "execution_count": 20,
   "metadata": {
    "ExecuteTime": {
     "end_time": "2022-07-09T03:08:34.394128Z",
     "start_time": "2022-07-09T03:08:32.998585Z"
    }
   },
   "outputs": [
    {
     "data": {
      "image/png": "[encoded data removed]",
      "text/plain": [
       "<Figure size 420x360 with 1 Axes>"
      ]
     },
     "metadata": {
      "needs_background": "light"
     },
     "output_type": "display_data"
    }
   ],
   "source": [
    "canvases = plotting.plot_pair_distributions(analysis, show_cutoffs=False)\n",
    "for fig, ax in canvases:\n",
    "    fig.set_dpi(120)\n",
    "    fig.tight_layout()\n",
    "    # fig.show()"
   ]
  },
  {
   "cell_type": "markdown",
   "metadata": {
    "pycharm": {
     "name": "#%% md\n"
    }
   },
   "source": [
    "# Compute energy and force features"
   ]
  },
  {
   "cell_type": "code",
   "execution_count": 21,
   "metadata": {
    "ExecuteTime": {
     "end_time": "2022-07-09T03:08:34.397835Z",
     "start_time": "2022-07-09T03:08:34.395425Z"
    }
   },
   "outputs": [],
   "source": [
    "representation = process.BasisFeaturizer(bspline_config)"
   ]
  },
  {
   "cell_type": "code",
   "execution_count": 22,
   "metadata": {
    "ExecuteTime": {
     "end_time": "2022-07-09T03:08:34.435206Z",
     "start_time": "2022-07-09T03:08:34.399011Z"
    }
   },
   "outputs": [],
   "source": [
    "client = ProcessPoolExecutor(max_workers=n_cores)"
   ]
  },
  {
   "cell_type": "code",
   "execution_count": 23,
   "metadata": {
    "ExecuteTime": {
     "end_time": "2022-07-09T03:09:30.471215Z",
     "start_time": "2022-07-09T03:08:34.436709Z"
    }
   },
   "outputs": [
    {
     "data": {
      "application/vnd.jupyter.widget-view+json": {
       "model_id": "d9a65221b3294d90bbcf75456f6be073",
       "version_major": 2,
       "version_minor": 0
      },
      "text/plain": [
       "  0%|          | 0/64 [00:00<?, ?it/s]"
      ]
     },
     "metadata": {},
     "output_type": "display_data"
    }
   ],
   "source": [
    "n_batches = n_cores * 16  # added granularity for more progress bar updates\n",
    "df_features = representation.evaluate_parallel(df_data,\n",
    "                                               client,\n",
    "                                               energy_key=data_coordinator.energy_key,\n",
    "                                               n_jobs=n_batches)"
   ]
  },
  {
   "cell_type": "code",
   "execution_count": 24,
   "metadata": {
    "ExecuteTime": {
     "end_time": "2022-07-09T03:09:30.494949Z",
     "start_time": "2022-07-09T03:09:30.472403Z"
    }
   },
   "outputs": [
    {
     "data": {
      "text/html": [
       "<div>\n",
       "<style scoped>\n",
       "    .dataframe tbody tr th:only-of-type {\n",
       "        vertical-align: middle;\n",
       "    }\n",
       "\n",
       "    .dataframe tbody tr th {\n",
       "        vertical-align: top;\n",
       "    }\n",
       "\n",
       "    .dataframe thead th {\n",
       "        text-align: right;\n",
       "    }\n",
       "</style>\n",
       "<table border=\"1\" class=\"dataframe\">\n",
       "  <thead>\n",
       "    <tr style=\"text-align: right;\">\n",
       "      <th></th>\n",
       "      <th></th>\n",
       "      <th>y</th>\n",
       "      <th>n_W</th>\n",
       "      <th>WW0</th>\n",
       "      <th>WW1</th>\n",
       "      <th>WW2</th>\n",
       "      <th>WW3</th>\n",
       "      <th>WW4</th>\n",
       "      <th>WW5</th>\n",
       "      <th>WW6</th>\n",
       "      <th>WW7</th>\n",
       "      <th>WW8</th>\n",
       "      <th>WW9</th>\n",
       "      <th>WW10</th>\n",
       "      <th>WW11</th>\n",
       "      <th>WW12</th>\n",
       "      <th>WW13</th>\n",
       "      <th>WW14</th>\n",
       "      <th>WW15</th>\n",
       "      <th>WW16</th>\n",
       "      <th>WW17</th>\n",
       "    </tr>\n",
       "  </thead>\n",
       "  <tbody>\n",
       "    <tr>\n",
       "      <th rowspan=\"4\" valign=\"top\">dft_0</th>\n",
       "      <th>energy</th>\n",
       "      <td>-11.194835</td>\n",
       "      <td>1.0</td>\n",
       "      <td>0.0</td>\n",
       "      <td>0.0</td>\n",
       "      <td>0.0</td>\n",
       "      <td>0.0</td>\n",
       "      <td>0.0</td>\n",
       "      <td>0.0</td>\n",
       "      <td>0.0</td>\n",
       "      <td>0.0</td>\n",
       "      <td>0.0</td>\n",
       "      <td>1.295574e+00</td>\n",
       "      <td>6.525171e+00</td>\n",
       "      <td>5.350593e+00</td>\n",
       "      <td>8.416114e-01</td>\n",
       "      <td>3.287896e+00</td>\n",
       "      <td>8.099861e+00</td>\n",
       "      <td>0.0</td>\n",
       "      <td>0.0</td>\n",
       "      <td>0.0</td>\n",
       "    </tr>\n",
       "    <tr>\n",
       "      <th>fx_0</th>\n",
       "      <td>0.000000</td>\n",
       "      <td>0.0</td>\n",
       "      <td>-0.0</td>\n",
       "      <td>-0.0</td>\n",
       "      <td>-0.0</td>\n",
       "      <td>-0.0</td>\n",
       "      <td>-0.0</td>\n",
       "      <td>-0.0</td>\n",
       "      <td>-0.0</td>\n",
       "      <td>-0.0</td>\n",
       "      <td>-0.0</td>\n",
       "      <td>-4.146240e-16</td>\n",
       "      <td>7.170187e-17</td>\n",
       "      <td>1.067787e-16</td>\n",
       "      <td>4.857226e-17</td>\n",
       "      <td>-1.110223e-16</td>\n",
       "      <td>4.302114e-16</td>\n",
       "      <td>-0.0</td>\n",
       "      <td>-0.0</td>\n",
       "      <td>-0.0</td>\n",
       "    </tr>\n",
       "    <tr>\n",
       "      <th>fy_0</th>\n",
       "      <td>0.000000</td>\n",
       "      <td>0.0</td>\n",
       "      <td>-0.0</td>\n",
       "      <td>-0.0</td>\n",
       "      <td>-0.0</td>\n",
       "      <td>-0.0</td>\n",
       "      <td>-0.0</td>\n",
       "      <td>-0.0</td>\n",
       "      <td>-0.0</td>\n",
       "      <td>-0.0</td>\n",
       "      <td>-0.0</td>\n",
       "      <td>2.946522e-17</td>\n",
       "      <td>1.063963e-16</td>\n",
       "      <td>-4.243646e-18</td>\n",
       "      <td>3.122502e-17</td>\n",
       "      <td>-0.000000e+00</td>\n",
       "      <td>2.775558e-17</td>\n",
       "      <td>-0.0</td>\n",
       "      <td>-0.0</td>\n",
       "      <td>-0.0</td>\n",
       "    </tr>\n",
       "    <tr>\n",
       "      <th>fz_0</th>\n",
       "      <td>0.000000</td>\n",
       "      <td>0.0</td>\n",
       "      <td>-0.0</td>\n",
       "      <td>-0.0</td>\n",
       "      <td>-0.0</td>\n",
       "      <td>-0.0</td>\n",
       "      <td>-0.0</td>\n",
       "      <td>-0.0</td>\n",
       "      <td>-0.0</td>\n",
       "      <td>-0.0</td>\n",
       "      <td>-0.0</td>\n",
       "      <td>5.204170e-18</td>\n",
       "      <td>-0.000000e+00</td>\n",
       "      <td>-0.000000e+00</td>\n",
       "      <td>-9.714451e-17</td>\n",
       "      <td>-0.000000e+00</td>\n",
       "      <td>8.326673e-17</td>\n",
       "      <td>-0.0</td>\n",
       "      <td>-0.0</td>\n",
       "      <td>-0.0</td>\n",
       "    </tr>\n",
       "    <tr>\n",
       "      <th>dft_1</th>\n",
       "      <th>energy</th>\n",
       "      <td>-11.126991</td>\n",
       "      <td>1.0</td>\n",
       "      <td>0.0</td>\n",
       "      <td>0.0</td>\n",
       "      <td>0.0</td>\n",
       "      <td>0.0</td>\n",
       "      <td>0.0</td>\n",
       "      <td>0.0</td>\n",
       "      <td>0.0</td>\n",
       "      <td>0.0</td>\n",
       "      <td>0.0</td>\n",
       "      <td>9.785540e-01</td>\n",
       "      <td>6.091592e+00</td>\n",
       "      <td>5.696705e+00</td>\n",
       "      <td>1.232446e+00</td>\n",
       "      <td>2.319453e+00</td>\n",
       "      <td>7.930275e+00</td>\n",
       "      <td>0.0</td>\n",
       "      <td>0.0</td>\n",
       "      <td>0.0</td>\n",
       "    </tr>\n",
       "  </tbody>\n",
       "</table>\n",
       "</div>"
      ],
      "text/plain": [
       "                      y  n_W  WW0  WW1  WW2  WW3  WW4  WW5  WW6  WW7  WW8  \\\n",
       "dft_0 energy -11.194835  1.0  0.0  0.0  0.0  0.0  0.0  0.0  0.0  0.0  0.0   \n",
       "      fx_0     0.000000  0.0 -0.0 -0.0 -0.0 -0.0 -0.0 -0.0 -0.0 -0.0 -0.0   \n",
       "      fy_0     0.000000  0.0 -0.0 -0.0 -0.0 -0.0 -0.0 -0.0 -0.0 -0.0 -0.0   \n",
       "      fz_0     0.000000  0.0 -0.0 -0.0 -0.0 -0.0 -0.0 -0.0 -0.0 -0.0 -0.0   \n",
       "dft_1 energy -11.126991  1.0  0.0  0.0  0.0  0.0  0.0  0.0  0.0  0.0  0.0   \n",
       "\n",
       "                       WW9          WW10          WW11          WW12  \\\n",
       "dft_0 energy  1.295574e+00  6.525171e+00  5.350593e+00  8.416114e-01   \n",
       "      fx_0   -4.146240e-16  7.170187e-17  1.067787e-16  4.857226e-17   \n",
       "      fy_0    2.946522e-17  1.063963e-16 -4.243646e-18  3.122502e-17   \n",
       "      fz_0    5.204170e-18 -0.000000e+00 -0.000000e+00 -9.714451e-17   \n",
       "dft_1 energy  9.785540e-01  6.091592e+00  5.696705e+00  1.232446e+00   \n",
       "\n",
       "                      WW13          WW14  WW15  WW16  WW17  \n",
       "dft_0 energy  3.287896e+00  8.099861e+00   0.0   0.0   0.0  \n",
       "      fx_0   -1.110223e-16  4.302114e-16  -0.0  -0.0  -0.0  \n",
       "      fy_0   -0.000000e+00  2.775558e-17  -0.0  -0.0  -0.0  \n",
       "      fz_0   -0.000000e+00  8.326673e-17  -0.0  -0.0  -0.0  \n",
       "dft_1 energy  2.319453e+00  7.930275e+00   0.0   0.0   0.0  "
      ]
     },
     "execution_count": 24,
     "metadata": {},
     "output_type": "execute_result"
    }
   ],
   "source": [
    "df_features.head()"
   ]
  },
  {
   "cell_type": "markdown",
   "metadata": {
    "ExecuteTime": {
     "start_time": "2021-09-27T03:31:28.871Z"
    }
   },
   "source": [
    "# Fit model\n",
    "Train with 20% of the dataset (1939 samples)"
   ]
  },
  {
   "cell_type": "code",
   "execution_count": 25,
   "metadata": {
    "ExecuteTime": {
     "end_time": "2022-07-09T03:09:30.546151Z",
     "start_time": "2022-07-09T03:09:30.496520Z"
    }
   },
   "outputs": [],
   "source": [
    "training_keys = df_data.index[training_1939]\n",
    "df_slice = df_features.loc[training_keys]\n",
    "n_elements = len(chemical_system.element_list)\n",
    "\n",
    "x_e, y_e, x_f, y_f = least_squares.dataframe_to_tuples(df_slice,\n",
    "                                                       n_elements=n_elements,\n",
    "                                                       energy_key=\"energy\")"
   ]
  },
  {
   "cell_type": "code",
   "execution_count": 26,
   "metadata": {
    "ExecuteTime": {
     "end_time": "2022-07-09T03:09:30.551562Z",
     "start_time": "2022-07-09T03:09:30.547609Z"
    }
   },
   "outputs": [],
   "source": [
    "regularizer = bspline_config.get_regularization_matrix(ridge_1b=1e-6,\n",
    "                                                       ridge_2b=0.0,\n",
    "                                                       curvature_2b=1e-8)\n",
    "\n",
    "model = least_squares.WeightedLinearModel(bspline_config,\n",
    "                                          regularizer=regularizer)"
   ]
  },
  {
   "cell_type": "code",
   "execution_count": 27,
   "metadata": {
    "ExecuteTime": {
     "end_time": "2022-07-09T03:09:30.570713Z",
     "start_time": "2022-07-09T03:09:30.552829Z"
    }
   },
   "outputs": [],
   "source": [
    "model.fit(x_e, y_e, x_f, y_f, weight=0.5)"
   ]
  },
  {
   "cell_type": "code",
   "execution_count": 28,
   "metadata": {
    "ExecuteTime": {
     "end_time": "2022-07-09T03:09:30.578230Z",
     "start_time": "2022-07-09T03:09:30.574476Z"
    }
   },
   "outputs": [
    {
     "name": "stdout",
     "output_type": "stream",
     "text": [
      "('W', 'W') Correction: adjusted 4 coefficients.\n"
     ]
    }
   ],
   "source": [
    "pair = (\"W\", \"W\")\n",
    "\n",
    "r_target = analysis[\"lower_bounds\"][pair]\n",
    "model.fix_repulsion_2b(pair, \n",
    "                       r_target=r_target,\n",
    "                       min_curvature=0.0)"
   ]
  },
  {
   "cell_type": "code",
   "execution_count": 29,
   "metadata": {
    "ExecuteTime": {
     "end_time": "2022-07-09T03:09:30.732424Z",
     "start_time": "2022-07-09T03:09:30.579432Z"
    }
   },
   "outputs": [
    {
     "data": {
      "text/plain": [
       "<matplotlib.collections.LineCollection at 0x7fac25a22690>"
      ]
     },
     "execution_count": 29,
     "metadata": {},
     "output_type": "execute_result"
    },
    {
     "data": {
      "image/png": "[encoded data removed]",
      "text/plain": [
       "<Figure size 432x288 with 1 Axes>"
      ]
     },
     "metadata": {
      "needs_background": "light"
     },
     "output_type": "display_data"
    }
   ],
   "source": [
    "solutions = least_squares.arrange_coefficients(model.coefficients,\n",
    "                                               bspline_config)\n",
    "coefficients = solutions[(\"W\", \"W\")]\n",
    "knot_sequence = bspline_config.knots_map[(\"W\", \"W\")]\n",
    "fig, ax = plotting.visualize_splines(coefficients, knot_sequence)\n",
    "plt.vlines([0.0], -100, 100, color=\"orange\", linewidth=2)"
   ]
  },
  {
   "cell_type": "code",
   "execution_count": 30,
   "metadata": {
    "ExecuteTime": {
     "end_time": "2022-07-09T03:09:30.845661Z",
     "start_time": "2022-07-09T03:09:30.733661Z"
    }
   },
   "outputs": [
    {
     "data": {
      "text/plain": [
       "(-0.5, 0.5)"
      ]
     },
     "execution_count": 30,
     "metadata": {},
     "output_type": "execute_result"
    },
    {
     "data": {
      "image/png": "[encoded data removed]",
      "text/plain": [
       "<Figure size 432x288 with 1 Axes>"
      ]
     },
     "metadata": {
      "needs_background": "light"
     },
     "output_type": "display_data"
    }
   ],
   "source": [
    "fig, ax = plotting.visualize_splines(coefficients, knot_sequence)\n",
    "plt.vlines([0.0], -1, 1, color=\"orange\", linewidth=2)\n",
    "ax.set_ylim(-0.5, 0.5)"
   ]
  },
  {
   "cell_type": "markdown",
   "metadata": {
    "ExecuteTime": {
     "end_time": "2021-09-27T04:15:40.920319Z",
     "start_time": "2021-09-27T04:15:40.917610Z"
    }
   },
   "source": [
    "# Prediction"
   ]
  },
  {
   "cell_type": "markdown",
   "metadata": {
    "ExecuteTime": {
     "end_time": "2022-07-09T00:03:45.680681Z",
     "start_time": "2022-07-09T00:03:45.667521Z"
    }
   },
   "source": [
    "predict with remaining 80% of dataset"
   ]
  },
  {
   "cell_type": "code",
   "execution_count": 31,
   "metadata": {
    "ExecuteTime": {
     "end_time": "2022-07-09T03:09:30.852731Z",
     "start_time": "2022-07-09T03:09:30.846888Z"
    }
   },
   "outputs": [],
   "source": [
    "holdout_keys = df_data.index.difference(training_keys)"
   ]
  },
  {
   "cell_type": "code",
   "execution_count": 32,
   "metadata": {
    "ExecuteTime": {
     "end_time": "2022-07-09T03:09:30.921606Z",
     "start_time": "2022-07-09T03:09:30.853732Z"
    }
   },
   "outputs": [],
   "source": [
    "df_holdout = df_features.loc[holdout_keys]\n",
    "x_e, y_e, x_f, y_f = least_squares.dataframe_to_tuples(df_holdout,\n",
    "                                                       n_elements=n_elements,\n",
    "                                                       energy_key=\"energy\")"
   ]
  },
  {
   "cell_type": "code",
   "execution_count": 33,
   "metadata": {
    "ExecuteTime": {
     "end_time": "2022-07-09T03:09:30.927050Z",
     "start_time": "2022-07-09T03:09:30.922701Z"
    }
   },
   "outputs": [],
   "source": [
    "p_e = model.predict(x_e)\n",
    "\n",
    "p_f = model.predict(x_f)"
   ]
  },
  {
   "cell_type": "code",
   "execution_count": 34,
   "metadata": {
    "ExecuteTime": {
     "end_time": "2022-07-09T03:09:30.932502Z",
     "start_time": "2022-07-09T03:09:30.928138Z"
    }
   },
   "outputs": [
    {
     "name": "stdout",
     "output_type": "stream",
     "text": [
      "Energy root-mean-square error: 22.03 meV/atom\n",
      "Force component root-mean-square error: 357.86 meV/angstrom\n"
     ]
    }
   ],
   "source": [
    "rmse_e = np.sqrt(np.mean(np.subtract(y_e, p_e)**2))\n",
    "rmse_f = np.sqrt(np.mean(np.subtract(y_f, p_f)**2))\n",
    "print(f\"Energy root-mean-square error: {1000 * rmse_e:.2f} meV/atom\")\n",
    "print(f\"Force component root-mean-square error: {1000 * rmse_f:.2f} meV/angstrom\")"
   ]
  },
  {
   "cell_type": "code",
   "execution_count": 35,
   "metadata": {
    "ExecuteTime": {
     "end_time": "2022-07-09T03:09:31.287678Z",
     "start_time": "2022-07-09T03:09:30.933677Z"
    }
   },
   "outputs": [
    {
     "data": {
      "image/png": "[encoded data removed]",
      "text/plain": [
       "<Figure size 432x288 with 1 Axes>"
      ]
     },
     "metadata": {
      "needs_background": "light"
     },
     "output_type": "display_data"
    }
   ],
   "source": [
    "plotting.density_scatter(y_e, p_e)\n",
    "plt.tight_layout()"
   ]
  },
  {
   "cell_type": "code",
   "execution_count": 36,
   "metadata": {
    "ExecuteTime": {
     "end_time": "2022-07-09T03:09:40.456786Z",
     "start_time": "2022-07-09T03:09:31.288776Z"
    }
   },
   "outputs": [
    {
     "data": {
      "image/png": "[encoded data removed]",
      "text/plain": [
       "<Figure size 432x288 with 1 Axes>"
      ]
     },
     "metadata": {
      "needs_background": "light"
     },
     "output_type": "display_data"
    }
   ],
   "source": [
    "plotting.density_scatter(y_f, p_f)\n",
    "plt.tight_layout()"
   ]
  },
  {
   "cell_type": "markdown",
   "metadata": {},
   "source": [
    "# Retrain with sample weights\n",
    "Provide per-sample weighting to influence the fit.\n",
    "\n",
    "If sample_weights is provided, each training sample, including energy and\n",
    "force component representations, is scaled by the weight. Missing keys\n",
    "are not weighted (scaled by 1.0)."
   ]
  },
  {
   "cell_type": "code",
   "execution_count": 37,
   "metadata": {
    "ExecuteTime": {
     "end_time": "2022-07-09T03:09:40.461061Z",
     "start_time": "2022-07-09T03:09:40.457876Z"
    }
   },
   "outputs": [],
   "source": [
    "sample_weights = {}\n",
    "df_training = df_data.loc[training_keys]"
   ]
  },
  {
   "cell_type": "markdown",
   "metadata": {},
   "source": [
    "Example: increase the influence of small configurations on the fit \n",
    "(less than 10 atoms) by a factor of two."
   ]
  },
  {
   "cell_type": "code",
   "execution_count": 38,
   "metadata": {
    "ExecuteTime": {
     "end_time": "2022-07-09T03:09:40.471868Z",
     "start_time": "2022-07-09T03:09:40.462130Z"
    }
   },
   "outputs": [
    {
     "name": "stdout",
     "output_type": "stream",
     "text": [
      "406 samples upweighted.\n"
     ]
    }
   ],
   "source": [
    "for key, size in df_training[[\"size\"]].itertuples():\n",
    "    if size < 10:\n",
    "        sample_weights[key] = 2.0        \n",
    "print(len(sample_weights), \"samples upweighted.\")"
   ]
  },
  {
   "cell_type": "markdown",
   "metadata": {},
   "source": [
    "Example: reduce the influence of configurations with large forces\n",
    "by factors inversely proportional to their maximum force."
   ]
  },
  {
   "cell_type": "code",
   "execution_count": 39,
   "metadata": {
    "ExecuteTime": {
     "end_time": "2022-07-09T03:09:40.517355Z",
     "start_time": "2022-07-09T03:09:40.472893Z"
    }
   },
   "outputs": [
    {
     "name": "stdout",
     "output_type": "stream",
     "text": [
      "dft_5565: 0.65\n",
      "dft_8296: 0.99\n",
      "dft_5345: 0.49\n",
      "dft_6358: 0.84\n",
      "dft_7920: 0.95\n",
      "dft_6747: 0.96\n",
      "dft_6150: 0.72\n",
      "dft_5126: 0.91\n",
      "dft_6314: 0.94\n",
      "dft_5175: 0.78\n",
      "dft_5385: 0.89\n",
      "dft_7985: 0.56\n",
      "dft_5748: 0.66\n",
      "dft_6590: 0.92\n",
      "dft_5745: 0.87\n",
      "dft_5325: 0.77\n",
      "dft_5560: 0.90\n",
      "423 samples downweighted.\n"
     ]
    }
   ],
   "source": [
    "for key, fx, fy, fz in df_training[[\"fx\", \"fy\", \"fz\"]].itertuples():\n",
    "    force_array = np.vstack([fx, fy, fz]).T\n",
    "    max_force = np.max(force_array)\n",
    "    if max_force > 10:\n",
    "        scale = 10 / max_force\n",
    "        sample_weights[key] = scale\n",
    "        print(f\"{key}: {scale:.2f}\")\n",
    "print(len(sample_weights), \"samples downweighted.\")"
   ]
  },
  {
   "cell_type": "code",
   "execution_count": 40,
   "metadata": {
    "ExecuteTime": {
     "end_time": "2022-07-09T03:09:40.563673Z",
     "start_time": "2022-07-09T03:09:40.518437Z"
    }
   },
   "outputs": [],
   "source": [
    "training_keys = df_data.index[training_1939]\n",
    "df_slice = df_features.loc[training_keys]\n",
    "n_elements = len(chemical_system.element_list)\n",
    "\n",
    "x_e, y_e, x_f, y_f = least_squares.dataframe_to_tuples(df_slice,\n",
    "                                                       n_elements=n_elements,\n",
    "                                                       energy_key=\"energy\",\n",
    "                                                       sample_weights=sample_weights)"
   ]
  },
  {
   "cell_type": "code",
   "execution_count": 41,
   "metadata": {
    "ExecuteTime": {
     "end_time": "2022-07-09T03:09:40.567255Z",
     "start_time": "2022-07-09T03:09:40.564692Z"
    }
   },
   "outputs": [],
   "source": [
    "regularizer = bspline_config.get_regularization_matrix(ridge_1b=1e-6,\n",
    "                                                       ridge_2b=0.0,\n",
    "                                                       curvature_2b=1e-8)\n",
    "\n",
    "model = least_squares.WeightedLinearModel(bspline_config,\n",
    "                                          regularizer=regularizer)"
   ]
  },
  {
   "cell_type": "code",
   "execution_count": 42,
   "metadata": {
    "ExecuteTime": {
     "end_time": "2022-07-09T03:09:40.583888Z",
     "start_time": "2022-07-09T03:09:40.568264Z"
    }
   },
   "outputs": [],
   "source": [
    "model.fit(x_e, y_e, x_f, y_f, weight=0.5)"
   ]
  },
  {
   "cell_type": "code",
   "execution_count": 43,
   "metadata": {
    "ExecuteTime": {
     "end_time": "2022-07-09T03:09:40.588936Z",
     "start_time": "2022-07-09T03:09:40.585001Z"
    }
   },
   "outputs": [
    {
     "name": "stdout",
     "output_type": "stream",
     "text": [
      "('W', 'W') Correction: adjusted 4 coefficients.\n"
     ]
    }
   ],
   "source": [
    "pair = (\"W\", \"W\")\n",
    "\n",
    "r_target = analysis[\"lower_bounds\"][pair]\n",
    "model.fix_repulsion_2b(pair, \n",
    "                       r_target=r_target,\n",
    "                       min_curvature=0.0)"
   ]
  },
  {
   "cell_type": "code",
   "execution_count": 44,
   "metadata": {
    "ExecuteTime": {
     "end_time": "2022-07-09T03:09:40.717286Z",
     "start_time": "2022-07-09T03:09:40.590116Z"
    }
   },
   "outputs": [
    {
     "data": {
      "text/plain": [
       "<matplotlib.collections.LineCollection at 0x7fac259f1a10>"
      ]
     },
     "execution_count": 44,
     "metadata": {},
     "output_type": "execute_result"
    },
    {
     "data": {
      "image/png": "[encoded data removed]",
      "text/plain": [
       "<Figure size 432x288 with 1 Axes>"
      ]
     },
     "metadata": {
      "needs_background": "light"
     },
     "output_type": "display_data"
    }
   ],
   "source": [
    "solutions = least_squares.arrange_coefficients(model.coefficients,\n",
    "                                               bspline_config)\n",
    "coefficients = solutions[(\"W\", \"W\")]\n",
    "knot_sequence = bspline_config.knots_map[(\"W\", \"W\")]\n",
    "fig, ax = plotting.visualize_splines(coefficients, knot_sequence)\n",
    "plt.vlines([0.0], -100, 100, color=\"orange\", linewidth=2)"
   ]
  },
  {
   "cell_type": "code",
   "execution_count": 45,
   "metadata": {
    "ExecuteTime": {
     "end_time": "2022-07-09T03:09:40.835454Z",
     "start_time": "2022-07-09T03:09:40.718735Z"
    }
   },
   "outputs": [
    {
     "data": {
      "text/plain": [
       "(-0.5, 0.5)"
      ]
     },
     "execution_count": 45,
     "metadata": {},
     "output_type": "execute_result"
    },
    {
     "data": {
      "image/png": "[encoded data removed]",
      "text/plain": [
       "<Figure size 432x288 with 1 Axes>"
      ]
     },
     "metadata": {
      "needs_background": "light"
     },
     "output_type": "display_data"
    }
   ],
   "source": [
    "fig, ax = plotting.visualize_splines(coefficients, knot_sequence)\n",
    "plt.vlines([0.0], -1, 1, color=\"orange\", linewidth=2)\n",
    "ax.set_ylim(-0.5, 0.5)"
   ]
  },
  {
   "cell_type": "code",
   "execution_count": 46,
   "metadata": {
    "ExecuteTime": {
     "end_time": "2022-07-09T03:09:40.902878Z",
     "start_time": "2022-07-09T03:09:40.836486Z"
    }
   },
   "outputs": [],
   "source": [
    "df_holdout = df_features.loc[holdout_keys]\n",
    "x_e, y_e, x_f, y_f = least_squares.dataframe_to_tuples(df_holdout,\n",
    "                                                       n_elements=n_elements,\n",
    "                                                       energy_key=\"energy\")"
   ]
  },
  {
   "cell_type": "code",
   "execution_count": 47,
   "metadata": {
    "ExecuteTime": {
     "end_time": "2022-07-09T03:09:40.909100Z",
     "start_time": "2022-07-09T03:09:40.903961Z"
    }
   },
   "outputs": [],
   "source": [
    "p_e = model.predict(x_e)\n",
    "\n",
    "p_f = model.predict(x_f)"
   ]
  },
  {
   "cell_type": "code",
   "execution_count": 48,
   "metadata": {
    "ExecuteTime": {
     "end_time": "2022-07-09T03:09:40.915328Z",
     "start_time": "2022-07-09T03:09:40.910232Z"
    }
   },
   "outputs": [
    {
     "name": "stdout",
     "output_type": "stream",
     "text": [
      "Energy root-mean-square error: 29.41 meV/atom\n",
      "Force component root-mean-square error: 330.48 meV/angstrom\n"
     ]
    }
   ],
   "source": [
    "rmse_e = np.sqrt(np.mean(np.subtract(y_e, p_e)**2))\n",
    "rmse_f = np.sqrt(np.mean(np.subtract(y_f, p_f)**2))\n",
    "print(f\"Energy root-mean-square error: {1000 * rmse_e:.2f} meV/atom\")\n",
    "print(f\"Force component root-mean-square error: {1000 * rmse_f:.2f} meV/angstrom\")"
   ]
  },
  {
   "cell_type": "markdown",
   "metadata": {},
   "source": [
    "# Model to/from dictionary"
   ]
  },
  {
   "cell_type": "code",
   "execution_count": 60,
   "metadata": {
    "ExecuteTime": {
     "end_time": "2022-07-09T03:11:31.551024Z",
     "start_time": "2022-07-09T03:11:31.543371Z"
    }
   },
   "outputs": [
    {
     "data": {
      "text/plain": [
       "{'coefficients': {'W': -7.835480924909788,\n",
       "  ('W',\n",
       "   'W'): array([ 0.00000000e+00,  0.00000000e+00,  0.00000000e+00,  1.07685679e+02,\n",
       "          7.46842364e+01,  4.77390370e+01,  2.68500808e+01,  1.23564710e+01,\n",
       "          1.86847219e+00, -5.30413689e-02, -3.11235595e-01, -2.62292488e-01,\n",
       "          4.44271051e-02,  1.56620438e-02,  9.07539771e-03,  0.00000000e+00,\n",
       "          0.00000000e+00,  0.00000000e+00])},\n",
       " 'knots': {('W',\n",
       "   'W'): array([-1.375     , -1.375     , -1.375     , -1.375     , -0.91666667,\n",
       "         -0.45833333,  0.        ,  0.45833333,  0.91666667,  1.375     ,\n",
       "          1.83333333,  2.29166667,  2.75      ,  3.20833333,  3.66666667,\n",
       "          4.125     ,  4.58333333,  5.04166667,  5.5       ,  5.5       ,\n",
       "          5.5       ,  5.5       ])},\n",
       " 'data_coverage': array([ True, False, False, False, False, False, False, False,  True,\n",
       "         True,  True,  True,  True,  True,  True,  True, False, False,\n",
       "        False]),\n",
       " 'knot_strategy': 'linear',\n",
       " 'offset_1b': True,\n",
       " 'leading_trim': 3,\n",
       " 'trailing_trim': 3,\n",
       " 'knots_map': {('W',\n",
       "   'W'): array([-1.375     , -1.375     , -1.375     , -1.375     , -0.91666667,\n",
       "         -0.45833333,  0.        ,  0.45833333,  0.91666667,  1.375     ,\n",
       "          1.83333333,  2.29166667,  2.75      ,  3.20833333,  3.66666667,\n",
       "          4.125     ,  4.58333333,  5.04166667,  5.5       ,  5.5       ,\n",
       "          5.5       ,  5.5       ])},\n",
       " 'element_list': ('W',),\n",
       " 'degree': 2}"
      ]
     },
     "execution_count": 60,
     "metadata": {},
     "output_type": "execute_result"
    }
   ],
   "source": [
    "dump = model.as_dict()\n",
    "dump"
   ]
  },
  {
   "cell_type": "code",
   "execution_count": 61,
   "metadata": {
    "ExecuteTime": {
     "end_time": "2022-07-09T03:11:34.022331Z",
     "start_time": "2022-07-09T03:11:34.018304Z"
    }
   },
   "outputs": [],
   "source": [
    "model_copy = least_squares.WeightedLinearModel.from_dict(dump)"
   ]
  },
  {
   "cell_type": "code",
   "execution_count": 62,
   "metadata": {
    "ExecuteTime": {
     "end_time": "2022-07-09T03:11:34.904189Z",
     "start_time": "2022-07-09T03:11:34.894299Z"
    }
   },
   "outputs": [
    {
     "data": {
      "text/plain": [
       "WeightedLinearModel:\n",
       "    Fit: True\n",
       "BSplineBasis:\n",
       "    Basis functions:\n",
       "        ('W', 'W'): 18\n",
       "ChemicalSystem:\n",
       "    Elements: ('W',)\n",
       "    Degree: 2\n",
       "    Pairs: [('W', 'W')]"
      ]
     },
     "execution_count": 62,
     "metadata": {},
     "output_type": "execute_result"
    }
   ],
   "source": [
    "model_copy"
   ]
  },
  {
   "cell_type": "code",
   "execution_count": 63,
   "metadata": {
    "ExecuteTime": {
     "end_time": "2022-07-09T03:11:35.128374Z",
     "start_time": "2022-07-09T03:11:35.122260Z"
    }
   },
   "outputs": [],
   "source": [
    "assert np.allclose(loaded_model.coefficients, model.coefficients)"
   ]
  },
  {
   "cell_type": "markdown",
   "metadata": {},
   "source": [
    "# Save to and load from file"
   ]
  },
  {
   "cell_type": "code",
   "execution_count": 64,
   "metadata": {
    "ExecuteTime": {
     "end_time": "2022-07-09T03:11:47.882071Z",
     "start_time": "2022-07-09T03:11:47.874210Z"
    }
   },
   "outputs": [],
   "source": [
    "filename = \"model_pair.json\"\n",
    "model.save(filename)\n",
    "loaded_model = least_squares.WeightedLinearModel.from_file(filename)"
   ]
  },
  {
   "cell_type": "code",
   "execution_count": 65,
   "metadata": {
    "ExecuteTime": {
     "end_time": "2022-07-09T03:11:48.191588Z",
     "start_time": "2022-07-09T03:11:48.188021Z"
    }
   },
   "outputs": [
    {
     "data": {
      "text/plain": [
       "WeightedLinearModel:\n",
       "    Fit: True\n",
       "BSplineBasis:\n",
       "    Basis functions:\n",
       "        ('W', 'W'): 18\n",
       "ChemicalSystem:\n",
       "    Elements: ('W',)\n",
       "    Degree: 2\n",
       "    Pairs: [('W', 'W')]"
      ]
     },
     "execution_count": 65,
     "metadata": {},
     "output_type": "execute_result"
    }
   ],
   "source": [
    "loaded_model"
   ]
  },
  {
   "cell_type": "code",
   "execution_count": 66,
   "metadata": {
    "ExecuteTime": {
     "end_time": "2022-07-09T03:11:48.925555Z",
     "start_time": "2022-07-09T03:11:48.918272Z"
    }
   },
   "outputs": [],
   "source": [
    "assert np.allclose(loaded_model.coefficients, model.coefficients)"
   ]
  },
  {
   "cell_type": "markdown",
   "metadata": {
    "pycharm": {
     "name": "#%% md\n"
    }
   },
   "source": [
    "# Export potential and tabulated potential"
   ]
  },
  {
   "cell_type": "markdown",
   "metadata": {},
   "source": [
    "# Compute energy, forces, stress with UFCalculator"
   ]
  },
  {
   "cell_type": "code",
   "execution_count": 52,
   "metadata": {
    "ExecuteTime": {
     "end_time": "2022-07-09T03:09:40.982863Z",
     "start_time": "2022-07-09T03:09:40.935857Z"
    }
   },
   "outputs": [
    {
     "name": "stdout",
     "output_type": "stream",
     "text": [
      "Energy: -129.88057361477794\n",
      "Stresses (numerical): [-0.05099133 -0.04410802 -0.01938826  0.00404037 -0.01510008 -0.0343568 ]\n",
      "Forces:\n",
      " [[-0.48032508  7.06028358 -0.51820969]\n",
      " [-1.33555235 -0.41612368  0.4985939 ]\n",
      " [ 1.22528954  1.28939702  0.37615092]\n",
      " [ 1.74304857 -5.32066058  0.35941323]\n",
      " [-0.56837079 -2.05821421 -1.04992362]\n",
      " [-1.8331383   2.12917459  0.77874829]\n",
      " [-2.19565218 -1.46162431  0.67923528]\n",
      " [ 1.51470964  0.71337125 -0.93150565]\n",
      " [ 2.06805949  0.01002878 -0.07743013]\n",
      " [-0.20484069 -5.45342036 -0.03127799]\n",
      " [-1.84457161  3.31381186  0.20037761]\n",
      " [ 1.91134375  0.19397605 -0.28417214]]\n",
      "Max force: 7.060283581786057\n"
     ]
    }
   ],
   "source": [
    "calc = calculator.UFCalculator(model)\n",
    "\n",
    "geom = df_data.iloc[3000]['geometry'].copy()  # 12-atom cell\n",
    "geom.set_calculator(calc)\n",
    "print(\"Energy:\", geom.get_potential_energy())\n",
    "print(\"Stresses (numerical):\", geom.get_stress())\n",
    "print(\"Forces:\\n\", geom.get_forces())\n",
    "print(\"Max force:\", np.max(np.abs(geom.get_forces())))"
   ]
  },
  {
   "cell_type": "markdown",
   "metadata": {
    "pycharm": {
     "name": "#%% md\n"
    }
   },
   "source": [
    "# Relax with UFCalculator"
   ]
  },
  {
   "cell_type": "code",
   "execution_count": 53,
   "metadata": {
    "ExecuteTime": {
     "end_time": "2022-07-09T03:09:45.681705Z",
     "start_time": "2022-07-09T03:09:40.983941Z"
    },
    "pycharm": {
     "name": "#%%\n"
    }
   },
   "outputs": [
    {
     "name": "stdout",
     "output_type": "stream",
     "text": [
      "                Step[ FC]     Time          Energy          fmax\n",
      "*Force-consistent energies used in optimization.\n",
      "BFGSLineSearch:    0[  2] 23:09:41      -36.403372*      13.7856\n",
      "BFGSLineSearch:    1[  6] 23:09:41      -38.507645*       9.3185\n",
      "BFGSLineSearch:    2[ 10] 23:09:42      -39.032843*       3.2961\n",
      "BFGSLineSearch:    3[ 14] 23:09:42      -39.297873*       1.1027\n",
      "BFGSLineSearch:    4[ 18] 23:09:43      -39.390985*       1.0897\n",
      "BFGSLineSearch:    5[ 23] 23:09:43      -39.716439*       3.1275\n",
      "BFGSLineSearch:    6[ 25] 23:09:44      -40.081356*       0.4879\n",
      "BFGSLineSearch:    7[ 28] 23:09:44      -40.097609*       0.1843\n",
      "BFGSLineSearch:    8[ 30] 23:09:45      -40.100472*       0.1630\n",
      "BFGSLineSearch:    9[ 32] 23:09:45      -40.100717*       0.0346\n"
     ]
    }
   ],
   "source": [
    "geom_relaxed = calc.relax_fmax(geom, verbose=True)"
   ]
  },
  {
   "cell_type": "code",
   "execution_count": 54,
   "metadata": {
    "ExecuteTime": {
     "end_time": "2022-07-09T03:09:45.732385Z",
     "start_time": "2022-07-09T03:09:45.682767Z"
    },
    "pycharm": {
     "name": "#%%\n"
    }
   },
   "outputs": [
    {
     "name": "stdout",
     "output_type": "stream",
     "text": [
      "Energy: -134.12650567260346\n",
      "Stresses (numerical): [ 2.14615676e-06  2.79562416e-05 -5.90598363e-05  1.84632417e-05\n",
      "  2.72759756e-05  1.37024305e-05]\n",
      "Forces:\n",
      " [[-5.62778295e-04  2.49842170e-03  3.70062688e-04]\n",
      " [ 1.09789373e-03  1.13722941e-03  1.48759272e-03]\n",
      " [-6.91789704e-04 -5.21668712e-04  4.36937073e-04]\n",
      " [-1.72557075e-03 -1.70221156e-04 -2.60897311e-04]\n",
      " [-2.57158622e-04  1.51871912e-03 -9.02109255e-04]\n",
      " [ 1.46943416e-04 -3.17300351e-03 -3.22235546e-04]\n",
      " [ 5.13737082e-04  2.24572342e-03  1.00456125e-03]\n",
      " [-3.35123315e-03 -1.17165659e-03 -6.72857903e-05]\n",
      " [ 3.05558164e-03  2.93279696e-03  8.24232144e-04]\n",
      " [-1.21786757e-03 -4.50702404e-03 -2.99583524e-04]\n",
      " [ 1.31839638e-03  2.35837425e-03 -1.61796283e-03]\n",
      " [ 1.67384583e-03 -3.14769085e-03 -6.53311631e-04]]\n",
      "Max force: 0.003055581643689564\n"
     ]
    }
   ],
   "source": [
    "print(\"Energy:\", geom_relaxed.get_potential_energy())\n",
    "print(\"Stresses (numerical):\", geom_relaxed.get_stress())\n",
    "forces = geom_relaxed.get_forces()\n",
    "print(\"Forces:\\n\", forces)\n",
    "print(\"Max force:\", np.max(forces))"
   ]
  },
  {
   "cell_type": "markdown",
   "metadata": {
    "pycharm": {
     "name": "#%%\n"
    }
   },
   "source": [
    "# Compute energy, forces, stress with UFLAMMPS"
   ]
  }
 ],
 "metadata": {
  "kernelspec": {
   "display_name": "Python 3 (ipykernel)",
   "language": "python",
   "name": "python3"
  },
  "language_info": {
   "codemirror_mode": {
    "name": "ipython",
    "version": 3
   },
   "file_extension": ".py",
   "mimetype": "text/x-python",
   "name": "python",
   "nbconvert_exporter": "python",
   "pygments_lexer": "ipython3",
   "version": "3.7.11"
  },
  "toc": {
   "base_numbering": 1,
   "nav_menu": {},
   "number_sections": true,
   "sideBar": true,
   "skip_h1_title": false,
   "title_cell": "Table of Contents",
   "title_sidebar": "Contents",
   "toc_cell": false,
   "toc_position": {},
   "toc_section_display": true,
   "toc_window_display": false
  }
 },
 "nbformat": 4,
 "nbformat_minor": 1
}
