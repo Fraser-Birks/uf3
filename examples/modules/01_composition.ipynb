{
 "cells": [
  {
   "cell_type": "code",
   "execution_count": 2,
   "id": "adult-procedure",
   "metadata": {
    "ExecuteTime": {
     "end_time": "2021-09-14T15:48:28.469310Z",
     "start_time": "2021-09-14T15:48:28.376469Z"
    }
   },
   "outputs": [],
   "source": [
    "from uf3.data import composition"
   ]
  },
  {
   "cell_type": "markdown",
   "id": "plain-museum",
   "metadata": {},
   "source": [
    "# Initializing ChemicalSystem\n",
    "\n",
    "```element_list``` should contain all elements expected to appear in the experiment. Elements may be provided as either symbols (str) or atomic numbers (int).\n",
    "\n",
    "```degree``` indicates the highest degree of n-body interactions to consider (i.e. where to truncate the many-body expansion). \n",
    "\n",
    "A value of two means the ChemicalSystem will handle pair-wise elemental interactions:\n",
    "- A-A\n",
    "- A-B ⟷ B-A\n",
    "- B-B\n",
    "\n",
    "A value of three means the ChemicalSystem will handle three-body elemental interactions:\n",
    "- A-A-A\n",
    "- A-B-A ⟷ A-A-B\n",
    "- A-B-B\n",
    "- B-A-A\n",
    "- B-A-B ⟷ B-B-A\n",
    "- B-B-B\n",
    "\n",
    "Symmetric interactions, denoted with \"⟷\", are treated as equivalent."
   ]
  },
  {
   "cell_type": "code",
   "execution_count": 5,
   "id": "wireless-throw",
   "metadata": {
    "ExecuteTime": {
     "end_time": "2021-09-14T15:57:11.812359Z",
     "start_time": "2021-09-14T15:57:11.809331Z"
    }
   },
   "outputs": [],
   "source": [
    "element_list = [\"Na\", \"Cl\"]  # set of elements in system (str or int)\n",
    "degree = 2\n",
    "\n",
    "chemical_system = composition.ChemicalSystem(element_list, degree=degree)"
   ]
  },
  {
   "cell_type": "markdown",
   "id": "endangered-barbados",
   "metadata": {
    "ExecuteTime": {
     "end_time": "2021-09-14T15:57:46.409271Z",
     "start_time": "2021-09-14T15:57:46.407232Z"
    }
   },
   "source": [
    "# ChemicalSystem interactions\n",
    "\n"
   ]
  },
  {
   "cell_type": "code",
   "execution_count": 8,
   "id": "hearing-atlantic",
   "metadata": {
    "ExecuteTime": {
     "end_time": "2021-09-14T15:58:07.736707Z",
     "start_time": "2021-09-14T15:58:07.713302Z"
    }
   },
   "outputs": [
    {
     "data": {
      "text/plain": [
       "{1: ('Na', 'Cl'), 2: [('Cl', 'Cl'), ('Na', 'Cl'), ('Na', 'Na')]}"
      ]
     },
     "execution_count": 8,
     "metadata": {},
     "output_type": "execute_result"
    }
   ],
   "source": [
    "chemical_system.interactions_map"
   ]
  },
  {
   "cell_type": "code",
   "execution_count": null,
   "id": "dependent-moisture",
   "metadata": {},
   "outputs": [],
   "source": []
  }
 ],
 "metadata": {
  "kernelspec": {
   "display_name": "Python 3 (ipykernel)",
   "language": "python",
   "name": "python3"
  },
  "language_info": {
   "codemirror_mode": {
    "name": "ipython",
    "version": 3
   },
   "file_extension": ".py",
   "mimetype": "text/x-python",
   "name": "python",
   "nbconvert_exporter": "python",
   "pygments_lexer": "ipython3",
   "version": "3.7.11"
  },
  "toc": {
   "base_numbering": 1,
   "nav_menu": {},
   "number_sections": true,
   "sideBar": true,
   "skip_h1_title": false,
   "title_cell": "Table of Contents",
   "title_sidebar": "Contents",
   "toc_cell": false,
   "toc_position": {},
   "toc_section_display": true,
   "toc_window_display": false
  }
 },
 "nbformat": 4,
 "nbformat_minor": 5
}
