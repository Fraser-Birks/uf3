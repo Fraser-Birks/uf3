{
 "cells": [
  {
   "cell_type": "code",
   "execution_count": 1,
   "id": "e2fd0cef-c1cd-4fab-83e1-4b97781edf40",
   "metadata": {},
   "outputs": [],
   "source": [
    "import pandas as pd\n",
    "import numpy as np\n",
    "import os\n",
    "\n",
    "from uf3.data import composition\n",
    "from uf3.representation import bspline\n",
    "from uf3.data import io\n",
    "from uf3.representation import process\n",
    "from uf3.regression import least_squares\n",
    "\n",
    "from uf3.representation.utility_uff import get_data_for_UltraFastFeaturization, open_uff_feature\n",
    "\n",
    "from concurrent.futures import ProcessPoolExecutor"
   ]
  },
  {
   "cell_type": "code",
   "execution_count": 2,
   "id": "d08d370d-0f1d-4a12-9a80-a059c88b7846",
   "metadata": {},
   "outputs": [
    {
     "name": "stdout",
     "output_type": "stream",
     "text": [
      "BSplineBasis:\n",
      "    Basis functions:\n",
      "        ('Nb', 'Nb'): 6\n",
      "        ('Nb', 'W'): 7\n",
      "        ('W', 'W'): 8\n",
      "ChemicalSystem:\n",
      "    Elements: ('Nb', 'W')\n",
      "    Degree: 2\n",
      "    Pairs: [('Nb', 'Nb'), ('Nb', 'W'), ('W', 'W')]\n"
     ]
    }
   ],
   "source": [
    "element_list = ['W','Nb']\n",
    "degree = 2\n",
    "\n",
    "chemical_system = composition.ChemicalSystem(element_list=element_list,\n",
    "                                             degree=degree)\n",
    "\n",
    "r_min_map = {('Nb','Nb'): 0.001,\n",
    "             ('Nb', 'W') : 0.001,\n",
    "             ('W', 'W'): 0.001,\n",
    "             }\n",
    "r_max_map = {('Nb','Nb'): 5.5,\n",
    "             ('Nb', 'W') : 6.5,\n",
    "             ('W', 'W'): 7.5,\n",
    "            }\n",
    "resolution_map = {('Nb','Nb'): 3,\n",
    "                  ('Nb', 'W') : 4,\n",
    "                  ('W', 'W'): 5,\n",
    "                 }\n",
    "trailing_trim = 0\n",
    "leading_trim = 0\n",
    "\n",
    "bspline_config = bspline.BSplineBasis(chemical_system,\n",
    "                                      r_min_map=r_min_map,\n",
    "                                      r_max_map=r_max_map,\n",
    "                                      resolution_map=resolution_map,\n",
    "                                      leading_trim=leading_trim,\n",
    "                                      trailing_trim=trailing_trim)\n",
    "\n",
    "print(bspline_config)"
   ]
  },
  {
   "cell_type": "markdown",
   "id": "e8aae2f7-3a56-4ba3-8774-2634d910d5d9",
   "metadata": {},
   "source": [
    "**The Tungsten dataset ```w-14.xyz``` is available at qmml.org, maintained by Dr. Matthias Rupp.**"
   ]
  },
  {
   "cell_type": "code",
   "execution_count": 3,
   "id": "03fe45dd-09cf-4789-a01b-2397be2053c2",
   "metadata": {},
   "outputs": [],
   "source": [
    "example_directory = os.getcwd()\n",
    "data_filename = os.path.join(example_directory, \"w-14.xyz\")\n",
    "\n",
    "data_coordinator = io.DataCoordinator()\n",
    "data_coordinator.dataframe_from_trajectory(data_filename,\n",
    "                                           prefix='dft')\n",
    "df = data_coordinator.consolidate()\n",
    "df = df.sample(20).copy()"
   ]
  },
  {
   "cell_type": "code",
   "execution_count": 4,
   "id": "2f6b499c-0c16-44ee-9f74-2a594db2151b",
   "metadata": {},
   "outputs": [],
   "source": [
    "representation = process.BasisFeaturizer(bspline_config)"
   ]
  },
  {
   "cell_type": "code",
   "execution_count": 5,
   "id": "20cf6baf-043c-4ce9-b091-64e432668994",
   "metadata": {},
   "outputs": [
    {
     "name": "stdout",
     "output_type": "stream",
     "text": [
      "Featurization took-0 secs\n"
     ]
    }
   ],
   "source": [
    "representation.batched_to_hdf_uff('test_uff.h5',df_data=df,n_jobs=1)"
   ]
  },
  {
   "cell_type": "code",
   "execution_count": 6,
   "id": "9cae9a0f-12e2-410e-a31c-f2e8b79b58b0",
   "metadata": {},
   "outputs": [],
   "source": [
    "regularizer = bspline_config.get_regularization_matrix(ridge_1b=1e-6,\n",
    "                                                       ridge_2b=0.0,\n",
    "                                                       curvature_2b=1e-8)\n",
    "\n",
    "model_uff = least_squares.WeightedLinearModel(bspline_config,\n",
    "                                              regularizer=regularizer)"
   ]
  },
  {
   "cell_type": "code",
   "execution_count": 7,
   "id": "5f1c83fb-446a-48ac-a86a-f4282bff579c",
   "metadata": {},
   "outputs": [],
   "source": [
    "model_uff.fit_from_file('test_uff.h5', list(df.index), \n",
    "                        batch_size=100, UFF=True)"
   ]
  },
  {
   "cell_type": "code",
   "execution_count": 8,
   "id": "824d2f5e-3b0c-4f4b-aeee-111361796751",
   "metadata": {},
   "outputs": [
    {
     "name": "stdout",
     "output_type": "stream",
     "text": [
      "RMSE (energy): 0.033\n",
      "RMSE (forces): 0.377\n"
     ]
    }
   ],
   "source": [
    "y_e, p_e, y_f, p_f, rmse_e, rmse_f = model_uff.batched_predict('test_uff.h5', \n",
    "                                                           keys=list(df.index),\n",
    "                                                           UFF=True)"
   ]
  },
  {
   "cell_type": "code",
   "execution_count": 9,
   "id": "52d76b0f-0796-43dc-ad00-4861c597eb16",
   "metadata": {},
   "outputs": [
    {
     "data": {
      "application/json": {
       "ascii": false,
       "bar_format": null,
       "colour": null,
       "elapsed": 0.005086421966552734,
       "initial": 0,
       "n": 0,
       "ncols": null,
       "nrows": 38,
       "postfix": null,
       "prefix": "",
       "rate": null,
       "total": 1,
       "unit": "it",
       "unit_divisor": 1000,
       "unit_scale": false
      },
      "application/vnd.jupyter.widget-view+json": {
       "model_id": "9d0450c7866342ff9d0c10632f13e797",
       "version_major": 2,
       "version_minor": 0
      },
      "text/plain": [
       "  0%|          | 0/1 [00:00<?, ?it/s]"
      ]
     },
     "metadata": {},
     "output_type": "display_data"
    },
    {
     "name": "stderr",
     "output_type": "stream",
     "text": [
      "/home/ajinkya.hire/ls/envs/uf3_env/lib/python3.8/site-packages/uf3/representation/process.py:225: RuntimeWarning: Processing in serial.\n",
      "  warnings.warn(\"Processing in serial.\", RuntimeWarning)\n"
     ]
    },
    {
     "data": {
      "application/json": {
       "ascii": false,
       "bar_format": null,
       "colour": null,
       "elapsed": 0.009976863861083984,
       "initial": 0,
       "n": 0,
       "ncols": null,
       "nrows": 38,
       "postfix": null,
       "prefix": "",
       "rate": null,
       "total": 20,
       "unit": "it",
       "unit_divisor": 1000,
       "unit_scale": false
      },
      "application/vnd.jupyter.widget-view+json": {
       "model_id": "f8b4efebc2c7432d81ea228df9e72894",
       "version_major": 2,
       "version_minor": 0
      },
      "text/plain": [
       "  0%|          | 0/20 [00:00<?, ?it/s]"
      ]
     },
     "metadata": {},
     "output_type": "display_data"
    }
   ],
   "source": [
    "client = ProcessPoolExecutor(max_workers=1)\n",
    "representation.batched_to_hdf('test_py.h5',df_data=df,client=client,n_jobs=1)"
   ]
  },
  {
   "cell_type": "code",
   "execution_count": 10,
   "id": "fa09da55-18d2-46f2-b1a3-b5aa7966706b",
   "metadata": {},
   "outputs": [
    {
     "data": {
      "application/json": {
       "ascii": false,
       "bar_format": null,
       "colour": null,
       "elapsed": 0.009124994277954102,
       "initial": 0,
       "n": 0,
       "ncols": null,
       "nrows": 38,
       "postfix": null,
       "prefix": "",
       "rate": null,
       "total": 1,
       "unit": "it",
       "unit_divisor": 1000,
       "unit_scale": false
      },
      "application/vnd.jupyter.widget-view+json": {
       "model_id": "49b56b53e5d343fbbcd1461655798893",
       "version_major": 2,
       "version_minor": 0
      },
      "text/plain": [
       "  0%|          | 0/1 [00:00<?, ?it/s]"
      ]
     },
     "metadata": {},
     "output_type": "display_data"
    }
   ],
   "source": [
    "model_py = least_squares.WeightedLinearModel(bspline_config,\n",
    "                                             regularizer=regularizer)\n",
    "model_py.fit_from_file('test_py.h5', list(df.index), \n",
    "                        batch_size=100)"
   ]
  },
  {
   "cell_type": "code",
   "execution_count": 11,
   "id": "bb04fcb8-3f1c-49b1-bbce-cf1381e34a0b",
   "metadata": {},
   "outputs": [
    {
     "name": "stdout",
     "output_type": "stream",
     "text": [
      "RMSE (energy): 0.033\n",
      "RMSE (forces): 0.377\n"
     ]
    }
   ],
   "source": [
    "y_e, p_e, y_f, p_f, rmse_e, rmse_f = model_py.batched_predict('test_py.h5', \n",
    "                                                           keys=list(df.index))"
   ]
  },
  {
   "cell_type": "code",
   "execution_count": 12,
   "id": "971556e4-e3b0-451f-b687-a22dd019146f",
   "metadata": {},
   "outputs": [
    {
     "data": {
      "text/plain": [
       "array([ True,  True,  True,  True,  True,  True,  True,  True,  True,\n",
       "        True,  True,  True,  True,  True,  True,  True,  True,  True,\n",
       "        True,  True,  True,  True,  True])"
      ]
     },
     "execution_count": 12,
     "metadata": {},
     "output_type": "execute_result"
    }
   ],
   "source": [
    "np.isclose(model_uff.coefficients, model_py.coefficients)"
   ]
  }
 ],
 "metadata": {
  "kernelspec": {
   "display_name": "Python 3 (ipykernel)",
   "language": "python",
   "name": "python3"
  },
  "language_info": {
   "codemirror_mode": {
    "name": "ipython",
    "version": 3
   },
   "file_extension": ".py",
   "mimetype": "text/x-python",
   "name": "python",
   "nbconvert_exporter": "python",
   "pygments_lexer": "ipython3",
   "version": "3.8.12"
  }
 },
 "nbformat": 4,
 "nbformat_minor": 5
}
