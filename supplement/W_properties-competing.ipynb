{
 "cells": [
  {
   "cell_type": "code",
   "execution_count": 1,
   "metadata": {
    "ExecuteTime": {
     "end_time": "2021-06-23T01:45:45.946088Z",
     "start_time": "2021-06-23T01:45:45.588618Z"
    }
   },
   "outputs": [],
   "source": [
    "import numpy as np\n",
    "import ase\n",
    "import spglib\n",
    "from ase import build\n",
    "from ase.build import supercells\n",
    "from uf3.forcefield import lammps\n",
    "from uf3.forcefield.properties import phonon\n",
    "from uf3.forcefield.properties import elastic"
   ]
  },
  {
   "cell_type": "markdown",
   "metadata": {},
   "source": [
    "# Initialize LAMMPS"
   ]
  },
  {
   "cell_type": "code",
   "execution_count": 2,
   "metadata": {
    "ExecuteTime": {
     "end_time": "2021-06-23T01:45:45.949407Z",
     "start_time": "2021-06-23T01:45:45.947460Z"
    }
   },
   "outputs": [],
   "source": [
    "name = \"UF\""
   ]
  },
  {
   "cell_type": "code",
   "execution_count": 3,
   "metadata": {
    "ExecuteTime": {
     "end_time": "2021-06-23T01:45:45.954980Z",
     "start_time": "2021-06-23T01:45:45.951216Z"
    },
    "pycharm": {
     "name": "#%%\n"
    }
   },
   "outputs": [],
   "source": [
    "if name == \"LJ\":\n",
    "    calc = lammps.UFLammps(lmpcmds=[\"pair_style lj/cut 5.5\",\n",
    "                                    \"pair_coeff * * 0.87 2.5\"],\n",
    "                           keep_alive=True)\n",
    "elif name==\"Morse\":\n",
    "    calc = lammps.UFLammps(lmpcmds=[\"pair_style morse 5.5\",\n",
    "                                    \"pair_coeff * * 0.4206 1.4025 3.055\"],\n",
    "                           keep_alive=True)\n",
    "elif name==\"EAM\":\n",
    "    calc = lammps.UFLammps(lmpcmds=[\"pair_style eam/fs\",\n",
    "                                    \"pair_coeff * * potentials/w_eam4.fs W\"],\n",
    "                           keep_alive=True)\n",
    "elif name==\"SNAP\":\n",
    "    calc = lammps.UFLammps(lmpcmds=[\"pair_style snap\",\n",
    "                                    \"pair_coeff * * \"\n",
    "                                    \"potentials/snap.snapcoeff \"\n",
    "                                    \"potentials/snap.snapparam W W\"],\n",
    "                           keep_alive=True)\n",
    "elif name==\"qSNAP\":\n",
    "    calc = lammps.UFLammps(lmpcmds=[\"pair_style snap\",\n",
    "                                    \"pair_coeff * * \"\n",
    "                                    \"potentials/qsnap.snapcoeff \"\n",
    "                                    \"potentials/qsnap.snapparam W W\"],\n",
    "                           keep_alive=True)\n",
    "elif name==\"UF\":\n",
    "    calc = lammps.UFLammps(lmpcmds=[\"pair_style table spline 25\",\n",
    "                                    \"pair_coeff * * potentials/uf_w.table\"\n",
    "                                    \" UF_W-W 5.5\"],\n",
    "                           keep_alive=True)\n",
    "elif name==\"GAP\":\n",
    "    calc = lammps.UFLammps(lmpcmds=[\"pair_style quip\",\n",
    "                                    \"pair_coeff  * * potentials/gap.xml\"\n",
    "                                    \" \\\"Potential xml_label=\"\n",
    "                                    \"GAP_2020_10_2_-240_18_49_5_313\\\" 74\"],\n",
    "                           keep_alive=True)"
   ]
  },
  {
   "cell_type": "markdown",
   "metadata": {},
   "source": [
    "# Build BCC and relax (2 atoms)"
   ]
  },
  {
   "cell_type": "code",
   "execution_count": 4,
   "metadata": {
    "ExecuteTime": {
     "end_time": "2021-06-23T01:45:48.919099Z",
     "start_time": "2021-06-23T01:45:45.956574Z"
    },
    "pycharm": {
     "name": "#%%\n"
    }
   },
   "outputs": [
    {
     "name": "stdout",
     "output_type": "stream",
     "text": [
      "Relaxation steps: 10\n"
     ]
    }
   ],
   "source": [
    "element = 'W'\n",
    "geom = build.bulk(element, 'bcc', a=3.2, cubic=True)\n",
    "geom.calc = calc\n",
    "calc.relax(geom)\n",
    "print(\"Relaxation steps:\", calc.results['nsteps'])"
   ]
  },
  {
   "cell_type": "code",
   "execution_count": 5,
   "metadata": {
    "ExecuteTime": {
     "end_time": "2021-06-23T01:45:48.923089Z",
     "start_time": "2021-06-23T01:45:48.920297Z"
    },
    "pycharm": {
     "name": "#%%\n"
    }
   },
   "outputs": [
    {
     "name": "stdout",
     "output_type": "stream",
     "text": [
      "Lattice constant: 3.169 angstroms\n"
     ]
    }
   ],
   "source": [
    "a0 = np.mean(np.diag(geom.cell.array))\n",
    "print(\"Lattice constant: {0:.3f} angstroms\".format(a0))"
   ]
  },
  {
   "cell_type": "markdown",
   "metadata": {
    "pycharm": {
     "name": "#%% md\n"
    }
   },
   "source": [
    "# Get primitive cell (1 atom)"
   ]
  },
  {
   "cell_type": "code",
   "execution_count": 6,
   "metadata": {
    "ExecuteTime": {
     "end_time": "2021-06-23T01:45:48.936060Z",
     "start_time": "2021-06-23T01:45:48.924268Z"
    },
    "pycharm": {
     "name": "#%%\n"
    }
   },
   "outputs": [],
   "source": [
    "lattice, scaled_positions, numbers = spglib.standardize_cell(geom,\n",
    "                                                             to_primitive=True,\n",
    "                                                             no_idealize=False,\n",
    "                                                             symprec=1e-5)\n",
    "geom = ase.Atoms(cell=lattice,\n",
    "                 scaled_positions=scaled_positions,\n",
    "                 numbers=numbers,\n",
    "                 pbc=(True, True, True))"
   ]
  },
  {
   "cell_type": "markdown",
   "metadata": {},
   "source": [
    "# Get elastic constants"
   ]
  },
  {
   "cell_type": "code",
   "execution_count": 7,
   "metadata": {
    "ExecuteTime": {
     "end_time": "2021-06-23T01:45:48.980648Z",
     "start_time": "2021-06-23T01:45:48.937648Z"
    },
    "pycharm": {
     "name": "#%%\n"
    }
   },
   "outputs": [
    {
     "name": "stdout",
     "output_type": "stream",
     "text": [
      "Cij (GPa): [538.6381688435068, 188.94241057186562, 184.96593908729577]\n",
      "B (GPa): 300.5316980683793\n"
     ]
    }
   ],
   "source": [
    "# constants = elastic.get_elastic_constants(geom, calc)\n",
    "elastic_constants = calc.get_elastic_constants(geom)\n",
    "print('Cij (GPa):', elastic_constants[:-1])\n",
    "print('B (GPa):', elastic_constants[-1])"
   ]
  },
  {
   "cell_type": "markdown",
   "metadata": {
    "pycharm": {
     "name": "#%% md\n"
    }
   },
   "source": [
    "# Get Phonon Spectra"
   ]
  },
  {
   "cell_type": "code",
   "execution_count": 8,
   "metadata": {
    "ExecuteTime": {
     "end_time": "2021-06-23T01:46:03.043228Z",
     "start_time": "2021-06-23T01:45:48.982102Z"
    },
    "pycharm": {
     "name": "#%%\n"
    }
   },
   "outputs": [],
   "source": [
    "force_constants, path_data, bands_dict = calc.get_phonon_data(geom,\n",
    "                                                              n_super=9,\n",
    "                                                              disp=0.05)"
   ]
  },
  {
   "cell_type": "code",
   "execution_count": 9,
   "metadata": {
    "ExecuteTime": {
     "end_time": "2021-06-23T01:46:03.050675Z",
     "start_time": "2021-06-23T01:46:03.044565Z"
    },
    "pycharm": {
     "name": "#%%\n"
    }
   },
   "outputs": [
    {
     "name": "stdout",
     "output_type": "stream",
     "text": [
      "Phonon RMSE: 0.22988372758478695 THz\n"
     ]
    }
   ],
   "source": [
    "dft_ref =[[[0.0000, 0.0000, 0.0000, 0.0000],\n",
    "           [0.1294, 3.8919, 3.8919, 5.8824],\n",
    "           [0.2593, 5.1683, 5.1683, 5.1683]],\n",
    "          [[0.2593, 5.1683, 5.1683, 5.1683],\n",
    "           [0.3656, 4.4492, 4.4492, 5.9732],\n",
    "           [0.4718, 3.5877, 4.3710, 6.4989]],\n",
    "          [[0.4718, 3.5877, 4.3710, 6.4989],\n",
    "           [0.5466, 2.9536, 2.9536, 4.7921],\n",
    "           [0.6213, 0.0000, 0.0000, 0.0000]],\n",
    "          [[0.6213, 0.0000, 0.0000, 0.0000],\n",
    "           [0.6861, 3.7003, 3.7003, 5.1450],\n",
    "           [0.751 , 5.3080, 5.3080, 5.3080]],\n",
    "          [[0.751 , 5.3080, 5.3080, 5.3080],\n",
    "           [0.8752, 5.1264, 5.6094, 5.6094],\n",
    "           [1.0000, 5.1531, 5.1531, 5.2941]],\n",
    "          [[1.0000, 5.1531, 5.1531, 5.2941],\n",
    "           [1.0641, 4.6197, 5.0059, 5.9081],\n",
    "           [1.1274, 3.5723, 4.3530, 6.4834]]]\n",
    "dft_ref = np.array(dft_ref)\n",
    "\n",
    "distances = bands_dict['distances']\n",
    "frequencies = bands_dict['frequencies']\n",
    "\n",
    "residuals = []\n",
    "for interval_idx in range(len(distances)):\n",
    "    targets = dft_ref[interval_idx, :, 1:]\n",
    "    freq = frequencies[interval_idx]\n",
    "    mid_idx = int(len(freq)/2)\n",
    "\n",
    "    predictions = np.array([freq[0], freq[mid_idx], freq[-1]])\n",
    "    deltas = np.subtract(targets, predictions).flatten()**2\n",
    "    residuals.extend(deltas.tolist())\n",
    "phonon_rmse = np.sqrt(np.mean(residuals))\n",
    "print('Phonon RMSE:', phonon_rmse, 'THz')"
   ]
  },
  {
   "cell_type": "code",
   "execution_count": 10,
   "metadata": {
    "ExecuteTime": {
     "end_time": "2021-06-23T01:46:03.343316Z",
     "start_time": "2021-06-23T01:46:03.051882Z"
    },
    "pycharm": {
     "name": "#%%\n"
    }
   },
   "outputs": [
    {
     "data": {
      "text/plain": [
       "(0.0, 7.0)"
      ]
     },
     "execution_count": 10,
     "metadata": {},
     "output_type": "execute_result"
    },
    {
     "data": {
      "image/png": "[encoded data removed]",
      "text/plain": [
       "<Figure size 1050x600 with 1 Axes>"
      ]
     },
     "metadata": {
      "needs_background": "light"
     },
     "output_type": "display_data"
    }
   ],
   "source": [
    "import matplotlib.pyplot as plt\n",
    "fig, ax = phonon.plot_phonon_spectrum(path_data, bands_dict, color='cornflowerblue')\n",
    "\n",
    "factor = distances[-1][-1]\n",
    "for interval_idx in range(len(distances)):\n",
    "    mid_idx = int(len(freq)/2)\n",
    "    wv = distances[interval_idx]\n",
    "    wv = [wv[0], wv[mid_idx], wv[-1]]\n",
    "    targets = dft_ref[interval_idx, :, 1:].flatten()\n",
    "    plt.scatter(np.repeat(wv, 3)/factor, targets, color='orchid', s=5, marker='s', zorder=10)\n",
    "    \n",
    "ax.set_xlim(0, 1)\n",
    "ax.set_ylim(0, 7)"
   ]
  },
  {
   "cell_type": "markdown",
   "metadata": {
    "pycharm": {
     "name": "#%% md\n"
    }
   },
   "source": [
    "# Compute vacancy formation energy"
   ]
  },
  {
   "cell_type": "code",
   "execution_count": 11,
   "metadata": {
    "ExecuteTime": {
     "end_time": "2021-06-23T01:46:03.410428Z",
     "start_time": "2021-06-23T01:46:03.344582Z"
    },
    "pycharm": {
     "name": "#%%\n"
    }
   },
   "outputs": [
    {
     "name": "stdout",
     "output_type": "stream",
     "text": [
      "Vacancy energy: 3.8041327035107315 eV\n"
     ]
    }
   ],
   "source": [
    "bulk_geom = build.bulk(element, 'bcc', a=a0, cubic=True)\n",
    "bulk_geom = supercells.make_supercell(bulk_geom, np.eye(3) * [9, 9, 9])\n",
    "bulk_geom.calc = calc\n",
    "pristine_energy = bulk_geom.get_potential_energy()\n",
    "defected_geom = bulk_geom.copy()\n",
    "del defected_geom[0]\n",
    "defected_geom.translate([a0*5, a0*5, a0*5])\n",
    "defected_geom.calc = calc\n",
    "defected_energy = defected_geom.get_potential_energy()\n",
    "vacancy_energy = (defected_energy - pristine_energy) / 2\n",
    "print(\"Vacancy energy:\", vacancy_energy, \"eV\")"
   ]
  },
  {
   "cell_type": "markdown",
   "metadata": {
    "pycharm": {
     "name": "#%% md\n"
    }
   },
   "source": [
    "# Compute surface energies"
   ]
  },
  {
   "cell_type": "code",
   "execution_count": 12,
   "metadata": {
    "ExecuteTime": {
     "end_time": "2021-06-23T01:46:03.421478Z",
     "start_time": "2021-06-23T01:46:03.411471Z"
    },
    "pycharm": {
     "name": "#%%\n"
    }
   },
   "outputs": [],
   "source": [
    "bulk100 = build.bulk(element, a=a0, cubic=True)\n",
    "bulk100 = supercells.make_supercell(bulk100, np.eye(3) * [4,4,3])\n",
    "slab100 = build.bcc100(\n",
    "    element, a=a0, size=(2,2,3), vacuum=15.0, orthogonal=True)\n",
    "slab110 = build.bcc110(\n",
    "    element, a=a0, size=(2,2,3), vacuum=15.0, orthogonal=True)\n",
    "slab111 = build.bcc111(\n",
    "    element, a=a0, size=(2,2,3), vacuum=15.0, orthogonal=True)\n",
    "bulk100.calc = calc\n",
    "slab100.calc = calc\n",
    "slab110.calc = calc\n",
    "slab111.calc = calc"
   ]
  },
  {
   "cell_type": "code",
   "execution_count": 13,
   "metadata": {
    "ExecuteTime": {
     "end_time": "2021-06-23T01:46:03.433948Z",
     "start_time": "2021-06-23T01:46:03.422673Z"
    },
    "pycharm": {
     "name": "#%%\n"
    }
   },
   "outputs": [
    {
     "name": "stdout",
     "output_type": "stream",
     "text": [
      "100 Surface Energy: 0.17257520243921687 eV\n",
      "110 Surface Energy: 0.1608622273191137 eV\n",
      "111 Surface Energy: 0.19025756000412553 eV\n"
     ]
    }
   ],
   "source": [
    "# Evaluate energies\n",
    "e100 = bulk100.get_potential_energy() / 8\n",
    "s100 = slab100.get_potential_energy()\n",
    "s110 = slab110.get_potential_energy()\n",
    "s111 = slab111.get_potential_energy()\n",
    "# Get surface area\n",
    "area100 = np.linalg.norm(np.cross(*slab100.get_cell().array[:2]), 2)\n",
    "area110 = np.linalg.norm(np.cross(*slab110.get_cell().array[:2]), 2)\n",
    "area111 = np.linalg.norm(np.cross(*slab111.get_cell().array[:2]), 2)\n",
    "# Normalize energies\n",
    "energy100 = (s100 - e100)/area100/2\n",
    "energy110 = (s110 - e100)/area110/2\n",
    "energy111 = (s111 - e100)/area111/2\n",
    "# Print\n",
    "print(\"100 Surface Energy:\", energy100, \"eV\")\n",
    "print(\"110 Surface Energy:\", energy110, \"eV\")\n",
    "print(\"111 Surface Energy:\", energy111, \"eV\")"
   ]
  },
  {
   "cell_type": "markdown",
   "metadata": {
    "pycharm": {
     "name": "#%% md\n"
    }
   },
   "source": [
    "# Cleanup LAMMPS"
   ]
  },
  {
   "cell_type": "code",
   "execution_count": 14,
   "metadata": {
    "ExecuteTime": {
     "end_time": "2021-06-23T01:46:03.437741Z",
     "start_time": "2021-06-23T01:46:03.435449Z"
    },
    "pycharm": {
     "name": "#%%\n"
    }
   },
   "outputs": [],
   "source": [
    "del calc"
   ]
  }
 ],
 "metadata": {
  "kernelspec": {
   "display_name": "Python 3",
   "language": "python",
   "name": "python3"
  },
  "language_info": {
   "codemirror_mode": {
    "name": "ipython",
    "version": 3
   },
   "file_extension": ".py",
   "mimetype": "text/x-python",
   "name": "python",
   "nbconvert_exporter": "python",
   "pygments_lexer": "ipython3",
   "version": "3.8.3"
  },
  "toc": {
   "base_numbering": 1,
   "nav_menu": {},
   "number_sections": true,
   "sideBar": true,
   "skip_h1_title": false,
   "title_cell": "Table of Contents",
   "title_sidebar": "Contents",
   "toc_cell": false,
   "toc_position": {},
   "toc_section_display": true,
   "toc_window_display": false
  }
 },
 "nbformat": 4,
 "nbformat_minor": 1
}
